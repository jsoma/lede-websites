{
 "cells": [
  {
   "cell_type": "code",
   "execution_count": 6,
   "metadata": {
    "collapsed": false
   },
   "outputs": [],
   "source": [
    "import requests\n",
    "from bs4 import BeautifulSoup"
   ]
  },
  {
   "cell_type": "markdown",
   "metadata": {},
   "source": [
    "# Normal scraping\n",
    "\n",
    "By now we all know how to scrape normal sites (kind of, mostly, somewhat)."
   ]
  },
  {
   "cell_type": "code",
   "execution_count": 19,
   "metadata": {
    "collapsed": false
   },
   "outputs": [],
   "source": [
    "# Grab the NYT's homepage\n",
    "response = requests.get(\"http://nytimes.com\")\n",
    "soup = BeautifulSoup(response.text, 'html.parser')"
   ]
  },
  {
   "cell_type": "code",
   "execution_count": 20,
   "metadata": {
    "collapsed": false
   },
   "outputs": [
    {
     "name": "stdout",
     "output_type": "stream",
     "text": [
      "Jo Cox, Member of British Parliament, Is Killed in Attack\n",
      "Common Sense: Microsoft-LinkedIn Deal Ignites Twitter Speculation\n",
      "Op-Ed Contributor: Let Me Compete in Rio\n",
      "In Orlando, a Son of a Muslim Immigrant Rushed to Heal Pain Caused by Another\n",
      "The First Big Company to Say It’s Serving the Legal Marijuana Trade? Microsoft.\n",
      "Review: In ‘Finding Dory,’ a Forgetful Fish and a Warm Celebration of Differences\n",
      "News Analysis: Why the Orlando Shooting Is Unlikely to Lead to Major New Gun Laws\n",
      "Noted: Two Men Kiss, an Act of Love and Activism\n",
      "Review: In ‘Finding Dory,’ a Forgetful Fish and a Warm Celebration of Differences\n",
      "De Blasio’s $325 Million Ferry Push: Rides to 5 Boroughs, at Subway Price\n",
      "Sports of The Times: In Russian Doping Scandal, Time for a Punishment to Fit the Crime\n",
      "Is ‘Shrew’ Worth Taming? Female Directors Keep Trying\n",
      "Fighting ISIS With an Algorithm, Physicists Try to Predict Attacks\n",
      "Melvin Dwork, Once Cast From Navy for Being Gay, Dies at 94\n",
      "Critic's Notebook: After Orlando Shooting, Talk Show Hosts Suggest Talk Is Not Enough\n",
      "C.D.C. Reports 234 Pregnant Women in U.S. With Zika\n",
      "4 Roller Coasters That Put the Theme in Theme Park\n",
      "Books of The Times: Review: Annie Proulx’s ‘Barkskins’ Is an Epic Tale of Logging and Doom\n",
      "Race/Related: Moving to Make Amends, Georgetown President Meets With Descendant of Slaves\n",
      "Hungry City: The Secret to District Saigon’s Broths: Slow Cooking\n",
      "Judith Shulevitz: How to Fix Feminism\n",
      "The Hunt: In Brooklyn, a Home and Home Brewery\n",
      "Public Health: Soda Tax Passes in Philadelphia. Advocates Ask: Who’s Next?\n",
      "Feature: The Parasite Underground\n",
      "Wheels: Skeptics of Self-Driving Cars Span Generations\n",
      "When the Family Business is a Gallery\n",
      "Looking Back: 1948-2016 | A Times Art Treasure Comes to an Omaha Library\n"
     ]
    }
   ],
   "source": [
    "# Snag all of the headlines (h3 tags with 'story-heading' class)\n",
    "headlines = soup.find_all(\"h3\", { 'class': 'story-heading'} )\n",
    "\n",
    "# Getting the headline text out using list comprehensions\n",
    "# is a lot more fun but I guess you just learned those\n",
    "# like a day ago, so we'll go ahead and use a for loop.\n",
    "# But for the curious:\n",
    "#   [headline.text.strip() for headline in headlines]\n",
    "\n",
    "# Print the text of the headlines\n",
    "for headline in headlines:\n",
    "    print(headline.text.strip())"
   ]
  },
  {
   "cell_type": "markdown",
   "metadata": {},
   "source": [
    "# But... forms!\n",
    "\n",
    "So the issue is that sometimes you need to submit *forms* on a web site. Why? Well, let's look at an example.\n",
    "\n",
    "This example is going to come from [Dan Nguyen](https://twitter.com/dancow)'s incredible [Search, Script, Scrape](https://github.com/compjour/search-script-scrape), 101 scraping exercises.\n",
    "\n",
    "> The number of FDA-approved, but now discontinued drug products that contain Fentanyl as an active ingredient\n",
    ">\n",
    "> Related URL: [http://www.accessdata.fda.gov/scripts/cder/ob/docs/queryai.cfm](http://www.accessdata.fda.gov/scripts/cder/ob/docs/queryai.cfm)\n",
    "\n",
    "When you visit that URL, you're going to type in \"Fentanyl,\" and select \"Disc (Discontinued Drug Products).\" Then you'll hit **search**.\n",
    "\n",
    "Hooray, results! Now **look at the URL.**\n",
    "\n",
    "> http://www.accessdata.fda.gov/scripts/cder/ob/docs/tempai.cfm\n",
    "\n",
    "Does anything about that URL say \"Fentanyl\" or \"Discontinued Drug Products\"? Nope! And if you [straight up visit it](http://www.accessdata.fda.gov/scripts/cder/ob/docs/tempai.cfm) (might need to open an Incognito window) you'll end up being redirected back to a different page. \n",
    "\n",
    "This means **`requests.get` just isn't going to cut it.** If you tell `requests` to download that page it's going to get a whooole lot of uselessness.\n",
    "\n",
    "Be my guest if you want to try it!"
   ]
  },
  {
   "cell_type": "code",
   "execution_count": null,
   "metadata": {
    "collapsed": true
   },
   "outputs": [],
   "source": []
  },
  {
   "cell_type": "markdown",
   "metadata": {},
   "source": [
    "# Submitting forms with `requests`\n",
    "\n",
    "There are two kinds of forms, `GET` forms and `POST` forms (...this is 99% true).\n",
    "\n",
    "## `GET` forms\n",
    "\n",
    "A `GET` form is one where you can see parameters in the URL. For example, if you searched for images of animals surfing on Bing you'd end up here:\n",
    "\n",
    "> `http://www.bing.com/images/search?q=animals+surfing&FORM=HDRSC2`\n",
    "\n",
    "It has a couple parameters - `q` and `FORM`. `FORM` is some sort of weird analytics thing that doesn't affect the page, but `q` is definitely the term you're searching for. **With a `GET` form, the data you put into the form is kept in the URL.**\n",
    "\n",
    "Just for kicks, if we looked at the HTML for a `GET` form it might look like this:\n",
    "\n",
    "````html\n",
    "<form method=\"GET\" action=\"/search\">\n",
    "<input type=\"text\" name=\"q\">\n",
    "</form>\n",
    "````\n",
    "\n",
    "It might also leave the whole `method` part off, too - `GET` is the default.\n",
    "\n",
    "A fun part about `GET` forms you can share the URL to share the results. If you don't believe me, visit [http://www.bing.com/images/search?q=animals+surfing&FORM=HDRSC2](http://www.bing.com/images/search?q=animals+surfing&FORM=HDRSC2) to see animals surfing.\n",
    "\n",
    "`GET` is how most web pages work. You've used it every time you invoke the unholy powers of `requests.get`.\n",
    "\n",
    "````py\n",
    "requests.get(\"https://api.spotify.com/v1/search?query=90s&offset=20&limit=20&type=playlist\")\n",
    "````\n",
    "\n",
    "`GET` is nice. `GET` is easy. **But `GET` is not all there is.**\n",
    "\n",
    "## `POST` forms\n",
    "\n",
    "The other kind of forms are `POST` forms. `POST` forms are not friendly!\n",
    "\n",
    "Unlike `GET` forms, **you can't share the URL to get the same information.** The parameters - the `q` for your search, for example - aren't in the URL, they're hidden in *the actual request*.\n",
    "\n",
    "What this means is that **every time you request something from a `POST`-based form, you have to pretend you filled out the form and clicked the button.**\n",
    "\n",
    "### Grabbing the parameters\n",
    "\n",
    "First we need to find out what parameters we're going to hunt down. To do this, first make your way to the form, then **get prepared.**\n",
    "\n",
    "1) In Chrome, `View` > `Developer` > `Developer Tools`\n",
    "2) Click the **Network** tab\n",
    "3) Fill the form out, and submit it\n",
    "4) Scroll up to the top of the Network pane, select the segment of the URL you're at (I'm at `tempai.cfm`)\n",
    "5) Click it\n",
    "6) Select **Headers** on the right\n",
    "7) Scroll down until you see **Form Data**\n",
    "\n",
    "Okay, that seemed like a *lot of work,* but I promise it was actually simple and easy and you're living life in a grand grand way. Two parameters are listed for the search we're doing:\n",
    "\n",
    "````\n",
    "Generic_Name:Fentanyl\n",
    "table1:OB_Disc\n",
    "````\n",
    "\n",
    "Seems simple enough! Now let's put them to work.\n",
    "\n",
    "### Submitting `POST` forms with `requests.post`\n",
    "\n",
    "This is going to be *so easy* you might have a *heart attack* as a result of your body being *so amazed* that it doesn't have to do anything strenuous. All you have to do is\n",
    "\n",
    "````py\n",
    "requests.get(\"http://whatever.com/url/to/something\", { \"param1\": \"val1\", \"param2\": \"val2\" })\n",
    "````\n",
    "\n",
    "and treat it like a normal response! Here, I'll prove it."
   ]
  },
  {
   "cell_type": "code",
   "execution_count": 23,
   "metadata": {
    "collapsed": true
   },
   "outputs": [],
   "source": [
    "# Just in case you didn't run it up there, I'll import again\n",
    "import requests\n",
    "\n",
    "url = 'http://www.accessdata.fda.gov/scripts/cder/ob/docs/tempai.cfm'\n",
    "post_params = {'Generic_Name': 'Fentanyl', 'table1': 'OB_Disc'}\n",
    "response = requests.post(url, data=post_params)\n",
    "soup = BeautifulSoup(response.text, 'html.parser')"
   ]
  },
  {
   "cell_type": "code",
   "execution_count": 57,
   "metadata": {
    "collapsed": false
   },
   "outputs": [
    {
     "name": "stdout",
     "output_type": "stream",
     "text": [
      "Fentanyl Citrate And Droperidol was produced by the company Astrazeneca\n",
      "Fentanyl Citrate And Droperidol was produced by the company Astrazeneca\n",
      "Fentanyl Citrate And Droperidol was produced by the company Astrazeneca\n",
      "Fentanyl Citrate And Droperidol was produced by the company Hospira\n",
      "Innovar was produced by the company Akorn Mfg\n",
      "Fentanyl-100 was produced by the company Noven\n",
      "Fentanyl-25 was produced by the company Noven\n",
      "Fentanyl-50 was produced by the company Noven\n",
      "Fentanyl-75 was produced by the company Noven\n",
      "Onsolis was produced by the company Biodelivery Sci Intl\n",
      "Onsolis was produced by the company Biodelivery Sci Intl\n",
      "Onsolis was produced by the company Biodelivery Sci Intl\n",
      "Onsolis was produced by the company Biodelivery Sci Intl\n",
      "Onsolis was produced by the company Biodelivery Sci Intl\n",
      "Fentanyl Citrate was produced by the company Abbott\n",
      "Fentanyl Citrate was produced by the company Abbott\n",
      "Fentanyl Citrate was produced by the company Watson Labs\n",
      "Fentanyl Citrate Preservative Free was produced by the company Watson Labs Inc\n",
      "Fentanyl Citrate was produced by the company Watson Labs\n",
      "Fentanyl Citrate was produced by the company Watson Labs\n",
      "Fentanyl Citrate was produced by the company Watson Labs\n",
      "Fentanyl Citrate was produced by the company Watson Labs\n",
      "Fentanyl Citrate was produced by the company Watson Labs\n",
      "Fentora was produced by the company Cephalon\n",
      "Fentanyl was produced by the company Cephalon\n",
      "Fentanyl was produced by the company Cephalon\n",
      "Fentanyl was produced by the company Cephalon\n",
      "Fentanyl was produced by the company Cephalon\n"
     ]
    }
   ],
   "source": [
    "# Using .select instead of .find is a little more\n",
    "# readable to people from the web dev world, maybe?\n",
    "rows = soup.select(\".actual tbody tr\")\n",
    "for row in rows:\n",
    "    columns = row.select(\"td\")\n",
    "    # Let's titlecase them SO THEY AREN'T ALL CAPS\n",
    "    drug_name = columns[4].text.title()\n",
    "    company_name = columns[5].text.title()\n",
    "    print(drug_name, \"was produced by the company\", company_name)"
   ]
  },
  {
   "cell_type": "markdown",
   "metadata": {},
   "source": [
    "It's magic, I swear!\n",
    "\n",
    "# But then...\n",
    "\n",
    "Sometimes `requests.get` just isn't enough. Why? It mostly has to do with JavaScript or complicated forms - when a site reacts and changes without loading a new page, you can't use `requests` for that (think \"Load more\" buttons on Instagram).\n",
    "\n",
    "For those sites you need **Selenium!** Selenium = you put your browser on autopilot. As in, literally, it takes control over your browser. There are \"headless\" versions that use invisible browsers but if you don't like to install a bunch of stuff, the normal version is usually fine.\n",
    "\n",
    "## Installing Selenium\n"
   ]
  },
  {
   "cell_type": "markdown",
   "metadata": {
    "collapsed": true
   },
   "source": [
    "Selenium isn't just a Python package, but you'll need to install **python bindings** in order to have Python talk to Selenium.\n",
    "\n",
    "````\n",
    "pip install selenium\n",
    "````\n",
    "\n",
    "You'll also need the [Firefox browser](https://www.mozilla.org/en-US/firefox), since that's the browser we're going to be controlling.\n",
    "\n",
    "Selenium is built on **WebDrivers**, which are libraries that let you... drive a browser. I believe it comes with a Firefox WebDriver, whereas Safari/Chrome/etc take a little more effort to set up."
   ]
  },
  {
   "cell_type": "markdown",
   "metadata": {},
   "source": [
    "## Using Selenium"
   ]
  },
  {
   "cell_type": "code",
   "execution_count": 25,
   "metadata": {
    "collapsed": false
   },
   "outputs": [],
   "source": [
    "# Imports, of course\n",
    "from selenium import webdriver\n",
    "from selenium.webdriver.common.keys import Keys\n",
    "from selenium.webdriver.support.ui import Select\n",
    "from selenium.webdriver.support.ui import WebDriverWait\n",
    "from bs4 import BeautifulSoup"
   ]
  },
  {
   "cell_type": "code",
   "execution_count": 90,
   "metadata": {
    "collapsed": true
   },
   "outputs": [],
   "source": [
    "# Initialize a Firefox webdriver\n",
    "driver = webdriver.Firefox()"
   ]
  },
  {
   "cell_type": "code",
   "execution_count": 91,
   "metadata": {
    "collapsed": false
   },
   "outputs": [],
   "source": [
    "# Grab the web page\n",
    "driver.get(\"https://app.hpla.doh.dc.gov/Weblookup/\")"
   ]
  },
  {
   "cell_type": "code",
   "execution_count": 54,
   "metadata": {
    "collapsed": true
   },
   "outputs": [],
   "source": [
    "# You'll use selenium.webdriver.support.ui.Select\n",
    "# that we imported above to grab the Seelct element called \n",
    "# t_web_lookup__license_type_name, then select Acupuncturists\n",
    "\n",
    "# We use .find_element_by_name here because we know the name\n",
    "dropdown = Select(driver.find_element_by_name(\"t_web_lookup__license_type_name\"))\n",
    "dropdown.select_by_value(\"ACUPUNCTURIST\")"
   ]
  },
  {
   "cell_type": "code",
   "execution_count": 55,
   "metadata": {
    "collapsed": false
   },
   "outputs": [],
   "source": [
    "# We use .find_element_by_id here because we know the id\n",
    "text_input = driver.find_element_by_id(\"t_web_lookup__first_name\")\n",
    "\n",
    "# Then we'll fake typing into it\n",
    "text_input.send_keys(\"KATHERINE\")"
   ]
  },
  {
   "cell_type": "code",
   "execution_count": 56,
   "metadata": {
    "collapsed": false
   },
   "outputs": [],
   "source": [
    "# Now we can grab the search button and click it\n",
    "search_button = driver.find_element_by_id(\"sch_button\")\n",
    "search_button.click()"
   ]
  },
  {
   "cell_type": "code",
   "execution_count": 57,
   "metadata": {
    "collapsed": false
   },
   "outputs": [
    {
     "data": {
      "text/plain": [
       "'<!DOCTYPE html PUBLIC \"-//W3C//DTD HTML 4.0 Transitional//EN\">\\n<html xmlns=\"http://www.w3.org/1999/xhtml\"><head>\\n\\t\\t<title>SearchResults</title>\\n\\t\\t<link href=\"stylesheets/elicense2000.css\" rel=\"stylesheet\" />\\n\\t<script language=\"javascript\">\\nfunction SetValue(agencyID,licenseID)\\n{\\n\\tvar href = window.opener.location.href;\\n\\tvar form = window.opener.document.forms[0];\\n\\tform.elements[\"license_id\"].value = licenseID;\\n\\tform.elements[\"tempAgencyID\"].value = agencyID;\\n//\\tvar action = href.substring(0,href.indexOf(\"?\"));\\n//\\tform.action = action + \\'?action=lu&amp;agency_id=\\' + agencyID + \\'&amp;license_id=\\' + licenseID;\\n\\tform.submit();\\n\\twindow.close();\\n}\\n\\t</script></head>\\n\\t\\n\\t<body>\\n\\t\\t<form id=\"TheForm\" action=\"SearchResults.aspx\" method=\"post\" name=\"TheForm\">\\n<input type=\"hidden\" value=\"\" id=\"__EVENTTARGET\" name=\"__EVENTTARGET\" />\\n<input type=\"hidden\" value=\"\" id=\"__EVENTARGUMENT\" name=\"__EVENTARGUMENT\" />\\n<input type=\"hidden\" value=\"/wEPDwUJNzM2NTgwNzkyD2QWAgIBD2QWAmYPZBYCAgEPZBYCAgEPZBYCAgEPZBYCAgMPZBYCZg9kFgJmDxQrAAsPFhYeCVBhZ2VDb3VudAIBHhNBdXRvR2VuZXJhdGVDb2x1bW5zaB4IUGFnZVNpemUCKB4TVXNlQWNjZXNzaWJsZUhlYWRlcmceFV8hRGF0YVNvdXJjZUl0ZW1Db3VudAIEHghEYXRhS2V5cxYAHhBDdXJyZW50U29ydE9yZGVyBQ1mdWxsX25hbWUgQVNDHgxBbGxvd1NvcnRpbmdnHglmdWxsX25hbWUFBERFU0MeC18hSXRlbUNvdW50AgQeC0FsbG93UGFnaW5nZxYEHgVXaWR0aAUDOTYlHgVjbGFzcwULbW9kdWxlbGFiZWxkFgweCFBvc2l0aW9uCyonU3lzdGVtLldlYi5VSS5XZWJDb250cm9scy5QYWdlclBvc2l0aW9uAB4ETW9kZQsqI1N5c3RlbS5XZWIuVUkuV2ViQ29udHJvbHMuUGFnZXJNb2RlAR4PUGFnZUJ1dHRvbkNvdW50AigeCUJhY2tDb2xvcgnIoIP/HglGb3JlQ29sb3IKpAEeBF8hU0ICjICgBhYEHxAJyKCD/x8SAghkZGRkZGRkZGSIEw/cNbJxXUvombaLhwB7OaELE3j/8735+JXDjjDl1w==\" id=\"__VIEWSTATE\" name=\"__VIEWSTATE\" />\\n\\n<script type=\"text/javascript\">\\n&lt;!--\\nvar theForm = document.forms[\\'TheForm\\'];\\nif (!theForm) {\\n    theForm = document.TheForm;\\n}\\nfunction __doPostBack(eventTarget, eventArgument) {\\n    if (!theForm.onsubmit || (theForm.onsubmit() != false)) {\\n        theForm.__EVENTTARGET.value = eventTarget;\\n        theForm.__EVENTARGUMENT.value = eventArgument;\\n        theForm.submit();\\n    }\\n}\\n// --&gt;\\n</script>\\n\\n\\n<input type=\"hidden\" value=\"/wEWAwLU8a+SDwLHlavPBALHlb+qDcvadpJP4En4SIP0Wcqc7vac2W7GvimAE4UBJUh9MPev\" id=\"__EVENTVALIDATION\" name=\"__EVENTVALIDATION\" /><table width=\"100%\" cellspacing=\"0\" cellpadding=\"0\" border=\"0\" align=\"left\" class=\"layout\" role=\"presentation\">\\n\\t<tbody><tr>\\n\\t\\t<td width=\"100%\" height=\"10\" colspan=\"2\" rowspan=\"1\"><table width=\"100%\" cellspacing=\"0\" align=\"center\" role=\"presentation\">\\n\\t\\t\\t<tbody><tr>\\n\\t\\t\\t\\t<td height=\"10px\" colspan=\"8\" rowspan=\"1\" style=\"background-color:#29498C\"><span id=\"blue_bar\"></span></td>\\n\\t\\t\\t</tr>\\n\\t\\t\\t<tr>\\n\\t\\t\\t\\t<td align=\"right\" colspan=\"7\" rowspan=\"1\"><span id=\"top_row_links\"><a target=\"_blank\" class=\"bannerLinkTop\" href=\"http://311.dc.gov/\">311 Online</a> <a target=\"_blank\" class=\"bannerLinkTop\" href=\"http://dc.gov/directory\">Agency Directory</a> <a target=\"_blank\" class=\"bannerLinkTop\" href=\"http://dc.gov/online-services\">Online Services</a> <a target=\"_blank\" class=\"bannerLinkTop\" href=\"http://dc.gov/page/dcgov-accessibility-policy\">Accessibility</a></span></td>\\n\\t\\t\\t</tr>\\n\\t\\t\\t<tr>\\n\\t\\t\\t\\t<td colspan=\"8\" rowspan=\"1\"><span cellpadding=\"0\" cellspacing=\"0\" id=\"banner_image\"><img alt=\"DC Logo\" src=\"images/DC_pictures/dcgov_logo.jpg\" /></span></td>\\n\\t\\t\\t</tr>\\n\\t\\t\\t<tr>\\n\\t\\t\\t\\t<td colspan=\"8\" rowspan=\"1\"><span style=\"font-weight:bold; font-size:large\" id=\"banner_label\">Department of Health</span></td>\\n\\t\\t\\t</tr>\\n\\t\\t\\t<tr>\\n\\t\\t\\t\\t<td height=\"10px\" colspan=\"8\" rowspan=\"1\"><span id=\"spacer_1\"></span></td>\\n\\t\\t\\t</tr>\\n\\t\\t\\t<tr>\\n\\t\\t\\t\\t<td height=\"5px\" colspan=\"8\" rowspan=\"1\" style=\"background-color: #CECFCE\"><span id=\"gray_bar\"></span></td>\\n\\t\\t\\t</tr>\\n\\t\\t\\t<tr>\\n\\t\\t\\t\\t<td height=\"10px\" colspan=\"8\" rowspan=\"1\"><span id=\"spacer_2\"></span></td>\\n\\t\\t\\t</tr>\\n\\t\\t\\t<tr>\\n\\t\\t\\t\\t<td colspan=\"1\" rowspan=\"1\" class=\"bannerbar\"><span id=\"link_1\"><a target=\"_blank\" class=\"bannerBarLink\" href=\"http://doh.dc.gov/\">DOH Home</a></span></td>\\n\\t\\t\\t\\t<td colspan=\"1\" rowspan=\"1\" class=\"bannerbar\"><span id=\"link_2\"><a target=\"_blank\" class=\"bannerBarLink\" href=\"http://doh.dc.gov/services\">Services</a></span></td>\\n\\t\\t\\t\\t<td colspan=\"1\" rowspan=\"1\" class=\"bannerbar\"><span id=\"link_3\"><a target=\"_blank\" class=\"bannerBarLink\" href=\"http://doh.dc.gov/service/health-professionals\">Health Professionals</a></span></td>\\n\\t\\t\\t\\t<td colspan=\"1\" rowspan=\"1\" style=\"width:150px;\" class=\"bannerbar\"><span id=\"link_4\"><a target=\"_blank\" class=\"bannerBarLink\" href=\"http://doh.dc.gov/service/infants-children-teens-and-school-health\">Infants, Children and Teens</a></span></td>\\n\\t\\t\\t\\t<td colspan=\"1\" rowspan=\"1\" class=\"bannerbar\"><span id=\"link_5\"><a target=\"_blank\" class=\"bannerBarLink\" href=\"http://doh.dc.gov/HIV/AIDS%20Services\">HIV/AIDS</a></span></td>\\n\\t\\t\\t\\t<td colspan=\"1\" rowspan=\"1\" class=\"bannerbar\"><span id=\"link_6\"><a target=\"_blank\" class=\"bannerBarLink\" href=\"http://doh.dc.gov/page/resources-01\">Resources</a></span></td>\\n\\t\\t\\t\\t<td colspan=\"1\" rowspan=\"1\" class=\"bannerbar\"><span id=\"link_7\"><a target=\"_blank\" class=\"bannerBarLink\" href=\"http://doh.dc.gov/service/vital-records\">Vital Records</a></span></td>\\n\\t\\t\\t\\t<td colspan=\"1\" rowspan=\"1\" class=\"bannerbar\"><span id=\"link_8\"><a target=\"_blank\" class=\"bannerBarLink\" href=\"http://doh.dc.gov/page/about-doh\">About DOH</a></span></td>\\n\\t\\t\\t</tr>\\n\\t\\t</tbody></table>\\n\\t\\t</td>\\n\\t</tr>\\n\\t<tr>\\n\\t\\t<td></td>\\n\\t\\t<td valign=\"top\" align=\"left\" colspan=\"1\" rowspan=\"1\" cellpadding=\"0\" cellspacing=\"0\"><table width=\"100%\" cellspacing=\"0\" cellpadding=\"0\" border=\"0\" role=\"presentation\">\\n\\t\\t</table>\\n\\t\\t<table width=\"90%\" cellspacing=\"0\" cellpadding=\"0\" border=\"0\" align=\"center\" role=\"presentation\">\\n\\t\\t\\t<tbody><tr>\\n\\t\\t\\t\\t<td width=\"10\" colspan=\"1\" rowspan=\"20\"><span id=\"col_spacer\"></span></td>\\n\\t\\t\\t</tr>\\n\\t\\t\\t<tr>\\n\\t\\t\\t\\t<td valign=\"top\" align=\"left\" colspan=\"1\" rowspan=\"0\"><span class=\"moduleLabel\" id=\"Title\">Search Results</span></td>\\n\\t\\t\\t</tr>\\n\\t\\t\\t<tr>\\n\\t\\t\\t\\t<td colspan=\"1\" rowspan=\"1\"><span class=\"instructions\" id=\"Back_to_Search\">For a more detailed view of a licensee\\'s background, select the licensee name from the alphabetical list below. Click the numbers below the grid to see additional pages of licensees. To return to the Search page, use the Search Again button below. (Do not use the browser Back key.)<br /><img width=\"650\" border=\"0\" height=\"10\" src=\"images/dot.gif\" alt=\"\" /><br /><input type=\"reset\" onclick=\"javascript:document.location.href=\\'Search.aspx\\' \" maxlength=\"9\" id=\"my_button\" value=\"Search Again\" name=\"my_button\" /><br /><img width=\"650\" border=\"0\" height=\"10\" src=\"images/dot.gif\" alt=\"\" /></span></td>\\n\\t\\t\\t</tr>\\n\\t\\t\\t<tr>\\n\\t\\t\\t\\t<td colspan=\"2\" rowspan=\"0\"><table width=\"96%\" cellspacing=\"0\" border=\"1\" style=\"border-collapse:collapse;\" id=\"datagrid_results\" class=\"modulelabel\" rules=\"all\">\\n\\t\\t\\t\\t\\t<tbody><tr style=\"background-color:#83A0C8;\">\\n\\t\\t\\t\\t\\t\\t<th scope=\"col\"><a href=\"javascript:__doPostBack(\\'datagrid_results$_ctl2$_ctl0\\',\\'\\')\"><font size=\"2\" color=\"white\" face=\"Arial\"><b>Full Name</b></font></a></th><th scope=\"col\"><a href=\"javascript:__doPostBack(\\'datagrid_results$_ctl2$_ctl1\\',\\'\\')\"><font size=\"2\" color=\"white\" face=\"Arial\"><b>Number</b></font></a></th><th scope=\"col\"><font size=\"2\" color=\"white\" face=\"Arial\"><b>Profession</b></font></th><th scope=\"col\"><font size=\"2\" color=\"white\" face=\"Arial\"><b>Type</b></font></th><th scope=\"col\"><font size=\"2\" color=\"white\" face=\"Arial\"><b>Status</b></font></th><th scope=\"col\"><font size=\"2\" color=\"white\" face=\"Arial\"><b>City</b></font></th><th scope=\"col\"><font size=\"2\" color=\"white\" face=\"Arial\"><b>State</b></font></th>\\n\\t\\t\\t\\t\\t</tr><tr>\\n\\t\\t\\t\\t\\t\\t<td id=\"datagrid_results__ctl3_result\"><a target=\"_blank\" href=\"Details.aspx?result=e37a7c27-0910-4478-9e63-4af93e5a4117\" id=\"datagrid_results__ctl3_hl\">KATHERINE A. SALE</a></td><td><span>AC30086</span></td><td><span>MEDICINE</span></td><td><span>ACUPUNCTURIST</span></td><td><span>Expired</span></td><td><span>ARNOLD</span></td><td><span>MD</span></td>\\n\\t\\t\\t\\t\\t</tr><tr>\\n\\t\\t\\t\\t\\t\\t<td id=\"datagrid_results__ctl4_result\"><a target=\"_blank\" href=\"Details.aspx?result=39420388-2cd0-4c88-b078-942713c2c4b5\" id=\"datagrid_results__ctl4_hl\">KATHERINE F SEARS</a></td><td><span>AC30023</span></td><td><span>MEDICINE</span></td><td><span>ACUPUNCTURIST</span></td><td><span>Active</span></td><td><span>Unknown</span></td><td><span>NA</span></td>\\n\\t\\t\\t\\t\\t</tr><tr>\\n\\t\\t\\t\\t\\t\\t<td id=\"datagrid_results__ctl5_result\"><a target=\"_blank\" href=\"Details.aspx?result=fdcbea2e-dd68-44c1-8a1e-6bad4df28699\" id=\"datagrid_results__ctl5_hl\">KATHERINE J KAPUSNIK</a></td><td><span>AC500105</span></td><td><span>MEDICINE</span></td><td><span>ACUPUNCTURIST</span></td><td><span>Expired</span></td><td><span>Unknown</span></td><td><span>NA</span></td>\\n\\t\\t\\t\\t\\t</tr><tr>\\n\\t\\t\\t\\t\\t\\t<td id=\"datagrid_results__ctl6_result\"><a target=\"_blank\" href=\"Details.aspx?result=02928cdf-eed1-49ba-b7b5-d67e8c9bfb23\" id=\"datagrid_results__ctl6_hl\">KATHERINE S. YONKERS</a></td><td><span>AC30057</span></td><td><span>MEDICINE</span></td><td><span>ACUPUNCTURIST</span></td><td><span>Active</span></td><td><span>WASHINGTON</span></td><td><span>DC</span></td>\\n\\t\\t\\t\\t\\t</tr><tr style=\"color:White;background-color:#83A0C8;\">\\n\\t\\t\\t\\t\\t\\t<td colspan=\"7\"><span>1</span></td>\\n\\t\\t\\t\\t\\t</tr>\\n\\t\\t\\t\\t</tbody></table></td>\\n\\t\\t\\t</tr>\\n\\t\\t\\t<tr>\\n\\t\\t\\t</tr>\\n\\t\\t\\t<tr>\\n\\t\\t\\t</tr>\\n\\t\\t\\t<tr>\\n\\t\\t\\t</tr>\\n\\t\\t\\t<tr>\\n\\t\\t\\t</tr>\\n\\t\\t\\t<tr>\\n\\t\\t\\t</tr>\\n\\t\\t\\t<tr>\\n\\t\\t\\t</tr>\\n\\t\\t\\t<tr>\\n\\t\\t\\t</tr>\\n\\t\\t\\t<tr>\\n\\t\\t\\t</tr>\\n\\t\\t\\t<tr>\\n\\t\\t\\t</tr>\\n\\t\\t\\t<tr>\\n\\t\\t\\t</tr>\\n\\t\\t\\t<tr>\\n\\t\\t\\t</tr>\\n\\t\\t\\t<tr>\\n\\t\\t\\t</tr>\\n\\t\\t\\t<tr>\\n\\t\\t\\t</tr>\\n\\t\\t\\t<tr>\\n\\t\\t\\t</tr>\\n\\t\\t\\t<tr>\\n\\t\\t\\t</tr>\\n\\t\\t\\t<tr>\\n\\t\\t\\t\\t<td></td>\\n\\t\\t\\t\\t<td colspan=\"1\" rowspan=\"1\"><span id=\"footer_spacer\"><img width=\"10\" border=\"0\" height=\"5\" src=\"images/dot.gif\" alt=\"\" /></span></td>\\n\\t\\t\\t</tr>\\n\\t\\t\\t<tr>\\n\\t\\t\\t\\t<td align=\"center\" colspan=\"4\" rowspan=\"1\"><span id=\"footer\">  <br /><br /><hr /> <a target=\"_blank\" href=\"http://doh.dc.gov/page/dcgov-accessibility-policy\">Accessibility</a>\\xa0\\xa0\\xa0<a target=\"_blank\" href=\"http://doh.dc.gov/page/privacy-and-security\">Privacy and Security</a>\\xa0\\xa0\\xa0<a target=\"_blank\" href=\"http://doh.dc.gov/page/terms-and-conditions-use\">Terms and Conditions</a>\\xa0\\xa0\\xa0<a target=\"_blank\" href=\"http://dc.gov/page/about-district-government-website\">About DC.Gov</a>\\n                </span></td>\\n\\t\\t\\t</tr>\\n\\t\\t</tbody></table>\\n\\t\\t</td>\\n\\t</tr>\\n</tbody></table>\\n</form>\\n\\t\\n\\n</body></html>'"
      ]
     },
     "execution_count": 57,
     "metadata": {},
     "output_type": "execute_result"
    }
   ],
   "source": [
    "# Instead of using requests.get, we just look at .page_source of the driver\n",
    "driver.page_source"
   ]
  },
  {
   "cell_type": "code",
   "execution_count": 34,
   "metadata": {
    "collapsed": false
   },
   "outputs": [],
   "source": [
    "# We can feed that into Beautiful Soup\n",
    "doc = BeautifulSoup(driver.page_source, \"html.parser\")"
   ]
  },
  {
   "cell_type": "code",
   "execution_count": 73,
   "metadata": {
    "collapsed": false
   },
   "outputs": [],
   "source": [
    "# It's a tricky table, but this grabs the linked names inside of the A\n",
    "#rows = doc.select(\"#datagrid_results tr\")\n",
    "rows = doc.find('table', id='datagrid_results').find_all('tr', attrs={'class': None})\n",
    "\n",
    "doctors = []\n",
    "for row in rows:\n",
    "    # print(row.attrs)\n",
    "    # Find the ones that don't have 'style' as an attribute\n",
    "    if 'style' in row.attrs:\n",
    "        # Skip it! It's a header or footer row\n",
    "        pass\n",
    "    else:\n",
    "        cells = row.find_all(\"td\")\n",
    "        doctor = {\n",
    "            'name': cells[0].text,\n",
    "            'number': cells[1].text,\n",
    "            'profession': cells[2].text,\n",
    "            'type': cells[3].text,\n",
    "            'status': cells[4].text,\n",
    "            'city': cells[5].text,\n",
    "            'state': cells[6].text\n",
    "        }\n",
    "        doctors.append(doctor)"
   ]
  },
  {
   "cell_type": "code",
   "execution_count": 74,
   "metadata": {
    "collapsed": false
   },
   "outputs": [
    {
     "data": {
      "text/plain": [
       "[{'city': 'ARNOLD',\n",
       "  'name': 'KATHERINE A. SALE',\n",
       "  'number': 'AC30086',\n",
       "  'profession': 'MEDICINE',\n",
       "  'state': 'MD',\n",
       "  'status': 'Expired',\n",
       "  'type': 'ACUPUNCTURIST'},\n",
       " {'city': 'Unknown',\n",
       "  'name': 'KATHERINE F SEARS',\n",
       "  'number': 'AC30023',\n",
       "  'profession': 'MEDICINE',\n",
       "  'state': 'NA',\n",
       "  'status': 'Active',\n",
       "  'type': 'ACUPUNCTURIST'},\n",
       " {'city': 'Unknown',\n",
       "  'name': 'KATHERINE J KAPUSNIK',\n",
       "  'number': 'AC500105',\n",
       "  'profession': 'MEDICINE',\n",
       "  'state': 'NA',\n",
       "  'status': 'Expired',\n",
       "  'type': 'ACUPUNCTURIST'},\n",
       " {'city': 'WASHINGTON',\n",
       "  'name': 'KATHERINE S. YONKERS',\n",
       "  'number': 'AC30057',\n",
       "  'profession': 'MEDICINE',\n",
       "  'state': 'DC',\n",
       "  'status': 'Active',\n",
       "  'type': 'ACUPUNCTURIST'}]"
      ]
     },
     "execution_count": 74,
     "metadata": {},
     "output_type": "execute_result"
    }
   ],
   "source": [
    "doctors"
   ]
  },
  {
   "cell_type": "markdown",
   "metadata": {},
   "source": [
    "## Closing the webdriver\n",
    "\n",
    "Once we have all the data we want, we can close our webdriver."
   ]
  },
  {
   "cell_type": "code",
   "execution_count": 92,
   "metadata": {
    "collapsed": true
   },
   "outputs": [],
   "source": [
    "# Close the webdriver\n",
    "driver.close()"
   ]
  },
  {
   "cell_type": "markdown",
   "metadata": {},
   "source": [
    "# Saving our data\n",
    "\n",
    "Now what are we going to do with our list of dictionaries? We *could* use a `csv.DictWriter` like in [this post](http://stackoverflow.com/questions/3086973/how-do-i-convert-this-list-of-dictionaries-to-a-csv-file-python), but it's actually quicker to do it with `pandas`.\n",
    "\n",
    "### Step One: import pandas"
   ]
  },
  {
   "cell_type": "code",
   "execution_count": 83,
   "metadata": {
    "collapsed": false
   },
   "outputs": [],
   "source": [
    "import pandas as pd"
   ]
  },
  {
   "cell_type": "markdown",
   "metadata": {},
   "source": [
    "### Step Two: Turn list into a DataFrame"
   ]
  },
  {
   "cell_type": "code",
   "execution_count": 84,
   "metadata": {
    "collapsed": false
   },
   "outputs": [
    {
     "data": {
      "text/html": [
       "<div>\n",
       "<table border=\"1\" class=\"dataframe\">\n",
       "  <thead>\n",
       "    <tr style=\"text-align: right;\">\n",
       "      <th></th>\n",
       "      <th>city</th>\n",
       "      <th>name</th>\n",
       "      <th>number</th>\n",
       "      <th>profession</th>\n",
       "      <th>state</th>\n",
       "      <th>status</th>\n",
       "      <th>type</th>\n",
       "    </tr>\n",
       "  </thead>\n",
       "  <tbody>\n",
       "    <tr>\n",
       "      <th>0</th>\n",
       "      <td>ARNOLD</td>\n",
       "      <td>KATHERINE A. SALE</td>\n",
       "      <td>AC30086</td>\n",
       "      <td>MEDICINE</td>\n",
       "      <td>MD</td>\n",
       "      <td>Expired</td>\n",
       "      <td>ACUPUNCTURIST</td>\n",
       "    </tr>\n",
       "    <tr>\n",
       "      <th>1</th>\n",
       "      <td>Unknown</td>\n",
       "      <td>KATHERINE F SEARS</td>\n",
       "      <td>AC30023</td>\n",
       "      <td>MEDICINE</td>\n",
       "      <td>NA</td>\n",
       "      <td>Active</td>\n",
       "      <td>ACUPUNCTURIST</td>\n",
       "    </tr>\n",
       "    <tr>\n",
       "      <th>2</th>\n",
       "      <td>Unknown</td>\n",
       "      <td>KATHERINE J KAPUSNIK</td>\n",
       "      <td>AC500105</td>\n",
       "      <td>MEDICINE</td>\n",
       "      <td>NA</td>\n",
       "      <td>Expired</td>\n",
       "      <td>ACUPUNCTURIST</td>\n",
       "    </tr>\n",
       "    <tr>\n",
       "      <th>3</th>\n",
       "      <td>WASHINGTON</td>\n",
       "      <td>KATHERINE S. YONKERS</td>\n",
       "      <td>AC30057</td>\n",
       "      <td>MEDICINE</td>\n",
       "      <td>DC</td>\n",
       "      <td>Active</td>\n",
       "      <td>ACUPUNCTURIST</td>\n",
       "    </tr>\n",
       "  </tbody>\n",
       "</table>\n",
       "</div>"
      ],
      "text/plain": [
       "         city                  name    number profession state   status  \\\n",
       "0      ARNOLD     KATHERINE A. SALE   AC30086   MEDICINE    MD  Expired   \n",
       "1     Unknown     KATHERINE F SEARS   AC30023   MEDICINE    NA   Active   \n",
       "2     Unknown  KATHERINE J KAPUSNIK  AC500105   MEDICINE    NA  Expired   \n",
       "3  WASHINGTON  KATHERINE S. YONKERS   AC30057   MEDICINE    DC   Active   \n",
       "\n",
       "            type  \n",
       "0  ACUPUNCTURIST  \n",
       "1  ACUPUNCTURIST  \n",
       "2  ACUPUNCTURIST  \n",
       "3  ACUPUNCTURIST  "
      ]
     },
     "execution_count": 84,
     "metadata": {},
     "output_type": "execute_result"
    }
   ],
   "source": [
    "doctors_df = pd.DataFrame(doctors)\n",
    "doctors_df"
   ]
  },
  {
   "cell_type": "markdown",
   "metadata": {},
   "source": [
    "### Step Three: Save it to a CSV\n",
    "\n",
    "While you're saving it, set `index=False` or else it will include `0`, `1`, `2`, etc from the further-left column (the index, of course)."
   ]
  },
  {
   "cell_type": "code",
   "execution_count": 87,
   "metadata": {
    "collapsed": true
   },
   "outputs": [],
   "source": [
    "doctors_df.to_csv(\"doctors.csv\", index=False)"
   ]
  },
  {
   "cell_type": "markdown",
   "metadata": {},
   "source": [
    "### Step Four: Party down\n",
    "\n",
    "I don't have directions for this one"
   ]
  },
  {
   "cell_type": "code",
   "execution_count": null,
   "metadata": {
    "collapsed": true
   },
   "outputs": [],
   "source": []
  }
 ],
 "metadata": {
  "kernelspec": {
   "display_name": "Python 3",
   "language": "python",
   "name": "python3"
  },
  "language_info": {
   "codemirror_mode": {
    "name": "ipython",
    "version": 3
   },
   "file_extension": ".py",
   "mimetype": "text/x-python",
   "name": "python",
   "nbconvert_exporter": "python",
   "pygments_lexer": "ipython3",
   "version": "3.4.2"
  }
 },
 "nbformat": 4,
 "nbformat_minor": 0
}
