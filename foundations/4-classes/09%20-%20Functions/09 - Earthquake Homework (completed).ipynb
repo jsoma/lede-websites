{
 "cells": [
  {
   "cell_type": "markdown",
   "metadata": {},
   "source": [
    "# Homework 9\n",
    "\n",
    "We're going to make a Lil' QuakeBot!!!! Please write this code as a .py file, not a Notebook.\n",
    "\n",
    "## First, tips:\n",
    "\n",
    "Be careful that you're doing all of your math with ints or floats instead of strings that look like ints or floats.\n",
    "When you write your functions, you can pass either the entire dictionary to the function OR just the part you're curious about (e.g., when you're getting the day you could send the whole earthquake dictionary or just what's in the 'time' key.)\n",
    "\n",
    "Writing empty functions that always return the same thing are a great way to start off. You can start saying every earthquake is shallow and then fill in the actual code later.\n",
    "\n",
    "Find out what each column name in the database means by visiting http://earthquake.usgs.gov/earthquakes/feed/v1.0/csv.php and clicking the links for each column.\n",
    "\n",
    "## PART ZERO: Overall description\n",
    "\n",
    "Given an earthquake defined like this...\n",
    "\n",
    "    earthquake = {\n",
    "      'rms': '1.85',\n",
    "      'updated': '2014-06-11T05:22:21.596Z',\n",
    "      'type': 'earthquake',\n",
    "      'magType': 'mwp',\n",
    "      'longitude': '-136.6561',\n",
    "      'gap': '48',\n",
    "      'depth': '10',\n",
    "      'dmin': '0.811',\n",
    "      'mag': '5.7',\n",
    "      'time': '2014-06-04T11:58:58.200Z',\n",
    "      'latitude': '59.0001',\n",
    "      'place': '73km WSW of Haines, Alaska',\n",
    "      'net': 'us',\n",
    "      'nst': '',\n",
    "      'id': 'usc000rauc'}\n",
    "\n",
    "I want to be able to run\n",
    "\n",
    "    print(eq_to_sentence(earthquake))\n",
    "\n",
    "and get the following:\n",
    "\n",
    "> A **DEPTH** **POWER**, **MAGNITUDE** earthquake was reported **DAY** **TIME_OF_DAY** on **DATE** **LOCATION**.\n",
    "\n",
    "So, for example, \"A **deep**, **huge** **4.5** magnitude earthquake was reported **Monday** **morning** on **June 22** **73km WSW of Haines, Alaska**\".\n",
    "\n",
    "**DEPTH**, **POWER**, **MAGNITUDE**, **DAY**, and **TIME_OF_DAY** should all come from separate functions. More details are in **PART ONE** and **PART TWO**."
   ]
  },
  {
   "cell_type": "code",
   "execution_count": 1,
   "metadata": {
    "collapsed": true
   },
   "outputs": [],
   "source": [
    "# Start by saving the sample earthquake\n",
    "earthquake = {\n",
    "  'rms': '1.85',\n",
    "  'updated': '2014-06-11T05:22:21.596Z',\n",
    "  'type': 'earthquake',\n",
    "  'magType': 'mwp',\n",
    "  'longitude': '-136.6561',\n",
    "  'gap': '48',\n",
    "  'depth': '10',\n",
    "  'dmin': '0.811',\n",
    "  'mag': '5.7',\n",
    "  'time': '2014-06-04T11:58:58.200Z',\n",
    "  'latitude': '59.0001',\n",
    "  'place': '73km WSW of Haines, Alaska',\n",
    "  'net': 'us',\n",
    "  'nst': '',\n",
    "  'id': 'usc000rauc'}"
   ]
  },
  {
   "cell_type": "markdown",
   "metadata": {},
   "source": [
    "## PART ONE: Write your few tiny functions\n",
    "\n",
    "First you'll need to write a few functions to help describe an earthquake. Try out each of these functions individually. You will probably require:\n",
    "\n",
    "* **`depth_to_words`** will describe the earthquake's depth\n",
    "* **`magnitude_to_words`** will describe the earthquake's power\n",
    "* **`day_in_words`** should be the day of the week\n",
    "* **`time_in_words`** should be \"morning\", \"afternoon\", \"evening\" or \"night\"\n",
    "* **`date_in_words`** should be \"Monthname day\", e.g. \"June 22\"\n",
    "* Any other functions as necessary\n",
    "\n",
    "**DEPTH** can be determined from the USGS website - http://earthquake.usgs.gov/learn/topics/seismology/determining_depth.php - it should be either 'shallow', 'intermediate' or 'deep'\n",
    "\n",
    "**POWER** should be evocative words like like 'easily ignored' or 'huge' or 'very destructive' (feel free to pick your own) - look on Google Image Search for \"richter scale\" to see some possible descriptors.\n",
    "\n",
    "**MAGNITUDE** should be the actual numerical magnitude.\n",
    "\n",
    "**DAY** should be the day of the week.\n",
    "\n",
    "**TIME_OF_DAY** should be morning, afternoon, evening or night.\n",
    "\n",
    "**DATE** should be \"Monthname day\", e.g. \"June 22\".\n",
    "\n",
    "**TIP:** You probably (a.k.a. definitely) need to convert 'time' - which is a string - into a Python datetime object which can do **`.hour`**, **`.day`**, **`.strftime(\"%Y %b %d\")`** and other fun things. Convert it and test the conversion like this:\n",
    "\n",
    "````py\n",
    "import dateutil.parser\n",
    "timestring = '2014-06-04T11:58:58.200Z'\n",
    "yourdate = dateutil.parser.parse(timestring)\n",
    "print(\"The hour is\", yourdate.hour)\n",
    "print(\"We can do things with strftime like\", yourdate.strftime(\"%Y %b\"))\n",
    "````\n",
    "\n",
    "You'll need to **`pip install dateutils`**."
   ]
  },
  {
   "cell_type": "code",
   "execution_count": null,
   "metadata": {
    "collapsed": false
   },
   "outputs": [],
   "source": [
    "# I hate running command line tools in the notebook, but let's do it anyway...\n",
    "!pip install dateutils"
   ]
  },
  {
   "cell_type": "code",
   "execution_count": 4,
   "metadata": {
    "collapsed": false
   },
   "outputs": [],
   "source": [
    "import dateutils"
   ]
  },
  {
   "cell_type": "markdown",
   "metadata": {},
   "source": [
    "## Our first function: **`depth_to_words`**\n",
    "\n",
    "There are a few different ways to build `depth_to_words`. Let's take a look at a few.\n",
    "\n",
    "* **`depth_to_words`** will describe the earthquake's depth\n",
    "* **DEPTH** can be determined from the USGS website - http://earthquake.usgs.gov/learn/topics/seismology/determining_depth.php  - it should be either 'shallow', 'intermediate' or 'deep'\n",
    "\n",
    "From that URL:\n",
    "\n",
    "> Shallow earthquakes are between 0 and 70 km deep; intermediate earthquakes, 70 - 300 km deep; and deep earthquakes, 300 - 700 km deep.\n",
    "\n",
    "### Attempt One\n",
    "\n",
    "We'll take an integer, and just follow what the text says."
   ]
  },
  {
   "cell_type": "code",
   "execution_count": 16,
   "metadata": {
    "collapsed": false,
    "scrolled": true
   },
   "outputs": [
    {
     "name": "stdout",
     "output_type": "stream",
     "text": [
      "30 gives us shallow\n",
      "100 gives us intermediate\n",
      "70 gives us None\n",
      "0 gives us None\n",
      "1000 gives us None\n",
      "-1 gives us None\n"
     ]
    }
   ],
   "source": [
    "def depth_to_words(depth):\n",
    "    if depth > 0 and depth < 70:\n",
    "        return \"shallow\"\n",
    "    elif depth > 70 and depth < 300:\n",
    "        return \"intermediate\"\n",
    "    elif depth > 300 and depth < 700:\n",
    "        return \"shallow\"\n",
    "\n",
    "# You would call it like this\n",
    "depth_to_words(70)\n",
    "\n",
    "# Now let's test it with some sample values\n",
    "test_values = [30, 100, 70, 0, 1000, -1]\n",
    "for value in test_values:\n",
    "    print(value, \"gives us\", depth_to_words(value))"
   ]
  },
  {
   "cell_type": "markdown",
   "metadata": {},
   "source": [
    "70, 0, 1000 and -1 all give us **`None`** as our depth! This is because we listened a little too closely to the description given to us by USGS.\n",
    "\n",
    "* Shallow: ABOVE 0 and BELOW 70\n",
    "* Intermediate: ABOVE 70 and BELOW 300\n",
    "* Deep: ABOVE 300 and BELOW 700\n",
    "\n",
    "Unfortunately 70 slipped through the cracks (we looked for BELOW 70 and ABOVE 70) as did values outside of 0-700. Should a 70km earthquake be shallow or intermediate? Should a 1000km earthquake be considered deep, or should it encounter an error? How about 0km, or negative values?\n",
    "\n",
    "Sometimes decisions like this take more research, and sometimes it takes you making a decision.\n",
    "\n",
    "* 0km and negative-km earthquakes are generally explosions at the surface, but there can also be slight errors in measurement. I think making them shallow isn't a big deal.\n",
    "* Is the 70km cutoff for shallow/intermediate an official term? I'm going to say **no** (even though I didn't check!), so we can count it as either.\n",
    "* 1000km earthquakes seem deep to me, so let's consider them deep.\n",
    "\n",
    "### Version Two: Taking care with edge cases"
   ]
  },
  {
   "cell_type": "code",
   "execution_count": 20,
   "metadata": {
    "collapsed": false
   },
   "outputs": [
    {
     "name": "stdout",
     "output_type": "stream",
     "text": [
      "30 gives us shallow\n",
      "100 gives us intermediate\n",
      "70 gives us intermediate\n",
      "0 gives us shallow\n",
      "1000 gives us shallow\n",
      "-1 gives us shallow\n"
     ]
    }
   ],
   "source": [
    "def depth_to_words(depth):\n",
    "    if depth < 70:\n",
    "        return \"shallow\"\n",
    "    elif depth < 300:\n",
    "        return \"intermediate\"\n",
    "    else:\n",
    "        return \"shallow\"\n",
    "\n",
    "# You would call it like this\n",
    "depth_to_words(70)\n",
    "\n",
    "# Now let's test it with some sample values\n",
    "test_values = [30, 100, 70, 0, 1000, -1]\n",
    "for value in test_values:\n",
    "    print(value, \"gives us\", depth_to_words(value))"
   ]
  },
  {
   "cell_type": "markdown",
   "metadata": {},
   "source": [
    "That looks a little better. **Opening up the ends** instead of being firm gives us a little flexibility with our input. Whether that's a good or bad idea depends on what your data is!\n",
    "\n",
    "We do have one big problem, though, and it shows up when we start working with our real data"
   ]
  },
  {
   "cell_type": "code",
   "execution_count": 19,
   "metadata": {
    "collapsed": false
   },
   "outputs": [
    {
     "ename": "TypeError",
     "evalue": "unorderable types: str() < int()",
     "output_type": "error",
     "traceback": [
      "\u001b[0;31m---------------------------------------------------------------------------\u001b[0m",
      "\u001b[0;31mTypeError\u001b[0m                                 Traceback (most recent call last)",
      "\u001b[0;32m<ipython-input-19-68eff4faf19b>\u001b[0m in \u001b[0;36m<module>\u001b[0;34m()\u001b[0m\n\u001b[0;32m----> 1\u001b[0;31m \u001b[0mdepth_to_words\u001b[0m\u001b[0;34m(\u001b[0m\u001b[0mearthquake\u001b[0m\u001b[0;34m[\u001b[0m\u001b[0;34m'depth'\u001b[0m\u001b[0;34m]\u001b[0m\u001b[0;34m)\u001b[0m\u001b[0;34m\u001b[0m\u001b[0m\n\u001b[0m",
      "\u001b[0;32m<ipython-input-18-44d0f6dabc90>\u001b[0m in \u001b[0;36mdepth_to_words\u001b[0;34m(depth)\u001b[0m\n\u001b[1;32m      1\u001b[0m \u001b[0;32mdef\u001b[0m \u001b[0mdepth_to_words\u001b[0m\u001b[0;34m(\u001b[0m\u001b[0mdepth\u001b[0m\u001b[0;34m)\u001b[0m\u001b[0;34m:\u001b[0m\u001b[0;34m\u001b[0m\u001b[0m\n\u001b[0;32m----> 2\u001b[0;31m     \u001b[0;32mif\u001b[0m \u001b[0mdepth\u001b[0m \u001b[0;34m<\u001b[0m \u001b[0;36m70\u001b[0m\u001b[0;34m:\u001b[0m\u001b[0;34m\u001b[0m\u001b[0m\n\u001b[0m\u001b[1;32m      3\u001b[0m         \u001b[0;32mreturn\u001b[0m \u001b[0;34m\"shallow\"\u001b[0m\u001b[0;34m\u001b[0m\u001b[0m\n\u001b[1;32m      4\u001b[0m     \u001b[0;32melif\u001b[0m \u001b[0mdepth\u001b[0m \u001b[0;34m<\u001b[0m \u001b[0;36m300\u001b[0m\u001b[0;34m:\u001b[0m\u001b[0;34m\u001b[0m\u001b[0m\n\u001b[1;32m      5\u001b[0m         \u001b[0;32mreturn\u001b[0m \u001b[0;34m\"intermediate\"\u001b[0m\u001b[0;34m\u001b[0m\u001b[0m\n",
      "\u001b[0;31mTypeError\u001b[0m: unorderable types: str() < int()"
     ]
    }
   ],
   "source": [
    "depth_to_words(earthquake['depth'])"
   ]
  },
  {
   "cell_type": "markdown",
   "metadata": {},
   "source": [
    "Uh oh, turns out **`earthquake['depth']`** is actually a `string`, which you can't compare to an integer. Guess we need to convert that.\n",
    "\n",
    "### Attempt Three: Preparing our input"
   ]
  },
  {
   "cell_type": "code",
   "execution_count": 21,
   "metadata": {
    "collapsed": false
   },
   "outputs": [
    {
     "name": "stdout",
     "output_type": "stream",
     "text": [
      "30 gives us shallow\n",
      "100 gives us intermediate\n",
      "70 gives us intermediate\n",
      "0 gives us shallow\n",
      "1000 gives us shallow\n",
      "-1 gives us shallow\n"
     ]
    }
   ],
   "source": [
    "def depth_to_words(str_depth):\n",
    "    depth = int(str_depth)\n",
    "    if depth < 70:\n",
    "        return \"shallow\"\n",
    "    elif depth < 300:\n",
    "        return \"intermediate\"\n",
    "    else:\n",
    "        return \"shallow\"\n",
    "\n",
    "# You would call it like this\n",
    "depth_to_words(70)\n",
    "\n",
    "# Now let's test it with some sample values\n",
    "test_values = [30, 100, 70, 0, 1000, -1]\n",
    "for value in test_values:\n",
    "    print(value, \"gives us\", depth_to_words(value))"
   ]
  },
  {
   "cell_type": "markdown",
   "metadata": {},
   "source": [
    "Luckily there isn't a problem with converting an integer into an integer: `int(70)` just becomes `70` - it doesn't have to be int(\"70\"). Now let's try it with our data."
   ]
  },
  {
   "cell_type": "code",
   "execution_count": 22,
   "metadata": {
    "collapsed": false
   },
   "outputs": [
    {
     "data": {
      "text/plain": [
       "'shallow'"
      ]
     },
     "execution_count": 22,
     "metadata": {},
     "output_type": "execute_result"
    }
   ],
   "source": [
    "depth_to_words(earthquake['depth'])"
   ]
  },
  {
   "cell_type": "markdown",
   "metadata": {},
   "source": [
    "### Attempt three: Passing a dictionary\n",
    "\n",
    "Now you get to make an **executive decision**. Which one of the following looks better to you?\n",
    "\n",
    "* `depth_to_words(earthquake['depth'])`\n",
    "* `depth_to_words(earthquake)`\n",
    "\n",
    "I like the second one, it moves more of the \"magic\" out into the function. So let's rewrite our function **to accept a dictionary instead of a number.**"
   ]
  },
  {
   "cell_type": "code",
   "execution_count": 29,
   "metadata": {
    "collapsed": false
   },
   "outputs": [
    {
     "data": {
      "text/plain": [
       "'shallow'"
      ]
     },
     "execution_count": 29,
     "metadata": {},
     "output_type": "execute_result"
    }
   ],
   "source": [
    "def depth_to_words(earthquake):\n",
    "    depth = int(earthquake['depth'])\n",
    "    if depth < 70:\n",
    "        return \"shallow\"\n",
    "    elif depth < 300:\n",
    "        return \"intermediate\"\n",
    "    else:\n",
    "        return \"shallow\"\n",
    "\n",
    "# You would call it like this\n",
    "depth_to_words(earthquake)"
   ]
  },
  {
   "cell_type": "markdown",
   "metadata": {},
   "source": [
    "This **looks far nicer**, but is also **much more difficult to test**.\n",
    "\n",
    "Before we could just try things out by sending integers (or even strings) to the function. But now if we wanted to test a bunch of different depths, we need to create a bunch of **fake earthquakes**.\n",
    "\n",
    "At least we only need to give them the `depth` key, since that's the only key we use in our function."
   ]
  },
  {
   "cell_type": "code",
   "execution_count": 30,
   "metadata": {
    "collapsed": false
   },
   "outputs": [
    {
     "name": "stdout",
     "output_type": "stream",
     "text": [
      "30 gives us shallow\n",
      "100 gives us intermediate\n",
      "70 gives us intermediate\n",
      "0 gives us shallow\n",
      "1000 gives us shallow\n",
      "0 gives us shallow\n"
     ]
    }
   ],
   "source": [
    "test_earthquakes = [{'depth': 30}, {'depth': 100}, {'depth': 70}, {'depth': 0}, {'depth': 1000}, {'depth': 0}]\n",
    "for test_earthquake in test_earthquakes:\n",
    "    print(test_earthquake['depth'], \"gives us\", depth_to_words(test_earthquake))"
   ]
  },
  {
   "cell_type": "markdown",
   "metadata": {},
   "source": [
    "We could also create the dictionary just at the moment we're calling the function, which is a little cleaner-looking."
   ]
  },
  {
   "cell_type": "code",
   "execution_count": 31,
   "metadata": {
    "collapsed": false
   },
   "outputs": [
    {
     "name": "stdout",
     "output_type": "stream",
     "text": [
      "30 gives us shallow\n",
      "100 gives us intermediate\n",
      "70 gives us intermediate\n",
      "0 gives us shallow\n",
      "1000 gives us shallow\n",
      "-1 gives us shallow\n"
     ]
    }
   ],
   "source": [
    "test_values = [30, 100, 70, 0, 1000, -1]\n",
    "for value in test_values:\n",
    "    print(value, \"gives us\", depth_to_words({'depth': value}))"
   ]
  },
  {
   "cell_type": "markdown",
   "metadata": {},
   "source": [
    "I personally think testing with real data is the way to go - I'd give a few tests myself, then plug it into the real data that comes in Part Two."
   ]
  },
  {
   "cell_type": "markdown",
   "metadata": {},
   "source": [
    "## Function two: **`magnitude_in_words`**\n",
    "\n",
    "* **`magnitude_to_words`** will describe the earthquake's power\n",
    "* **POWER** should be evocative words like like 'easily ignored' or 'huge' or 'very destructive' (feel free to pick your own) - look on Google Image Search for \"richter scale\" to see some possible descriptors.\n",
    "\n",
    "I'm going to use this image: http://wiki.ubc.ca/images/e/ea/Richterscale.png\n",
    "\n",
    "|Range|Description|\n",
    "|---|---|\n",
    "|0-2|Never felt|\n",
    "|2-3|Minor|\n",
    "|3-4|Minor|\n",
    "|4-5|Light|\n",
    "|5-6|Moderate|\n",
    "|6-7|Strong|\n",
    "|7-8|Major|\n",
    "|8-9|Great|\n",
    "|9-10|Great|\n",
    "|10+|Epic|\n",
    "\n",
    "It doesn't seem like the *best* set of descriptions, but we'll go with it.\n",
    "\n",
    "After the lessons learned with the last function, we're going to make sure to **convert to a float** (not an integer, since the decimals matter) and **accept a dictionary**."
   ]
  },
  {
   "cell_type": "code",
   "execution_count": 34,
   "metadata": {
    "collapsed": false
   },
   "outputs": [
    {
     "name": "stdout",
     "output_type": "stream",
     "text": [
      "5.7 registers as moderate\n"
     ]
    }
   ],
   "source": [
    "def magnitude_in_words(earthquake):\n",
    "    mag = float(earthquake['mag'])\n",
    "    if mag < 2:\n",
    "        return \"unnoticeable\"\n",
    "    elif mag < 4:\n",
    "        return \"minor\"\n",
    "    elif mag < 5:\n",
    "        return \"light\"\n",
    "    elif mag < 6:\n",
    "        return \"moderate\"\n",
    "    elif mag < 7:\n",
    "        return \"strong\"\n",
    "    elif mag < 8:\n",
    "        return \"major\"\n",
    "    elif mag < 10:\n",
    "        return \"great\"\n",
    "    else:\n",
    "        return \"epic\"\n",
    "\n",
    "# And we'll test it with our sample\n",
    "print(earthquake['mag'], \"registers as\", magnitude_in_words(earthquake))"
   ]
  },
  {
   "cell_type": "markdown",
   "metadata": {},
   "source": [
    "Looks good to me, on to the next one.\n",
    "\n",
    "## Function Three: Day of the Week\n",
    "\n",
    "* **`day_in_words`** should be the day of the week\n",
    "* **DAY** should be the day of the week.\n",
    "* **TIP:** You probably (a.k.a. definitely) need to convert 'time' - which is a string - into a Python datetime object which can do .hour, .day, .strftime(\"%Y %b %d\") and other fun things. Convert it and test the conversion like this:\n",
    "\n",
    "````py\n",
    "import dateutil.parser\n",
    "timestring = '2014-06-04T11:58:58.200Z'\n",
    "yourdate = dateutil.parser.parse(timestring)\n",
    "print(\"The hour is\", yourdate.hour)\n",
    "print(\"We can do things with strftime like\", yourdate.strftime(\"%Y %b\"))\n",
    "````\n",
    "\n",
    "Let's look at our earthquake's **`time`**"
   ]
  },
  {
   "cell_type": "code",
   "execution_count": 35,
   "metadata": {
    "collapsed": false
   },
   "outputs": [
    {
     "data": {
      "text/plain": [
       "'2014-06-04T11:58:58.200Z'"
      ]
     },
     "execution_count": 35,
     "metadata": {},
     "output_type": "execute_result"
    }
   ],
   "source": [
    "earthquake['time']"
   ]
  },
  {
   "cell_type": "markdown",
   "metadata": {},
   "source": [
    "Now let's try out the sample code from up above with our earthquake's **`time`**"
   ]
  },
  {
   "cell_type": "code",
   "execution_count": 42,
   "metadata": {
    "collapsed": false
   },
   "outputs": [
    {
     "name": "stdout",
     "output_type": "stream",
     "text": [
      "The hour is 11\n",
      "We can do things with strftime like 2014 Jun\n"
     ]
    }
   ],
   "source": [
    "import dateutil.parser\n",
    "yourdate = dateutil.parser.parse(earthquake['time'])\n",
    "print(\"The hour is\", yourdate.hour)\n",
    "print(\"We can do things with strftime like\", yourdate.strftime(\"%Y %b\"))"
   ]
  },
  {
   "cell_type": "markdown",
   "metadata": {},
   "source": [
    "If we're trying to get the day, and we can use **`.hour`**, can we use... **`.day`**?"
   ]
  },
  {
   "cell_type": "code",
   "execution_count": 44,
   "metadata": {
    "collapsed": false
   },
   "outputs": [
    {
     "data": {
      "text/plain": [
       "4"
      ]
     },
     "execution_count": 44,
     "metadata": {},
     "output_type": "execute_result"
    }
   ],
   "source": [
    "yourdate.day"
   ]
  },
  {
   "cell_type": "markdown",
   "metadata": {},
   "source": [
    "Uh, not really, I guess. **This is where `strftime` comes into play.** It will convert a **Python representation of time** into a **string**. We can use the [handy reference on strftime.org](http://strftime.org/) to know what the secret codes are when using **`.strftime`**."
   ]
  },
  {
   "cell_type": "code",
   "execution_count": 45,
   "metadata": {
    "collapsed": false
   },
   "outputs": [
    {
     "data": {
      "text/plain": [
       "'Wednesday'"
      ]
     },
     "execution_count": 45,
     "metadata": {},
     "output_type": "execute_result"
    }
   ],
   "source": [
    "yourdate.strftime(\"%A\")"
   ]
  },
  {
   "cell_type": "markdown",
   "metadata": {},
   "source": [
    "Worked like a charm, so now all we need to do is make a function that **accepts the earthquake dictionary** and **returns the day name**."
   ]
  },
  {
   "cell_type": "code",
   "execution_count": 65,
   "metadata": {
    "collapsed": false
   },
   "outputs": [
    {
     "data": {
      "text/plain": [
       "'Wednesday'"
      ]
     },
     "execution_count": 65,
     "metadata": {},
     "output_type": "execute_result"
    }
   ],
   "source": [
    "def day_in_words(earthquake):\n",
    "    parsed_date = dateutil.parser.parse(earthquake['time'])\n",
    "    return parsed_date.strftime(\"%A\")\n",
    "\n",
    "day_in_words(earthquake)"
   ]
  },
  {
   "cell_type": "markdown",
   "metadata": {},
   "source": [
    "Beautiful! On to the next one.\n",
    "\n",
    "## Function Four: `time_in_words`\n",
    "\n",
    "* time_in_words should be \"morning\", \"afternoon\", \"evening\" or \"night\"\n",
    "\n",
    "Unfortunately we *can't* use **`strftime`** for this. What we can do, though, is think about **what makes morning, afternoon, evening and night?**\n",
    "\n",
    "The hour. And we have the hour!"
   ]
  },
  {
   "cell_type": "code",
   "execution_count": 49,
   "metadata": {
    "collapsed": false
   },
   "outputs": [
    {
     "name": "stdout",
     "output_type": "stream",
     "text": [
      "The hour is 11\n"
     ]
    }
   ],
   "source": [
    "yourdate = dateutil.parser.parse(earthquake['time'])\n",
    "print(\"The hour is\", yourdate.hour)"
   ]
  },
  {
   "cell_type": "markdown",
   "metadata": {},
   "source": [
    "**Time for some decisions.** Morning is probably before 12pm, afternoon is before 6pm, evening is 6-8, and night is after that.\n",
    "\n",
    "We won't see this unless we test specific times, **but what about 2am?** You could either have been out all night (still nighttime) or waking up early for a flight (which seems like morning). What do you pick?\n",
    "\n",
    "In this case, it's really your choice. Decisions like this are what make computer-generated stories *seem* independent but show that they're really just as human-being-written as any other story. I'm going to say 3am is the beginning of morning."
   ]
  },
  {
   "cell_type": "code",
   "execution_count": 52,
   "metadata": {
    "collapsed": false
   },
   "outputs": [
    {
     "name": "stdout",
     "output_type": "stream",
     "text": [
      "2014-06-04T11:58:58.200Z\n"
     ]
    },
    {
     "data": {
      "text/plain": [
       "'morning'"
      ]
     },
     "execution_count": 52,
     "metadata": {},
     "output_type": "execute_result"
    }
   ],
   "source": [
    "def time_in_words(earthquake):\n",
    "    parsed_date = dateutil.parser.parse(earthquake['time'])\n",
    "    hour = parsed_date.hour\n",
    "    if hour < 3:\n",
    "        return \"night\"\n",
    "    elif hour < 12:\n",
    "        return \"morning\"\n",
    "    elif hour < 6:\n",
    "        return \"afternoon\"\n",
    "    elif hour < 8:\n",
    "        return \"evening\"\n",
    "    else:\n",
    "        return \"night\"\n",
    "        \n",
    "print(earthquake['time'])\n",
    "time_in_words(earthquake)"
   ]
  },
  {
   "cell_type": "markdown",
   "metadata": {},
   "source": [
    "Yup, 11AM is morning, so that sounds good. \n",
    "\n",
    "I made a choice to have **two separate returns for night**. I could have done `if hour < 3 or hour >= 8` but I felt that keeping the times in order was important. It also would have been easy to do `if hour < 3 or hour > 8` and accidentally miss out on 8pm."
   ]
  },
  {
   "cell_type": "markdown",
   "metadata": {},
   "source": [
    "## Function Five: `date_in_words`\n",
    "\n",
    "* date_in_words should be \"Monthname day\", e.g. \"June 22\"\n",
    "\n",
    "This is easy, it's just another **`strftime`** one! Hop on over to [strftime.org](strftime.org) and we'll be good to go. You'll just want to be careful you don't use `%d`, which would give \"04\" instead of `%-d`, which gives \"4\"."
   ]
  },
  {
   "cell_type": "code",
   "execution_count": 64,
   "metadata": {
    "collapsed": false
   },
   "outputs": [
    {
     "data": {
      "text/plain": [
       "'June 4'"
      ]
     },
     "execution_count": 64,
     "metadata": {},
     "output_type": "execute_result"
    }
   ],
   "source": [
    "def date_in_words(earthquake):\n",
    "    parsed_date = dateutil.parser.parse(earthquake['time'])\n",
    "    return parsed_date.strftime(\"%B %-d\")\n",
    "\n",
    "date_in_words(earthquake)"
   ]
  },
  {
   "cell_type": "markdown",
   "metadata": {},
   "source": [
    "## PART TWO: Write the `eq_to_sentence` function\n",
    "\n",
    "Write a function called `eq_to_sentence` that, when called, returns the whole sentence mentioned above, \"A DEPTH, POWER MAGNITUDE earthquake was reported DAY TIME_OF_DAY on DATE LOCATION.\"\n",
    "\n",
    "Print out the result for the sample earthquake."
   ]
  },
  {
   "cell_type": "code",
   "execution_count": 67,
   "metadata": {
    "collapsed": false
   },
   "outputs": [
    {
     "name": "stdout",
     "output_type": "stream",
     "text": [
      "A shallow moderate 5.7 earthquake was reported Wednesday morning on June 4 73km WSW of Haines, Alaska\n"
     ]
    }
   ],
   "source": [
    "def eq_to_sentence(earthquake):\n",
    "    print(\"A\", depth_to_words(earthquake), magnitude_in_words(earthquake), earthquake['mag'], \"earthquake was reported\", day_in_words(earthquake), time_in_words(earthquake), \"on\", date_in_words(earthquake), earthquake['place'])\n",
    "\n",
    "eq_to_sentence(earthquake)"
   ]
  },
  {
   "cell_type": "markdown",
   "metadata": {},
   "source": [
    "This isn't what I asked for, though! I asked for something that *returns a string*, and then the *string gets printed*. It's just a matter of moving **`print`**, maybe?"
   ]
  },
  {
   "cell_type": "code",
   "execution_count": 69,
   "metadata": {
    "collapsed": false
   },
   "outputs": [
    {
     "name": "stdout",
     "output_type": "stream",
     "text": [
      "('A', 'shallow', 'moderate', '5.7', 'earthquake was reported', 'Wednesday', 'morning', 'on', 'June 4', '73km WSW of Haines, Alaska')\n"
     ]
    }
   ],
   "source": [
    "def eq_to_sentence(earthquake):\n",
    "    return \"A\", depth_to_words(earthquake), magnitude_in_words(earthquake), earthquake['mag'], \"earthquake was reported\", day_in_words(earthquake), time_in_words(earthquake), \"on\", date_in_words(earthquake), earthquake['place']\n",
    "\n",
    "print(eq_to_sentence(earthquake))"
   ]
  },
  {
   "cell_type": "markdown",
   "metadata": {},
   "source": [
    "Hmmm, doesn't look beautiful. Now, what you **could do** is use the **`+`** to stick all of those together, or maybe treat them as a list and use `' '.join` to join them all together with spaces. I'm going to show you a secret trick, though, called **`.format`**!"
   ]
  },
  {
   "cell_type": "code",
   "execution_count": 70,
   "metadata": {
    "collapsed": false
   },
   "outputs": [
    {
     "data": {
      "text/plain": [
       "'My name is Smushface and I am a cat'"
      ]
     },
     "execution_count": 70,
     "metadata": {},
     "output_type": "execute_result"
    }
   ],
   "source": [
    "name = \"Smushface\"\n",
    "animal = \"cat\"\n",
    "\"My name is {} and I am a {}\".format(name, animal)"
   ]
  },
  {
   "cell_type": "markdown",
   "metadata": {},
   "source": [
    "**`.format`** allows you to do a \"fill in the blanks\" with variables when creating a string. It's pretty useful!"
   ]
  },
  {
   "cell_type": "code",
   "execution_count": 74,
   "metadata": {
    "collapsed": false
   },
   "outputs": [
    {
     "data": {
      "text/plain": [
       "'A shallow moderate 5.7 earthquake was reported Wednesday morning on June 4, 73km WSW of Haines, Alaska'"
      ]
     },
     "execution_count": 74,
     "metadata": {},
     "output_type": "execute_result"
    }
   ],
   "source": [
    "depthwords = depth_to_words(earthquake)\n",
    "magwords = magnitude_in_words(earthquake)\n",
    "daywords = day_in_words(earthquake)\n",
    "timewords = time_in_words(earthquake)\n",
    "datewords = date_in_words(earthquake)\n",
    "\"A {} {} {} earthquake was reported {} {} on {}, {}\".format(depthwords, magwords, earthquake['mag'], daywords, timewords, datewords, earthquake['place'])"
   ]
  },
  {
   "cell_type": "markdown",
   "metadata": {},
   "source": [
    "If we want to get even crazier, you can use a dictionary with **`.format`** so that you don't have to pay attention to order."
   ]
  },
  {
   "cell_type": "code",
   "execution_count": 77,
   "metadata": {
    "collapsed": false
   },
   "outputs": [
    {
     "data": {
      "text/plain": [
       "'A shallow moderate 5.7 earthquake was reported Wednesday morning on 73km WSW of Haines, Alaska, 5.7'"
      ]
     },
     "execution_count": 77,
     "metadata": {},
     "output_type": "execute_result"
    }
   ],
   "source": [
    "eq_words = {\n",
    "    'depthwords': depth_to_words(earthquake),\n",
    "    'magwords': magnitude_in_words(earthquake),\n",
    "    'daywords': day_in_words(earthquake),\n",
    "    'timewords': time_in_words(earthquake),\n",
    "    'datewords': date_in_words(earthquake),\n",
    "    'location': earthquake['place'],\n",
    "    'magnitude': earthquake['mag']\n",
    "}\n",
    "\"A {depthwords} {magwords} {magnitude} earthquake was reported {daywords} {timewords} on {location}, {magnitude}\".format(**eq_words)"
   ]
  },
  {
   "cell_type": "markdown",
   "metadata": {},
   "source": [
    "Whichever version you choose, now you can pop it into a function."
   ]
  },
  {
   "cell_type": "code",
   "execution_count": 79,
   "metadata": {
    "collapsed": false
   },
   "outputs": [
    {
     "data": {
      "text/plain": [
       "'A shallow moderate 5.7 earthquake was reported Wednesday morning on 73km WSW of Haines, Alaska, 5.7'"
      ]
     },
     "execution_count": 79,
     "metadata": {},
     "output_type": "execute_result"
    }
   ],
   "source": [
    "def eq_to_words(earthquake):\n",
    "    eq_words = {\n",
    "        'depthwords': depth_to_words(earthquake),\n",
    "        'magwords': magnitude_in_words(earthquake),\n",
    "        'daywords': day_in_words(earthquake),\n",
    "        'timewords': time_in_words(earthquake),\n",
    "        'datewords': date_in_words(earthquake),\n",
    "        'location': earthquake['place'],\n",
    "        'magnitude': earthquake['mag']\n",
    "    }\n",
    "    return \"A {depthwords} {magwords} {magnitude} earthquake was reported {daywords} {timewords} on {location}, {magnitude}\".format(**eq_words)\n",
    "\n",
    "eq_to_words(earthquake)"
   ]
  },
  {
   "cell_type": "markdown",
   "metadata": {},
   "source": [
    "Looking good!"
   ]
  },
  {
   "cell_type": "markdown",
   "metadata": {},
   "source": [
    "## PART THREE: Doing it in bulk\n",
    "\n",
    "Read in the csv of the past 30 days of 1.0+ earthquke activity from http://earthquake.usgs.gov/earthquakes/feed/v1.0/summary/1.0_month.csv (tip: read_csv works with URLs!)\n",
    "\n",
    "Because we haven't covered looping through pandas, use the following code to convert a pandas DataFrame into a list of dictionaries that you can loop through.\n",
    "\n",
    "earthquakes_df = pd.read_csv(\"1.0_month.csv\")\n",
    "earthquakes = earthquakes_df.to_dict('records')\n",
    "\n",
    "(If you really want to do it with pandas, it's for index, row in earthquakes_df.iterrows():)\n",
    "\n",
    "Loop through each earthquake, printing sentence descriptions for the ones that are above or equal to 4.0 on the Richter scale."
   ]
  },
  {
   "cell_type": "code",
   "execution_count": 80,
   "metadata": {
    "collapsed": false
   },
   "outputs": [
    {
     "data": {
      "text/html": [
       "<div>\n",
       "<table border=\"1\" class=\"dataframe\">\n",
       "  <thead>\n",
       "    <tr style=\"text-align: right;\">\n",
       "      <th></th>\n",
       "      <th>time</th>\n",
       "      <th>latitude</th>\n",
       "      <th>longitude</th>\n",
       "      <th>depth</th>\n",
       "      <th>mag</th>\n",
       "      <th>magType</th>\n",
       "      <th>nst</th>\n",
       "      <th>gap</th>\n",
       "      <th>dmin</th>\n",
       "      <th>rms</th>\n",
       "      <th>...</th>\n",
       "      <th>updated</th>\n",
       "      <th>place</th>\n",
       "      <th>type</th>\n",
       "      <th>horizontalError</th>\n",
       "      <th>depthError</th>\n",
       "      <th>magError</th>\n",
       "      <th>magNst</th>\n",
       "      <th>status</th>\n",
       "      <th>locationSource</th>\n",
       "      <th>magSource</th>\n",
       "    </tr>\n",
       "  </thead>\n",
       "  <tbody>\n",
       "    <tr>\n",
       "      <th>0</th>\n",
       "      <td>2016-06-26T11:55:51.850Z</td>\n",
       "      <td>37.506168</td>\n",
       "      <td>-118.797333</td>\n",
       "      <td>-1.19</td>\n",
       "      <td>1.47</td>\n",
       "      <td>md</td>\n",
       "      <td>10.0</td>\n",
       "      <td>219.0</td>\n",
       "      <td>0.06295</td>\n",
       "      <td>0.03</td>\n",
       "      <td>...</td>\n",
       "      <td>2016-06-26T12:18:03.754Z</td>\n",
       "      <td>22km SE of Mammoth Lakes, California</td>\n",
       "      <td>earthquake</td>\n",
       "      <td>0.72</td>\n",
       "      <td>2.26</td>\n",
       "      <td>0.080</td>\n",
       "      <td>10.0</td>\n",
       "      <td>automatic</td>\n",
       "      <td>nc</td>\n",
       "      <td>nc</td>\n",
       "    </tr>\n",
       "    <tr>\n",
       "      <th>1</th>\n",
       "      <td>2016-06-26T11:50:06.540Z</td>\n",
       "      <td>34.832000</td>\n",
       "      <td>-118.922167</td>\n",
       "      <td>13.50</td>\n",
       "      <td>1.99</td>\n",
       "      <td>ml</td>\n",
       "      <td>43.0</td>\n",
       "      <td>36.0</td>\n",
       "      <td>0.05095</td>\n",
       "      <td>0.25</td>\n",
       "      <td>...</td>\n",
       "      <td>2016-06-26T12:00:31.920Z</td>\n",
       "      <td>2km ENE of Frazier Park, CA</td>\n",
       "      <td>earthquake</td>\n",
       "      <td>0.34</td>\n",
       "      <td>0.57</td>\n",
       "      <td>0.196</td>\n",
       "      <td>26.0</td>\n",
       "      <td>automatic</td>\n",
       "      <td>ci</td>\n",
       "      <td>ci</td>\n",
       "    </tr>\n",
       "    <tr>\n",
       "      <th>2</th>\n",
       "      <td>2016-06-26T11:41:38.920Z</td>\n",
       "      <td>38.793167</td>\n",
       "      <td>-122.759163</td>\n",
       "      <td>1.09</td>\n",
       "      <td>1.13</td>\n",
       "      <td>md</td>\n",
       "      <td>17.0</td>\n",
       "      <td>69.0</td>\n",
       "      <td>0.02014</td>\n",
       "      <td>0.02</td>\n",
       "      <td>...</td>\n",
       "      <td>2016-06-26T12:07:02.715Z</td>\n",
       "      <td>1km N of The Geysers, California</td>\n",
       "      <td>earthquake</td>\n",
       "      <td>0.19</td>\n",
       "      <td>0.53</td>\n",
       "      <td>0.100</td>\n",
       "      <td>6.0</td>\n",
       "      <td>automatic</td>\n",
       "      <td>nc</td>\n",
       "      <td>nc</td>\n",
       "    </tr>\n",
       "    <tr>\n",
       "      <th>3</th>\n",
       "      <td>2016-06-26T11:17:11.690Z</td>\n",
       "      <td>39.486700</td>\n",
       "      <td>73.325200</td>\n",
       "      <td>15.50</td>\n",
       "      <td>6.40</td>\n",
       "      <td>mww</td>\n",
       "      <td>NaN</td>\n",
       "      <td>57.0</td>\n",
       "      <td>1.17600</td>\n",
       "      <td>1.17</td>\n",
       "      <td>...</td>\n",
       "      <td>2016-06-26T12:18:32.170Z</td>\n",
       "      <td>27km SSE of Sary-Tash, Kyrgyzstan</td>\n",
       "      <td>earthquake</td>\n",
       "      <td>5.80</td>\n",
       "      <td>1.80</td>\n",
       "      <td>NaN</td>\n",
       "      <td>NaN</td>\n",
       "      <td>reviewed</td>\n",
       "      <td>us</td>\n",
       "      <td>us</td>\n",
       "    </tr>\n",
       "    <tr>\n",
       "      <th>4</th>\n",
       "      <td>2016-06-26T11:13:00.970Z</td>\n",
       "      <td>33.009667</td>\n",
       "      <td>-116.485000</td>\n",
       "      <td>10.52</td>\n",
       "      <td>1.10</td>\n",
       "      <td>ml</td>\n",
       "      <td>34.0</td>\n",
       "      <td>77.0</td>\n",
       "      <td>0.11830</td>\n",
       "      <td>0.17</td>\n",
       "      <td>...</td>\n",
       "      <td>2016-06-26T11:24:18.280Z</td>\n",
       "      <td>13km SE of Julian, CA</td>\n",
       "      <td>earthquake</td>\n",
       "      <td>0.21</td>\n",
       "      <td>0.45</td>\n",
       "      <td>0.204</td>\n",
       "      <td>27.0</td>\n",
       "      <td>automatic</td>\n",
       "      <td>ci</td>\n",
       "      <td>ci</td>\n",
       "    </tr>\n",
       "  </tbody>\n",
       "</table>\n",
       "<p>5 rows × 22 columns</p>\n",
       "</div>"
      ],
      "text/plain": [
       "                       time   latitude   longitude  depth   mag magType   nst  \\\n",
       "0  2016-06-26T11:55:51.850Z  37.506168 -118.797333  -1.19  1.47      md  10.0   \n",
       "1  2016-06-26T11:50:06.540Z  34.832000 -118.922167  13.50  1.99      ml  43.0   \n",
       "2  2016-06-26T11:41:38.920Z  38.793167 -122.759163   1.09  1.13      md  17.0   \n",
       "3  2016-06-26T11:17:11.690Z  39.486700   73.325200  15.50  6.40     mww   NaN   \n",
       "4  2016-06-26T11:13:00.970Z  33.009667 -116.485000  10.52  1.10      ml  34.0   \n",
       "\n",
       "     gap     dmin   rms    ...                      updated  \\\n",
       "0  219.0  0.06295  0.03    ...     2016-06-26T12:18:03.754Z   \n",
       "1   36.0  0.05095  0.25    ...     2016-06-26T12:00:31.920Z   \n",
       "2   69.0  0.02014  0.02    ...     2016-06-26T12:07:02.715Z   \n",
       "3   57.0  1.17600  1.17    ...     2016-06-26T12:18:32.170Z   \n",
       "4   77.0  0.11830  0.17    ...     2016-06-26T11:24:18.280Z   \n",
       "\n",
       "                                  place        type horizontalError  \\\n",
       "0  22km SE of Mammoth Lakes, California  earthquake            0.72   \n",
       "1           2km ENE of Frazier Park, CA  earthquake            0.34   \n",
       "2      1km N of The Geysers, California  earthquake            0.19   \n",
       "3     27km SSE of Sary-Tash, Kyrgyzstan  earthquake            5.80   \n",
       "4                 13km SE of Julian, CA  earthquake            0.21   \n",
       "\n",
       "  depthError  magError  magNst     status  locationSource magSource  \n",
       "0       2.26     0.080    10.0  automatic              nc        nc  \n",
       "1       0.57     0.196    26.0  automatic              ci        ci  \n",
       "2       0.53     0.100     6.0  automatic              nc        nc  \n",
       "3       1.80       NaN     NaN   reviewed              us        us  \n",
       "4       0.45     0.204    27.0  automatic              ci        ci  \n",
       "\n",
       "[5 rows x 22 columns]"
      ]
     },
     "execution_count": 80,
     "metadata": {},
     "output_type": "execute_result"
    }
   ],
   "source": [
    "import pandas as pd\n",
    "earthquakes_df = pd.read_csv(\"http://earthquake.usgs.gov/earthquakes/feed/v1.0/summary/1.0_month.csv\")\n",
    "earthquakes_df.head()"
   ]
  },
  {
   "cell_type": "markdown",
   "metadata": {},
   "source": [
    "Now all we need to do is convert the dataframe into a list of dictionaries and pass them to our function, and suddenly we have a hundred sentences without doing much more work at all!"
   ]
  },
  {
   "cell_type": "code",
   "execution_count": 84,
   "metadata": {
    "collapsed": false
   },
   "outputs": [
    {
     "name": "stdout",
     "output_type": "stream",
     "text": [
      "A shallow unnoticeable 1.47 earthquake was reported Sunday morning on 22km SE of Mammoth Lakes, California, 1.47\n",
      "A shallow unnoticeable 1.99 earthquake was reported Sunday morning on 2km ENE of Frazier Park, CA, 1.99\n",
      "A shallow unnoticeable 1.13 earthquake was reported Sunday morning on 1km N of The Geysers, California, 1.13\n",
      "A shallow strong 6.4 earthquake was reported Sunday morning on 27km SSE of Sary-Tash, Kyrgyzstan, 6.4\n",
      "A shallow unnoticeable 1.1 earthquake was reported Sunday morning on 13km SE of Julian, CA, 1.1\n",
      "A shallow unnoticeable 1.2 earthquake was reported Sunday morning on 27km ENE of Cantwell, Alaska, 1.2\n",
      "A shallow unnoticeable 1.04 earthquake was reported Sunday morning on 8km E of Mammoth Lakes, California, 1.04\n",
      "A shallow unnoticeable 1.9 earthquake was reported Sunday morning on 83km E of Sutton-Alpine, Alaska, 1.9\n",
      "A shallow unnoticeable 1.0 earthquake was reported Sunday morning on 81km NNW of Valdez, Alaska, 1.0\n",
      "A intermediate minor 2.2 earthquake was reported Sunday morning on 25km NNE of Culebra, Puerto Rico, 2.2\n",
      "A shallow unnoticeable 1.0 earthquake was reported Sunday morning on 20km E of Julian, CA, 1.0\n",
      "A shallow unnoticeable 1.8 earthquake was reported Sunday morning on 5km E of Espino, Puerto Rico, 1.8\n",
      "A shallow light 4.6 earthquake was reported Sunday morning on 126km NNW of Dobo, Indonesia, 4.6\n",
      "A shallow unnoticeable 1.1 earthquake was reported Sunday morning on 118km W of Cantwell, Alaska, 1.1\n",
      "A intermediate minor 2.9 earthquake was reported Sunday morning on 84km NE of Chignik Lake, Alaska, 2.9\n",
      "A shallow unnoticeable 1.1 earthquake was reported Sunday morning on 103km WNW of Talkeetna, Alaska, 1.1\n",
      "A intermediate moderate 5.0 earthquake was reported Sunday morning on 20km E of Farkhar, Afghanistan, 5.0\n",
      "A shallow unnoticeable 1.8 earthquake was reported Sunday morning on 46km N of Sterling, Alaska, 1.8\n",
      "A shallow unnoticeable 1.0 earthquake was reported Sunday morning on 68km SSW of Tok, Alaska, 1.0\n",
      "A shallow light 4.9 earthquake was reported Sunday morning on Reykjanes Ridge, 4.9\n",
      "A shallow unnoticeable 1.6 earthquake was reported Sunday morning on 22km S of Charlotte Amalie, U.S. Virgin Islands, 1.6\n",
      "A shallow unnoticeable 1.2 earthquake was reported Sunday morning on 59km SSE of Cantwell, Alaska, 1.2\n",
      "A shallow moderate 5.0 earthquake was reported Sunday morning on West of Macquarie Island, 5.0\n",
      "A intermediate light 4.3 earthquake was reported Sunday morning on 145km NNE of Tobelo, Indonesia, 4.3\n",
      "A intermediate light 4.3 earthquake was reported Sunday morning on 77km SSW of Calama, Chile, 4.3\n",
      "A shallow unnoticeable 1.0 earthquake was reported Sunday morning on 36km ESE of Bridgeport, California, 1.0\n",
      "A shallow unnoticeable 1.3 earthquake was reported Sunday morning on 60km WNW of Willow, Alaska, 1.3\n",
      "A intermediate minor 2.0 earthquake was reported Sunday morning on 53km NNE of Redoubt Volcano, Alaska, 2.0\n",
      "A shallow light 4.2 earthquake was reported Sunday morning on 93km S of Kuh Sefid, Iran, 4.2\n",
      "A shallow unnoticeable 1.42 earthquake was reported Sunday morning on 18km E of Big Bear City, CA, 1.42\n",
      "A shallow moderate 5.1 earthquake was reported Sunday morning on 253km ESE of Yigo Village, Guam, 5.1\n",
      "A shallow light 4.8 earthquake was reported Sunday morning on West of Macquarie Island, 4.8\n",
      "A shallow minor 3.0 earthquake was reported Sunday morning on 69km N of Charlotte Amalie, U.S. Virgin Islands, 3.0\n",
      "A shallow unnoticeable 1.0 earthquake was reported Sunday morning on 61km NW of Ester, Alaska, 1.0\n",
      "A intermediate light 4.0 earthquake was reported Sunday morning on 94km W of Willow, Alaska, 4.0\n",
      "A shallow minor 2.8 earthquake was reported Sunday morning on 54km NNE of Road Town, British Virgin Islands, 2.8\n",
      "A shallow minor 2.72 earthquake was reported Sunday night on 9km WNW of Cobb, California, 2.72\n",
      "A intermediate light 4.9 earthquake was reported Sunday night on 241km NW of Saumlaki, Indonesia, 4.9\n",
      "A shallow unnoticeable 1.86 earthquake was reported Sunday night on 20km NNE of Upper Lake, California, 1.86\n",
      "A shallow minor 2.5 earthquake was reported Sunday night on 86km N of Road Town, British Virgin Islands, 2.5\n",
      "A shallow unnoticeable 1.01 earthquake was reported Sunday night on 12km SSW of Ocotillo Wells, CA, 1.01\n",
      "A intermediate minor 2.6 earthquake was reported Sunday night on 52km N of Charlotte Amalie, U.S. Virgin Islands, 2.6\n",
      "A shallow unnoticeable 1.98 earthquake was reported Sunday night on 4km ENE of San Marcos, CA, 1.98\n",
      "A shallow unnoticeable 1.3 earthquake was reported Sunday night on 26km N of Yucca Valley, CA, 1.3\n",
      "A shallow unnoticeable 1.9 earthquake was reported Sunday night on 120km NNW of Kodiak Station, Alaska, 1.9\n",
      "A shallow unnoticeable 1.9 earthquake was reported Sunday night on 110km NNW of Kodiak Station, Alaska, 1.9\n",
      "A shallow unnoticeable 1.5 earthquake was reported Sunday night on 114km W of Cantwell, Alaska, 1.5\n",
      "A shallow unnoticeable 1.82 earthquake was reported Sunday night on 8km ESE of Mammoth Lakes, California, 1.82\n",
      "A shallow light 4.8 earthquake was reported Sunday night on West of Macquarie Island, 4.8\n",
      "A shallow minor 2.9 earthquake was reported Sunday night on 84km N of Road Town, British Virgin Islands, 2.9\n",
      "A shallow minor 2.88 earthquake was reported Sunday night on 26km ESE of Hawaiian Ocean View, Hawaii, 2.88\n",
      "A shallow unnoticeable 1.34 earthquake was reported Sunday night on 5km NW of The Geysers, California, 1.34\n",
      "A shallow unnoticeable 1.28 earthquake was reported Sunday night on 4km WSW of Banning, CA, 1.28\n",
      "A shallow unnoticeable 1.67 earthquake was reported Sunday night on 16km N of Morgan Hill, California, 1.67\n",
      "A shallow minor 2.69 earthquake was reported Saturday night on 27km NE of Ucluelet, Canada, 2.69\n",
      "A shallow unnoticeable 1.3 earthquake was reported Saturday night on 18km NE of Fairbanks, Alaska, 1.3\n",
      "A shallow unnoticeable 1.52 earthquake was reported Saturday night on 6km NE of Little Lake, CA, 1.52\n",
      "A shallow minor 2.33 earthquake was reported Saturday night on 26km SE of Hawaiian Ocean View, Hawaii, 2.33\n",
      "A shallow minor 3.4 earthquake was reported Saturday night on 181km WNW of Haines Junction, Canada, 3.4\n",
      "A shallow unnoticeable 1.97 earthquake was reported Saturday night on 2km NE of Lakeland South, Washington, 1.97\n",
      "A shallow minor 2.6 earthquake was reported Saturday night on 8km SSW of Cheney, Kansas, 2.6\n",
      "A shallow unnoticeable 1.2 earthquake was reported Saturday night on 70km S of Deltana, Alaska, 1.2\n",
      "A shallow unnoticeable 1.8 earthquake was reported Saturday night on 92km N of Redoubt Volcano, Alaska, 1.8\n",
      "A shallow unnoticeable 1.0 earthquake was reported Saturday night on 41km N of Cold Springs, Nevada, 1.0\n",
      "A shallow minor 2.1 earthquake was reported Saturday night on 74km NNE of Kiska Volcano, Alaska, 2.1\n",
      "A shallow unnoticeable 1.09 earthquake was reported Saturday night on 10km NNE of Trabuco Canyon, CA, 1.09\n",
      "A shallow minor 2.3 earthquake was reported Saturday night on 16km E of Y, Alaska, 2.3\n",
      "A shallow minor 2.9 earthquake was reported Saturday night on 141km SE of Akutan, Alaska, 2.9\n",
      "A shallow light 4.7 earthquake was reported Saturday night on Reykjanes Ridge, 4.7\n",
      "A intermediate unnoticeable 1.9 earthquake was reported Saturday night on 12km SSW of Adak, Alaska, 1.9\n",
      "A shallow minor 2.2 earthquake was reported Saturday night on 59km NE of Road Town, British Virgin Islands, 2.2\n",
      "A shallow minor 2.04 earthquake was reported Saturday night on 5km E of Pahala, Hawaii, 2.04\n",
      "A shallow minor 2.0 earthquake was reported Saturday night on 49km E of Lazy Mountain, Alaska, 2.0\n",
      "A intermediate unnoticeable 1.0 earthquake was reported Saturday night on 43km SSW of Cantwell, Alaska, 1.0\n",
      "A shallow unnoticeable 1.0 earthquake was reported Saturday night on 24km S of Gerlach-Empire, Nevada, 1.0\n",
      "A shallow unnoticeable 1.7 earthquake was reported Saturday night on 9km SSE of Volcano, Hawaii, 1.7\n",
      "A shallow unnoticeable 1.62 earthquake was reported Saturday night on 3km SSE of North Tustin, CA, 1.62\n",
      "A shallow light 4.6 earthquake was reported Saturday night on Reykjanes Ridge, 4.6\n",
      "A shallow unnoticeable 1.66 earthquake was reported Saturday night on 4km NE of Hollywood, CA, 1.66\n",
      "A shallow minor 2.9 earthquake was reported Saturday night on 152km SE of Akutan, Alaska, 2.9\n",
      "A shallow moderate 5.1 earthquake was reported Saturday night on 143km SSW of Merizo Village, Guam, 5.1\n",
      "A shallow unnoticeable 1.06 earthquake was reported Saturday night on 8km ESE of Mammoth Lakes, California, 1.06\n",
      "A shallow minor 3.1 earthquake was reported Saturday night on 91km N of Road Town, British Virgin Islands, 3.1\n",
      "A shallow minor 2.7 earthquake was reported Saturday night on 105km N of Vieques, Puerto Rico, 2.7\n",
      "A shallow minor 2.04 earthquake was reported Saturday night on 25km E of Honaunau-Napoopoo, Hawaii, 2.04\n",
      "A shallow minor 2.5 earthquake was reported Saturday night on 89km N of Redoubt Volcano, Alaska, 2.5\n",
      "A shallow minor 2.6 earthquake was reported Saturday night on 20km NW of Hawthorne, Nevada, 2.6\n",
      "A shallow minor 2.9 earthquake was reported Saturday night on 148km SE of Akutan, Alaska, 2.9\n",
      "A shallow minor 2.14 earthquake was reported Saturday night on 6km NE of Little Lake, CA, 2.14\n",
      "A shallow unnoticeable 1.3 earthquake was reported Saturday night on 31km WNW of Anchorage, Alaska, 1.3\n",
      "A shallow unnoticeable 1.94 earthquake was reported Saturday night on 4km SSW of Volcano, Hawaii, 1.94\n",
      "A shallow minor 3.1 earthquake was reported Saturday night on 8km SSE of Caldwell, Kansas, 3.1\n",
      "A shallow moderate 5.1 earthquake was reported Saturday night on Reykjanes Ridge, 5.1\n",
      "A shallow minor 2.3 earthquake was reported Saturday night on 19km S of Indios, Puerto Rico, 2.3\n",
      "A shallow minor 2.8 earthquake was reported Saturday night on 21km WSW of Mendota, California, 2.8\n",
      "A shallow unnoticeable 1.65 earthquake was reported Saturday night on 13km SSE of Manila, Arkansas, 1.65\n",
      "A shallow unnoticeable 1.06 earthquake was reported Saturday night on 4km NW of The Geysers, California, 1.06\n",
      "A shallow unnoticeable 1.32 earthquake was reported Saturday night on 8km E of Mammoth Lakes, California, 1.32\n",
      "A shallow minor 2.2 earthquake was reported Saturday night on 76km NW of New Allakaket, Alaska, 2.2\n",
      "A intermediate minor 3.3 earthquake was reported Saturday night on 94km WSW of Cantwell, Alaska, 3.3\n"
     ]
    }
   ],
   "source": [
    "earthquakes = earthquakes_df.to_dict('records')\n",
    "# I'm just going to slice off the first 100\n",
    "for earthquake in earthquakes[0:100]:\n",
    "    print(eq_to_words(earthquake))"
   ]
  },
  {
   "cell_type": "markdown",
   "metadata": {},
   "source": [
    "## PART FOUR: The other bits\n",
    "\n",
    "If the earthquake is anything other than an earthquake (e.g. explosion or quarry blast), print\n",
    "\n",
    "There was also a magnitude MAGNITUDE TYPE_OF_EVENT on DATE LOCATION.\n",
    "\n",
    "For example,\n",
    "\n",
    "There was also a magnitude 1.29 quarry blast on June 19 12km SE of Tehachapi, California.\n",
    "\n",
    "with TYPE_OF_EVENT being explosion, quarry blast, etc and LOCATION being 'place' - e.g. '0km N of The Geysers, California'.\n"
   ]
  },
  {
   "cell_type": "code",
   "execution_count": 90,
   "metadata": {
    "collapsed": false
   },
   "outputs": [
    {
     "name": "stdout",
     "output_type": "stream",
     "text": [
      "There was also a magnitude 1.58 quarry blast at 45km NNW of Los Algodones, B.C., MX\n",
      "There was also a magnitude 1.73 explosion at 3km SSE of Princeton, Canada\n",
      "There was also a magnitude 1.19 quarry blast at 8km SSW of Mojave, CA\n",
      "There was also a magnitude 1.78 quarry blast at 10km NNW of Big Bear Lake, CA\n",
      "There was also a magnitude 1.25 explosion at 13km NE of Abbotsford, Canada\n",
      "There was also a magnitude 1.84 explosion at 5km E of White Salmon, Washington\n",
      "There was also a magnitude 1.11 quarry blast at 1km SE of Quarry near Aromas, CA\n",
      "There was also a magnitude 1.31 quarry blast at 13km SE of Tehachapi, CA\n",
      "There was also a magnitude 1.22 quarry blast at 11km E of Quarry near Portola Valley, CA\n",
      "There was also a magnitude 1.34 quarry blast at 11km E of Quarry near Portola Valley, CA\n",
      "There was also a magnitude 1.08 explosion at 2km ENE of Eatonville, Washington\n",
      "There was also a magnitude 1.94 quarry blast at 5km ENE of Butte, Montana\n",
      "There was also a magnitude 1.27 explosion at 7km SSE of Eatonville, Washington\n",
      "There was also a magnitude 1.62 explosion at 3km S of Princeton, Canada\n",
      "There was also a magnitude 1.64 explosion at 30km ESE of Florence, Oregon\n",
      "There was also a magnitude 1.87 quarry blast at 6km W of Colonial Heights, Tennessee\n",
      "There was also a magnitude 1.8 explosion at 15km S of Princeton, Canada\n",
      "There was also a magnitude 1.44 explosion at 5km SE of Gold Bar, Washington\n",
      "There was also a magnitude 1.06 quarry blast at 6km SSW of Mojave, CA\n",
      "There was also a magnitude 1.92 quarry blast at 11km N of Oroville, California\n",
      "There was also a magnitude 1.98 explosion at 4km NNW of Bend, Oregon\n",
      "There was also a magnitude 1.44 quarry blast at 46km NE of Holtville, CA\n",
      "There was also a magnitude 1.71 explosion at 3km WSW of Sweet Home, Oregon\n",
      "There was also a magnitude 1.33 quarry blast at 11km E of Quarry near Portola Valley, CA\n",
      "There was also a magnitude 1.85 explosion at 2km E of Granite Falls, Washington\n",
      "There was also a magnitude 1.23 quarry blast at 13km W of Mojave, CA\n",
      "There was also a magnitude 1.77 quarry blast at 7km SSE of Home Gardens, CA\n",
      "There was also a magnitude 1.25 quarry blast at 4km ENE of Tehachapi, CA\n",
      "There was also a magnitude 1.29 other event at 10km SW of Bridgeport, Washington\n",
      "There was also a magnitude 1.95 explosion at 1km SSW of Princeton, Canada\n",
      "There was also a magnitude 1.36 other event at 10km SW of Bridgeport, Washington\n",
      "There was also a magnitude 1.27 other event at 30km ESE of Sweet Home, Oregon\n",
      "There was also a magnitude 1.74 explosion at 9km S of Princeton, Canada\n",
      "There was also a magnitude 1.22 explosion at 8km E of Yacolt, Washington\n",
      "There was also a magnitude 1.99 explosion at 26km WSW of Cheney, Washington\n",
      "There was also a magnitude 1.57 explosion at 8km WNW of Junction City, Oregon\n",
      "There was also a magnitude 1.48 quarry blast at 4km SE of Home Gardens, CA\n",
      "There was also a magnitude 1.66 explosion at 14km NNW of Philomath, Oregon\n",
      "There was also a magnitude 1.85 quarry blast at 4km ENE of Butte, Montana\n",
      "There was also a magnitude 1.63 quarry blast at 0km E of Quarry near Salinas, CA\n",
      "There was also a magnitude 1.27 quarry blast at 10km NNW of Big Bear City, CA\n",
      "There was also a magnitude 1.36 quarry blast at 2km SE of Home Gardens, CA\n",
      "There was also a magnitude 1.24 quarry blast at 11km E of Quarry near Portola Valley, CA\n",
      "There was also a magnitude 1.48 quarry blast at 0km SE of Quarry near Vallejo, CA\n",
      "There was also a magnitude 1.35 explosion at 28km SW of Morton, Washington\n",
      "There was also a magnitude 1.16 quarry blast at 6km SSW of Mojave, CA\n",
      "There was also a magnitude 1.09 explosion at 28km SW of Morton, Washington\n",
      "There was also a magnitude 2.08 quarry blast at 16km SW of Kemmerer, Wyoming\n",
      "There was also a magnitude 1.15 explosion at 25km SW of Morton, Washington\n",
      "There was also a magnitude 1.3 explosion at 25km SW of Morton, Washington\n",
      "There was also a magnitude 1.07 quarry blast at 13km WNW of Searles Valley, CA\n",
      "There was also a magnitude 1.33 quarry blast at 12km WNW of Whitehall, Montana\n",
      "There was also a magnitude 2.14 explosion at 5km S of Princeton, Canada\n",
      "There was also a magnitude 1.56 quarry blast at 1km NW of Quarry near Salinas, CA\n",
      "There was also a magnitude 1.29 quarry blast at 4km SSE of Home Gardens, CA\n",
      "There was also a magnitude 1.25 quarry blast at 5km ENE of Butte, Montana\n",
      "There was also a magnitude 1.12 quarry blast at 2km SW of Quarry near San Rafael, CA\n",
      "There was also a magnitude 1.35 explosion at 14km WSW of Cashmere, Washington\n",
      "There was also a magnitude 1.1 explosion at 4km N of Fern Prairie, Washington\n",
      "There was also a magnitude 1.57 quarry blast at 46km NE of Holtville, CA\n",
      "There was also a magnitude 1.44 quarry blast at 11km E of Quarry near Portola Valley, CA\n",
      "There was also a magnitude 1.33 quarry blast at 3km SSE of Quarry near Aromas, CA\n",
      "There was also a magnitude 1.35 quarry blast at 4km ENE of Rancho San Diego, CA\n",
      "There was also a magnitude 1.03 quarry blast at 10km ESE of Coto De Caza, CA\n",
      "There was also a magnitude 1.17 quarry blast at 6km SSW of Mojave, CA\n",
      "There was also a magnitude 1.36 quarry blast at 13km SE of Tehachapi, CA\n",
      "There was also a magnitude 1.05 explosion at 5km E of Yoncalla, Oregon\n",
      "There was also a magnitude 1.11 quarry blast at 5km NNW of Boron, CA\n",
      "There was also a magnitude 1.13 explosion at 10km NNW of Philomath, Oregon\n",
      "There was also a magnitude 2.18 quarry blast at 46km NE of Holtville, CA\n",
      "There was also a magnitude 2.38 explosion at 1km WNW of Princeton, Canada\n",
      "There was also a magnitude 1.65 quarry blast at 1km W of Tijuana, B.C., MX\n",
      "There was also a magnitude 1.26 explosion at 13km S of Morton, Washington\n",
      "There was also a magnitude 1.09 quarry blast at 5km S of Mojave, CA\n",
      "There was also a magnitude 1.75 quarry blast at 5km E of Butte, Montana\n",
      "There was also a magnitude 1.53 quarry blast at 9km NNW of Big Bear Lake, CA\n",
      "There was also a magnitude 2.02 explosion at 2km NNE of Princeton, Canada\n",
      "There was also a magnitude 1.48 quarry blast at 4km SE of Home Gardens, CA\n",
      "There was also a magnitude 2.01 explosion at 9km S of Princeton, Canada\n",
      "There was also a magnitude 1.19 quarry blast at 13km SE of Tehachapi, CA\n",
      "There was also a magnitude 1.41 quarry blast at 44km NNW of Los Algodones, B.C., MX\n",
      "There was also a magnitude 1.45 quarry blast at 11km E of Quarry near Portola Valley, CA\n",
      "There was also a magnitude 1.11 quarry blast at 13km W of Mojave, CA\n",
      "There was also a magnitude 1.9 explosion at 1km S of Princeton, Canada\n",
      "There was also a magnitude 1.42 quarry blast at 7km SSW of Mojave, CA\n",
      "There was also a magnitude 1.45 quarry blast at 1km SSE of Quarry near Aromas, CA\n",
      "There was also a magnitude 1.55 quarry blast at 28km SE of Virginia City, Montana\n",
      "There was also a magnitude 1.63 explosion at 23km NNW of Baker City, Oregon\n",
      "There was also a magnitude 1.72 quarry blast at 47km NE of Holtville, CA\n",
      "There was also a magnitude 1.93 explosion at 6km SSW of Princeton, Canada\n",
      "There was also a magnitude 1.3 quarry blast at 11km E of Quarry near Portola Valley, CA\n",
      "There was also a magnitude 1.0 explosion at 16km ESE of Enumclaw, Washington\n",
      "There was also a magnitude 1.57 explosion at 5km SW of Napavine, Washington\n",
      "There was also a magnitude 1.8 quarry blast at 7km SSE of Home Gardens, CA\n",
      "There was also a magnitude 1.55 quarry blast at 0km N of Quarry near Portola Valley, CA\n",
      "There was also a magnitude 1.28 explosion at 3km E of West Side Highway, Washington\n",
      "There was also a magnitude 2.1 explosion at 1km WSW of Princeton, Canada\n",
      "There was also a magnitude 1.95 explosion at 32km E of Shady Cove, Oregon\n",
      "There was also a magnitude 1.44 quarry blast at 0km E of Quarry near Atascadero, CA\n",
      "There was also a magnitude 1.6 quarry blast at 8km W of Townsend, Montana\n",
      "There was also a magnitude 1.63 quarry blast at 43km NNW of Los Algodones, B.C., MX\n",
      "There was also a magnitude 1.35 quarry blast at 5km NNW of Boron, CA\n",
      "There was also a magnitude 1.47 quarry blast at 11km E of Quarry near Portola Valley, CA\n",
      "There was also a magnitude 1.77 quarry blast at 4km E of Butte, Montana\n",
      "There was also a magnitude 1.1 quarry blast at 2km SW of Quarry near San Rafael, CA\n",
      "There was also a magnitude 1.09 quarry blast at 13km SE of Tehachapi, CA\n",
      "There was also a magnitude 2.0 explosion at 6km SSE of Princeton, Canada\n",
      "There was also a magnitude 1.93 explosion at 3km S of Princeton, Canada\n",
      "There was also a magnitude 1.09 explosion at 5km N of Fern Prairie, Washington\n",
      "There was also a magnitude 1.76 quarry blast at 46km NNW of Los Algodones, B.C., MX\n",
      "There was also a magnitude 1.82 explosion at 0km SW of Dundee, Oregon\n",
      "There was also a magnitude 1.52 quarry blast at 4km SE of Home Gardens, CA\n",
      "There was also a magnitude 1.38 quarry blast at 13km W of Mojave, CA\n",
      "There was also a magnitude 1.84 quarry blast at 5km ENE of Butte, Montana\n",
      "There was also a magnitude 1.24 quarry blast at 2km WSW of Quarry near Clayton, CA\n",
      "There was also a magnitude 1.53 explosion at 22km NNE of Pasco, Washington\n",
      "There was also a magnitude 1.07 quarry blast at 6km ENE of Tehachapi, CA\n",
      "There was also a magnitude 1.37 quarry blast at 11km E of Quarry near Portola Valley, CA\n",
      "There was also a magnitude 2.0 explosion at 25km SW of Cheney, Washington\n",
      "There was also a magnitude 2.08 explosion at 2km NE of Coos Bay, Oregon\n",
      "There was also a magnitude 1.02 quarry blast at 3km SSE of San Marcos, CA\n",
      "There was also a magnitude 1.05 quarry blast at 6km SSW of Mojave, CA\n",
      "There was also a magnitude 1.53 quarry blast at 20km S of Quarry near Atascadero, CA\n",
      "There was also a magnitude 1.33 quarry blast at 7km ESE of Butte, Montana\n",
      "There was also a magnitude 1.35 explosion at 5km E of Buckley, Washington\n",
      "There was also a magnitude 1.34 quarry blast at 12km SE of Tehachapi, CA\n",
      "There was also a magnitude 1.56 quarry blast at 5km NNW of Boron, CA\n",
      "There was also a magnitude 1.42 explosion at 14km S of Leavenworth, Washington\n",
      "There was also a magnitude 1.34 quarry blast at 3km SSE of Home Gardens, CA\n",
      "There was also a magnitude 1.81 explosion at 12km S of Princeton, Canada\n",
      "There was also a magnitude 1.01 quarry blast at 7km E of Lebec, CA\n",
      "There was also a magnitude 1.4 quarry blast at 7km SE of Bonita, CA\n",
      "There was also a magnitude 2.3 quarry blast at 17km N of Orofino, Idaho\n",
      "There was also a magnitude 1.26 quarry blast at 4km SE of Home Gardens, CA\n",
      "There was also a magnitude 1.35 quarry blast at 6km SSE of Valley Center, CA\n",
      "There was also a magnitude 1.21 explosion at 16km W of Winston, Oregon\n",
      "There was also a magnitude 1.18 explosion at 3km E of Kelso, Washington\n",
      "There was also a magnitude 1.56 quarry blast at 8km ESE of Bonita, CA\n",
      "There was also a magnitude 1.41 quarry blast at 45km NE of Holtville, CA\n",
      "There was also a magnitude 1.23 quarry blast at 12km E of Quarry near Portola Valley, CA\n",
      "There was also a magnitude 1.57 explosion at 2km SSW of Princeton, Canada\n",
      "There was also a magnitude 1.41 quarry blast at 4km N of Norco, CA\n",
      "There was also a magnitude 2.04 quarry blast at 28km N of Orofino, Idaho\n",
      "There was also a magnitude 1.2 quarry blast at 7km SSW of Mojave, CA\n",
      "There was also a magnitude 2.23 explosion at 10km S of Princeton, Canada\n",
      "There was also a magnitude 1.66 explosion at 2km S of Princeton, Canada\n",
      "There was also a magnitude 1.84 explosion at 7km NE of Abbotsford, Canada\n",
      "There was also a magnitude 1.55 explosion at 3km SW of Drain, Oregon\n",
      "There was also a magnitude 1.2 quarry blast at 0km S of Quarry near Vallejo, CA\n",
      "There was also a magnitude 1.79 explosion at 5km SSE of Princeton, Canada\n",
      "There was also a magnitude 1.37 quarry blast at 7km SSW of Mojave, CA\n",
      "There was also a magnitude 1.48 quarry blast at 6km ESE of Butte, Montana\n",
      "There was also a magnitude 1.31 quarry blast at 11km E of Quarry near Portola Valley, CA\n"
     ]
    }
   ],
   "source": [
    "# Just add in an 'if' statement - we COULD make another function to build that string... but I'm not doing it.\n",
    "\n",
    "earthquakes = earthquakes_df.to_dict('records')\n",
    "for earthquake in earthquakes:\n",
    "    if earthquake['type'] != 'earthquake':\n",
    "        print(\"There was also a magnitude\", earthquake['mag'], earthquake['type'], \"at\", earthquake['place'])\n",
    "    else:\n",
    "        # I'm going to comment out the earthquakes just so we can make sure quarry blasts etc show up\n",
    "        #print(eq_to_words(earthquake))\n",
    "        pass\n"
   ]
  }
 ],
 "metadata": {
  "kernelspec": {
   "display_name": "Python 3",
   "language": "python",
   "name": "python3"
  },
  "language_info": {
   "codemirror_mode": {
    "name": "ipython",
    "version": 3
   },
   "file_extension": ".py",
   "mimetype": "text/x-python",
   "name": "python",
   "nbconvert_exporter": "python",
   "pygments_lexer": "ipython3",
   "version": "3.4.2"
  }
 },
 "nbformat": 4,
 "nbformat_minor": 0
}
