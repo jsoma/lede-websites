{
 "cells": [
  {
   "cell_type": "code",
   "execution_count": 1,
   "metadata": {
    "collapsed": true
   },
   "outputs": [],
   "source": [
    "import pandas as pd"
   ]
  },
  {
   "cell_type": "code",
   "execution_count": 74,
   "metadata": {
    "collapsed": false
   },
   "outputs": [
    {
     "data": {
      "text/html": [
       "<div>\n",
       "<table border=\"1\" class=\"dataframe\">\n",
       "  <thead>\n",
       "    <tr style=\"text-align: right;\">\n",
       "      <th></th>\n",
       "      <th>DPT</th>\n",
       "      <th>NAME</th>\n",
       "      <th>ADDRESS</th>\n",
       "      <th>TTL</th>\n",
       "      <th>PC</th>\n",
       "      <th>SAL-RATE</th>\n",
       "    </tr>\n",
       "  </thead>\n",
       "  <tbody>\n",
       "    <tr>\n",
       "      <th>0</th>\n",
       "      <td>868</td>\n",
       "      <td>B J  SANDIFORD</td>\n",
       "      <td>DEPARTMENT OF CITYWIDE ADM</td>\n",
       "      <td>12702</td>\n",
       "      <td>X</td>\n",
       "      <td>$5.00</td>\n",
       "    </tr>\n",
       "    <tr>\n",
       "      <th>1</th>\n",
       "      <td>868</td>\n",
       "      <td>C A  WIGFALL</td>\n",
       "      <td>DEPARTMENT OF CITYWIDE ADM</td>\n",
       "      <td>12702</td>\n",
       "      <td>X</td>\n",
       "      <td>$5.00</td>\n",
       "    </tr>\n",
       "    <tr>\n",
       "      <th>2</th>\n",
       "      <td>69</td>\n",
       "      <td>A E A-AWOSOGBA</td>\n",
       "      <td>HRA/DEPARTMENT OF SOCIAL S</td>\n",
       "      <td>52311</td>\n",
       "      <td>A</td>\n",
       "      <td>$51955.00</td>\n",
       "    </tr>\n",
       "    <tr>\n",
       "      <th>3</th>\n",
       "      <td>868</td>\n",
       "      <td>K D AABY</td>\n",
       "      <td>DEPARTMENT OF CITYWIDE ADM</td>\n",
       "      <td>10209</td>\n",
       "      <td>X</td>\n",
       "      <td>$12.00</td>\n",
       "    </tr>\n",
       "    <tr>\n",
       "      <th>4</th>\n",
       "      <td>56</td>\n",
       "      <td>I D AADIL</td>\n",
       "      <td>POLICE DEPARTMENT</td>\n",
       "      <td>71012</td>\n",
       "      <td>A</td>\n",
       "      <td>$46953.00</td>\n",
       "    </tr>\n",
       "  </tbody>\n",
       "</table>\n",
       "</div>"
      ],
      "text/plain": [
       "   DPT            NAME                     ADDRESS    TTL PC   SAL-RATE\n",
       "0  868  B J  SANDIFORD  DEPARTMENT OF CITYWIDE ADM  12702  X      $5.00\n",
       "1  868    C A  WIGFALL  DEPARTMENT OF CITYWIDE ADM  12702  X      $5.00\n",
       "2   69  A E A-AWOSOGBA  HRA/DEPARTMENT OF SOCIAL S  52311  A  $51955.00\n",
       "3  868        K D AABY  DEPARTMENT OF CITYWIDE ADM  10209  X     $12.00\n",
       "4   56       I D AADIL           POLICE DEPARTMENT  71012  A  $46953.00"
      ]
     },
     "execution_count": 74,
     "metadata": {},
     "output_type": "execute_result"
    }
   ],
   "source": [
    "df = pd.read_csv(\"Civil_List_2014.csv\", \n",
    "                 names=[\"DPT\",\"NAME\",\"ADDRESS\",\"TTL\", \"PC\",\"SAL-RATE\"], \n",
    "                 skiprows=1,\n",
    "                 dtype=col_types)\n",
    "df.head(5)"
   ]
  },
  {
   "cell_type": "code",
   "execution_count": 61,
   "metadata": {
    "collapsed": false
   },
   "outputs": [
    {
     "data": {
      "text/html": [
       "<div>\n",
       "<table border=\"1\" class=\"dataframe\">\n",
       "  <thead>\n",
       "    <tr style=\"text-align: right;\">\n",
       "      <th></th>\n",
       "      <th>DPT</th>\n",
       "      <th>NAME</th>\n",
       "      <th>ADDRESS</th>\n",
       "      <th>TTL</th>\n",
       "      <th>PC</th>\n",
       "      <th>SAL-RATE</th>\n",
       "    </tr>\n",
       "  </thead>\n",
       "  <tbody>\n",
       "    <tr>\n",
       "      <th>0</th>\n",
       "      <td>DPT</td>\n",
       "      <td>NAME</td>\n",
       "      <td>ADDRESS</td>\n",
       "      <td>TTL #</td>\n",
       "      <td>PC</td>\n",
       "      <td>SAL-RATE</td>\n",
       "    </tr>\n",
       "    <tr>\n",
       "      <th>1</th>\n",
       "      <td>868</td>\n",
       "      <td>B J  SANDIFORD</td>\n",
       "      <td>DEPARTMENT OF CITYWIDE ADM</td>\n",
       "      <td>12702</td>\n",
       "      <td>X</td>\n",
       "      <td>$5.00</td>\n",
       "    </tr>\n",
       "    <tr>\n",
       "      <th>2</th>\n",
       "      <td>868</td>\n",
       "      <td>C A  WIGFALL</td>\n",
       "      <td>DEPARTMENT OF CITYWIDE ADM</td>\n",
       "      <td>12702</td>\n",
       "      <td>X</td>\n",
       "      <td>$5.00</td>\n",
       "    </tr>\n",
       "    <tr>\n",
       "      <th>3</th>\n",
       "      <td>69</td>\n",
       "      <td>A E A-AWOSOGBA</td>\n",
       "      <td>HRA/DEPARTMENT OF SOCIAL S</td>\n",
       "      <td>52311</td>\n",
       "      <td>A</td>\n",
       "      <td>$51955.00</td>\n",
       "    </tr>\n",
       "    <tr>\n",
       "      <th>4</th>\n",
       "      <td>868</td>\n",
       "      <td>K D AABY</td>\n",
       "      <td>DEPARTMENT OF CITYWIDE ADM</td>\n",
       "      <td>10209</td>\n",
       "      <td>X</td>\n",
       "      <td>$12.00</td>\n",
       "    </tr>\n",
       "    <tr>\n",
       "      <th>5</th>\n",
       "      <td>56</td>\n",
       "      <td>I D AADIL</td>\n",
       "      <td>POLICE DEPARTMENT</td>\n",
       "      <td>71012</td>\n",
       "      <td>A</td>\n",
       "      <td>$46953.00</td>\n",
       "    </tr>\n",
       "    <tr>\n",
       "      <th>6</th>\n",
       "      <td>69</td>\n",
       "      <td>M   AAKIRI</td>\n",
       "      <td>HRA/DEPARTMENT OF SOCIAL S</td>\n",
       "      <td>56056</td>\n",
       "      <td>A</td>\n",
       "      <td>$33000.00</td>\n",
       "    </tr>\n",
       "    <tr>\n",
       "      <th>7</th>\n",
       "      <td>464</td>\n",
       "      <td>A   AALAI</td>\n",
       "      <td>CUNY QUEENSBOROUGH COMMUNI</td>\n",
       "      <td>4607</td>\n",
       "      <td>N</td>\n",
       "      <td>$73.53</td>\n",
       "    </tr>\n",
       "    <tr>\n",
       "      <th>8</th>\n",
       "      <td>998</td>\n",
       "      <td>A V AALEVIK</td>\n",
       "      <td>N.Y.C. TRANSIT AUTHORITY</td>\n",
       "      <td>402</td>\n",
       "      <td>2</td>\n",
       "      <td>$33280.00</td>\n",
       "    </tr>\n",
       "    <tr>\n",
       "      <th>9</th>\n",
       "      <td>998</td>\n",
       "      <td>M   AAMIR</td>\n",
       "      <td>N.Y.C. TRANSIT AUTHORITY</td>\n",
       "      <td>00T07</td>\n",
       "      <td>4</td>\n",
       "      <td>$60878.00</td>\n",
       "    </tr>\n",
       "  </tbody>\n",
       "</table>\n",
       "</div>"
      ],
      "text/plain": [
       "        DPT            NAME                     ADDRESS       TTL        PC  \\\n",
       "0  DPT             NAME                        ADDRESS   TTL #     PC         \n",
       "1       868  B J  SANDIFORD  DEPARTMENT OF CITYWIDE ADM     12702         X   \n",
       "2       868    C A  WIGFALL  DEPARTMENT OF CITYWIDE ADM     12702         X   \n",
       "3        69  A E A-AWOSOGBA  HRA/DEPARTMENT OF SOCIAL S     52311         A   \n",
       "4       868        K D AABY  DEPARTMENT OF CITYWIDE ADM     10209         X   \n",
       "5        56       I D AADIL           POLICE DEPARTMENT     71012         A   \n",
       "6        69      M   AAKIRI  HRA/DEPARTMENT OF SOCIAL S     56056         A   \n",
       "7       464       A   AALAI  CUNY QUEENSBOROUGH COMMUNI      4607         N   \n",
       "8       998     A V AALEVIK    N.Y.C. TRANSIT AUTHORITY       402         2   \n",
       "9       998       M   AAMIR    N.Y.C. TRANSIT AUTHORITY     00T07         4   \n",
       "\n",
       "    SAL-RATE  \n",
       "0   SAL-RATE  \n",
       "1      $5.00  \n",
       "2      $5.00  \n",
       "3  $51955.00  \n",
       "4     $12.00  \n",
       "5  $46953.00  \n",
       "6  $33000.00  \n",
       "7     $73.53  \n",
       "8  $33280.00  \n",
       "9  $60878.00  "
      ]
     },
     "execution_count": 61,
     "metadata": {},
     "output_type": "execute_result"
    }
   ],
   "source": [
    "df.head(10)"
   ]
  },
  {
   "cell_type": "code",
   "execution_count": 5,
   "metadata": {
    "collapsed": false
   },
   "outputs": [
    {
     "data": {
      "text/plain": [
       "count        269838\n",
       "unique        27533\n",
       "top       $76488.00\n",
       "freq          26024\n",
       "Name: SAL-RATE, dtype: object"
      ]
     },
     "execution_count": 5,
     "metadata": {},
     "output_type": "execute_result"
    }
   ],
   "source": [
    "df['SAL-RATE'].describe()"
   ]
  },
  {
   "cell_type": "code",
   "execution_count": 6,
   "metadata": {
    "collapsed": false,
    "scrolled": true
   },
   "outputs": [
    {
     "ename": "KeyError",
     "evalue": "'PC'",
     "output_type": "error",
     "traceback": [
      "\u001b[0;31m---------------------------------------------------------------------------\u001b[0m",
      "\u001b[0;31mKeyError\u001b[0m                                  Traceback (most recent call last)",
      "\u001b[0;32m/Library/Frameworks/Python.framework/Versions/3.4/lib/python3.4/site-packages/pandas/indexes/base.py\u001b[0m in \u001b[0;36mget_loc\u001b[0;34m(self, key, method, tolerance)\u001b[0m\n\u001b[1;32m   1944\u001b[0m             \u001b[0;32mtry\u001b[0m\u001b[0;34m:\u001b[0m\u001b[0;34m\u001b[0m\u001b[0m\n\u001b[0;32m-> 1945\u001b[0;31m                 \u001b[0;32mreturn\u001b[0m \u001b[0mself\u001b[0m\u001b[0;34m.\u001b[0m\u001b[0m_engine\u001b[0m\u001b[0;34m.\u001b[0m\u001b[0mget_loc\u001b[0m\u001b[0;34m(\u001b[0m\u001b[0mkey\u001b[0m\u001b[0;34m)\u001b[0m\u001b[0;34m\u001b[0m\u001b[0m\n\u001b[0m\u001b[1;32m   1946\u001b[0m             \u001b[0;32mexcept\u001b[0m \u001b[0mKeyError\u001b[0m\u001b[0;34m:\u001b[0m\u001b[0;34m\u001b[0m\u001b[0m\n",
      "\u001b[0;32mpandas/index.pyx\u001b[0m in \u001b[0;36mpandas.index.IndexEngine.get_loc (pandas/index.c:4154)\u001b[0;34m()\u001b[0m\n",
      "\u001b[0;32mpandas/index.pyx\u001b[0m in \u001b[0;36mpandas.index.IndexEngine.get_loc (pandas/index.c:4018)\u001b[0;34m()\u001b[0m\n",
      "\u001b[0;32mpandas/hashtable.pyx\u001b[0m in \u001b[0;36mpandas.hashtable.PyObjectHashTable.get_item (pandas/hashtable.c:12368)\u001b[0;34m()\u001b[0m\n",
      "\u001b[0;32mpandas/hashtable.pyx\u001b[0m in \u001b[0;36mpandas.hashtable.PyObjectHashTable.get_item (pandas/hashtable.c:12322)\u001b[0;34m()\u001b[0m\n",
      "\u001b[0;31mKeyError\u001b[0m: 'PC'",
      "\nDuring handling of the above exception, another exception occurred:\n",
      "\u001b[0;31mKeyError\u001b[0m                                  Traceback (most recent call last)",
      "\u001b[0;32m<ipython-input-6-b75b76613fc7>\u001b[0m in \u001b[0;36m<module>\u001b[0;34m()\u001b[0m\n\u001b[0;32m----> 1\u001b[0;31m \u001b[0mdf\u001b[0m\u001b[0;34m[\u001b[0m\u001b[0;34m'PC'\u001b[0m\u001b[0;34m]\u001b[0m\u001b[0;34m.\u001b[0m\u001b[0mvalue_counts\u001b[0m\u001b[0;34m(\u001b[0m\u001b[0;34m)\u001b[0m\u001b[0;34m\u001b[0m\u001b[0m\n\u001b[0m",
      "\u001b[0;32m/Library/Frameworks/Python.framework/Versions/3.4/lib/python3.4/site-packages/pandas/core/frame.py\u001b[0m in \u001b[0;36m__getitem__\u001b[0;34m(self, key)\u001b[0m\n\u001b[1;32m   1995\u001b[0m             \u001b[0;32mreturn\u001b[0m \u001b[0mself\u001b[0m\u001b[0;34m.\u001b[0m\u001b[0m_getitem_multilevel\u001b[0m\u001b[0;34m(\u001b[0m\u001b[0mkey\u001b[0m\u001b[0;34m)\u001b[0m\u001b[0;34m\u001b[0m\u001b[0m\n\u001b[1;32m   1996\u001b[0m         \u001b[0;32melse\u001b[0m\u001b[0;34m:\u001b[0m\u001b[0;34m\u001b[0m\u001b[0m\n\u001b[0;32m-> 1997\u001b[0;31m             \u001b[0;32mreturn\u001b[0m \u001b[0mself\u001b[0m\u001b[0;34m.\u001b[0m\u001b[0m_getitem_column\u001b[0m\u001b[0;34m(\u001b[0m\u001b[0mkey\u001b[0m\u001b[0;34m)\u001b[0m\u001b[0;34m\u001b[0m\u001b[0m\n\u001b[0m\u001b[1;32m   1998\u001b[0m \u001b[0;34m\u001b[0m\u001b[0m\n\u001b[1;32m   1999\u001b[0m     \u001b[0;32mdef\u001b[0m \u001b[0m_getitem_column\u001b[0m\u001b[0;34m(\u001b[0m\u001b[0mself\u001b[0m\u001b[0;34m,\u001b[0m \u001b[0mkey\u001b[0m\u001b[0;34m)\u001b[0m\u001b[0;34m:\u001b[0m\u001b[0;34m\u001b[0m\u001b[0m\n",
      "\u001b[0;32m/Library/Frameworks/Python.framework/Versions/3.4/lib/python3.4/site-packages/pandas/core/frame.py\u001b[0m in \u001b[0;36m_getitem_column\u001b[0;34m(self, key)\u001b[0m\n\u001b[1;32m   2002\u001b[0m         \u001b[0;31m# get column\u001b[0m\u001b[0;34m\u001b[0m\u001b[0;34m\u001b[0m\u001b[0m\n\u001b[1;32m   2003\u001b[0m         \u001b[0;32mif\u001b[0m \u001b[0mself\u001b[0m\u001b[0;34m.\u001b[0m\u001b[0mcolumns\u001b[0m\u001b[0;34m.\u001b[0m\u001b[0mis_unique\u001b[0m\u001b[0;34m:\u001b[0m\u001b[0;34m\u001b[0m\u001b[0m\n\u001b[0;32m-> 2004\u001b[0;31m             \u001b[0;32mreturn\u001b[0m \u001b[0mself\u001b[0m\u001b[0;34m.\u001b[0m\u001b[0m_get_item_cache\u001b[0m\u001b[0;34m(\u001b[0m\u001b[0mkey\u001b[0m\u001b[0;34m)\u001b[0m\u001b[0;34m\u001b[0m\u001b[0m\n\u001b[0m\u001b[1;32m   2005\u001b[0m \u001b[0;34m\u001b[0m\u001b[0m\n\u001b[1;32m   2006\u001b[0m         \u001b[0;31m# duplicate columns & possible reduce dimensionality\u001b[0m\u001b[0;34m\u001b[0m\u001b[0;34m\u001b[0m\u001b[0m\n",
      "\u001b[0;32m/Library/Frameworks/Python.framework/Versions/3.4/lib/python3.4/site-packages/pandas/core/generic.py\u001b[0m in \u001b[0;36m_get_item_cache\u001b[0;34m(self, item)\u001b[0m\n\u001b[1;32m   1348\u001b[0m         \u001b[0mres\u001b[0m \u001b[0;34m=\u001b[0m \u001b[0mcache\u001b[0m\u001b[0;34m.\u001b[0m\u001b[0mget\u001b[0m\u001b[0;34m(\u001b[0m\u001b[0mitem\u001b[0m\u001b[0;34m)\u001b[0m\u001b[0;34m\u001b[0m\u001b[0m\n\u001b[1;32m   1349\u001b[0m         \u001b[0;32mif\u001b[0m \u001b[0mres\u001b[0m \u001b[0;32mis\u001b[0m \u001b[0;32mNone\u001b[0m\u001b[0;34m:\u001b[0m\u001b[0;34m\u001b[0m\u001b[0m\n\u001b[0;32m-> 1350\u001b[0;31m             \u001b[0mvalues\u001b[0m \u001b[0;34m=\u001b[0m \u001b[0mself\u001b[0m\u001b[0;34m.\u001b[0m\u001b[0m_data\u001b[0m\u001b[0;34m.\u001b[0m\u001b[0mget\u001b[0m\u001b[0;34m(\u001b[0m\u001b[0mitem\u001b[0m\u001b[0;34m)\u001b[0m\u001b[0;34m\u001b[0m\u001b[0m\n\u001b[0m\u001b[1;32m   1351\u001b[0m             \u001b[0mres\u001b[0m \u001b[0;34m=\u001b[0m \u001b[0mself\u001b[0m\u001b[0;34m.\u001b[0m\u001b[0m_box_item_values\u001b[0m\u001b[0;34m(\u001b[0m\u001b[0mitem\u001b[0m\u001b[0;34m,\u001b[0m \u001b[0mvalues\u001b[0m\u001b[0;34m)\u001b[0m\u001b[0;34m\u001b[0m\u001b[0m\n\u001b[1;32m   1352\u001b[0m             \u001b[0mcache\u001b[0m\u001b[0;34m[\u001b[0m\u001b[0mitem\u001b[0m\u001b[0;34m]\u001b[0m \u001b[0;34m=\u001b[0m \u001b[0mres\u001b[0m\u001b[0;34m\u001b[0m\u001b[0m\n",
      "\u001b[0;32m/Library/Frameworks/Python.framework/Versions/3.4/lib/python3.4/site-packages/pandas/core/internals.py\u001b[0m in \u001b[0;36mget\u001b[0;34m(self, item, fastpath)\u001b[0m\n\u001b[1;32m   3288\u001b[0m \u001b[0;34m\u001b[0m\u001b[0m\n\u001b[1;32m   3289\u001b[0m             \u001b[0;32mif\u001b[0m \u001b[0;32mnot\u001b[0m \u001b[0misnull\u001b[0m\u001b[0;34m(\u001b[0m\u001b[0mitem\u001b[0m\u001b[0;34m)\u001b[0m\u001b[0;34m:\u001b[0m\u001b[0;34m\u001b[0m\u001b[0m\n\u001b[0;32m-> 3290\u001b[0;31m                 \u001b[0mloc\u001b[0m \u001b[0;34m=\u001b[0m \u001b[0mself\u001b[0m\u001b[0;34m.\u001b[0m\u001b[0mitems\u001b[0m\u001b[0;34m.\u001b[0m\u001b[0mget_loc\u001b[0m\u001b[0;34m(\u001b[0m\u001b[0mitem\u001b[0m\u001b[0;34m)\u001b[0m\u001b[0;34m\u001b[0m\u001b[0m\n\u001b[0m\u001b[1;32m   3291\u001b[0m             \u001b[0;32melse\u001b[0m\u001b[0;34m:\u001b[0m\u001b[0;34m\u001b[0m\u001b[0m\n\u001b[1;32m   3292\u001b[0m                 \u001b[0mindexer\u001b[0m \u001b[0;34m=\u001b[0m \u001b[0mnp\u001b[0m\u001b[0;34m.\u001b[0m\u001b[0marange\u001b[0m\u001b[0;34m(\u001b[0m\u001b[0mlen\u001b[0m\u001b[0;34m(\u001b[0m\u001b[0mself\u001b[0m\u001b[0;34m.\u001b[0m\u001b[0mitems\u001b[0m\u001b[0;34m)\u001b[0m\u001b[0;34m)\u001b[0m\u001b[0;34m[\u001b[0m\u001b[0misnull\u001b[0m\u001b[0;34m(\u001b[0m\u001b[0mself\u001b[0m\u001b[0;34m.\u001b[0m\u001b[0mitems\u001b[0m\u001b[0;34m)\u001b[0m\u001b[0;34m]\u001b[0m\u001b[0;34m\u001b[0m\u001b[0m\n",
      "\u001b[0;32m/Library/Frameworks/Python.framework/Versions/3.4/lib/python3.4/site-packages/pandas/indexes/base.py\u001b[0m in \u001b[0;36mget_loc\u001b[0;34m(self, key, method, tolerance)\u001b[0m\n\u001b[1;32m   1945\u001b[0m                 \u001b[0;32mreturn\u001b[0m \u001b[0mself\u001b[0m\u001b[0;34m.\u001b[0m\u001b[0m_engine\u001b[0m\u001b[0;34m.\u001b[0m\u001b[0mget_loc\u001b[0m\u001b[0;34m(\u001b[0m\u001b[0mkey\u001b[0m\u001b[0;34m)\u001b[0m\u001b[0;34m\u001b[0m\u001b[0m\n\u001b[1;32m   1946\u001b[0m             \u001b[0;32mexcept\u001b[0m \u001b[0mKeyError\u001b[0m\u001b[0;34m:\u001b[0m\u001b[0;34m\u001b[0m\u001b[0m\n\u001b[0;32m-> 1947\u001b[0;31m                 \u001b[0;32mreturn\u001b[0m \u001b[0mself\u001b[0m\u001b[0;34m.\u001b[0m\u001b[0m_engine\u001b[0m\u001b[0;34m.\u001b[0m\u001b[0mget_loc\u001b[0m\u001b[0;34m(\u001b[0m\u001b[0mself\u001b[0m\u001b[0;34m.\u001b[0m\u001b[0m_maybe_cast_indexer\u001b[0m\u001b[0;34m(\u001b[0m\u001b[0mkey\u001b[0m\u001b[0;34m)\u001b[0m\u001b[0;34m)\u001b[0m\u001b[0;34m\u001b[0m\u001b[0m\n\u001b[0m\u001b[1;32m   1948\u001b[0m \u001b[0;34m\u001b[0m\u001b[0m\n\u001b[1;32m   1949\u001b[0m         \u001b[0mindexer\u001b[0m \u001b[0;34m=\u001b[0m \u001b[0mself\u001b[0m\u001b[0;34m.\u001b[0m\u001b[0mget_indexer\u001b[0m\u001b[0;34m(\u001b[0m\u001b[0;34m[\u001b[0m\u001b[0mkey\u001b[0m\u001b[0;34m]\u001b[0m\u001b[0;34m,\u001b[0m \u001b[0mmethod\u001b[0m\u001b[0;34m=\u001b[0m\u001b[0mmethod\u001b[0m\u001b[0;34m,\u001b[0m \u001b[0mtolerance\u001b[0m\u001b[0;34m=\u001b[0m\u001b[0mtolerance\u001b[0m\u001b[0;34m)\u001b[0m\u001b[0;34m\u001b[0m\u001b[0m\n",
      "\u001b[0;32mpandas/index.pyx\u001b[0m in \u001b[0;36mpandas.index.IndexEngine.get_loc (pandas/index.c:4154)\u001b[0;34m()\u001b[0m\n",
      "\u001b[0;32mpandas/index.pyx\u001b[0m in \u001b[0;36mpandas.index.IndexEngine.get_loc (pandas/index.c:4018)\u001b[0;34m()\u001b[0m\n",
      "\u001b[0;32mpandas/hashtable.pyx\u001b[0m in \u001b[0;36mpandas.hashtable.PyObjectHashTable.get_item (pandas/hashtable.c:12368)\u001b[0;34m()\u001b[0m\n",
      "\u001b[0;32mpandas/hashtable.pyx\u001b[0m in \u001b[0;36mpandas.hashtable.PyObjectHashTable.get_item (pandas/hashtable.c:12322)\u001b[0;34m()\u001b[0m\n",
      "\u001b[0;31mKeyError\u001b[0m: 'PC'"
     ]
    }
   ],
   "source": [
    "df['PC'].value_counts()"
   ]
  },
  {
   "cell_type": "code",
   "execution_count": 7,
   "metadata": {
    "collapsed": false
   },
   "outputs": [
    {
     "data": {
      "text/plain": [
       "Index(['DPT     ', 'NAME    ', 'ADDRESS ', 'TTL #   ', 'PC      ', 'SAL-RATE'], dtype='object')"
      ]
     },
     "execution_count": 7,
     "metadata": {},
     "output_type": "execute_result"
    }
   ],
   "source": [
    "df.columns"
   ]
  },
  {
   "cell_type": "code",
   "execution_count": 9,
   "metadata": {
    "collapsed": false
   },
   "outputs": [
    {
     "data": {
      "text/plain": [
       "'DPT'"
      ]
     },
     "execution_count": 9,
     "metadata": {},
     "output_type": "execute_result"
    }
   ],
   "source": [
    "\"DPT     \".strip()"
   ]
  },
  {
   "cell_type": "code",
   "execution_count": 10,
   "metadata": {
    "collapsed": false
   },
   "outputs": [
    {
     "name": "stdout",
     "output_type": "stream",
     "text": [
      "DPT\n",
      "NAME\n",
      "ADDRESS\n",
      "TTL #\n",
      "PC\n",
      "SAL-RATE\n"
     ]
    }
   ],
   "source": [
    "for col in df.columns:\n",
    "    print(col.strip())"
   ]
  },
  {
   "cell_type": "code",
   "execution_count": 12,
   "metadata": {
    "collapsed": false
   },
   "outputs": [
    {
     "data": {
      "text/plain": [
       "['DPT', 'NAME', 'ADDRESS', 'TTL #', 'PC', 'SAL-RATE']"
      ]
     },
     "execution_count": 12,
     "metadata": {},
     "output_type": "execute_result"
    }
   ],
   "source": [
    "# it's a list, so - []\n",
    "# it's a loop, so - [for col in df.columns]\n",
    "# col.strip(), so - [col.strip() for col in columns]\n",
    "\n",
    "[col.strip() for col in df.columns]"
   ]
  },
  {
   "cell_type": "code",
   "execution_count": 13,
   "metadata": {
    "collapsed": true
   },
   "outputs": [],
   "source": [
    "df.columns = [col.strip() for col in df.columns]"
   ]
  },
  {
   "cell_type": "code",
   "execution_count": 14,
   "metadata": {
    "collapsed": false
   },
   "outputs": [
    {
     "data": {
      "text/plain": [
       "Index(['DPT', 'NAME', 'ADDRESS', 'TTL #', 'PC', 'SAL-RATE'], dtype='object')"
      ]
     },
     "execution_count": 14,
     "metadata": {},
     "output_type": "execute_result"
    }
   ],
   "source": [
    "df.columns"
   ]
  },
  {
   "cell_type": "code",
   "execution_count": 15,
   "metadata": {
    "collapsed": false
   },
   "outputs": [
    {
     "data": {
      "text/plain": [
       "A     100521\n",
       "D      54881\n",
       "X      24403\n",
       "4      23259\n",
       "3      19866\n",
       "1      13083\n",
       "K       7635\n",
       "F       6361\n",
       "N       4671\n",
       "U       3409\n",
       "B       2817\n",
       "BW      1766\n",
       "E       1300\n",
       "W       1257\n",
       "G       1085\n",
       "I        730\n",
       "2        721\n",
       "M        708\n",
       "O        536\n",
       "WK       488\n",
       "P        307\n",
       "L         25\n",
       "S          4\n",
       "0          3\n",
       "V          2\n",
       "Name: PC, dtype: int64"
      ]
     },
     "execution_count": 15,
     "metadata": {},
     "output_type": "execute_result"
    }
   ],
   "source": [
    "df['PC'].value_counts()"
   ]
  },
  {
   "cell_type": "code",
   "execution_count": 16,
   "metadata": {
    "collapsed": false
   },
   "outputs": [
    {
     "data": {
      "text/plain": [
       "count        269838\n",
       "unique        27533\n",
       "top       $76488.00\n",
       "freq          26024\n",
       "Name: SAL-RATE, dtype: object"
      ]
     },
     "execution_count": 16,
     "metadata": {},
     "output_type": "execute_result"
    }
   ],
   "source": [
    "df['SAL-RATE'].describe()"
   ]
  },
  {
   "cell_type": "code",
   "execution_count": 29,
   "metadata": {
    "collapsed": false
   },
   "outputs": [
    {
     "name": "stdout",
     "output_type": "stream",
     "text": [
      "76488.0\n",
      "5.0\n",
      "1500.0\n"
     ]
    }
   ],
   "source": [
    "def money_to_float(money_str):\n",
    "    return float(money_str.replace(\"$\",\"\").replace(\",\",\"\"))\n",
    "\n",
    "print(money_to_int(\"$76488.00\"))\n",
    "print(money_to_int(\"$5.00\"))\n",
    "print(money_to_int(\"$1,500.00\"))"
   ]
  },
  {
   "cell_type": "code",
   "execution_count": 31,
   "metadata": {
    "collapsed": false
   },
   "outputs": [
    {
     "data": {
      "text/plain": [
       "0              5.00\n",
       "1              5.00\n",
       "2          51955.00\n",
       "3             12.00\n",
       "4          46953.00\n",
       "5          33000.00\n",
       "6             73.53\n",
       "7          33280.00\n",
       "8          60878.00\n",
       "9          69272.00\n",
       "10         89960.00\n",
       "11         38324.00\n",
       "12         39019.00\n",
       "13           369.92\n",
       "14         66127.00\n",
       "15         64250.00\n",
       "16         32510.00\n",
       "17             2.65\n",
       "18        109087.00\n",
       "19        111606.00\n",
       "20             5.00\n",
       "21         56555.00\n",
       "22         51643.00\n",
       "23         77015.00\n",
       "24         76488.00\n",
       "25         67627.00\n",
       "26         68095.00\n",
       "27         66127.00\n",
       "28         76689.00\n",
       "29         48153.00\n",
       "            ...    \n",
       "269808     85287.00\n",
       "269809     65564.00\n",
       "269810     56937.00\n",
       "269811     81439.00\n",
       "269812    118506.00\n",
       "269813     42064.00\n",
       "269814        33.18\n",
       "269815    116364.00\n",
       "269816     98072.00\n",
       "269817    107563.00\n",
       "269818     37150.00\n",
       "269819     74646.00\n",
       "269820     64040.00\n",
       "269821     76488.00\n",
       "269822     83802.00\n",
       "269823        17.16\n",
       "269824     85667.00\n",
       "269825        46.89\n",
       "269826        67.42\n",
       "269827     51916.00\n",
       "269828     57514.00\n",
       "269829     74605.00\n",
       "269830     74605.00\n",
       "269831     64403.00\n",
       "269832     51936.00\n",
       "269833        47.58\n",
       "269834     87738.00\n",
       "269835     78683.00\n",
       "269836     76488.00\n",
       "269837         5.00\n",
       "Name: SAL-RATE, dtype: float64"
      ]
     },
     "execution_count": 31,
     "metadata": {},
     "output_type": "execute_result"
    }
   ],
   "source": [
    "#money_to_float(df['SAL-RATE'])\n",
    "df['SAL-RATE'].apply(money_to_float)"
   ]
  },
  {
   "cell_type": "code",
   "execution_count": 35,
   "metadata": {
    "collapsed": false
   },
   "outputs": [],
   "source": [
    "df['salary'] = df['SAL-RATE'].apply(money_to_float)"
   ]
  },
  {
   "cell_type": "code",
   "execution_count": 36,
   "metadata": {
    "collapsed": false
   },
   "outputs": [
    {
     "data": {
      "text/html": [
       "<div>\n",
       "<table border=\"1\" class=\"dataframe\">\n",
       "  <thead>\n",
       "    <tr style=\"text-align: right;\">\n",
       "      <th></th>\n",
       "      <th>DPT</th>\n",
       "      <th>NAME</th>\n",
       "      <th>ADDRESS</th>\n",
       "      <th>TTL #</th>\n",
       "      <th>PC</th>\n",
       "      <th>SAL-RATE</th>\n",
       "      <th>salary</th>\n",
       "    </tr>\n",
       "  </thead>\n",
       "  <tbody>\n",
       "    <tr>\n",
       "      <th>0</th>\n",
       "      <td>868</td>\n",
       "      <td>B J  SANDIFORD</td>\n",
       "      <td>DEPARTMENT OF CITYWIDE ADM</td>\n",
       "      <td>12702</td>\n",
       "      <td>X</td>\n",
       "      <td>$5.00</td>\n",
       "      <td>5.0</td>\n",
       "    </tr>\n",
       "    <tr>\n",
       "      <th>1</th>\n",
       "      <td>868</td>\n",
       "      <td>C A  WIGFALL</td>\n",
       "      <td>DEPARTMENT OF CITYWIDE ADM</td>\n",
       "      <td>12702</td>\n",
       "      <td>X</td>\n",
       "      <td>$5.00</td>\n",
       "      <td>5.0</td>\n",
       "    </tr>\n",
       "    <tr>\n",
       "      <th>2</th>\n",
       "      <td>69</td>\n",
       "      <td>A E A-AWOSOGBA</td>\n",
       "      <td>HRA/DEPARTMENT OF SOCIAL S</td>\n",
       "      <td>52311</td>\n",
       "      <td>A</td>\n",
       "      <td>$51955.00</td>\n",
       "      <td>51955.0</td>\n",
       "    </tr>\n",
       "    <tr>\n",
       "      <th>3</th>\n",
       "      <td>868</td>\n",
       "      <td>K D AABY</td>\n",
       "      <td>DEPARTMENT OF CITYWIDE ADM</td>\n",
       "      <td>10209</td>\n",
       "      <td>X</td>\n",
       "      <td>$12.00</td>\n",
       "      <td>12.0</td>\n",
       "    </tr>\n",
       "    <tr>\n",
       "      <th>4</th>\n",
       "      <td>56</td>\n",
       "      <td>I D AADIL</td>\n",
       "      <td>POLICE DEPARTMENT</td>\n",
       "      <td>71012</td>\n",
       "      <td>A</td>\n",
       "      <td>$46953.00</td>\n",
       "      <td>46953.0</td>\n",
       "    </tr>\n",
       "  </tbody>\n",
       "</table>\n",
       "</div>"
      ],
      "text/plain": [
       "   DPT            NAME                     ADDRESS  TTL # PC   SAL-RATE  \\\n",
       "0  868  B J  SANDIFORD  DEPARTMENT OF CITYWIDE ADM  12702  X      $5.00   \n",
       "1  868    C A  WIGFALL  DEPARTMENT OF CITYWIDE ADM  12702  X      $5.00   \n",
       "2   69  A E A-AWOSOGBA  HRA/DEPARTMENT OF SOCIAL S  52311  A  $51955.00   \n",
       "3  868        K D AABY  DEPARTMENT OF CITYWIDE ADM  10209  X     $12.00   \n",
       "4   56       I D AADIL           POLICE DEPARTMENT  71012  A  $46953.00   \n",
       "\n",
       "    salary  \n",
       "0      5.0  \n",
       "1      5.0  \n",
       "2  51955.0  \n",
       "3     12.0  \n",
       "4  46953.0  "
      ]
     },
     "execution_count": 36,
     "metadata": {},
     "output_type": "execute_result"
    }
   ],
   "source": [
    "df.head()"
   ]
  },
  {
   "cell_type": "code",
   "execution_count": 37,
   "metadata": {
    "collapsed": false
   },
   "outputs": [
    {
     "data": {
      "text/plain": [
       "count    269838.000000\n",
       "mean      54143.707486\n",
       "std       32345.656289\n",
       "min           0.500000\n",
       "25%       36899.000000\n",
       "50%       57855.000000\n",
       "75%       76488.000000\n",
       "max      300000.000000\n",
       "Name: salary, dtype: float64"
      ]
     },
     "execution_count": 37,
     "metadata": {},
     "output_type": "execute_result"
    }
   ],
   "source": [
    "df['salary'].describe()"
   ]
  },
  {
   "cell_type": "code",
   "execution_count": 38,
   "metadata": {
    "collapsed": true
   },
   "outputs": [],
   "source": [
    "%matplotlib inline"
   ]
  },
  {
   "cell_type": "code",
   "execution_count": 46,
   "metadata": {
    "collapsed": false
   },
   "outputs": [
    {
     "data": {
      "text/plain": [
       "<matplotlib.axes._subplots.AxesSubplot at 0x10c3177b8>"
      ]
     },
     "execution_count": 46,
     "metadata": {},
     "output_type": "execute_result"
    },
    {
     "data": {
      "image/png": "[encoded data removed]",
      "text/plain": [
       "<matplotlib.figure.Figure at 0x10c3ac358>"
      ]
     },
     "metadata": {},
     "output_type": "display_data"
    }
   ],
   "source": [
    "df['salary'].hist(bins=50)"
   ]
  },
  {
   "cell_type": "code",
   "execution_count": 47,
   "metadata": {
    "collapsed": false
   },
   "outputs": [
    {
     "data": {
      "text/plain": [
       "N.Y.C. TRANSIT AUTHORITY      56932\n",
       "POLICE DEPARTMENT             51453\n",
       "FIRE DEPARTMENT               15848\n",
       "DEPARTMENT OF CITYWIDE ADM    15739\n",
       "HRA/DEPARTMENT OF SOCIAL S    13676\n",
       "DEPARTMENT OF EDUCATION       11689\n",
       "N.Y.C. HOUSING AUTHORITY      11501\n",
       "DEPARTMENT OF CORRECTION      10188\n",
       "DEPARTMENT OF SANITATION       9666\n",
       "DEPARTMENT OF PARKS & RECR     7261\n",
       "ADMINISTRATION FOR CHILDRE     6033\n",
       "DEPARTMENT OF ENVIRONMENTA     5717\n",
       "DEPARTMENT OF HEALTH AND M     5676\n",
       "DEPARTMENT OF TRANSPORTATI     4589\n",
       "CUNY LAGUARDIA COMMUNITY C     3379\n",
       "CUNY KINGSBOROUGH COMMMUNI     3260\n",
       "CUNY MANHATTAN COMMUNITY C     2974\n",
       "TRIBOROUGH BRIDGE AND TUNN     2254\n",
       "HOUSING PRESERVATION & DEV     2078\n",
       "CUNY QUEENSBOROUGH COMMUNI     2030\n",
       "DEPARTMENT OF HOMELESS SER     1966\n",
       "DEPARTMENT OF FINANCE          1953\n",
       "CUNY BRONX COMMUNITY COLLE     1923\n",
       "LAW DEPARTMENT                 1514\n",
       "DISTRICT ATTORNEY-NEW YORK     1384\n",
       "CUNY HOSTOS COMMUNITY COLL     1295\n",
       "DEPARTMENT OF DESIGN AND C     1193\n",
       "DEPARTMENT OF INFORMATION      1162\n",
       "DEPARTMENT OF BUILDINGS        1111\n",
       "DISTRICT ATTORNEY-KINGS CO     1062\n",
       "                              ...  \n",
       "COMMUNITY BOARD NO.12-BROO        3\n",
       "COMMUNITY BOARD NO.4-QUEEN        3\n",
       "COMMUNITY BOARD NO.1-BROOK        3\n",
       "COMMUNITY BOARD NO.13-QUEE        3\n",
       "COMMUNITY BOARD NO.12-BRON        3\n",
       "COMMUNITY BOARD NO.11-QUEE        3\n",
       "COMMUNITY BOARD NO.2-BROOK        3\n",
       "COMMUNITY BOARD NO.14-QUEE        3\n",
       "COMMUNITY BOARD NO.7-MANHA        3\n",
       "COMMUNITY BOARD N0.9-MANHA        3\n",
       "COMMUNITY BOARD NO.6-BROOK        3\n",
       "COMMUNITY BOARD NO.3-BROOK        3\n",
       "COMMUNITY BOARD NO.8-BRONX        3\n",
       "COMMUNITY BOARD NO.11-BROO        3\n",
       "COMMUNITY BOARD NO.4-MANHA        3\n",
       "COMMUNITY BOARD NO.8-BROOK        3\n",
       "COMMUNITY BOARD NO.12-QUEE        3\n",
       "COMMUNITY BOARD NO.10-BROO        3\n",
       "COMMUNITY BOARD NO.1-RICHM        3\n",
       "COMMUNITY BOARD NO.14-BROO        3\n",
       "COMMUNITY BOARD NO.6-BRONX        2\n",
       "COMMUNITY BOARD NO.9-QUEEN        2\n",
       "COMMUNITY BOARD NO.15-BROO        2\n",
       "COMMUNITY BOARD NO.1 BRONX        2\n",
       "CUNY MEDGAR EVERS COLLEGE         2\n",
       "COMMUNITY BOARD NO.9-BROOK        2\n",
       "COMMUNITY BOARD NO.3-BRONX        2\n",
       "COMMUNITY BOARD NO.6-MANHA        2\n",
       "COMMUNITY BOARD NO.16-BROO        2\n",
       "COMMUNITY BOARD NO.5-BRONX        2\n",
       "Name: ADDRESS, dtype: int64"
      ]
     },
     "execution_count": 47,
     "metadata": {},
     "output_type": "execute_result"
    }
   ],
   "source": [
    "df['ADDRESS'].value_counts()"
   ]
  },
  {
   "cell_type": "code",
   "execution_count": 48,
   "metadata": {
    "collapsed": false
   },
   "outputs": [
    {
     "data": {
      "text/html": [
       "<div>\n",
       "<table border=\"1\" class=\"dataframe\">\n",
       "  <thead>\n",
       "    <tr style=\"text-align: right;\">\n",
       "      <th></th>\n",
       "      <th>DPT</th>\n",
       "      <th>NAME</th>\n",
       "      <th>ADDRESS</th>\n",
       "      <th>TTL #</th>\n",
       "      <th>PC</th>\n",
       "      <th>SAL-RATE</th>\n",
       "      <th>salary</th>\n",
       "    </tr>\n",
       "  </thead>\n",
       "  <tbody>\n",
       "    <tr>\n",
       "      <th>0</th>\n",
       "      <td>868</td>\n",
       "      <td>B J  SANDIFORD</td>\n",
       "      <td>DEPARTMENT OF CITYWIDE ADM</td>\n",
       "      <td>12702</td>\n",
       "      <td>X</td>\n",
       "      <td>$5.00</td>\n",
       "      <td>5.0</td>\n",
       "    </tr>\n",
       "    <tr>\n",
       "      <th>1</th>\n",
       "      <td>868</td>\n",
       "      <td>C A  WIGFALL</td>\n",
       "      <td>DEPARTMENT OF CITYWIDE ADM</td>\n",
       "      <td>12702</td>\n",
       "      <td>X</td>\n",
       "      <td>$5.00</td>\n",
       "      <td>5.0</td>\n",
       "    </tr>\n",
       "    <tr>\n",
       "      <th>2</th>\n",
       "      <td>69</td>\n",
       "      <td>A E A-AWOSOGBA</td>\n",
       "      <td>HRA/DEPARTMENT OF SOCIAL S</td>\n",
       "      <td>52311</td>\n",
       "      <td>A</td>\n",
       "      <td>$51955.00</td>\n",
       "      <td>51955.0</td>\n",
       "    </tr>\n",
       "    <tr>\n",
       "      <th>3</th>\n",
       "      <td>868</td>\n",
       "      <td>K D AABY</td>\n",
       "      <td>DEPARTMENT OF CITYWIDE ADM</td>\n",
       "      <td>10209</td>\n",
       "      <td>X</td>\n",
       "      <td>$12.00</td>\n",
       "      <td>12.0</td>\n",
       "    </tr>\n",
       "    <tr>\n",
       "      <th>4</th>\n",
       "      <td>56</td>\n",
       "      <td>I D AADIL</td>\n",
       "      <td>POLICE DEPARTMENT</td>\n",
       "      <td>71012</td>\n",
       "      <td>A</td>\n",
       "      <td>$46953.00</td>\n",
       "      <td>46953.0</td>\n",
       "    </tr>\n",
       "  </tbody>\n",
       "</table>\n",
       "</div>"
      ],
      "text/plain": [
       "   DPT            NAME                     ADDRESS  TTL # PC   SAL-RATE  \\\n",
       "0  868  B J  SANDIFORD  DEPARTMENT OF CITYWIDE ADM  12702  X      $5.00   \n",
       "1  868    C A  WIGFALL  DEPARTMENT OF CITYWIDE ADM  12702  X      $5.00   \n",
       "2   69  A E A-AWOSOGBA  HRA/DEPARTMENT OF SOCIAL S  52311  A  $51955.00   \n",
       "3  868        K D AABY  DEPARTMENT OF CITYWIDE ADM  10209  X     $12.00   \n",
       "4   56       I D AADIL           POLICE DEPARTMENT  71012  A  $46953.00   \n",
       "\n",
       "    salary  \n",
       "0      5.0  \n",
       "1      5.0  \n",
       "2  51955.0  \n",
       "3     12.0  \n",
       "4  46953.0  "
      ]
     },
     "execution_count": 48,
     "metadata": {},
     "output_type": "execute_result"
    }
   ],
   "source": [
    "df.head()"
   ]
  },
  {
   "cell_type": "code",
   "execution_count": 50,
   "metadata": {
    "collapsed": false
   },
   "outputs": [
    {
     "data": {
      "text/html": [
       "<div>\n",
       "<table border=\"1\" class=\"dataframe\">\n",
       "  <thead>\n",
       "    <tr style=\"text-align: right;\">\n",
       "      <th></th>\n",
       "      <th>code</th>\n",
       "      <th>agency</th>\n",
       "      <th>is_mayoral</th>\n",
       "    </tr>\n",
       "  </thead>\n",
       "  <tbody>\n",
       "    <tr>\n",
       "      <th>0</th>\n",
       "      <td>002</td>\n",
       "      <td>OFFICE OF THE MAYOR</td>\n",
       "      <td>N</td>\n",
       "    </tr>\n",
       "    <tr>\n",
       "      <th>1</th>\n",
       "      <td>003</td>\n",
       "      <td>BOARD OF ELECTIONS</td>\n",
       "      <td>Y</td>\n",
       "    </tr>\n",
       "    <tr>\n",
       "      <th>2</th>\n",
       "      <td>004</td>\n",
       "      <td>CAMPAIGN FINANCE BOARD</td>\n",
       "      <td>Y</td>\n",
       "    </tr>\n",
       "    <tr>\n",
       "      <th>3</th>\n",
       "      <td>005</td>\n",
       "      <td>BOARD OF ESTIMATE-SECRETARY</td>\n",
       "      <td>Y</td>\n",
       "    </tr>\n",
       "    <tr>\n",
       "      <th>4</th>\n",
       "      <td>006</td>\n",
       "      <td>MAYOR'S OFFICE OF OPERATIONS</td>\n",
       "      <td>N</td>\n",
       "    </tr>\n",
       "  </tbody>\n",
       "</table>\n",
       "</div>"
      ],
      "text/plain": [
       "  code                        agency is_mayoral\n",
       "0  002           OFFICE OF THE MAYOR          N\n",
       "1  003            BOARD OF ELECTIONS          Y\n",
       "2  004        CAMPAIGN FINANCE BOARD          Y\n",
       "3  005   BOARD OF ESTIMATE-SECRETARY          Y\n",
       "4  006  MAYOR'S OFFICE OF OPERATIONS          N"
      ]
     },
     "execution_count": 50,
     "metadata": {},
     "output_type": "execute_result"
    }
   ],
   "source": [
    "agencies_df = pd.read_csv(\"cleaned-agencies.csv\", dtype='str')\n",
    "agencies_df.head()"
   ]
  },
  {
   "cell_type": "code",
   "execution_count": 53,
   "metadata": {
    "collapsed": false
   },
   "outputs": [
    {
     "data": {
      "text/html": [
       "<div>\n",
       "<table border=\"1\" class=\"dataframe\">\n",
       "  <thead>\n",
       "    <tr style=\"text-align: right;\">\n",
       "      <th></th>\n",
       "      <th>code</th>\n",
       "      <th>agency</th>\n",
       "      <th>is_mayoral</th>\n",
       "    </tr>\n",
       "  </thead>\n",
       "  <tbody>\n",
       "    <tr>\n",
       "      <th>0</th>\n",
       "      <td>002</td>\n",
       "      <td>OFFICE OF THE MAYOR</td>\n",
       "      <td>N</td>\n",
       "    </tr>\n",
       "    <tr>\n",
       "      <th>1</th>\n",
       "      <td>003</td>\n",
       "      <td>BOARD OF ELECTIONS</td>\n",
       "      <td>Y</td>\n",
       "    </tr>\n",
       "    <tr>\n",
       "      <th>2</th>\n",
       "      <td>004</td>\n",
       "      <td>CAMPAIGN FINANCE BOARD</td>\n",
       "      <td>Y</td>\n",
       "    </tr>\n",
       "    <tr>\n",
       "      <th>3</th>\n",
       "      <td>005</td>\n",
       "      <td>BOARD OF ESTIMATE-SECRETARY</td>\n",
       "      <td>Y</td>\n",
       "    </tr>\n",
       "    <tr>\n",
       "      <th>4</th>\n",
       "      <td>006</td>\n",
       "      <td>MAYOR'S OFFICE OF OPERATIONS</td>\n",
       "      <td>N</td>\n",
       "    </tr>\n",
       "  </tbody>\n",
       "</table>\n",
       "</div>"
      ],
      "text/plain": [
       "  code                        agency is_mayoral\n",
       "0  002           OFFICE OF THE MAYOR          N\n",
       "1  003            BOARD OF ELECTIONS          Y\n",
       "2  004        CAMPAIGN FINANCE BOARD          Y\n",
       "3  005   BOARD OF ESTIMATE-SECRETARY          Y\n",
       "4  006  MAYOR'S OFFICE OF OPERATIONS          N"
      ]
     },
     "execution_count": 53,
     "metadata": {},
     "output_type": "execute_result"
    }
   ],
   "source": [
    "col_types = { 'code': 'str' }\n",
    "agencies_df = pd.read_csv(\"cleaned-agencies.csv\", dtype=col_types)\n",
    "agencies_df.head()"
   ]
  },
  {
   "cell_type": "code",
   "execution_count": 55,
   "metadata": {
    "collapsed": false
   },
   "outputs": [
    {
     "data": {
      "text/html": [
       "<div>\n",
       "<table border=\"1\" class=\"dataframe\">\n",
       "  <thead>\n",
       "    <tr style=\"text-align: right;\">\n",
       "      <th></th>\n",
       "      <th>code</th>\n",
       "      <th>agency</th>\n",
       "      <th>is_mayoral</th>\n",
       "    </tr>\n",
       "  </thead>\n",
       "  <tbody>\n",
       "    <tr>\n",
       "      <th>0</th>\n",
       "      <td>-999</td>\n",
       "      <td>THIS IS FAKE</td>\n",
       "      <td>False</td>\n",
       "    </tr>\n",
       "    <tr>\n",
       "      <th>1</th>\n",
       "      <td>-999</td>\n",
       "      <td>THIS IS ALSO FAKE</td>\n",
       "      <td>True</td>\n",
       "    </tr>\n",
       "    <tr>\n",
       "      <th>2</th>\n",
       "      <td>-999</td>\n",
       "      <td>THESE ARE ALL FAKE</td>\n",
       "      <td>False</td>\n",
       "    </tr>\n",
       "    <tr>\n",
       "      <th>3</th>\n",
       "      <td>002</td>\n",
       "      <td>OFFICE OF THE MAYOR</td>\n",
       "      <td>False</td>\n",
       "    </tr>\n",
       "    <tr>\n",
       "      <th>4</th>\n",
       "      <td>003</td>\n",
       "      <td>BOARD OF ELECTIONS</td>\n",
       "      <td>True</td>\n",
       "    </tr>\n",
       "  </tbody>\n",
       "</table>\n",
       "</div>"
      ],
      "text/plain": [
       "   code               agency is_mayoral\n",
       "0  -999         THIS IS FAKE      False\n",
       "1  -999    THIS IS ALSO FAKE       True\n",
       "2  -999   THESE ARE ALL FAKE      False\n",
       "3   002  OFFICE OF THE MAYOR      False\n",
       "4   003   BOARD OF ELECTIONS       True"
      ]
     },
     "execution_count": 55,
     "metadata": {},
     "output_type": "execute_result"
    }
   ],
   "source": [
    "col_types = { 'code': 'str' }\n",
    "agencies_df = pd.read_csv(\"cleaned-agencies.csv\", dtype=col_types, true_values='Y', false_values='N')\n",
    "agencies_df.head()"
   ]
  },
  {
   "cell_type": "code",
   "execution_count": 57,
   "metadata": {
    "collapsed": false
   },
   "outputs": [
    {
     "data": {
      "text/html": [
       "<div>\n",
       "<table border=\"1\" class=\"dataframe\">\n",
       "  <thead>\n",
       "    <tr style=\"text-align: right;\">\n",
       "      <th></th>\n",
       "      <th>code</th>\n",
       "      <th>agency</th>\n",
       "      <th>is_mayoral</th>\n",
       "    </tr>\n",
       "  </thead>\n",
       "  <tbody>\n",
       "    <tr>\n",
       "      <th>0</th>\n",
       "      <td>NaN</td>\n",
       "      <td>THIS IS FAKE</td>\n",
       "      <td>False</td>\n",
       "    </tr>\n",
       "    <tr>\n",
       "      <th>1</th>\n",
       "      <td>NaN</td>\n",
       "      <td>THIS IS ALSO FAKE</td>\n",
       "      <td>True</td>\n",
       "    </tr>\n",
       "    <tr>\n",
       "      <th>2</th>\n",
       "      <td>NaN</td>\n",
       "      <td>THESE ARE ALL FAKE</td>\n",
       "      <td>False</td>\n",
       "    </tr>\n",
       "    <tr>\n",
       "      <th>3</th>\n",
       "      <td>002</td>\n",
       "      <td>OFFICE OF THE MAYOR</td>\n",
       "      <td>False</td>\n",
       "    </tr>\n",
       "    <tr>\n",
       "      <th>4</th>\n",
       "      <td>003</td>\n",
       "      <td>BOARD OF ELECTIONS</td>\n",
       "      <td>True</td>\n",
       "    </tr>\n",
       "  </tbody>\n",
       "</table>\n",
       "</div>"
      ],
      "text/plain": [
       "  code               agency is_mayoral\n",
       "0  NaN         THIS IS FAKE      False\n",
       "1  NaN    THIS IS ALSO FAKE       True\n",
       "2  NaN   THESE ARE ALL FAKE      False\n",
       "3  002  OFFICE OF THE MAYOR      False\n",
       "4  003   BOARD OF ELECTIONS       True"
      ]
     },
     "execution_count": 57,
     "metadata": {},
     "output_type": "execute_result"
    }
   ],
   "source": [
    "col_types = { 'code': 'str' }\n",
    "agencies_df = pd.read_csv(\"cleaned-agencies.csv\", na_values=[\"-999\"], dtype=col_types, true_values='Y', false_values='N')\n",
    "agencies_df.head()"
   ]
  },
  {
   "cell_type": "code",
   "execution_count": 71,
   "metadata": {
    "collapsed": false
   },
   "outputs": [
    {
     "data": {
      "text/html": [
       "<div>\n",
       "<table border=\"1\" class=\"dataframe\">\n",
       "  <thead>\n",
       "    <tr style=\"text-align: right;\">\n",
       "      <th></th>\n",
       "      <th>code</th>\n",
       "      <th>agency</th>\n",
       "      <th>is_mayoral</th>\n",
       "    </tr>\n",
       "  </thead>\n",
       "  <tbody>\n",
       "    <tr>\n",
       "      <th>0</th>\n",
       "      <td>-999</td>\n",
       "      <td>THIS IS FAKE</td>\n",
       "      <td>N</td>\n",
       "    </tr>\n",
       "    <tr>\n",
       "      <th>1</th>\n",
       "      <td>-999</td>\n",
       "      <td>THIS IS ALSO FAKE</td>\n",
       "      <td>Y</td>\n",
       "    </tr>\n",
       "    <tr>\n",
       "      <th>2</th>\n",
       "      <td>-999</td>\n",
       "      <td>THESE ARE ALL FAKE</td>\n",
       "      <td>N</td>\n",
       "    </tr>\n",
       "    <tr>\n",
       "      <th>3</th>\n",
       "      <td>2</td>\n",
       "      <td>OFFICE OF THE MAYOR</td>\n",
       "      <td>N</td>\n",
       "    </tr>\n",
       "    <tr>\n",
       "      <th>4</th>\n",
       "      <td>3</td>\n",
       "      <td>BOARD OF ELECTIONS</td>\n",
       "      <td>Y</td>\n",
       "    </tr>\n",
       "  </tbody>\n",
       "</table>\n",
       "</div>"
      ],
      "text/plain": [
       "   code               agency is_mayoral\n",
       "0  -999         THIS IS FAKE          N\n",
       "1  -999    THIS IS ALSO FAKE          Y\n",
       "2  -999   THESE ARE ALL FAKE          N\n",
       "3     2  OFFICE OF THE MAYOR          N\n",
       "4     3   BOARD OF ELECTIONS          Y"
      ]
     },
     "execution_count": 71,
     "metadata": {},
     "output_type": "execute_result"
    }
   ],
   "source": [
    "agencies_df = pd.read_csv(\"cleaned-agencies.csv\")\n",
    "agencies_df.head()"
   ]
  },
  {
   "cell_type": "code",
   "execution_count": 76,
   "metadata": {
    "collapsed": false
   },
   "outputs": [
    {
     "data": {
      "text/html": [
       "<div>\n",
       "<table border=\"1\" class=\"dataframe\">\n",
       "  <thead>\n",
       "    <tr style=\"text-align: right;\">\n",
       "      <th></th>\n",
       "      <th>DPT</th>\n",
       "      <th>NAME</th>\n",
       "      <th>ADDRESS</th>\n",
       "      <th>TTL</th>\n",
       "      <th>PC</th>\n",
       "      <th>SAL-RATE</th>\n",
       "    </tr>\n",
       "  </thead>\n",
       "  <tbody>\n",
       "    <tr>\n",
       "      <th>0</th>\n",
       "      <td>868</td>\n",
       "      <td>B J  SANDIFORD</td>\n",
       "      <td>DEPARTMENT OF CITYWIDE ADM</td>\n",
       "      <td>12702</td>\n",
       "      <td>X</td>\n",
       "      <td>$5.00</td>\n",
       "    </tr>\n",
       "    <tr>\n",
       "      <th>1</th>\n",
       "      <td>868</td>\n",
       "      <td>C A  WIGFALL</td>\n",
       "      <td>DEPARTMENT OF CITYWIDE ADM</td>\n",
       "      <td>12702</td>\n",
       "      <td>X</td>\n",
       "      <td>$5.00</td>\n",
       "    </tr>\n",
       "    <tr>\n",
       "      <th>2</th>\n",
       "      <td>69</td>\n",
       "      <td>A E A-AWOSOGBA</td>\n",
       "      <td>HRA/DEPARTMENT OF SOCIAL S</td>\n",
       "      <td>52311</td>\n",
       "      <td>A</td>\n",
       "      <td>$51955.00</td>\n",
       "    </tr>\n",
       "    <tr>\n",
       "      <th>3</th>\n",
       "      <td>868</td>\n",
       "      <td>K D AABY</td>\n",
       "      <td>DEPARTMENT OF CITYWIDE ADM</td>\n",
       "      <td>10209</td>\n",
       "      <td>X</td>\n",
       "      <td>$12.00</td>\n",
       "    </tr>\n",
       "    <tr>\n",
       "      <th>4</th>\n",
       "      <td>56</td>\n",
       "      <td>I D AADIL</td>\n",
       "      <td>POLICE DEPARTMENT</td>\n",
       "      <td>71012</td>\n",
       "      <td>A</td>\n",
       "      <td>$46953.00</td>\n",
       "    </tr>\n",
       "  </tbody>\n",
       "</table>\n",
       "</div>"
      ],
      "text/plain": [
       "   DPT            NAME                     ADDRESS    TTL PC   SAL-RATE\n",
       "0  868  B J  SANDIFORD  DEPARTMENT OF CITYWIDE ADM  12702  X      $5.00\n",
       "1  868    C A  WIGFALL  DEPARTMENT OF CITYWIDE ADM  12702  X      $5.00\n",
       "2   69  A E A-AWOSOGBA  HRA/DEPARTMENT OF SOCIAL S  52311  A  $51955.00\n",
       "3  868        K D AABY  DEPARTMENT OF CITYWIDE ADM  10209  X     $12.00\n",
       "4   56       I D AADIL           POLICE DEPARTMENT  71012  A  $46953.00"
      ]
     },
     "execution_count": 76,
     "metadata": {},
     "output_type": "execute_result"
    }
   ],
   "source": [
    "df.head()"
   ]
  },
  {
   "cell_type": "code",
   "execution_count": 77,
   "metadata": {
    "collapsed": false
   },
   "outputs": [
    {
     "data": {
      "text/html": [
       "<div>\n",
       "<table border=\"1\" class=\"dataframe\">\n",
       "  <thead>\n",
       "    <tr style=\"text-align: right;\">\n",
       "      <th></th>\n",
       "      <th>DPT</th>\n",
       "      <th>NAME</th>\n",
       "      <th>ADDRESS</th>\n",
       "      <th>TTL</th>\n",
       "      <th>PC</th>\n",
       "      <th>SAL-RATE</th>\n",
       "      <th>code</th>\n",
       "      <th>agency</th>\n",
       "      <th>is_mayoral</th>\n",
       "    </tr>\n",
       "  </thead>\n",
       "  <tbody>\n",
       "  </tbody>\n",
       "</table>\n",
       "</div>"
      ],
      "text/plain": [
       "Empty DataFrame\n",
       "Columns: [DPT, NAME, ADDRESS, TTL, PC, SAL-RATE, code, agency, is_mayoral]\n",
       "Index: []"
      ]
     },
     "execution_count": 77,
     "metadata": {},
     "output_type": "execute_result"
    }
   ],
   "source": [
    "df.merge(agencies_df, left_on='DPT', right_on='code')"
   ]
  },
  {
   "cell_type": "code",
   "execution_count": null,
   "metadata": {
    "collapsed": true
   },
   "outputs": [],
   "source": []
  }
 ],
 "metadata": {
  "kernelspec": {
   "display_name": "Python 3",
   "language": "python",
   "name": "python3"
  },
  "language_info": {
   "codemirror_mode": {
    "name": "ipython",
    "version": 3
   },
   "file_extension": ".py",
   "mimetype": "text/x-python",
   "name": "python",
   "nbconvert_exporter": "python",
   "pygments_lexer": "ipython3",
   "version": "3.4.2"
  }
 },
 "nbformat": 4,
 "nbformat_minor": 0
}
