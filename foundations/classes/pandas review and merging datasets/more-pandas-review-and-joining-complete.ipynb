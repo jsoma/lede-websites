{
 "cells": [
  {
   "cell_type": "markdown",
   "metadata": {},
   "source": [
    "# The setup\n",
    "\n",
    "A lot of times when you're using pandas you're also going to use matplotlib, and when you're using matplotlib you're also going to be making inline graphics. So why not do it all at once?"
   ]
  },
  {
   "cell_type": "code",
   "execution_count": 1,
   "metadata": {
    "collapsed": true
   },
   "outputs": [],
   "source": [
    "# Let's do all of our setup\n",
    "import pandas as pd\n",
    "import matplotlib.pyplot as plt\n",
    "\n",
    "%matplotlib inline"
   ]
  },
  {
   "cell_type": "markdown",
   "metadata": {},
   "source": [
    "# The import\n",
    "\n",
    "Always name your initial dataframe `df`. Always always always. Why? Because everyone else does, and because \n",
    "\n",
    "* when you slice it and dice it into different pieces (only really rich people, only cats, only flights to Finland, etc)\n",
    "* you can give each of those names, while knowing `df` is your original dataframe."
   ]
  },
  {
   "cell_type": "code",
   "execution_count": 5,
   "metadata": {
    "collapsed": false
   },
   "outputs": [],
   "source": [
    "df = pd.read_excel(\"rich_people.xlsx\")"
   ]
  },
  {
   "cell_type": "markdown",
   "metadata": {},
   "source": [
    "# The examining\n",
    "\n",
    "Your best friends for a quick peek are are \n",
    "\n",
    "* `df.head()` to see the first ten\n",
    "* `df.columns` to see the column names\n",
    "* `df.info()` to see more detailed info about each column\n",
    "* `df.describe()` to see summary statistics about each numeric column\n",
    "\n",
    "Once you do these few steps, you should be able to draw up a list of ten or so questions to ask your data."
   ]
  },
  {
   "cell_type": "code",
   "execution_count": 6,
   "metadata": {
    "collapsed": false
   },
   "outputs": [
    {
     "data": {
      "text/html": [
       "<div>\n",
       "<table border=\"1\" class=\"dataframe\">\n",
       "  <thead>\n",
       "    <tr style=\"text-align: right;\">\n",
       "      <th></th>\n",
       "      <th>year</th>\n",
       "      <th>name</th>\n",
       "      <th>rank</th>\n",
       "      <th>citizenship</th>\n",
       "      <th>countrycode</th>\n",
       "      <th>networthusbillion</th>\n",
       "      <th>selfmade</th>\n",
       "      <th>typeofwealth</th>\n",
       "      <th>gender</th>\n",
       "      <th>age</th>\n",
       "      <th>...</th>\n",
       "      <th>relationshiptocompany</th>\n",
       "      <th>foundingdate</th>\n",
       "      <th>gdpcurrentus</th>\n",
       "      <th>sourceofwealth</th>\n",
       "      <th>notes</th>\n",
       "      <th>notes2</th>\n",
       "      <th>source</th>\n",
       "      <th>source_2</th>\n",
       "      <th>source_3</th>\n",
       "      <th>source_4</th>\n",
       "    </tr>\n",
       "  </thead>\n",
       "  <tbody>\n",
       "    <tr>\n",
       "      <th>0</th>\n",
       "      <td>2001</td>\n",
       "      <td>A Jerrold Perenchio</td>\n",
       "      <td>151</td>\n",
       "      <td>United States</td>\n",
       "      <td>USA</td>\n",
       "      <td>3.0</td>\n",
       "      <td>self-made</td>\n",
       "      <td>executive</td>\n",
       "      <td>male</td>\n",
       "      <td>70.0</td>\n",
       "      <td>...</td>\n",
       "      <td>former chairman and CEO</td>\n",
       "      <td>1955.0</td>\n",
       "      <td>1.062180e+13</td>\n",
       "      <td>NaN</td>\n",
       "      <td>represented Marlon Brando and Elizabeth Taylor</td>\n",
       "      <td>NaN</td>\n",
       "      <td>http://en.wikipedia.org/wiki/Jerry_Perenchio</td>\n",
       "      <td>http://www.forbes.com/profile/a-jerrold-perenc...</td>\n",
       "      <td>COLUMN ONE; A Hollywood Player Who Owns the Ga...</td>\n",
       "      <td>NaN</td>\n",
       "    </tr>\n",
       "    <tr>\n",
       "      <th>1</th>\n",
       "      <td>2014</td>\n",
       "      <td>A. Jerrold Perenchio</td>\n",
       "      <td>663</td>\n",
       "      <td>United States</td>\n",
       "      <td>USA</td>\n",
       "      <td>2.6</td>\n",
       "      <td>self-made</td>\n",
       "      <td>executive</td>\n",
       "      <td>male</td>\n",
       "      <td>83.0</td>\n",
       "      <td>...</td>\n",
       "      <td>former chairman and CEO</td>\n",
       "      <td>1955.0</td>\n",
       "      <td>NaN</td>\n",
       "      <td>television, Univision</td>\n",
       "      <td>represented Marlon Brando and Elizabeth Taylor</td>\n",
       "      <td>NaN</td>\n",
       "      <td>http://en.wikipedia.org/wiki/Jerry_Perenchio</td>\n",
       "      <td>http://www.forbes.com/profile/a-jerrold-perenc...</td>\n",
       "      <td>COLUMN ONE; A Hollywood Player Who Owns the Ga...</td>\n",
       "      <td>NaN</td>\n",
       "    </tr>\n",
       "  </tbody>\n",
       "</table>\n",
       "<p>2 rows × 30 columns</p>\n",
       "</div>"
      ],
      "text/plain": [
       "   year                  name  rank    citizenship countrycode  \\\n",
       "0  2001   A Jerrold Perenchio   151  United States         USA   \n",
       "1  2014  A. Jerrold Perenchio   663  United States         USA   \n",
       "\n",
       "   networthusbillion   selfmade typeofwealth gender   age   ...     \\\n",
       "0                3.0  self-made    executive   male  70.0   ...      \n",
       "1                2.6  self-made    executive   male  83.0   ...      \n",
       "\n",
       "     relationshiptocompany foundingdate  gdpcurrentus         sourceofwealth  \\\n",
       "0  former chairman and CEO       1955.0  1.062180e+13                    NaN   \n",
       "1  former chairman and CEO       1955.0           NaN  television, Univision   \n",
       "\n",
       "                                            notes  notes2  \\\n",
       "0  represented Marlon Brando and Elizabeth Taylor     NaN   \n",
       "1  represented Marlon Brando and Elizabeth Taylor     NaN   \n",
       "\n",
       "                                         source  \\\n",
       "0  http://en.wikipedia.org/wiki/Jerry_Perenchio   \n",
       "1  http://en.wikipedia.org/wiki/Jerry_Perenchio   \n",
       "\n",
       "                                            source_2  \\\n",
       "0  http://www.forbes.com/profile/a-jerrold-perenc...   \n",
       "1  http://www.forbes.com/profile/a-jerrold-perenc...   \n",
       "\n",
       "                                            source_3 source_4  \n",
       "0  COLUMN ONE; A Hollywood Player Who Owns the Ga...      NaN  \n",
       "1  COLUMN ONE; A Hollywood Player Who Owns the Ga...      NaN  \n",
       "\n",
       "[2 rows x 30 columns]"
      ]
     },
     "execution_count": 6,
     "metadata": {},
     "output_type": "execute_result"
    }
   ],
   "source": [
    "df.head(2)"
   ]
  },
  {
   "cell_type": "code",
   "execution_count": 7,
   "metadata": {
    "collapsed": false
   },
   "outputs": [
    {
     "data": {
      "text/plain": [
       "Index(['year', 'name', 'rank', 'citizenship', 'countrycode',\n",
       "       'networthusbillion', 'selfmade', 'typeofwealth', 'gender', 'age',\n",
       "       'industry', 'IndustryAggregates', 'region', 'north',\n",
       "       'politicalconnection', 'founder', 'generationofinheritance', 'sector',\n",
       "       'company', 'companytype', 'relationshiptocompany', 'foundingdate',\n",
       "       'gdpcurrentus', 'sourceofwealth', 'notes', 'notes2', 'source',\n",
       "       'source_2', 'source_3', 'source_4'],\n",
       "      dtype='object')"
      ]
     },
     "execution_count": 7,
     "metadata": {},
     "output_type": "execute_result"
    }
   ],
   "source": [
    "df.columns"
   ]
  },
  {
   "cell_type": "markdown",
   "metadata": {},
   "source": [
    "# Slicing your data\n",
    "\n",
    "I made a *terrible mistake* on Monday about how I taught sub-selects (the things that are basically SQL `WHERE` statements), and it's all because of how I named my variables.\n",
    "\n",
    "We're going to take a sample of the data to work with so it looks a little cleaner - only take a few columns of the first 8. It's a complicated line, don't sweat it. Just think about the result for now."
   ]
  },
  {
   "cell_type": "code",
   "execution_count": 20,
   "metadata": {
    "collapsed": false
   },
   "outputs": [
    {
     "data": {
      "text/html": [
       "<div>\n",
       "<table border=\"1\" class=\"dataframe\">\n",
       "  <thead>\n",
       "    <tr style=\"text-align: right;\">\n",
       "      <th></th>\n",
       "      <th>name</th>\n",
       "      <th>countrycode</th>\n",
       "      <th>selfmade</th>\n",
       "      <th>rank</th>\n",
       "      <th>networthusbillion</th>\n",
       "    </tr>\n",
       "  </thead>\n",
       "  <tbody>\n",
       "    <tr>\n",
       "      <th>284</th>\n",
       "      <td>Bill Gates</td>\n",
       "      <td>USA</td>\n",
       "      <td>self-made</td>\n",
       "      <td>1</td>\n",
       "      <td>76.0</td>\n",
       "    </tr>\n",
       "    <tr>\n",
       "      <th>348</th>\n",
       "      <td>Carlos Slim Helu</td>\n",
       "      <td>MEX</td>\n",
       "      <td>self-made</td>\n",
       "      <td>2</td>\n",
       "      <td>72.0</td>\n",
       "    </tr>\n",
       "    <tr>\n",
       "      <th>124</th>\n",
       "      <td>Amancio Ortega</td>\n",
       "      <td>ESP</td>\n",
       "      <td>self-made</td>\n",
       "      <td>3</td>\n",
       "      <td>64.0</td>\n",
       "    </tr>\n",
       "    <tr>\n",
       "      <th>2491</th>\n",
       "      <td>Warren Buffett</td>\n",
       "      <td>USA</td>\n",
       "      <td>self-made</td>\n",
       "      <td>4</td>\n",
       "      <td>58.2</td>\n",
       "    </tr>\n",
       "    <tr>\n",
       "      <th>1377</th>\n",
       "      <td>Larry Ellison</td>\n",
       "      <td>USA</td>\n",
       "      <td>self-made</td>\n",
       "      <td>5</td>\n",
       "      <td>48.0</td>\n",
       "    </tr>\n",
       "    <tr>\n",
       "      <th>509</th>\n",
       "      <td>David Koch</td>\n",
       "      <td>USA</td>\n",
       "      <td>inherited</td>\n",
       "      <td>6</td>\n",
       "      <td>40.0</td>\n",
       "    </tr>\n",
       "    <tr>\n",
       "      <th>381</th>\n",
       "      <td>Charles Koch</td>\n",
       "      <td>USA</td>\n",
       "      <td>inherited</td>\n",
       "      <td>6</td>\n",
       "      <td>40.0</td>\n",
       "    </tr>\n",
       "    <tr>\n",
       "      <th>2185</th>\n",
       "      <td>Sheldon Adelson</td>\n",
       "      <td>USA</td>\n",
       "      <td>self-made</td>\n",
       "      <td>8</td>\n",
       "      <td>38.0</td>\n",
       "    </tr>\n",
       "  </tbody>\n",
       "</table>\n",
       "</div>"
      ],
      "text/plain": [
       "                  name countrycode   selfmade  rank  networthusbillion\n",
       "284         Bill Gates         USA  self-made     1               76.0\n",
       "348   Carlos Slim Helu         MEX  self-made     2               72.0\n",
       "124     Amancio Ortega         ESP  self-made     3               64.0\n",
       "2491    Warren Buffett         USA  self-made     4               58.2\n",
       "1377     Larry Ellison         USA  self-made     5               48.0\n",
       "509         David Koch         USA  inherited     6               40.0\n",
       "381       Charles Koch         USA  inherited     6               40.0\n",
       "2185   Sheldon Adelson         USA  self-made     8               38.0"
      ]
     },
     "execution_count": 20,
     "metadata": {},
     "output_type": "execute_result"
    }
   ],
   "source": [
    "sample = df[df['year'] == 2014][['name', 'countrycode', 'selfmade', 'rank', 'networthusbillion']].sort_values(by='rank').head(8)\n",
    "sample"
   ]
  },
  {
   "cell_type": "code",
   "execution_count": 10,
   "metadata": {
    "collapsed": false
   },
   "outputs": [
    {
     "data": {
      "text/plain": [
       "<matplotlib.axes._subplots.AxesSubplot at 0x10945b8d0>"
      ]
     },
     "execution_count": 10,
     "metadata": {},
     "output_type": "execute_result"
    },
    {
     "data": {
      "image/png": "[encoded data removed]",
      "text/plain": [
       "<matplotlib.figure.Figure at 0x1094308d0>"
      ]
     },
     "metadata": {},
     "output_type": "display_data"
    }
   ],
   "source": [
    "plt.style.use('ggplot')\n",
    "df['networthusbillion'].hist()"
   ]
  },
  {
   "cell_type": "markdown",
   "metadata": {},
   "source": [
    "Who is from the USA? There **two different things we can do**. This was a big point of confusion in class\n",
    "\n",
    "1. We can **list whether someone is from the USA or not.**\n",
    "2. Or, we can use that list to **select only the people from the USA.**\n",
    "\n",
    "Let's look at them both, then see how they're used."
   ]
  },
  {
   "cell_type": "code",
   "execution_count": 26,
   "metadata": {
    "collapsed": false
   },
   "outputs": [
    {
     "data": {
      "text/plain": [
       "284      True\n",
       "348     False\n",
       "124     False\n",
       "2491     True\n",
       "1377     True\n",
       "509      True\n",
       "381      True\n",
       "2185     True\n",
       "Name: countrycode, dtype: bool"
      ]
     },
     "execution_count": 26,
     "metadata": {},
     "output_type": "execute_result"
    }
   ],
   "source": [
    "sample['countrycode'] == 'USA'"
   ]
  },
  {
   "cell_type": "markdown",
   "metadata": {},
   "source": [
    "This just gave us a list of `True` and `False` values.\n",
    "\n",
    "* First person? Definitely from the USA.\n",
    "* Next row? Not from the USA.\n",
    "* Third person? Not from the USA.\n",
    "* Fourth? Yes, they're from the USA.\n",
    "\n",
    "On the other hand, we can also use similar syntax to get a list of every person from the USA."
   ]
  },
  {
   "cell_type": "code",
   "execution_count": 27,
   "metadata": {
    "collapsed": false
   },
   "outputs": [
    {
     "data": {
      "text/html": [
       "<div>\n",
       "<table border=\"1\" class=\"dataframe\">\n",
       "  <thead>\n",
       "    <tr style=\"text-align: right;\">\n",
       "      <th></th>\n",
       "      <th>name</th>\n",
       "      <th>countrycode</th>\n",
       "      <th>selfmade</th>\n",
       "      <th>rank</th>\n",
       "      <th>networthusbillion</th>\n",
       "    </tr>\n",
       "  </thead>\n",
       "  <tbody>\n",
       "    <tr>\n",
       "      <th>284</th>\n",
       "      <td>Bill Gates</td>\n",
       "      <td>USA</td>\n",
       "      <td>self-made</td>\n",
       "      <td>1</td>\n",
       "      <td>76.0</td>\n",
       "    </tr>\n",
       "    <tr>\n",
       "      <th>2491</th>\n",
       "      <td>Warren Buffett</td>\n",
       "      <td>USA</td>\n",
       "      <td>self-made</td>\n",
       "      <td>4</td>\n",
       "      <td>58.2</td>\n",
       "    </tr>\n",
       "    <tr>\n",
       "      <th>1377</th>\n",
       "      <td>Larry Ellison</td>\n",
       "      <td>USA</td>\n",
       "      <td>self-made</td>\n",
       "      <td>5</td>\n",
       "      <td>48.0</td>\n",
       "    </tr>\n",
       "    <tr>\n",
       "      <th>509</th>\n",
       "      <td>David Koch</td>\n",
       "      <td>USA</td>\n",
       "      <td>inherited</td>\n",
       "      <td>6</td>\n",
       "      <td>40.0</td>\n",
       "    </tr>\n",
       "    <tr>\n",
       "      <th>381</th>\n",
       "      <td>Charles Koch</td>\n",
       "      <td>USA</td>\n",
       "      <td>inherited</td>\n",
       "      <td>6</td>\n",
       "      <td>40.0</td>\n",
       "    </tr>\n",
       "    <tr>\n",
       "      <th>2185</th>\n",
       "      <td>Sheldon Adelson</td>\n",
       "      <td>USA</td>\n",
       "      <td>self-made</td>\n",
       "      <td>8</td>\n",
       "      <td>38.0</td>\n",
       "    </tr>\n",
       "  </tbody>\n",
       "</table>\n",
       "</div>"
      ],
      "text/plain": [
       "                 name countrycode   selfmade  rank  networthusbillion\n",
       "284        Bill Gates         USA  self-made     1               76.0\n",
       "2491   Warren Buffett         USA  self-made     4               58.2\n",
       "1377    Larry Ellison         USA  self-made     5               48.0\n",
       "509        David Koch         USA  inherited     6               40.0\n",
       "381      Charles Koch         USA  inherited     6               40.0\n",
       "2185  Sheldon Adelson         USA  self-made     8               38.0"
      ]
     },
     "execution_count": 27,
     "metadata": {},
     "output_type": "execute_result"
    }
   ],
   "source": [
    "sample[sample['countrycode'] == 'USA']"
   ]
  },
  {
   "cell_type": "markdown",
   "metadata": {},
   "source": [
    "That one was a two-step process,\n",
    "\n",
    "1. we got a list of `True`/`False` values (are they from the USA?), then\n",
    "2. **fed that `True`/`False` list back into the dataframe.**\n",
    "\n",
    "For every row that's `True`, it let us keep the row. If it was `False`, it doesn't let us keep the row.\n",
    "\n",
    "## When to use what\n",
    "\n",
    "Let's say we wanted to select every single row that is from USA, has inherited wealth, and is in the top 10 wealthiest people in the world. If we wanted to do it all on one line, we could!"
   ]
  },
  {
   "cell_type": "code",
   "execution_count": 32,
   "metadata": {
    "collapsed": false
   },
   "outputs": [
    {
     "data": {
      "text/html": [
       "<div>\n",
       "<table border=\"1\" class=\"dataframe\">\n",
       "  <thead>\n",
       "    <tr style=\"text-align: right;\">\n",
       "      <th></th>\n",
       "      <th>name</th>\n",
       "      <th>countrycode</th>\n",
       "      <th>selfmade</th>\n",
       "      <th>rank</th>\n",
       "      <th>networthusbillion</th>\n",
       "    </tr>\n",
       "  </thead>\n",
       "  <tbody>\n",
       "    <tr>\n",
       "      <th>509</th>\n",
       "      <td>David Koch</td>\n",
       "      <td>USA</td>\n",
       "      <td>inherited</td>\n",
       "      <td>6</td>\n",
       "      <td>40.0</td>\n",
       "    </tr>\n",
       "    <tr>\n",
       "      <th>381</th>\n",
       "      <td>Charles Koch</td>\n",
       "      <td>USA</td>\n",
       "      <td>inherited</td>\n",
       "      <td>6</td>\n",
       "      <td>40.0</td>\n",
       "    </tr>\n",
       "  </tbody>\n",
       "</table>\n",
       "</div>"
      ],
      "text/plain": [
       "             name countrycode   selfmade  rank  networthusbillion\n",
       "509    David Koch         USA  inherited     6               40.0\n",
       "381  Charles Koch         USA  inherited     6               40.0"
      ]
     },
     "execution_count": 32,
     "metadata": {},
     "output_type": "execute_result"
    }
   ],
   "source": [
    "sample[(sample['countrycode'] == 'USA') & (sample['selfmade'] == 'inherited') & (sample['rank'] < 10)]"
   ]
  },
  {
   "cell_type": "markdown",
   "metadata": {},
   "source": [
    "That looks *super confusing*. In it we have three separate things we're testing for (a.k.a. getting True/False back)\n",
    "\n",
    "* `sample['countrycode'] == 'USA'`\n",
    "* `sample['selfmade'] == 'inherited'`\n",
    "* `sample['rank'] < 10`\n",
    "\n",
    "And we're jamming them all into `sample[blah blah]` to get back a dataframe for which all of those are true. It works, but it's ugly.\n",
    "\n",
    "Again, let's remind ourselves what a piece like that looks like, it's **just a list of True and False values**"
   ]
  },
  {
   "cell_type": "code",
   "execution_count": 33,
   "metadata": {
    "collapsed": false
   },
   "outputs": [
    {
     "data": {
      "text/plain": [
       "284      True\n",
       "348     False\n",
       "124     False\n",
       "2491     True\n",
       "1377     True\n",
       "509      True\n",
       "381      True\n",
       "2185     True\n",
       "Name: countrycode, dtype: bool"
      ]
     },
     "execution_count": 33,
     "metadata": {},
     "output_type": "execute_result"
    }
   ],
   "source": [
    "sample['countrycode'] == 'USA'"
   ]
  },
  {
   "cell_type": "markdown",
   "metadata": {},
   "source": [
    "If we felt like the code we had before was a little too complicated, we could break it down into manageable, well-named pieces like this:"
   ]
  },
  {
   "cell_type": "code",
   "execution_count": 35,
   "metadata": {
    "collapsed": false
   },
   "outputs": [
    {
     "data": {
      "text/html": [
       "<div>\n",
       "<table border=\"1\" class=\"dataframe\">\n",
       "  <thead>\n",
       "    <tr style=\"text-align: right;\">\n",
       "      <th></th>\n",
       "      <th>name</th>\n",
       "      <th>countrycode</th>\n",
       "      <th>selfmade</th>\n",
       "      <th>rank</th>\n",
       "      <th>networthusbillion</th>\n",
       "    </tr>\n",
       "  </thead>\n",
       "  <tbody>\n",
       "    <tr>\n",
       "      <th>509</th>\n",
       "      <td>David Koch</td>\n",
       "      <td>USA</td>\n",
       "      <td>inherited</td>\n",
       "      <td>6</td>\n",
       "      <td>40.0</td>\n",
       "    </tr>\n",
       "    <tr>\n",
       "      <th>381</th>\n",
       "      <td>Charles Koch</td>\n",
       "      <td>USA</td>\n",
       "      <td>inherited</td>\n",
       "      <td>6</td>\n",
       "      <td>40.0</td>\n",
       "    </tr>\n",
       "  </tbody>\n",
       "</table>\n",
       "</div>"
      ],
      "text/plain": [
       "             name countrycode   selfmade  rank  networthusbillion\n",
       "509    David Koch         USA  inherited     6               40.0\n",
       "381  Charles Koch         USA  inherited     6               40.0"
      ]
     },
     "execution_count": 35,
     "metadata": {},
     "output_type": "execute_result"
    }
   ],
   "source": [
    "is_american = sample['countrycode'] == 'USA'\n",
    "is_inherited = sample['selfmade'] == 'inherited'\n",
    "is_top_ten = sample['rank'] < 10\n",
    "\n",
    "sample[is_american & is_inherited & is_top_ten]"
   ]
  },
  {
   "cell_type": "markdown",
   "metadata": {},
   "source": [
    "Let's look at each individual piece.\n",
    "\n",
    "`is_american`, which is the same thing as `sample['countrycode'] == 'USA'`, is **not** a list of people. It is **not** a dataframe. It is a **list of true and false values**."
   ]
  },
  {
   "cell_type": "code",
   "execution_count": 37,
   "metadata": {
    "collapsed": false
   },
   "outputs": [
    {
     "data": {
      "text/plain": [
       "284      True\n",
       "348     False\n",
       "124     False\n",
       "2491     True\n",
       "1377     True\n",
       "509      True\n",
       "381      True\n",
       "2185     True\n",
       "Name: countrycode, dtype: bool"
      ]
     },
     "execution_count": 37,
     "metadata": {},
     "output_type": "execute_result"
    }
   ],
   "source": [
    "is_american"
   ]
  },
  {
   "cell_type": "markdown",
   "metadata": {},
   "source": [
    "It's the same thing with `is_inherited` and `is_top_ten`. It's just a shortcut for me, so I don't have to type out `sample['selfmade'] == 'inherited'`. We can combine them all using `&` to get a list of `True`/`False` values in which every one of those conditions is true"
   ]
  },
  {
   "cell_type": "code",
   "execution_count": 38,
   "metadata": {
    "collapsed": false
   },
   "outputs": [
    {
     "data": {
      "text/plain": [
       "284     False\n",
       "348     False\n",
       "124     False\n",
       "2491    False\n",
       "1377    False\n",
       "509      True\n",
       "381      True\n",
       "2185    False\n",
       "dtype: bool"
      ]
     },
     "execution_count": 38,
     "metadata": {},
     "output_type": "execute_result"
    }
   ],
   "source": [
    "is_american & is_inherited & is_top_ten"
   ]
  },
  {
   "cell_type": "markdown",
   "metadata": {},
   "source": [
    "Which we can then feed into the dataframe"
   ]
  },
  {
   "cell_type": "code",
   "execution_count": 40,
   "metadata": {
    "collapsed": false
   },
   "outputs": [
    {
     "data": {
      "text/html": [
       "<div>\n",
       "<table border=\"1\" class=\"dataframe\">\n",
       "  <thead>\n",
       "    <tr style=\"text-align: right;\">\n",
       "      <th></th>\n",
       "      <th>name</th>\n",
       "      <th>countrycode</th>\n",
       "      <th>selfmade</th>\n",
       "      <th>rank</th>\n",
       "      <th>networthusbillion</th>\n",
       "    </tr>\n",
       "  </thead>\n",
       "  <tbody>\n",
       "    <tr>\n",
       "      <th>509</th>\n",
       "      <td>David Koch</td>\n",
       "      <td>USA</td>\n",
       "      <td>inherited</td>\n",
       "      <td>6</td>\n",
       "      <td>40.0</td>\n",
       "    </tr>\n",
       "    <tr>\n",
       "      <th>381</th>\n",
       "      <td>Charles Koch</td>\n",
       "      <td>USA</td>\n",
       "      <td>inherited</td>\n",
       "      <td>6</td>\n",
       "      <td>40.0</td>\n",
       "    </tr>\n",
       "  </tbody>\n",
       "</table>\n",
       "</div>"
      ],
      "text/plain": [
       "             name countrycode   selfmade  rank  networthusbillion\n",
       "509    David Koch         USA  inherited     6               40.0\n",
       "381  Charles Koch         USA  inherited     6               40.0"
      ]
     },
     "execution_count": 40,
     "metadata": {},
     "output_type": "execute_result"
    }
   ],
   "source": [
    "sample[is_american & is_inherited & is_top_ten]"
   ]
  },
  {
   "cell_type": "markdown",
   "metadata": {},
   "source": [
    "So what I'm saying is, these two things are the same:\n",
    "\n",
    "### Method One: Breaking into separate readable things"
   ]
  },
  {
   "cell_type": "code",
   "execution_count": 46,
   "metadata": {
    "collapsed": false
   },
   "outputs": [
    {
     "data": {
      "text/html": [
       "<div>\n",
       "<table border=\"1\" class=\"dataframe\">\n",
       "  <thead>\n",
       "    <tr style=\"text-align: right;\">\n",
       "      <th></th>\n",
       "      <th>name</th>\n",
       "      <th>countrycode</th>\n",
       "      <th>selfmade</th>\n",
       "      <th>rank</th>\n",
       "      <th>networthusbillion</th>\n",
       "    </tr>\n",
       "  </thead>\n",
       "  <tbody>\n",
       "    <tr>\n",
       "      <th>509</th>\n",
       "      <td>David Koch</td>\n",
       "      <td>USA</td>\n",
       "      <td>inherited</td>\n",
       "      <td>6</td>\n",
       "      <td>40.0</td>\n",
       "    </tr>\n",
       "    <tr>\n",
       "      <th>381</th>\n",
       "      <td>Charles Koch</td>\n",
       "      <td>USA</td>\n",
       "      <td>inherited</td>\n",
       "      <td>6</td>\n",
       "      <td>40.0</td>\n",
       "    </tr>\n",
       "  </tbody>\n",
       "</table>\n",
       "</div>"
      ],
      "text/plain": [
       "             name countrycode   selfmade  rank  networthusbillion\n",
       "509    David Koch         USA  inherited     6               40.0\n",
       "381  Charles Koch         USA  inherited     6               40.0"
      ]
     },
     "execution_count": 46,
     "metadata": {},
     "output_type": "execute_result"
    }
   ],
   "source": [
    "is_american = sample['countrycode'] == 'USA'\n",
    "is_inherited = sample['selfmade'] == 'inherited'\n",
    "is_top_ten = sample['rank'] < 10\n",
    "\n",
    "kochs = sample[is_american & is_inherited & is_top_ten]\n",
    "kochs"
   ]
  },
  {
   "cell_type": "markdown",
   "metadata": {},
   "source": [
    "### Method Two: Doing it all at once"
   ]
  },
  {
   "cell_type": "code",
   "execution_count": 47,
   "metadata": {
    "collapsed": false
   },
   "outputs": [
    {
     "data": {
      "text/html": [
       "<div>\n",
       "<table border=\"1\" class=\"dataframe\">\n",
       "  <thead>\n",
       "    <tr style=\"text-align: right;\">\n",
       "      <th></th>\n",
       "      <th>name</th>\n",
       "      <th>countrycode</th>\n",
       "      <th>selfmade</th>\n",
       "      <th>rank</th>\n",
       "      <th>networthusbillion</th>\n",
       "    </tr>\n",
       "  </thead>\n",
       "  <tbody>\n",
       "    <tr>\n",
       "      <th>509</th>\n",
       "      <td>David Koch</td>\n",
       "      <td>USA</td>\n",
       "      <td>inherited</td>\n",
       "      <td>6</td>\n",
       "      <td>40.0</td>\n",
       "    </tr>\n",
       "    <tr>\n",
       "      <th>381</th>\n",
       "      <td>Charles Koch</td>\n",
       "      <td>USA</td>\n",
       "      <td>inherited</td>\n",
       "      <td>6</td>\n",
       "      <td>40.0</td>\n",
       "    </tr>\n",
       "  </tbody>\n",
       "</table>\n",
       "</div>"
      ],
      "text/plain": [
       "             name countrycode   selfmade  rank  networthusbillion\n",
       "509    David Koch         USA  inherited     6               40.0\n",
       "381  Charles Koch         USA  inherited     6               40.0"
      ]
     },
     "execution_count": 47,
     "metadata": {},
     "output_type": "execute_result"
    }
   ],
   "source": [
    "kochs = sample[(sample['countrycode'] == 'USA') & (sample['selfmade'] == 'inherited') & (sample['rank'] < 10)]\n",
    "kochs"
   ]
  },
  {
   "cell_type": "markdown",
   "metadata": {},
   "source": [
    "### Make sure you know the difference between these two\n",
    "\n",
    "* `df['countrycode'] == 'USA'`\n",
    "* `df[df['countrycode'] == 'USA']`"
   ]
  },
  {
   "cell_type": "markdown",
   "metadata": {},
   "source": [
    "# Joining data\n",
    "\n",
    "Now, let's say we wanted to join a bunch of data together. We have a lot of countries here, right? And we'd like to know how much of their wealth is concentrated in these rich people."
   ]
  },
  {
   "cell_type": "code",
   "execution_count": 49,
   "metadata": {
    "collapsed": false
   },
   "outputs": [
    {
     "data": {
      "text/html": [
       "<div>\n",
       "<table border=\"1\" class=\"dataframe\">\n",
       "  <thead>\n",
       "    <tr style=\"text-align: right;\">\n",
       "      <th></th>\n",
       "      <th>year</th>\n",
       "      <th>name</th>\n",
       "      <th>rank</th>\n",
       "      <th>citizenship</th>\n",
       "      <th>countrycode</th>\n",
       "      <th>networthusbillion</th>\n",
       "      <th>selfmade</th>\n",
       "      <th>typeofwealth</th>\n",
       "      <th>gender</th>\n",
       "      <th>age</th>\n",
       "      <th>...</th>\n",
       "      <th>relationshiptocompany</th>\n",
       "      <th>foundingdate</th>\n",
       "      <th>gdpcurrentus</th>\n",
       "      <th>sourceofwealth</th>\n",
       "      <th>notes</th>\n",
       "      <th>notes2</th>\n",
       "      <th>source</th>\n",
       "      <th>source_2</th>\n",
       "      <th>source_3</th>\n",
       "      <th>source_4</th>\n",
       "    </tr>\n",
       "  </thead>\n",
       "  <tbody>\n",
       "    <tr>\n",
       "      <th>0</th>\n",
       "      <td>2001</td>\n",
       "      <td>A Jerrold Perenchio</td>\n",
       "      <td>151</td>\n",
       "      <td>United States</td>\n",
       "      <td>USA</td>\n",
       "      <td>3.0</td>\n",
       "      <td>self-made</td>\n",
       "      <td>executive</td>\n",
       "      <td>male</td>\n",
       "      <td>70.0</td>\n",
       "      <td>...</td>\n",
       "      <td>former chairman and CEO</td>\n",
       "      <td>1955.0</td>\n",
       "      <td>1.062180e+13</td>\n",
       "      <td>NaN</td>\n",
       "      <td>represented Marlon Brando and Elizabeth Taylor</td>\n",
       "      <td>NaN</td>\n",
       "      <td>http://en.wikipedia.org/wiki/Jerry_Perenchio</td>\n",
       "      <td>http://www.forbes.com/profile/a-jerrold-perenc...</td>\n",
       "      <td>COLUMN ONE; A Hollywood Player Who Owns the Ga...</td>\n",
       "      <td>NaN</td>\n",
       "    </tr>\n",
       "    <tr>\n",
       "      <th>1</th>\n",
       "      <td>2014</td>\n",
       "      <td>A. Jerrold Perenchio</td>\n",
       "      <td>663</td>\n",
       "      <td>United States</td>\n",
       "      <td>USA</td>\n",
       "      <td>2.6</td>\n",
       "      <td>self-made</td>\n",
       "      <td>executive</td>\n",
       "      <td>male</td>\n",
       "      <td>83.0</td>\n",
       "      <td>...</td>\n",
       "      <td>former chairman and CEO</td>\n",
       "      <td>1955.0</td>\n",
       "      <td>NaN</td>\n",
       "      <td>television, Univision</td>\n",
       "      <td>represented Marlon Brando and Elizabeth Taylor</td>\n",
       "      <td>NaN</td>\n",
       "      <td>http://en.wikipedia.org/wiki/Jerry_Perenchio</td>\n",
       "      <td>http://www.forbes.com/profile/a-jerrold-perenc...</td>\n",
       "      <td>COLUMN ONE; A Hollywood Player Who Owns the Ga...</td>\n",
       "      <td>NaN</td>\n",
       "    </tr>\n",
       "    <tr>\n",
       "      <th>2</th>\n",
       "      <td>2001</td>\n",
       "      <td>Abdul Al Rahman  Al Jeraisy</td>\n",
       "      <td>336</td>\n",
       "      <td>Saudi Arabia</td>\n",
       "      <td>SAU</td>\n",
       "      <td>1.5</td>\n",
       "      <td>self-made</td>\n",
       "      <td>founder non-finance</td>\n",
       "      <td>male</td>\n",
       "      <td>NaN</td>\n",
       "      <td>...</td>\n",
       "      <td>founder</td>\n",
       "      <td>1956.0</td>\n",
       "      <td>1.830120e+11</td>\n",
       "      <td>NaN</td>\n",
       "      <td>NaN</td>\n",
       "      <td>NaN</td>\n",
       "      <td>http://www.jeraisy.com.sa/index.php/pages/rend...</td>\n",
       "      <td>NaN</td>\n",
       "      <td>NaN</td>\n",
       "      <td>NaN</td>\n",
       "    </tr>\n",
       "    <tr>\n",
       "      <th>3</th>\n",
       "      <td>2001</td>\n",
       "      <td>Abdul Aziz Al Ghurair</td>\n",
       "      <td>251</td>\n",
       "      <td>United Arab Emirates</td>\n",
       "      <td>ARE</td>\n",
       "      <td>1.9</td>\n",
       "      <td>inherited</td>\n",
       "      <td>inherited</td>\n",
       "      <td>male</td>\n",
       "      <td>47.0</td>\n",
       "      <td>...</td>\n",
       "      <td>relation</td>\n",
       "      <td>1960.0</td>\n",
       "      <td>1.030000e+11</td>\n",
       "      <td>NaN</td>\n",
       "      <td>inherited from father</td>\n",
       "      <td>NaN</td>\n",
       "      <td>NaN</td>\n",
       "      <td>NaN</td>\n",
       "      <td>NaN</td>\n",
       "      <td>NaN</td>\n",
       "    </tr>\n",
       "    <tr>\n",
       "      <th>4</th>\n",
       "      <td>1996</td>\n",
       "      <td>Abdul Aziz Al-Sulaiman</td>\n",
       "      <td>404</td>\n",
       "      <td>Saudi Arabia</td>\n",
       "      <td>SAU</td>\n",
       "      <td>1.0</td>\n",
       "      <td>self-made</td>\n",
       "      <td>self-made finance</td>\n",
       "      <td>male</td>\n",
       "      <td>0.0</td>\n",
       "      <td>...</td>\n",
       "      <td>founder</td>\n",
       "      <td>1968.0</td>\n",
       "      <td>1.577430e+11</td>\n",
       "      <td>NaN</td>\n",
       "      <td>NaN</td>\n",
       "      <td>NaN</td>\n",
       "      <td>http://www.arabianbusiness.com/arabian-busines...</td>\n",
       "      <td>NaN</td>\n",
       "      <td>NaN</td>\n",
       "      <td>NaN</td>\n",
       "    </tr>\n",
       "  </tbody>\n",
       "</table>\n",
       "<p>5 rows × 30 columns</p>\n",
       "</div>"
      ],
      "text/plain": [
       "   year                         name  rank           citizenship countrycode  \\\n",
       "0  2001          A Jerrold Perenchio   151         United States         USA   \n",
       "1  2014         A. Jerrold Perenchio   663         United States         USA   \n",
       "2  2001  Abdul Al Rahman  Al Jeraisy   336          Saudi Arabia         SAU   \n",
       "3  2001        Abdul Aziz Al Ghurair   251  United Arab Emirates         ARE   \n",
       "4  1996       Abdul Aziz Al-Sulaiman   404          Saudi Arabia         SAU   \n",
       "\n",
       "   networthusbillion   selfmade         typeofwealth gender   age   ...     \\\n",
       "0                3.0  self-made            executive   male  70.0   ...      \n",
       "1                2.6  self-made            executive   male  83.0   ...      \n",
       "2                1.5  self-made  founder non-finance   male   NaN   ...      \n",
       "3                1.9  inherited            inherited   male  47.0   ...      \n",
       "4                1.0  self-made    self-made finance   male   0.0   ...      \n",
       "\n",
       "     relationshiptocompany foundingdate  gdpcurrentus         sourceofwealth  \\\n",
       "0  former chairman and CEO       1955.0  1.062180e+13                    NaN   \n",
       "1  former chairman and CEO       1955.0           NaN  television, Univision   \n",
       "2                  founder       1956.0  1.830120e+11                    NaN   \n",
       "3                 relation       1960.0  1.030000e+11                    NaN   \n",
       "4                  founder       1968.0  1.577430e+11                    NaN   \n",
       "\n",
       "                                            notes  notes2  \\\n",
       "0  represented Marlon Brando and Elizabeth Taylor     NaN   \n",
       "1  represented Marlon Brando and Elizabeth Taylor     NaN   \n",
       "2                                             NaN     NaN   \n",
       "3                           inherited from father     NaN   \n",
       "4                                             NaN     NaN   \n",
       "\n",
       "                                              source  \\\n",
       "0       http://en.wikipedia.org/wiki/Jerry_Perenchio   \n",
       "1       http://en.wikipedia.org/wiki/Jerry_Perenchio   \n",
       "2  http://www.jeraisy.com.sa/index.php/pages/rend...   \n",
       "3                                                NaN   \n",
       "4  http://www.arabianbusiness.com/arabian-busines...   \n",
       "\n",
       "                                            source_2  \\\n",
       "0  http://www.forbes.com/profile/a-jerrold-perenc...   \n",
       "1  http://www.forbes.com/profile/a-jerrold-perenc...   \n",
       "2                                                NaN   \n",
       "3                                                NaN   \n",
       "4                                                NaN   \n",
       "\n",
       "                                            source_3 source_4  \n",
       "0  COLUMN ONE; A Hollywood Player Who Owns the Ga...      NaN  \n",
       "1  COLUMN ONE; A Hollywood Player Who Owns the Ga...      NaN  \n",
       "2                                                NaN      NaN  \n",
       "3                                                NaN      NaN  \n",
       "4                                                NaN      NaN  \n",
       "\n",
       "[5 rows x 30 columns]"
      ]
     },
     "execution_count": 49,
     "metadata": {},
     "output_type": "execute_result"
    }
   ],
   "source": [
    "df.head()"
   ]
  },
  {
   "cell_type": "markdown",
   "metadata": {},
   "source": [
    "## What do we combine it with?\n",
    "\n",
    "I'm going to get my GDP data from [this web site](http://statisticstimes.com/economy/world-gdp-ranking.php), because... I googled GDP 2014 and it came up.\n",
    "\n",
    "We could manually say okay, so A. Jerrold Perenchio\thas 2.6 billion dollars, and USA's GDP was 17.418 trillion (17418 billion), so he's at about 0.015% of the GDP. **But we are lazy, so we want the computer to do it.** In order to do that, though, we need to **merge that information into our existing dataset.**\n",
    "\n",
    "I'm also too lazy to look up the GDP for every country, so I'm just going to pick the top ten."
   ]
  },
  {
   "cell_type": "code",
   "execution_count": 52,
   "metadata": {
    "collapsed": false
   },
   "outputs": [
    {
     "data": {
      "text/plain": [
       "USA    903\n",
       "DEU    160\n",
       "CHN    153\n",
       "RUS    119\n",
       "JPN     96\n",
       "BRA     81\n",
       "HKG     77\n",
       "FRA     72\n",
       "GBR     65\n",
       "IND     63\n",
       "Name: countrycode, dtype: int64"
      ]
     },
     "execution_count": 52,
     "metadata": {},
     "output_type": "execute_result"
    }
   ],
   "source": [
    "df['countrycode'].value_counts().head(10)"
   ]
  },
  {
   "cell_type": "markdown",
   "metadata": {},
   "source": [
    "I'm also too lazy to find a csv that has the data I need, so **I'm going to make a dataframe out of a dictionary**. It's pretty easy."
   ]
  },
  {
   "cell_type": "code",
   "execution_count": 54,
   "metadata": {
    "collapsed": false
   },
   "outputs": [
    {
     "data": {
      "text/html": [
       "<div>\n",
       "<table border=\"1\" class=\"dataframe\">\n",
       "  <thead>\n",
       "    <tr style=\"text-align: right;\">\n",
       "      <th></th>\n",
       "      <th>country</th>\n",
       "      <th>gdp</th>\n",
       "    </tr>\n",
       "  </thead>\n",
       "  <tbody>\n",
       "    <tr>\n",
       "      <th>0</th>\n",
       "      <td>USA</td>\n",
       "      <td>17.418</td>\n",
       "    </tr>\n",
       "    <tr>\n",
       "      <th>1</th>\n",
       "      <td>DEU</td>\n",
       "      <td>3.859</td>\n",
       "    </tr>\n",
       "    <tr>\n",
       "      <th>2</th>\n",
       "      <td>CHN</td>\n",
       "      <td>10.380</td>\n",
       "    </tr>\n",
       "    <tr>\n",
       "      <th>3</th>\n",
       "      <td>RUS</td>\n",
       "      <td>1.857</td>\n",
       "    </tr>\n",
       "    <tr>\n",
       "      <th>4</th>\n",
       "      <td>JPN</td>\n",
       "      <td>4.616</td>\n",
       "    </tr>\n",
       "    <tr>\n",
       "      <th>5</th>\n",
       "      <td>BRA</td>\n",
       "      <td>2.353</td>\n",
       "    </tr>\n",
       "    <tr>\n",
       "      <th>6</th>\n",
       "      <td>HKG</td>\n",
       "      <td>0.289</td>\n",
       "    </tr>\n",
       "    <tr>\n",
       "      <th>7</th>\n",
       "      <td>FRA</td>\n",
       "      <td>2.846</td>\n",
       "    </tr>\n",
       "    <tr>\n",
       "      <th>8</th>\n",
       "      <td>GBR</td>\n",
       "      <td>2.945</td>\n",
       "    </tr>\n",
       "    <tr>\n",
       "      <th>9</th>\n",
       "      <td>IND</td>\n",
       "      <td>2.049</td>\n",
       "    </tr>\n",
       "  </tbody>\n",
       "</table>\n",
       "</div>"
      ],
      "text/plain": [
       "  country     gdp\n",
       "0     USA  17.418\n",
       "1     DEU   3.859\n",
       "2     CHN  10.380\n",
       "3     RUS   1.857\n",
       "4     JPN   4.616\n",
       "5     BRA   2.353\n",
       "6     HKG   0.289\n",
       "7     FRA   2.846\n",
       "8     GBR   2.945\n",
       "9     IND   2.049"
      ]
     },
     "execution_count": 54,
     "metadata": {},
     "output_type": "execute_result"
    }
   ],
   "source": [
    "# Make a list of dictionaries\n",
    "country_gdp = [\n",
    "    { 'country': 'USA', 'gdp': 17.418 },\n",
    "    { 'country': 'DEU', 'gdp': 3.859 },\n",
    "    { 'country': 'CHN', 'gdp': 10.380 },\n",
    "    { 'country': 'RUS', 'gdp': 1.857 },\n",
    "    { 'country': 'JPN', 'gdp': 4.616 },\n",
    "    { 'country': 'BRA', 'gdp': 2.353 },\n",
    "    { 'country': 'HKG', 'gdp': 0.289 },\n",
    "    { 'country': 'FRA', 'gdp': 2.846 },\n",
    "    { 'country': 'GBR', 'gdp': 2.945 },\n",
    "    { 'country': 'IND', 'gdp': 2.049 }\n",
    "]\n",
    "\n",
    "# Convert it into a DataFrame\n",
    "gdp_df = pd.DataFrame(country_gdp)\n",
    "gdp_df"
   ]
  },
  {
   "cell_type": "markdown",
   "metadata": {},
   "source": [
    "I could have read it in from a csv, but since I didn't have a csv I might as well just type it out. I also want it in *billions*, not in *trillions*, so let's add a column real quick"
   ]
  },
  {
   "cell_type": "code",
   "execution_count": 55,
   "metadata": {
    "collapsed": false
   },
   "outputs": [
    {
     "data": {
      "text/html": [
       "<div>\n",
       "<table border=\"1\" class=\"dataframe\">\n",
       "  <thead>\n",
       "    <tr style=\"text-align: right;\">\n",
       "      <th></th>\n",
       "      <th>country</th>\n",
       "      <th>gdp</th>\n",
       "      <th>gdp_billions</th>\n",
       "    </tr>\n",
       "  </thead>\n",
       "  <tbody>\n",
       "    <tr>\n",
       "      <th>0</th>\n",
       "      <td>USA</td>\n",
       "      <td>17.418</td>\n",
       "      <td>17418.0</td>\n",
       "    </tr>\n",
       "    <tr>\n",
       "      <th>1</th>\n",
       "      <td>DEU</td>\n",
       "      <td>3.859</td>\n",
       "      <td>3859.0</td>\n",
       "    </tr>\n",
       "    <tr>\n",
       "      <th>2</th>\n",
       "      <td>CHN</td>\n",
       "      <td>10.380</td>\n",
       "      <td>10380.0</td>\n",
       "    </tr>\n",
       "    <tr>\n",
       "      <th>3</th>\n",
       "      <td>RUS</td>\n",
       "      <td>1.857</td>\n",
       "      <td>1857.0</td>\n",
       "    </tr>\n",
       "    <tr>\n",
       "      <th>4</th>\n",
       "      <td>JPN</td>\n",
       "      <td>4.616</td>\n",
       "      <td>4616.0</td>\n",
       "    </tr>\n",
       "    <tr>\n",
       "      <th>5</th>\n",
       "      <td>BRA</td>\n",
       "      <td>2.353</td>\n",
       "      <td>2353.0</td>\n",
       "    </tr>\n",
       "    <tr>\n",
       "      <th>6</th>\n",
       "      <td>HKG</td>\n",
       "      <td>0.289</td>\n",
       "      <td>289.0</td>\n",
       "    </tr>\n",
       "    <tr>\n",
       "      <th>7</th>\n",
       "      <td>FRA</td>\n",
       "      <td>2.846</td>\n",
       "      <td>2846.0</td>\n",
       "    </tr>\n",
       "    <tr>\n",
       "      <th>8</th>\n",
       "      <td>GBR</td>\n",
       "      <td>2.945</td>\n",
       "      <td>2945.0</td>\n",
       "    </tr>\n",
       "    <tr>\n",
       "      <th>9</th>\n",
       "      <td>IND</td>\n",
       "      <td>2.049</td>\n",
       "      <td>2049.0</td>\n",
       "    </tr>\n",
       "  </tbody>\n",
       "</table>\n",
       "</div>"
      ],
      "text/plain": [
       "  country     gdp  gdp_billions\n",
       "0     USA  17.418       17418.0\n",
       "1     DEU   3.859        3859.0\n",
       "2     CHN  10.380       10380.0\n",
       "3     RUS   1.857        1857.0\n",
       "4     JPN   4.616        4616.0\n",
       "5     BRA   2.353        2353.0\n",
       "6     HKG   0.289         289.0\n",
       "7     FRA   2.846        2846.0\n",
       "8     GBR   2.945        2945.0\n",
       "9     IND   2.049        2049.0"
      ]
     },
     "execution_count": 55,
     "metadata": {},
     "output_type": "execute_result"
    }
   ],
   "source": [
    "gdp_df['gdp_billions'] = gdp_df['gdp'] * 1000\n",
    "gdp_df"
   ]
  },
  {
   "cell_type": "markdown",
   "metadata": {},
   "source": [
    "### STEP ONE: Finding a join key\n",
    "\n",
    "My favorite resource for joining data with `pandas` is [this page](http://pandas.pydata.org/pandas-docs/stable/comparison_with_sql.html#compare-with-sql-join). It compares everything to SQL JOINs, which *I* understand. You could also check out [this page](http://pandas.pydata.org/pandas-docs/stable/merging.html#database-style-dataframe-joining-merging) which I find kind of confusing.\n",
    "\n",
    "So what we need to do is **match up a column between our two dataframes.**"
   ]
  },
  {
   "cell_type": "code",
   "execution_count": 58,
   "metadata": {
    "collapsed": false
   },
   "outputs": [
    {
     "data": {
      "text/html": [
       "<div>\n",
       "<table border=\"1\" class=\"dataframe\">\n",
       "  <thead>\n",
       "    <tr style=\"text-align: right;\">\n",
       "      <th></th>\n",
       "      <th>year</th>\n",
       "      <th>name</th>\n",
       "      <th>rank</th>\n",
       "      <th>citizenship</th>\n",
       "      <th>countrycode</th>\n",
       "      <th>networthusbillion</th>\n",
       "      <th>selfmade</th>\n",
       "      <th>typeofwealth</th>\n",
       "      <th>gender</th>\n",
       "      <th>age</th>\n",
       "      <th>...</th>\n",
       "      <th>relationshiptocompany</th>\n",
       "      <th>foundingdate</th>\n",
       "      <th>gdpcurrentus</th>\n",
       "      <th>sourceofwealth</th>\n",
       "      <th>notes</th>\n",
       "      <th>notes2</th>\n",
       "      <th>source</th>\n",
       "      <th>source_2</th>\n",
       "      <th>source_3</th>\n",
       "      <th>source_4</th>\n",
       "    </tr>\n",
       "  </thead>\n",
       "  <tbody>\n",
       "    <tr>\n",
       "      <th>0</th>\n",
       "      <td>2001</td>\n",
       "      <td>A Jerrold Perenchio</td>\n",
       "      <td>151</td>\n",
       "      <td>United States</td>\n",
       "      <td>USA</td>\n",
       "      <td>3.0</td>\n",
       "      <td>self-made</td>\n",
       "      <td>executive</td>\n",
       "      <td>male</td>\n",
       "      <td>70.0</td>\n",
       "      <td>...</td>\n",
       "      <td>former chairman and CEO</td>\n",
       "      <td>1955.0</td>\n",
       "      <td>1.062180e+13</td>\n",
       "      <td>NaN</td>\n",
       "      <td>represented Marlon Brando and Elizabeth Taylor</td>\n",
       "      <td>NaN</td>\n",
       "      <td>http://en.wikipedia.org/wiki/Jerry_Perenchio</td>\n",
       "      <td>http://www.forbes.com/profile/a-jerrold-perenc...</td>\n",
       "      <td>COLUMN ONE; A Hollywood Player Who Owns the Ga...</td>\n",
       "      <td>NaN</td>\n",
       "    </tr>\n",
       "  </tbody>\n",
       "</table>\n",
       "<p>1 rows × 30 columns</p>\n",
       "</div>"
      ],
      "text/plain": [
       "   year                 name  rank    citizenship countrycode  \\\n",
       "0  2001  A Jerrold Perenchio   151  United States         USA   \n",
       "\n",
       "   networthusbillion   selfmade typeofwealth gender   age   ...     \\\n",
       "0                3.0  self-made    executive   male  70.0   ...      \n",
       "\n",
       "     relationshiptocompany foundingdate  gdpcurrentus  sourceofwealth  \\\n",
       "0  former chairman and CEO       1955.0  1.062180e+13             NaN   \n",
       "\n",
       "                                            notes  notes2  \\\n",
       "0  represented Marlon Brando and Elizabeth Taylor     NaN   \n",
       "\n",
       "                                         source  \\\n",
       "0  http://en.wikipedia.org/wiki/Jerry_Perenchio   \n",
       "\n",
       "                                            source_2  \\\n",
       "0  http://www.forbes.com/profile/a-jerrold-perenc...   \n",
       "\n",
       "                                            source_3 source_4  \n",
       "0  COLUMN ONE; A Hollywood Player Who Owns the Ga...      NaN  \n",
       "\n",
       "[1 rows x 30 columns]"
      ]
     },
     "execution_count": 58,
     "metadata": {},
     "output_type": "execute_result"
    }
   ],
   "source": [
    "df.head(1)"
   ]
  },
  {
   "cell_type": "code",
   "execution_count": 59,
   "metadata": {
    "collapsed": false
   },
   "outputs": [
    {
     "data": {
      "text/html": [
       "<div>\n",
       "<table border=\"1\" class=\"dataframe\">\n",
       "  <thead>\n",
       "    <tr style=\"text-align: right;\">\n",
       "      <th></th>\n",
       "      <th>country</th>\n",
       "      <th>gdp</th>\n",
       "      <th>gdp_billions</th>\n",
       "    </tr>\n",
       "  </thead>\n",
       "  <tbody>\n",
       "    <tr>\n",
       "      <th>0</th>\n",
       "      <td>USA</td>\n",
       "      <td>17.418</td>\n",
       "      <td>17418.0</td>\n",
       "    </tr>\n",
       "  </tbody>\n",
       "</table>\n",
       "</div>"
      ],
      "text/plain": [
       "  country     gdp  gdp_billions\n",
       "0     USA  17.418       17418.0"
      ]
     },
     "execution_count": 59,
     "metadata": {},
     "output_type": "execute_result"
    }
   ],
   "source": [
    "gdp_df.head(1)"
   ]
  },
  {
   "cell_type": "markdown",
   "metadata": {},
   "source": [
    "It looks like we're going to be matching up **`countrycode`** from `df` with **`country`** from `gdp_df`.\n",
    "\n",
    "### STEP TWO: Doing the merge\n",
    "\n",
    "You merge using **`.merge`**, and then give two parameters: \n",
    "\n",
    "* **`left_on`**, the first dataframe's column name to merge on\n",
    "* **`right_on`**, the second dataframe's column name to merge on"
   ]
  },
  {
   "cell_type": "code",
   "execution_count": 61,
   "metadata": {
    "collapsed": false
   },
   "outputs": [
    {
     "data": {
      "text/html": [
       "<div>\n",
       "<table border=\"1\" class=\"dataframe\">\n",
       "  <thead>\n",
       "    <tr style=\"text-align: right;\">\n",
       "      <th></th>\n",
       "      <th>year</th>\n",
       "      <th>name</th>\n",
       "      <th>rank</th>\n",
       "      <th>citizenship</th>\n",
       "      <th>countrycode</th>\n",
       "      <th>networthusbillion</th>\n",
       "      <th>selfmade</th>\n",
       "      <th>typeofwealth</th>\n",
       "      <th>gender</th>\n",
       "      <th>age</th>\n",
       "      <th>...</th>\n",
       "      <th>relationshiptocompany</th>\n",
       "      <th>foundingdate</th>\n",
       "      <th>gdpcurrentus</th>\n",
       "      <th>sourceofwealth</th>\n",
       "      <th>notes</th>\n",
       "      <th>notes2</th>\n",
       "      <th>source</th>\n",
       "      <th>source_2</th>\n",
       "      <th>source_3</th>\n",
       "      <th>source_4</th>\n",
       "    </tr>\n",
       "  </thead>\n",
       "  <tbody>\n",
       "    <tr>\n",
       "      <th>1</th>\n",
       "      <td>2014</td>\n",
       "      <td>A. Jerrold Perenchio</td>\n",
       "      <td>663</td>\n",
       "      <td>United States</td>\n",
       "      <td>USA</td>\n",
       "      <td>2.6</td>\n",
       "      <td>self-made</td>\n",
       "      <td>executive</td>\n",
       "      <td>male</td>\n",
       "      <td>83.0</td>\n",
       "      <td>...</td>\n",
       "      <td>former chairman and CEO</td>\n",
       "      <td>1955.0</td>\n",
       "      <td>NaN</td>\n",
       "      <td>television, Univision</td>\n",
       "      <td>represented Marlon Brando and Elizabeth Taylor</td>\n",
       "      <td>NaN</td>\n",
       "      <td>http://en.wikipedia.org/wiki/Jerry_Perenchio</td>\n",
       "      <td>http://www.forbes.com/profile/a-jerrold-perenc...</td>\n",
       "      <td>COLUMN ONE; A Hollywood Player Who Owns the Ga...</td>\n",
       "      <td>NaN</td>\n",
       "    </tr>\n",
       "  </tbody>\n",
       "</table>\n",
       "<p>1 rows × 30 columns</p>\n",
       "</div>"
      ],
      "text/plain": [
       "   year                  name  rank    citizenship countrycode  \\\n",
       "1  2014  A. Jerrold Perenchio   663  United States         USA   \n",
       "\n",
       "   networthusbillion   selfmade typeofwealth gender   age   ...     \\\n",
       "1                2.6  self-made    executive   male  83.0   ...      \n",
       "\n",
       "     relationshiptocompany foundingdate gdpcurrentus         sourceofwealth  \\\n",
       "1  former chairman and CEO       1955.0          NaN  television, Univision   \n",
       "\n",
       "                                            notes  notes2  \\\n",
       "1  represented Marlon Brando and Elizabeth Taylor     NaN   \n",
       "\n",
       "                                         source  \\\n",
       "1  http://en.wikipedia.org/wiki/Jerry_Perenchio   \n",
       "\n",
       "                                            source_2  \\\n",
       "1  http://www.forbes.com/profile/a-jerrold-perenc...   \n",
       "\n",
       "                                            source_3 source_4  \n",
       "1  COLUMN ONE; A Hollywood Player Who Owns the Ga...      NaN  \n",
       "\n",
       "[1 rows x 30 columns]"
      ]
     },
     "execution_count": 61,
     "metadata": {},
     "output_type": "execute_result"
    }
   ],
   "source": [
    "# Since we're only working with 2014's GDP, let's make a variable\n",
    "# that's only 2014 scores\n",
    "recent = df[df['year'] == 2014]\n",
    "recent.head(1)"
   ]
  },
  {
   "cell_type": "code",
   "execution_count": 64,
   "metadata": {
    "collapsed": false
   },
   "outputs": [
    {
     "data": {
      "text/html": [
       "<div>\n",
       "<table border=\"1\" class=\"dataframe\">\n",
       "  <thead>\n",
       "    <tr style=\"text-align: right;\">\n",
       "      <th></th>\n",
       "      <th>year</th>\n",
       "      <th>name</th>\n",
       "      <th>rank</th>\n",
       "      <th>citizenship</th>\n",
       "      <th>countrycode</th>\n",
       "      <th>networthusbillion</th>\n",
       "      <th>selfmade</th>\n",
       "      <th>typeofwealth</th>\n",
       "      <th>gender</th>\n",
       "      <th>age</th>\n",
       "      <th>...</th>\n",
       "      <th>sourceofwealth</th>\n",
       "      <th>notes</th>\n",
       "      <th>notes2</th>\n",
       "      <th>source</th>\n",
       "      <th>source_2</th>\n",
       "      <th>source_3</th>\n",
       "      <th>source_4</th>\n",
       "      <th>country</th>\n",
       "      <th>gdp</th>\n",
       "      <th>gdp_billions</th>\n",
       "    </tr>\n",
       "  </thead>\n",
       "  <tbody>\n",
       "    <tr>\n",
       "      <th>33</th>\n",
       "      <td>2014</td>\n",
       "      <td>Bill Gates</td>\n",
       "      <td>1</td>\n",
       "      <td>United States</td>\n",
       "      <td>USA</td>\n",
       "      <td>76.0</td>\n",
       "      <td>self-made</td>\n",
       "      <td>founder non-finance</td>\n",
       "      <td>male</td>\n",
       "      <td>58.0</td>\n",
       "      <td>...</td>\n",
       "      <td>Microsoft</td>\n",
       "      <td>NaN</td>\n",
       "      <td>NaN</td>\n",
       "      <td>http://www.forbes.com/profile/bill-gates/</td>\n",
       "      <td>NaN</td>\n",
       "      <td>NaN</td>\n",
       "      <td>NaN</td>\n",
       "      <td>USA</td>\n",
       "      <td>17.418</td>\n",
       "      <td>17418.0</td>\n",
       "    </tr>\n",
       "    <tr>\n",
       "      <th>484</th>\n",
       "      <td>2014</td>\n",
       "      <td>Warren Buffett</td>\n",
       "      <td>4</td>\n",
       "      <td>United States</td>\n",
       "      <td>USA</td>\n",
       "      <td>58.2</td>\n",
       "      <td>self-made</td>\n",
       "      <td>founder non-finance</td>\n",
       "      <td>male</td>\n",
       "      <td>83.0</td>\n",
       "      <td>...</td>\n",
       "      <td>Berkshire Hathaway</td>\n",
       "      <td>NaN</td>\n",
       "      <td>NaN</td>\n",
       "      <td>http://www.forbes.com/lists/2009/10/billionair...</td>\n",
       "      <td>http://www.forbes.com/companies/berkshire-hath...</td>\n",
       "      <td>NaN</td>\n",
       "      <td>NaN</td>\n",
       "      <td>USA</td>\n",
       "      <td>17.418</td>\n",
       "      <td>17418.0</td>\n",
       "    </tr>\n",
       "    <tr>\n",
       "      <th>280</th>\n",
       "      <td>2014</td>\n",
       "      <td>Larry Ellison</td>\n",
       "      <td>5</td>\n",
       "      <td>United States</td>\n",
       "      <td>USA</td>\n",
       "      <td>48.0</td>\n",
       "      <td>self-made</td>\n",
       "      <td>founder non-finance</td>\n",
       "      <td>male</td>\n",
       "      <td>69.0</td>\n",
       "      <td>...</td>\n",
       "      <td>Oracle</td>\n",
       "      <td>NaN</td>\n",
       "      <td>NaN</td>\n",
       "      <td>http://www.forbes.com/profile/larry-ellison/</td>\n",
       "      <td>http://www.businessinsider.com/how-larry-ellis...</td>\n",
       "      <td>NaN</td>\n",
       "      <td>NaN</td>\n",
       "      <td>USA</td>\n",
       "      <td>17.418</td>\n",
       "      <td>17418.0</td>\n",
       "    </tr>\n",
       "    <tr>\n",
       "      <th>57</th>\n",
       "      <td>2014</td>\n",
       "      <td>Charles Koch</td>\n",
       "      <td>6</td>\n",
       "      <td>United States</td>\n",
       "      <td>USA</td>\n",
       "      <td>40.0</td>\n",
       "      <td>inherited</td>\n",
       "      <td>inherited</td>\n",
       "      <td>male</td>\n",
       "      <td>78.0</td>\n",
       "      <td>...</td>\n",
       "      <td>diversified</td>\n",
       "      <td>inherited from father</td>\n",
       "      <td>NaN</td>\n",
       "      <td>http://www.kochind.com/About_Koch/History_Time...</td>\n",
       "      <td>NaN</td>\n",
       "      <td>NaN</td>\n",
       "      <td>NaN</td>\n",
       "      <td>USA</td>\n",
       "      <td>17.418</td>\n",
       "      <td>17418.0</td>\n",
       "    </tr>\n",
       "    <tr>\n",
       "      <th>93</th>\n",
       "      <td>2014</td>\n",
       "      <td>David Koch</td>\n",
       "      <td>6</td>\n",
       "      <td>United States</td>\n",
       "      <td>USA</td>\n",
       "      <td>40.0</td>\n",
       "      <td>inherited</td>\n",
       "      <td>inherited</td>\n",
       "      <td>male</td>\n",
       "      <td>73.0</td>\n",
       "      <td>...</td>\n",
       "      <td>diversified</td>\n",
       "      <td>inherited from father</td>\n",
       "      <td>NaN</td>\n",
       "      <td>http://www.kochind.com/About_Koch/History_Time...</td>\n",
       "      <td>NaN</td>\n",
       "      <td>NaN</td>\n",
       "      <td>NaN</td>\n",
       "      <td>USA</td>\n",
       "      <td>17.418</td>\n",
       "      <td>17418.0</td>\n",
       "    </tr>\n",
       "  </tbody>\n",
       "</table>\n",
       "<p>5 rows × 33 columns</p>\n",
       "</div>"
      ],
      "text/plain": [
       "     year            name  rank    citizenship countrycode  networthusbillion  \\\n",
       "33   2014      Bill Gates     1  United States         USA               76.0   \n",
       "484  2014  Warren Buffett     4  United States         USA               58.2   \n",
       "280  2014   Larry Ellison     5  United States         USA               48.0   \n",
       "57   2014    Charles Koch     6  United States         USA               40.0   \n",
       "93   2014      David Koch     6  United States         USA               40.0   \n",
       "\n",
       "      selfmade         typeofwealth gender   age     ...       \\\n",
       "33   self-made  founder non-finance   male  58.0     ...        \n",
       "484  self-made  founder non-finance   male  83.0     ...        \n",
       "280  self-made  founder non-finance   male  69.0     ...        \n",
       "57   inherited            inherited   male  78.0     ...        \n",
       "93   inherited            inherited   male  73.0     ...        \n",
       "\n",
       "         sourceofwealth                  notes notes2  \\\n",
       "33            Microsoft                    NaN    NaN   \n",
       "484  Berkshire Hathaway                    NaN    NaN   \n",
       "280              Oracle                    NaN    NaN   \n",
       "57          diversified  inherited from father    NaN   \n",
       "93          diversified  inherited from father    NaN   \n",
       "\n",
       "                                                source  \\\n",
       "33           http://www.forbes.com/profile/bill-gates/   \n",
       "484  http://www.forbes.com/lists/2009/10/billionair...   \n",
       "280       http://www.forbes.com/profile/larry-ellison/   \n",
       "57   http://www.kochind.com/About_Koch/History_Time...   \n",
       "93   http://www.kochind.com/About_Koch/History_Time...   \n",
       "\n",
       "                                              source_2  source_3 source_4  \\\n",
       "33                                                 NaN       NaN      NaN   \n",
       "484  http://www.forbes.com/companies/berkshire-hath...       NaN      NaN   \n",
       "280  http://www.businessinsider.com/how-larry-ellis...       NaN      NaN   \n",
       "57                                                 NaN       NaN      NaN   \n",
       "93                                                 NaN       NaN      NaN   \n",
       "\n",
       "    country     gdp gdp_billions  \n",
       "33      USA  17.418      17418.0  \n",
       "484     USA  17.418      17418.0  \n",
       "280     USA  17.418      17418.0  \n",
       "57      USA  17.418      17418.0  \n",
       "93      USA  17.418      17418.0  \n",
       "\n",
       "[5 rows x 33 columns]"
      ]
     },
     "execution_count": 64,
     "metadata": {},
     "output_type": "execute_result"
    }
   ],
   "source": [
    "# Let's do the merge\n",
    "people_with_gdp = recent.merge(gdp_df, left_on='countrycode', right_on='country')\n",
    "\n",
    "# Look at the top 10\n",
    "people_with_gdp.sort_values(by='rank').head()"
   ]
  },
  {
   "cell_type": "markdown",
   "metadata": {},
   "source": [
    "Hmmm see how rank skips through 1, 4, 5, 6, 6? This is because **we only kept rows we have matches for**. The second wealthiest person is from Mexico, but since we didn't have GDP from Mexico it left. You can see if we just do a simple `.count()`"
   ]
  },
  {
   "cell_type": "code",
   "execution_count": 67,
   "metadata": {
    "collapsed": false
   },
   "outputs": [
    {
     "data": {
      "text/plain": [
       "1653"
      ]
     },
     "execution_count": 67,
     "metadata": {},
     "output_type": "execute_result"
    }
   ],
   "source": [
    "len(recent)"
   ]
  },
  {
   "cell_type": "code",
   "execution_count": 68,
   "metadata": {
    "collapsed": false
   },
   "outputs": [
    {
     "data": {
      "text/plain": [
       "1130"
      ]
     },
     "execution_count": 68,
     "metadata": {},
     "output_type": "execute_result"
    }
   ],
   "source": [
    "len(people_with_gdp)"
   ]
  },
  {
   "cell_type": "markdown",
   "metadata": {},
   "source": [
    "We lost like 500 people! Maybe even if we don't have the GDP of their country we want to keep them?\n",
    "\n",
    "### Types of joins\n",
    "\n",
    "Let's just look at our data real quick before I explain the two major types of joins."
   ]
  },
  {
   "cell_type": "code",
   "execution_count": 91,
   "metadata": {
    "collapsed": false
   },
   "outputs": [
    {
     "name": "stdout",
     "output_type": "stream",
     "text": [
      "We start with 1653\n"
     ]
    },
    {
     "data": {
      "text/html": [
       "<div>\n",
       "<table border=\"1\" class=\"dataframe\">\n",
       "  <thead>\n",
       "    <tr style=\"text-align: right;\">\n",
       "      <th></th>\n",
       "      <th>rank</th>\n",
       "      <th>name</th>\n",
       "      <th>countrycode</th>\n",
       "    </tr>\n",
       "  </thead>\n",
       "  <tbody>\n",
       "    <tr>\n",
       "      <th>284</th>\n",
       "      <td>1</td>\n",
       "      <td>Bill Gates</td>\n",
       "      <td>USA</td>\n",
       "    </tr>\n",
       "    <tr>\n",
       "      <th>348</th>\n",
       "      <td>2</td>\n",
       "      <td>Carlos Slim Helu</td>\n",
       "      <td>MEX</td>\n",
       "    </tr>\n",
       "    <tr>\n",
       "      <th>124</th>\n",
       "      <td>3</td>\n",
       "      <td>Amancio Ortega</td>\n",
       "      <td>ESP</td>\n",
       "    </tr>\n",
       "  </tbody>\n",
       "</table>\n",
       "</div>"
      ],
      "text/plain": [
       "     rank              name countrycode\n",
       "284     1        Bill Gates         USA\n",
       "348     2  Carlos Slim Helu         MEX\n",
       "124     3    Amancio Ortega         ESP"
      ]
     },
     "execution_count": 91,
     "metadata": {},
     "output_type": "execute_result"
    }
   ],
   "source": [
    "# How many rows in our 2014 dataframe?\n",
    "print(\"We start with\", len(recent))\n",
    "recent[['rank','name', 'countrycode']].sort_values(by='rank').head(3)"
   ]
  },
  {
   "cell_type": "markdown",
   "metadata": {},
   "source": [
    "### Inner joins\n",
    "\n",
    "The default kind of join is an **inner** join. It requires you to have a match on the left hand side AND the right hand side.\n",
    "\n",
    "**If you're in the original dataframe and you don't have a match in the joining dataframe, you disappear.** Watch how Carlos \"Slim\" Helu and Amancio Ortega both disappear. "
   ]
  },
  {
   "cell_type": "code",
   "execution_count": 92,
   "metadata": {
    "collapsed": false
   },
   "outputs": [
    {
     "name": "stdout",
     "output_type": "stream",
     "text": [
      "We now have 1130\n"
     ]
    },
    {
     "data": {
      "text/html": [
       "<div>\n",
       "<table border=\"1\" class=\"dataframe\">\n",
       "  <thead>\n",
       "    <tr style=\"text-align: right;\">\n",
       "      <th></th>\n",
       "      <th>rank</th>\n",
       "      <th>name</th>\n",
       "      <th>countrycode</th>\n",
       "      <th>gdp_billions</th>\n",
       "    </tr>\n",
       "  </thead>\n",
       "  <tbody>\n",
       "    <tr>\n",
       "      <th>33</th>\n",
       "      <td>1</td>\n",
       "      <td>Bill Gates</td>\n",
       "      <td>USA</td>\n",
       "      <td>17418.0</td>\n",
       "    </tr>\n",
       "    <tr>\n",
       "      <th>484</th>\n",
       "      <td>4</td>\n",
       "      <td>Warren Buffett</td>\n",
       "      <td>USA</td>\n",
       "      <td>17418.0</td>\n",
       "    </tr>\n",
       "    <tr>\n",
       "      <th>280</th>\n",
       "      <td>5</td>\n",
       "      <td>Larry Ellison</td>\n",
       "      <td>USA</td>\n",
       "      <td>17418.0</td>\n",
       "    </tr>\n",
       "  </tbody>\n",
       "</table>\n",
       "</div>"
      ],
      "text/plain": [
       "     rank            name countrycode  gdp_billions\n",
       "33      1      Bill Gates         USA       17418.0\n",
       "484     4  Warren Buffett         USA       17418.0\n",
       "280     5   Larry Ellison         USA       17418.0"
      ]
     },
     "execution_count": 92,
     "metadata": {},
     "output_type": "execute_result"
    }
   ],
   "source": [
    "# Inner join must have a match in both tables\n",
    "inner_join_df = recent.merge(gdp_df, left_on='countrycode', right_on='country')\n",
    "print(\"We now have\", len(inner_join_df))\n",
    "inner_join_df[['rank','name', 'countrycode', 'gdp_billions']].sort_values(by='rank').head(3)"
   ]
  },
  {
   "cell_type": "markdown",
   "metadata": {},
   "source": [
    "### Left join\n",
    "\n",
    "The other major kind of join is a **left join**. The \"left\" dataframe (the one you type first), gets to keep its rows, even if there aren't any matches in the joining dataframe."
   ]
  },
  {
   "cell_type": "code",
   "execution_count": 93,
   "metadata": {
    "collapsed": false
   },
   "outputs": [
    {
     "name": "stdout",
     "output_type": "stream",
     "text": [
      "We now have 1653\n"
     ]
    },
    {
     "data": {
      "text/html": [
       "<div>\n",
       "<table border=\"1\" class=\"dataframe\">\n",
       "  <thead>\n",
       "    <tr style=\"text-align: right;\">\n",
       "      <th></th>\n",
       "      <th>rank</th>\n",
       "      <th>name</th>\n",
       "      <th>countrycode</th>\n",
       "      <th>gdp_billions</th>\n",
       "    </tr>\n",
       "  </thead>\n",
       "  <tbody>\n",
       "    <tr>\n",
       "      <th>184</th>\n",
       "      <td>1</td>\n",
       "      <td>Bill Gates</td>\n",
       "      <td>USA</td>\n",
       "      <td>17418.0</td>\n",
       "    </tr>\n",
       "    <tr>\n",
       "      <th>226</th>\n",
       "      <td>2</td>\n",
       "      <td>Carlos Slim Helu</td>\n",
       "      <td>MEX</td>\n",
       "      <td>NaN</td>\n",
       "    </tr>\n",
       "    <tr>\n",
       "      <th>79</th>\n",
       "      <td>3</td>\n",
       "      <td>Amancio Ortega</td>\n",
       "      <td>ESP</td>\n",
       "      <td>NaN</td>\n",
       "    </tr>\n",
       "  </tbody>\n",
       "</table>\n",
       "</div>"
      ],
      "text/plain": [
       "     rank              name countrycode  gdp_billions\n",
       "184     1        Bill Gates         USA       17418.0\n",
       "226     2  Carlos Slim Helu         MEX           NaN\n",
       "79      3    Amancio Ortega         ESP           NaN"
      ]
     },
     "execution_count": 93,
     "metadata": {},
     "output_type": "execute_result"
    }
   ],
   "source": [
    "# Do a left join, we keep everyone even if they don't have a match in the gdp table\n",
    "left_join_df = recent.merge(gdp_df, left_on='countrycode', right_on='country', how='left')\n",
    "print(\"We now have\", len(left_join_df))\n",
    "left_join_df[['rank', 'name','countrycode', 'gdp_billions']].sort_values(by='rank').head(3)"
   ]
  },
  {
   "cell_type": "markdown",
   "metadata": {},
   "source": [
    "### A pretty join picture\n",
    "\n",
    "Did you see this image already? Well, now you have.\n",
    "\n",
    "![](http://i.imgur.com/7Ssc4l.jpg)"
   ]
  },
  {
   "cell_type": "markdown",
   "metadata": {},
   "source": [
    "# Functions\n",
    "\n",
    "We should have a whole class dedicated to functions, but just in case I'm going to put it down in here!\n",
    "\n",
    "**A function is a reuseable chunk of code**. You know how we write `len` whenever we want the length of a list? We can make our own things like that!\n",
    "\n",
    "## A simple function\n",
    "\n",
    "Let's say my job is to take two numbers, add them together, and multiply by two."
   ]
  },
  {
   "cell_type": "code",
   "execution_count": 1,
   "metadata": {
    "collapsed": false
   },
   "outputs": [
    {
     "name": "stdout",
     "output_type": "stream",
     "text": [
      "14\n",
      "20\n",
      "280\n"
     ]
    }
   ],
   "source": [
    "# 3 and 4\n",
    "print((3 + 4) * 2)\n",
    "\n",
    "# 4 and 6\n",
    "print((4 + 6) * 2)\n",
    "\n",
    "# 100 and 40\n",
    "print((100 + 40) * 2)"
   ]
  },
  {
   "cell_type": "markdown",
   "metadata": {},
   "source": [
    "I'm clearly prettty good at my job, but I get tired of writing the same thing over and over again, and **what if I accidentally make a typo?** It would be a lot easier if there was a function like `len` that, instead of giving me the length of a list, could take two numbers and print out the answer.\n",
    "\n",
    "So, let's make that."
   ]
  },
  {
   "cell_type": "code",
   "execution_count": 2,
   "metadata": {
    "collapsed": false
   },
   "outputs": [
    {
     "name": "stdout",
     "output_type": "stream",
     "text": [
      "14\n",
      "20\n",
      "280\n"
     ]
    }
   ],
   "source": [
    "def calc(a, b):\n",
    "    added = a + b\n",
    "    return added * 2;\n",
    "\n",
    "print(calc(3, 4))\n",
    "print(calc(4, 6))\n",
    "print(calc(100, 40))"
   ]
  },
  {
   "cell_type": "markdown",
   "metadata": {},
   "source": [
    "I can even use it down here, save it to a variable, whatever"
   ]
  },
  {
   "cell_type": "code",
   "execution_count": 3,
   "metadata": {
    "collapsed": false
   },
   "outputs": [
    {
     "name": "stdout",
     "output_type": "stream",
     "text": [
      "The calculated result is 820\n"
     ]
    }
   ],
   "source": [
    "result = calc(10, 400)\n",
    "print(\"The calculated result is\", result)"
   ]
  },
  {
   "cell_type": "markdown",
   "metadata": {},
   "source": [
    "## Parts of a function\n",
    "\n",
    "Our function looks like this:\n",
    "\n",
    "````py\n",
    "def calc(a, b):\n",
    "    added = a + b\n",
    "    return added * 2;\n",
    "````\n",
    "\n",
    "It's a function called `calc` that takes two parameters - we call them `a` and `b` - and then sends back a calculated result.\n",
    "\n",
    "* **`def`** means \"I'm going to define a function now\n",
    "* **`calc`** is the function's name\n",
    "* **`(a, b)`** are the parameters it takes - when I use `calc`, what can I send it?\n",
    "* **`return`** lets the function know that I'm finished and ready to send something back."
   ]
  },
  {
   "cell_type": "code",
   "execution_count": null,
   "metadata": {
    "collapsed": true
   },
   "outputs": [],
   "source": []
  }
 ],
 "metadata": {
  "kernelspec": {
   "display_name": "Python 3",
   "language": "python",
   "name": "python3"
  },
  "language_info": {
   "codemirror_mode": {
    "name": "ipython",
    "version": 3
   },
   "file_extension": ".py",
   "mimetype": "text/x-python",
   "name": "python",
   "nbconvert_exporter": "python",
   "pygments_lexer": "ipython3",
   "version": "3.4.2"
  }
 },
 "nbformat": 4,
 "nbformat_minor": 0
}
