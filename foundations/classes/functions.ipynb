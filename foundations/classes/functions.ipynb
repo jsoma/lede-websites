{
 "cells": [
  {
   "cell_type": "markdown",
   "metadata": {},
   "source": [
    "# Class 9: Functions\n",
    "\n",
    "## A painful analogy\n",
    "\n",
    "What do you do when you wake up in the morning?\n",
    "\n",
    "I don't know about you, but I **get ready.**\n",
    "\n",
    "\"Obviously,\" you say, a little too snidely for my liking. You're particular, very detail-oriented, and need more information out of me.\n",
    "\n",
    "Fine, then. Since you're going to be nitpicky, I might be able to break it down a little bit more for you...\n",
    "\n",
    "1. I get out of bed\n",
    "2. I take a shower\n",
    "3. I get dressed\n",
    "4. **I eat breakfast**\n",
    "\n",
    "Unfortunately that's not good enough for you. \"But how do you eat breakfast?\" Well, maybe I...\n",
    "\n",
    "1. Get a bowl out of a cabinet\n",
    "2. Get some cereal out of the pantry\n",
    "3. Get some milk out of the fridge\n",
    "4. Pour some cereal into a bowl\n",
    "5. Pour some milk into the bowl\n",
    "6. Sit down at the table and start eating\n",
    "\n",
    "\"Are you eating with a spoon?\" you interrupt. \"When did you get the spoon out? Was that after the milk, or before the bowl?\"\n",
    "\n",
    "It's annoying people like this that make us have **functions.**\n",
    "\n",
    "> **FUN FACT:** The joke's on you, because **I don't even actually eat cereal.** Maybe I don't even get ready in the morning, either.\n",
    "\n",
    "## What is a function?\n",
    "\n",
    "Functions are chunks of code that do something. They're different than the code we've written so far because **they have names**.\n",
    "\n",
    "\n",
    "Instead of detailing each and every step involved in eating breakfast, I just use \"I eat breakfast\" as a shorthand for many, many detailed steps. Functions are the same - they allow us to take complicated parts of code, give it a name, and type **`just_eat_breakfast()`** every morning instead of twenty-five lines of code.\n",
    "\n",
    "## What are some examples of functions?\n",
    "\n",
    "We've used a lot of functions in our time with Python. You remember our good buddy `len`? It's a **function** that gives back the length of whatever you send its way, e.g. `len(\"ghost\")` is `5` and `len(\"cartography\")` is 11."
   ]
  },
  {
   "cell_type": "code",
   "execution_count": null,
   "metadata": {
    "collapsed": false
   },
   "outputs": [],
   "source": [
    "len"
   ]
  },
  {
   "cell_type": "markdown",
   "metadata": {},
   "source": [
    "**Almost everything useful is a function.** Python has [a ton of other built-in functions](https://docs.python.org/2/library/functions.html)!\n",
    "\n",
    "Along with `len`,  a couple you might have seen are:\n",
    "\n",
    "* `abs(...)` takes a number and returns the absolute value of the number\n",
    "* `int(...)` takes a string or float and returns it as an integer\n",
    "* `round(...)` takes a float and returns a rounded version of it\n",
    "* `sum(...)` takes a list and returns the sum of all of its elements\n",
    "* `max(...)` takes a list and returns the largest of all of its selements\n",
    "* `print(...)` takes whatever you want to give it and displays it on the screen\n",
    "\n",
    "Functions can also come from packages and libraries. The `.get` part of `requests.get` is a function, too!\n",
    "\n",
    "And here, to prove it to you?"
   ]
  },
  {
   "cell_type": "code",
   "execution_count": null,
   "metadata": {
    "collapsed": false
   },
   "outputs": [],
   "source": [
    "max"
   ]
  },
  {
   "cell_type": "code",
   "execution_count": null,
   "metadata": {
    "collapsed": false
   },
   "outputs": [],
   "source": [
    "print"
   ]
  },
  {
   "cell_type": "code",
   "execution_count": null,
   "metadata": {
    "collapsed": false
   },
   "outputs": [],
   "source": [
    "import requests\n",
    "requests.get"
   ]
  },
  {
   "cell_type": "code",
   "execution_count": null,
   "metadata": {
    "collapsed": false
   },
   "outputs": [],
   "source": [
    "# And if we just wanted to use them, for some reason\n",
    "n = -34\n",
    "print(n, \"in absolute value is\", abs(n))\n",
    "\n",
    "print(\"We can add after casting to int:\", 55 + int(\"55\"))\n",
    "\n",
    "n = 4.4847\n",
    "print(n, \"can be rounded to\", round(n))\n",
    "print(n, \"can also be rounded to 2 decimal points\", round(n, 2))\n",
    "\n",
    "numbers = [4, 22, 40, 54]\n",
    "print(\"The total of the list is\", sum(numbers))"
   ]
  },
  {
   "cell_type": "markdown",
   "metadata": {},
   "source": [
    "**See? Functions make the world run.**\n",
    "\n",
    "One useful role they play is **functions hide code that you wouldn't want to type a thousand times.** For example, you might have used `urlretrieve` from `urllib` to download files from around the internet. If you *didn't* use `urlretrieve` you'd have to type all of this:"
   ]
  },
  {
   "cell_type": "code",
   "execution_count": null,
   "metadata": {
    "collapsed": true
   },
   "outputs": [],
   "source": [
    "def urlretrieve(url, filename=None, reporthook=None, data=None):\n",
    "    url_type, path = splittype(url)\n",
    "\n",
    "    with contextlib.closing(urlopen(url, data)) as fp:\n",
    "        headers = fp.info()\n",
    "\n",
    "        # Just return the local path and the \"headers\" for file://\n",
    "        # URLs. No sense in performing a copy unless requested.\n",
    "        if url_type == \"file\" and not filename:\n",
    "            return os.path.normpath(path), headers\n",
    "\n",
    "        # Handle temporary file setup.\n",
    "        if filename:\n",
    "            tfp = open(filename, 'wb')\n",
    "        else:\n",
    "            tfp = tempfile.NamedTemporaryFile(delete=False)\n",
    "            filename = tfp.name\n",
    "            _url_tempfiles.append(filename)\n",
    "\n",
    "        with tfp:\n",
    "            result = filename, headers\n",
    "            bs = 1024*8\n",
    "            size = -1\n",
    "            read = 0\n",
    "            blocknum = 0\n",
    "            if \"content-length\" in headers:\n",
    "                size = int(headers[\"Content-Length\"])\n",
    "\n",
    "            if reporthook:\n",
    "                reporthook(blocknum, bs, size)\n",
    "\n",
    "            while True:\n",
    "                block = fp.read(bs)\n",
    "                if not block:\n",
    "                    break\n",
    "                read += len(block)\n",
    "                tfp.write(block)\n",
    "                blocknum += 1\n",
    "                if reporthook:\n",
    "                    reporthook(blocknum, bs, size)\n",
    "\n",
    "    if size >= 0 and read < size:\n",
    "        raise ContentTooShortError(\n",
    "            \"retrieval incomplete: got only %i out of %i bytes\"\n",
    "            % (read, size), result)\n",
    "\n",
    "    return result"
   ]
  },
  {
   "cell_type": "markdown",
   "metadata": {},
   "source": [
    "Horrifying, right? Thank goodness for functions.\n",
    "\n",
    "## Writing your own functions\n",
    "\n",
    "I've always been kind of jealous of `len(...)` and its crowd. It seemed unfair that Python made a list of cool, important functions, and neither me nor you had any say in the matter. What if I want a function that turns all of the periods in a sentence into exclamation points, or prints out a word a hundred million times?\n",
    "\n",
    "Well, turns out **that isn't a problem**. We can do that. Easily! *And we will*. If you can type `def` and use a colon, you can write a function.\n",
    "\n",
    "A function that you write yourself looks like this:"
   ]
  },
  {
   "cell_type": "code",
   "execution_count": null,
   "metadata": {
    "collapsed": false
   },
   "outputs": [],
   "source": [
    "# A function to multiply a number by two\n",
    "\n"
   ]
  },
  {
   "cell_type": "markdown",
   "metadata": {},
   "source": [
    "It has a handful of parts:\n",
    "\n",
    "1. **`def`** - tells Python \"hey buddy, we're about to define a function! Get ready.\" And Python appropriately prepares itself.\n",
    "2. **`double`** - is the **name** of the function, and it's how you'll refer to the function later on. For example, `len`'s function name is (obviously) `len`.\n",
    "3. **`(number)`** - defines the **parameters** that the function \"takes.\" You can see that this function is called `double`, and you send it one parameter that will be called `number`.\n",
    "4. **`return bigger`** - is called the **return statement**. If the function is a factory, this is the shipping department - **return** tells you what to send back to the main program.\n",
    "\n",
    "You'll see it doesn't *do* anything, though. That's because we haven't **called** the function, which is a programmer's way of saying **use** the function. Let's use it!"
   ]
  },
  {
   "cell_type": "code",
   "execution_count": null,
   "metadata": {
    "collapsed": false
   },
   "outputs": [],
   "source": [
    "print(\"2 times two is\", double(2))\n",
    "print(\"10 times two is\", double(10))\n",
    "print(\"56 times two is\", double(56))\n",
    "age = 76\n",
    "print(\"Double your age is\", double(age))"
   ]
  },
  {
   "cell_type": "markdown",
   "metadata": {},
   "source": [
    "## Function Naming\n",
    "\n",
    "Your function name has to be **unique**, otherwise Python will get confused. No other functions or variabels can share its name!\n",
    "\n",
    "For example, if you call it `len` it'll forget about the built-in `len` function, and if you give one of your variables the name `print` suddenly Python won't understand how `print(...)` works anymore.\n",
    "\n",
    "If you end up doing this, you'll get errors like the one below"
   ]
  },
  {
   "cell_type": "code",
   "execution_count": null,
   "metadata": {
    "collapsed": false
   },
   "outputs": [],
   "source": [
    "def greet(name):\n",
    "    return \"Hello \" + name\n",
    "\n",
    "# This one works\n",
    "print(greet(\"Soma\"))\n",
    "\n",
    "# Overwrite the function greet with a string\n",
    "greet = \"blah\"\n",
    "\n",
    "# Trying the function again breaks\n",
    "print(greet(\"Soma\"))"
   ]
  },
  {
   "cell_type": "markdown",
   "metadata": {},
   "source": [
    "## Parameters\n",
    "\n",
    "In our function `double`, we have a parameter called `number`.\n",
    "\n",
    "````py\n",
    "def double(number):\n",
    "    bigger = number * 2\n",
    "    return bigger\n",
    "````    \n",
    "Notice in the last example up above, though, we called `double(age)`. Those don't match!!!\n",
    "\n",
    "The thing is, **your function doesn't care what the variable you send it is called**. Whatever you send it, it will rename. It's like if someone adopted my cat *Smushface*, they might think calling her *Petunia* would be a little bit nicer (it wouldn't be, but I wouldn't do anything about it).\n",
    "\n",
    "Here's an example with my favorite variable name `potato_soup`"
   ]
  },
  {
   "cell_type": "code",
   "execution_count": null,
   "metadata": {
    "collapsed": false
   },
   "outputs": [],
   "source": [
    "def exclaim(potato_soup):\n",
    "    return potato_soup + \"!!!!!!!!!!\"\n",
    "\n",
    "invitation = \"I hope you can come to my wedding\"\n",
    "print(exclaim(invitation))\n",
    "\n",
    "line = \"I am sorry to hear you have the flu\"\n",
    "print(exclaim(line))"
   ]
  },
  {
   "cell_type": "markdown",
   "metadata": {},
   "source": [
    "`invitation` and `line` both get renamed to `potato_soup` inside of the function, so you can reuse the function with **any** variable of **any** name.\n",
    "\n",
    "Let's say I have a function that does some **intense calculations**:\n",
    "\n",
    "````py\n",
    "def sum_times_two(a, b):\n",
    "    added = a + b\n",
    "    return added * 2\n",
    "````\n",
    "\n",
    "To reiterate: **`a` and `b` have nothing to do with the values outside of the function**. You don't have to make variables called `a` and `b` and then send them to the function, the function takes care of that by itself. For example, the below examples are perfectly fine.\n",
    "\n",
    "````py\n",
    "sum_times_two(2, 3)\n",
    "r = 4\n",
    "y = 7\n",
    "sum_times_two(r, y)\n",
    "````\n",
    "\n",
    "When you're outside of the function, you almost **never have to think about what's inside the function.** You don't care about what variabels are called or *anything*. It's a magic box. Think about how you don't know what `len` looks like inside, or `print`, but you use them all of the time!"
   ]
  },
  {
   "cell_type": "markdown",
   "metadata": {},
   "source": [
    "## Why functions?\n",
    "\n",
    "Two reasons to use functions, since maybe you'll ask:\n",
    "\n",
    "**Don't Repeat Yourself** - If you find yourself writing the same code again and again, it's a good time to put that code into a function. `len(...)` is a function because Python people decided that you shouldn't have to write length-calculating code every time you wanted to see how many characters were in a string.\n",
    "\n",
    "**Code Modularity** - sometimes it's just nice to *organize* your code. All of your parts that deal with counting dog names can go over here, and all of the stuff that has to do with boroughs goes over there. In the end it can make for more readable and maintanable code. (Maintainable code = code you can edit in the future without thinking real hard)\n",
    "\n",
    "Those reasons probably don't mean much to you right now, and I sure don't blame you. Abstract programming concepts are just dumb abstract things until you actually start using them.\n",
    "\n",
    "Let's say I wanted to greet someone and then tell them how long their name is, because I'm pedantic."
   ]
  },
  {
   "cell_type": "code",
   "execution_count": null,
   "metadata": {
    "collapsed": false
   },
   "outputs": [],
   "source": [
    "name = \"Nancy\"\n",
    "name_length = len(name)\n",
    "print(\"Hello\", name, \"your name is\", name_length, \"letters long\")\n",
    "\n",
    "name = \"Brick\"\n",
    "name_length = len(name)\n",
    "print(\"Hello\", name, \"your name is\", name_length, \"letters long\")\n",
    "\n",
    "name = \"Saint Augustine\"\n",
    "name_length = len(name)\n",
    "print(\"Hello\", name, \"your name is\", name_length, \"letters long\")"
   ]
  },
  {
   "cell_type": "markdown",
   "metadata": {},
   "source": [
    "**Do you know how exhausted I got typing all of that out?** And how it makes no sense at all? Luckily, functions save us: all of our code goes into one place so we don't have to repeat ourselves, *and* we can give it a descriptive name."
   ]
  },
  {
   "cell_type": "code",
   "execution_count": null,
   "metadata": {
    "collapsed": false
   },
   "outputs": [],
   "source": [
    "def weird_greeting(name):\n",
    "    name_length = len(name)\n",
    "    print(\"Hello\", name, \"your name is\", name_length, \"letters long\")\n",
    "\n",
    "weird_greeting(\"Nancy\")\n",
    "weird_greeting(\"Brick\")\n",
    "weird_greeting(\"Saint Augustine\")"
   ]
  },
  {
   "cell_type": "markdown",
   "metadata": {},
   "source": [
    "# `return`\n",
    "\n",
    "The role of a function is generally **to do something and then send the result back to us**. `len` sends us back the length of the string, `requests.get` sends us back the web page we requested.\n",
    "\n",
    "````py\n",
    "def double(a):\n",
    "    return a * 2\n",
    "````\n",
    "\n",
    "**This is called the `return` statement.** You don't *have* to send something back (`print` doesn't) but you usually want to.\n",
    "\n",
    "# Writing a custom function\n",
    "\n",
    "Let's say we have some code that compares the number of boats you have to the number of cars you have.\n",
    "\n",
    "````python\n",
    "if boat_count > car_count:\n",
    "    print \"Larger\"\n",
    "else:\n",
    "    print \"Smaller\"\n",
    "````\n",
    "\n",
    "Simple, right? But unfortunately we're at a rich people convention where they're always comparing the number of boats to the number of cars to the number of planes etc etc etc. If we have to check *again and again and again and again* for all of those people and always print *Larger* or *Smaller* I'm sure we'd get bored of typing all that. So let's convert it to a function!\n",
    "\n",
    "Let's give our function a **name** of `size_comparison`. Remember: We can name our functions whatever we want, *as long as it's unique*.\n",
    "\n",
    "Our function will take **two parameters**. they're `boat_coat` and `car_count` above, but we want generic, re-usable names, so maybe like, uh, `a` and `b`?\n",
    "\n",
    "For our function's **return value**, let's have it send back `\"Larger\"` or `\"Smaller\"`."
   ]
  },
  {
   "cell_type": "code",
   "execution_count": null,
   "metadata": {
    "collapsed": true
   },
   "outputs": [],
   "source": [
    "# Our cool function\n",
    "def size_comparison(a, b):\n",
    "    if a > b:\n",
    "        return \"Larger\"\n",
    "    else:\n",
    "        return \"Smaller\""
   ]
  },
  {
   "cell_type": "code",
   "execution_count": null,
   "metadata": {
    "collapsed": false
   },
   "outputs": [],
   "source": [
    "print(size_comparison(4, 5.5))\n",
    "print(size_comparison(65, 2))\n",
    "print(size_comparison(34.2, 33))"
   ]
  },
  {
   "cell_type": "markdown",
   "metadata": {},
   "source": [
    "# Your Turn\n",
    "\n",
    "This is a do-now even though it's not the beginning of class!"
   ]
  },
  {
   "cell_type": "markdown",
   "metadata": {},
   "source": [
    "### 1a. Driving Speed\n",
    "\n",
    "With the code below, it tells you how fast you're driving. I figure that a lot of people are more familiar with kilometers an hour, though, so let's write a function that does the conversion. I wrote a skeleton, now you can fill in the conversion.\n",
    "\n",
    "Make it display a whole number."
   ]
  },
  {
   "cell_type": "code",
   "execution_count": null,
   "metadata": {
    "collapsed": false
   },
   "outputs": [],
   "source": [
    "def to_kmh(speeed):\n",
    "    \"YOUR CODE HERE\"\n",
    "\n",
    "mph = 40\n",
    "print(\"You are driving\", mph, \"in mph\")\n",
    "print(\"You are driving\", to_kmh(mph), \"in kmh\")"
   ]
  },
  {
   "cell_type": "markdown",
   "metadata": {},
   "source": [
    "### 1b. Driving Speed Part II\n",
    "\n",
    "Now write a function called `to_mpm` that, when given miles per hour, computes the meters per minute."
   ]
  },
  {
   "cell_type": "markdown",
   "metadata": {},
   "source": [
    "### 1c. Driving Speed Part III\n",
    "\n",
    "Rewrite `to_mpm` to use the `to_kmh` function. **D.R.Y.**!"
   ]
  },
  {
   "cell_type": "markdown",
   "metadata": {},
   "source": [
    "### 2. Broken Function\n",
    "\n",
    "The code below won't work. Why not?"
   ]
  },
  {
   "cell_type": "code",
   "execution_count": null,
   "metadata": {
    "collapsed": false
   },
   "outputs": [],
   "source": [
    "# You have to wash ten cars on every street, along with the cars in your driveway.\n",
    "# With the following list of streets, how many cars do we have?\n",
    "\n",
    "def total(n):\n",
    "    return n * 10\n",
    "\n",
    "# Here are the streets\n",
    "streets = ['10th Ave', '11th Street', '45th Ave']\n",
    "\n",
    "# Let's count them up\n",
    "total = len(streets)\n",
    "\n",
    "# And add one\n",
    "count = total + 1\n",
    "\n",
    "# And see how many we have\n",
    "print(total(count))"
   ]
  },
  {
   "cell_type": "markdown",
   "metadata": {},
   "source": [
    "### 3. Data converter\n",
    "\n",
    "We have a bunch of data in different formats, and we need to normalize it! The data looks like this:\n",
    "\n",
    "````python\n",
    "var first = { 'measurement': 3.4, 'scale': 'kilometer' }\n",
    "var second = { 'measurement': 9.1, 'scale': 'mile' }\n",
    "var third = { 'measurement': 2.0, 'scale': 'meter' }\n",
    "var fourth = { 'measurement': 9.0, 'scale': 'inches' }\n",
    "````\n",
    "\n",
    "Write a function called `to_meters(...)`. When you send it a dictionary, have it examine the `measurement` and `scale` and return the adjusted value. For the values above, 3.4 kilometers should be 3400.0 meters, 9.1 miles should be around 14600, and 9 inches should be apprxoimately 0.23."
   ]
  },
  {
   "cell_type": "code",
   "execution_count": null,
   "metadata": {
    "collapsed": true
   },
   "outputs": [],
   "source": []
  }
 ],
 "metadata": {
  "kernelspec": {
   "display_name": "Python 3",
   "language": "python",
   "name": "python3"
  },
  "language_info": {
   "codemirror_mode": {
    "name": "ipython",
    "version": 3
   },
   "file_extension": ".py",
   "mimetype": "text/x-python",
   "name": "python",
   "nbconvert_exporter": "python",
   "pygments_lexer": "ipython3",
   "version": "3.4.2"
  }
 },
 "nbformat": 4,
 "nbformat_minor": 0
}
