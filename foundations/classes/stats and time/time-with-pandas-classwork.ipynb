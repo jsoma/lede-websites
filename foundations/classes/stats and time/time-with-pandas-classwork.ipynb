{
 "cells": [
  {
   "cell_type": "code",
   "execution_count": null,
   "metadata": {
    "collapsed": true
   },
   "outputs": [],
   "source": [
    "import pandas as pd\n",
    "import numpy as np\n",
    "import matplotlib.pyplot as plt\n",
    "%matplotlib inline\n",
    "plt.style.use('ggplot')\n",
    "import dateutil.parser"
   ]
  },
  {
   "cell_type": "code",
   "execution_count": null,
   "metadata": {
    "collapsed": true
   },
   "outputs": [],
   "source": [
    "# Note to self for later: http://stackoverflow.com/a/17001474"
   ]
  },
  {
   "cell_type": "code",
   "execution_count": null,
   "metadata": {
    "collapsed": false
   },
   "outputs": [],
   "source": [
    "# Data from https://www.census.gov/econ/currentdata/datasets/\n",
    "data_df = pd.read_excel(\"RESSALES-mf.xlsx\", sheetname='data')\n",
    "data_df.head()"
   ]
  },
  {
   "cell_type": "code",
   "execution_count": null,
   "metadata": {
    "collapsed": true
   },
   "outputs": [],
   "source": [
    "categories_df = pd.read_excel(\"RESSALES-mf.xlsx\", sheetname='categories')\n",
    "data_types_df = pd.read_excel(\"RESSALES-mf.xlsx\", sheetname='data_types')\n",
    "error_types_df = pd.read_excel(\"RESSALES-mf.xlsx\", sheetname='error_types')\n",
    "geo_levels_df = pd.read_excel(\"RESSALES-mf.xlsx\", sheetname='geo_levels')\n",
    "periods_df = pd.read_excel(\"RESSALES-mf.xlsx\", sheetname='periods')"
   ]
  },
  {
   "cell_type": "code",
   "execution_count": null,
   "metadata": {
    "collapsed": false
   },
   "outputs": [],
   "source": [
    "categories_df.head(2)"
   ]
  },
  {
   "cell_type": "code",
   "execution_count": null,
   "metadata": {
    "collapsed": true
   },
   "outputs": [],
   "source": [
    "# it auto-merges cat_idx in our original dataframe with cat_idx in categories_df\n",
    "# it auto-merges dt_idx in our original dataframe with dt_idx in data_types_df\n",
    "# it auto-merges geo_idx in our original dataframe with geo_idx in geo_levels_df\n",
    "# it auto-merges per_idx in our original dataframe with per_idx in periods_df\n",
    "df = data_df.merge(categories_df).merge(data_types_df).merge(geo_levels_df).merge(periods_df)\n",
    "# We only want to look at the total number of homes sold across entire the united states\n",
    "df = df[(df['cat_code'] == 'SOLD') & (df['geo_code'] == 'US') & (df['dt_code'] == 'TOTAL')]"
   ]
  },
  {
   "cell_type": "code",
   "execution_count": null,
   "metadata": {
    "collapsed": false
   },
   "outputs": [],
   "source": [
    "# We don't merge error_types_df because all of the errors are the same\n",
    "df['et_idx'].value_counts()"
   ]
  },
  {
   "cell_type": "code",
   "execution_count": null,
   "metadata": {
    "collapsed": false
   },
   "outputs": [],
   "source": [
    "df.head(2)"
   ]
  },
  {
   "cell_type": "code",
   "execution_count": null,
   "metadata": {
    "collapsed": false
   },
   "outputs": [],
   "source": [
    "# Now let's remove the join columns to keep things clean\n",
    "df = df.drop(['per_idx', 'cat_idx', 'dt_idx', 'et_idx', 'geo_idx'], axis=1)\n",
    "df.head()"
   ]
  },
  {
   "cell_type": "code",
   "execution_count": null,
   "metadata": {
    "collapsed": false
   },
   "outputs": [],
   "source": [
    "# At least we can see 'per_name' (period name) is already a datetime!\n",
    "df.info()"
   ]
  },
  {
   "cell_type": "code",
   "execution_count": null,
   "metadata": {
    "collapsed": true
   },
   "outputs": [],
   "source": []
  }
 ],
 "metadata": {
  "kernelspec": {
   "display_name": "Python 3",
   "language": "python",
   "name": "python3"
  },
  "language_info": {
   "codemirror_mode": {
    "name": "ipython",
    "version": 3
   },
   "file_extension": ".py",
   "mimetype": "text/x-python",
   "name": "python",
   "nbconvert_exporter": "python",
   "pygments_lexer": "ipython3",
   "version": "3.4.2"
  }
 },
 "nbformat": 4,
 "nbformat_minor": 0
}
