{
 "cells": [
  {
   "cell_type": "markdown",
   "metadata": {},
   "source": [
    "# Hip hop over time\n",
    "\n",
    "Billboard has a \"R and B / Hip Hop\" list, which is a little absurd because the genres aren't *quite* the same. Let's track the changes over the years.\n",
    "\n",
    "And let's get this out of the way now: **every time you make a vectorizer**, you'll want to ask yourself a few questions.\n",
    "\n",
    "* What kind of vectorizer do you need? CountVectorizer? TfIdf?\n",
    "* If TdIfd, do you use use_idf=True or use_idf=False?\n",
    "* Does your vectorizer require a certain vocabulary?\n",
    "* Do you care about multiple words (\"he said\" vs. \"she said\")? If so, do you need to do something special so it pays attention to that?\n",
    "* Should you lemmatize/stem when you're processing?"
   ]
  },
  {
   "cell_type": "markdown",
   "metadata": {},
   "source": [
    "# Reading in the files\n",
    "\n",
    "## Getting a list of every file we'll want to read in"
   ]
  },
  {
   "cell_type": "code",
   "execution_count": 1,
   "metadata": {},
   "outputs": [
    {
     "data": {
      "text/plain": [
       "['hip-hop/1965/a-change-is-gonna-come-sam-cooke',\n",
       " 'hip-hop/1965/a-lovers-concerto-the-toys',\n",
       " 'hip-hop/1965/a-woman-can-change-a-man-joe-tex',\n",
       " 'hip-hop/1965/a-womans-love-carla-thomas',\n",
       " 'hip-hop/1965/aint-that-peculiar-marvin-gaye']"
      ]
     },
     "execution_count": 1,
     "metadata": {},
     "output_type": "execute_result"
    }
   ],
   "source": [
    "import glob\n",
    "filenames = glob.glob('hip-hop/*/*')\n",
    "filenames[:5]"
   ]
  },
  {
   "cell_type": "markdown",
   "metadata": {},
   "source": [
    "## Reading in the files using a list comprehension"
   ]
  },
  {
   "cell_type": "code",
   "execution_count": 3,
   "metadata": {},
   "outputs": [
    {
     "data": {
      "text/plain": [
       "7458"
      ]
     },
     "execution_count": 3,
     "metadata": {},
     "output_type": "execute_result"
    }
   ],
   "source": [
    "contents = [open(filename).read() for filename in filenames]\n",
    "len(contents)"
   ]
  },
  {
   "cell_type": "markdown",
   "metadata": {},
   "source": [
    "## Use the filenames and the contents to build a dataframe"
   ]
  },
  {
   "cell_type": "code",
   "execution_count": 4,
   "metadata": {},
   "outputs": [
    {
     "data": {
      "text/html": [
       "<div>\n",
       "<style>\n",
       "    .dataframe thead tr:only-child th {\n",
       "        text-align: right;\n",
       "    }\n",
       "\n",
       "    .dataframe thead th {\n",
       "        text-align: left;\n",
       "    }\n",
       "\n",
       "    .dataframe tbody tr th {\n",
       "        vertical-align: top;\n",
       "    }\n",
       "</style>\n",
       "<table border=\"1\" class=\"dataframe\">\n",
       "  <thead>\n",
       "    <tr style=\"text-align: right;\">\n",
       "      <th></th>\n",
       "      <th>filename</th>\n",
       "      <th>lyrics</th>\n",
       "    </tr>\n",
       "  </thead>\n",
       "  <tbody>\n",
       "    <tr>\n",
       "      <th>0</th>\n",
       "      <td>hip-hop/1965/a-change-is-gonna-come-sam-cooke</td>\n",
       "      <td>[Verse 1]\\nI was born by the river\\nIn a littl...</td>\n",
       "    </tr>\n",
       "    <tr>\n",
       "      <th>1</th>\n",
       "      <td>hip-hop/1965/a-lovers-concerto-the-toys</td>\n",
       "      <td>How gentle is the rain\\nThat falls softly on t...</td>\n",
       "    </tr>\n",
       "    <tr>\n",
       "      <th>2</th>\n",
       "      <td>hip-hop/1965/a-woman-can-change-a-man-joe-tex</td>\n",
       "      <td>A man can say what he won't do\\nBut if she rea...</td>\n",
       "    </tr>\n",
       "    <tr>\n",
       "      <th>3</th>\n",
       "      <td>hip-hop/1965/a-womans-love-carla-thomas</td>\n",
       "      <td>When I ask you where you've been\\nDon't get an...</td>\n",
       "    </tr>\n",
       "    <tr>\n",
       "      <th>4</th>\n",
       "      <td>hip-hop/1965/aint-that-peculiar-marvin-gaye</td>\n",
       "      <td>[Verse 1]\\nHoney you do me wrong but still I'm...</td>\n",
       "    </tr>\n",
       "  </tbody>\n",
       "</table>\n",
       "</div>"
      ],
      "text/plain": [
       "                                        filename  \\\n",
       "0  hip-hop/1965/a-change-is-gonna-come-sam-cooke   \n",
       "1        hip-hop/1965/a-lovers-concerto-the-toys   \n",
       "2  hip-hop/1965/a-woman-can-change-a-man-joe-tex   \n",
       "3        hip-hop/1965/a-womans-love-carla-thomas   \n",
       "4    hip-hop/1965/aint-that-peculiar-marvin-gaye   \n",
       "\n",
       "                                              lyrics  \n",
       "0  [Verse 1]\\nI was born by the river\\nIn a littl...  \n",
       "1  How gentle is the rain\\nThat falls softly on t...  \n",
       "2  A man can say what he won't do\\nBut if she rea...  \n",
       "3  When I ask you where you've been\\nDon't get an...  \n",
       "4  [Verse 1]\\nHoney you do me wrong but still I'm...  "
      ]
     },
     "execution_count": 4,
     "metadata": {},
     "output_type": "execute_result"
    }
   ],
   "source": [
    "import pandas as pd\n",
    "\n",
    "df = pd.DataFrame({\n",
    "    'lyrics': contents,\n",
    "    'filename': filenames\n",
    "})\n",
    "df.head()"
   ]
  },
  {
   "cell_type": "markdown",
   "metadata": {},
   "source": [
    "## Extract the year into a different column"
   ]
  },
  {
   "cell_type": "code",
   "execution_count": 5,
   "metadata": {},
   "outputs": [
    {
     "data": {
      "text/html": [
       "<div>\n",
       "<style>\n",
       "    .dataframe thead tr:only-child th {\n",
       "        text-align: right;\n",
       "    }\n",
       "\n",
       "    .dataframe thead th {\n",
       "        text-align: left;\n",
       "    }\n",
       "\n",
       "    .dataframe tbody tr th {\n",
       "        vertical-align: top;\n",
       "    }\n",
       "</style>\n",
       "<table border=\"1\" class=\"dataframe\">\n",
       "  <thead>\n",
       "    <tr style=\"text-align: right;\">\n",
       "      <th></th>\n",
       "      <th>filename</th>\n",
       "      <th>lyrics</th>\n",
       "      <th>year</th>\n",
       "    </tr>\n",
       "  </thead>\n",
       "  <tbody>\n",
       "    <tr>\n",
       "      <th>0</th>\n",
       "      <td>hip-hop/1965/a-change-is-gonna-come-sam-cooke</td>\n",
       "      <td>[Verse 1]\\nI was born by the river\\nIn a littl...</td>\n",
       "      <td>1965</td>\n",
       "    </tr>\n",
       "    <tr>\n",
       "      <th>1</th>\n",
       "      <td>hip-hop/1965/a-lovers-concerto-the-toys</td>\n",
       "      <td>How gentle is the rain\\nThat falls softly on t...</td>\n",
       "      <td>1965</td>\n",
       "    </tr>\n",
       "  </tbody>\n",
       "</table>\n",
       "</div>"
      ],
      "text/plain": [
       "                                        filename  \\\n",
       "0  hip-hop/1965/a-change-is-gonna-come-sam-cooke   \n",
       "1        hip-hop/1965/a-lovers-concerto-the-toys   \n",
       "\n",
       "                                              lyrics  year  \n",
       "0  [Verse 1]\\nI was born by the river\\nIn a littl...  1965  \n",
       "1  How gentle is the rain\\nThat falls softly on t...  1965  "
      ]
     },
     "execution_count": 5,
     "metadata": {},
     "output_type": "execute_result"
    }
   ],
   "source": [
    "# expand=False just gets rid of a warning\n",
    "df['year'] = df.filename.str.extract('hip-hop/(\\d*)/', expand=False)\n",
    "df.head(2)"
   ]
  },
  {
   "cell_type": "markdown",
   "metadata": {},
   "source": [
    "## Use the year to create a datetime column\n",
    "\n",
    "Even though it's a lie, because the billboard charts are weekly. I just didn't save that information!"
   ]
  },
  {
   "cell_type": "code",
   "execution_count": 7,
   "metadata": {},
   "outputs": [
    {
     "data": {
      "text/html": [
       "<div>\n",
       "<style>\n",
       "    .dataframe thead tr:only-child th {\n",
       "        text-align: right;\n",
       "    }\n",
       "\n",
       "    .dataframe thead th {\n",
       "        text-align: left;\n",
       "    }\n",
       "\n",
       "    .dataframe tbody tr th {\n",
       "        vertical-align: top;\n",
       "    }\n",
       "</style>\n",
       "<table border=\"1\" class=\"dataframe\">\n",
       "  <thead>\n",
       "    <tr style=\"text-align: right;\">\n",
       "      <th></th>\n",
       "      <th>filename</th>\n",
       "      <th>lyrics</th>\n",
       "      <th>year</th>\n",
       "      <th>datetime</th>\n",
       "    </tr>\n",
       "  </thead>\n",
       "  <tbody>\n",
       "    <tr>\n",
       "      <th>0</th>\n",
       "      <td>hip-hop/1965/a-change-is-gonna-come-sam-cooke</td>\n",
       "      <td>[Verse 1]\\nI was born by the river\\nIn a littl...</td>\n",
       "      <td>1965</td>\n",
       "      <td>1965-01-01</td>\n",
       "    </tr>\n",
       "    <tr>\n",
       "      <th>1</th>\n",
       "      <td>hip-hop/1965/a-lovers-concerto-the-toys</td>\n",
       "      <td>How gentle is the rain\\nThat falls softly on t...</td>\n",
       "      <td>1965</td>\n",
       "      <td>1965-01-01</td>\n",
       "    </tr>\n",
       "  </tbody>\n",
       "</table>\n",
       "</div>"
      ],
      "text/plain": [
       "                                        filename  \\\n",
       "0  hip-hop/1965/a-change-is-gonna-come-sam-cooke   \n",
       "1        hip-hop/1965/a-lovers-concerto-the-toys   \n",
       "\n",
       "                                              lyrics  year   datetime  \n",
       "0  [Verse 1]\\nI was born by the river\\nIn a littl...  1965 1965-01-01  \n",
       "1  How gentle is the rain\\nThat falls softly on t...  1965 1965-01-01  "
      ]
     },
     "execution_count": 7,
     "metadata": {},
     "output_type": "execute_result"
    }
   ],
   "source": [
    "df['datetime'] = pd.to_datetime(df['year'], format=\"%Y\")\n",
    "df.head(2)"
   ]
  },
  {
   "cell_type": "markdown",
   "metadata": {},
   "source": [
    "## Extract the artist and song name into another column"
   ]
  },
  {
   "cell_type": "code",
   "execution_count": 8,
   "metadata": {},
   "outputs": [
    {
     "data": {
      "text/html": [
       "<div>\n",
       "<style>\n",
       "    .dataframe thead tr:only-child th {\n",
       "        text-align: right;\n",
       "    }\n",
       "\n",
       "    .dataframe thead th {\n",
       "        text-align: left;\n",
       "    }\n",
       "\n",
       "    .dataframe tbody tr th {\n",
       "        vertical-align: top;\n",
       "    }\n",
       "</style>\n",
       "<table border=\"1\" class=\"dataframe\">\n",
       "  <thead>\n",
       "    <tr style=\"text-align: right;\">\n",
       "      <th></th>\n",
       "      <th>filename</th>\n",
       "      <th>lyrics</th>\n",
       "      <th>year</th>\n",
       "      <th>datetime</th>\n",
       "      <th>title-artist</th>\n",
       "    </tr>\n",
       "  </thead>\n",
       "  <tbody>\n",
       "    <tr>\n",
       "      <th>0</th>\n",
       "      <td>hip-hop/1965/a-change-is-gonna-come-sam-cooke</td>\n",
       "      <td>[Verse 1]\\nI was born by the river\\nIn a littl...</td>\n",
       "      <td>1965</td>\n",
       "      <td>1965-01-01</td>\n",
       "      <td>a-change-is-gonna-come-sam-cooke</td>\n",
       "    </tr>\n",
       "    <tr>\n",
       "      <th>1</th>\n",
       "      <td>hip-hop/1965/a-lovers-concerto-the-toys</td>\n",
       "      <td>How gentle is the rain\\nThat falls softly on t...</td>\n",
       "      <td>1965</td>\n",
       "      <td>1965-01-01</td>\n",
       "      <td>a-lovers-concerto-the-toys</td>\n",
       "    </tr>\n",
       "  </tbody>\n",
       "</table>\n",
       "</div>"
      ],
      "text/plain": [
       "                                        filename  \\\n",
       "0  hip-hop/1965/a-change-is-gonna-come-sam-cooke   \n",
       "1        hip-hop/1965/a-lovers-concerto-the-toys   \n",
       "\n",
       "                                              lyrics  year   datetime  \\\n",
       "0  [Verse 1]\\nI was born by the river\\nIn a littl...  1965 1965-01-01   \n",
       "1  How gentle is the rain\\nThat falls softly on t...  1965 1965-01-01   \n",
       "\n",
       "                       title-artist  \n",
       "0  a-change-is-gonna-come-sam-cooke  \n",
       "1        a-lovers-concerto-the-toys  "
      ]
     },
     "execution_count": 8,
     "metadata": {},
     "output_type": "execute_result"
    }
   ],
   "source": [
    "df['title-artist'] = df.filename.str.extract('hip-hop/\\d*/(.*)', expand=False)\n",
    "df.head(2)"
   ]
  },
  {
   "cell_type": "markdown",
   "metadata": {},
   "source": [
    "## Cleaning up a little more\n",
    "\n",
    "Let's get rid of things like `\"[Verse 1]\"` while we're at it."
   ]
  },
  {
   "cell_type": "code",
   "execution_count": 10,
   "metadata": {},
   "outputs": [
    {
     "data": {
      "text/html": [
       "<div>\n",
       "<style>\n",
       "    .dataframe thead tr:only-child th {\n",
       "        text-align: right;\n",
       "    }\n",
       "\n",
       "    .dataframe thead th {\n",
       "        text-align: left;\n",
       "    }\n",
       "\n",
       "    .dataframe tbody tr th {\n",
       "        vertical-align: top;\n",
       "    }\n",
       "</style>\n",
       "<table border=\"1\" class=\"dataframe\">\n",
       "  <thead>\n",
       "    <tr style=\"text-align: right;\">\n",
       "      <th></th>\n",
       "      <th>filename</th>\n",
       "      <th>lyrics</th>\n",
       "      <th>year</th>\n",
       "      <th>datetime</th>\n",
       "      <th>title-artist</th>\n",
       "    </tr>\n",
       "  </thead>\n",
       "  <tbody>\n",
       "    <tr>\n",
       "      <th>0</th>\n",
       "      <td>hip-hop/1965/a-change-is-gonna-come-sam-cooke</td>\n",
       "      <td>I was born by the river\\nIn a little tent\\nAnd...</td>\n",
       "      <td>1965</td>\n",
       "      <td>1965-01-01</td>\n",
       "      <td>a-change-is-gonna-come-sam-cooke</td>\n",
       "    </tr>\n",
       "    <tr>\n",
       "      <th>1</th>\n",
       "      <td>hip-hop/1965/a-lovers-concerto-the-toys</td>\n",
       "      <td>How gentle is the rain\\nThat falls softly on t...</td>\n",
       "      <td>1965</td>\n",
       "      <td>1965-01-01</td>\n",
       "      <td>a-lovers-concerto-the-toys</td>\n",
       "    </tr>\n",
       "  </tbody>\n",
       "</table>\n",
       "</div>"
      ],
      "text/plain": [
       "                                        filename  \\\n",
       "0  hip-hop/1965/a-change-is-gonna-come-sam-cooke   \n",
       "1        hip-hop/1965/a-lovers-concerto-the-toys   \n",
       "\n",
       "                                              lyrics  year   datetime  \\\n",
       "0  I was born by the river\\nIn a little tent\\nAnd...  1965 1965-01-01   \n",
       "1  How gentle is the rain\\nThat falls softly on t...  1965 1965-01-01   \n",
       "\n",
       "                       title-artist  \n",
       "0  a-change-is-gonna-come-sam-cooke  \n",
       "1        a-lovers-concerto-the-toys  "
      ]
     },
     "execution_count": 10,
     "metadata": {},
     "output_type": "execute_result"
    }
   ],
   "source": [
    "df['lyrics'] = df['lyrics'].replace(\"\\[.*?\\]\", \"\", regex=True).str.strip()\n",
    "df.head(2)"
   ]
  },
  {
   "cell_type": "markdown",
   "metadata": {},
   "source": [
    "**OKAY!** We did it. We're done. it's clean. Let's get down to business.\n",
    "\n",
    "# Text analysis\n",
    "\n",
    "What do you want to do?"
   ]
  },
  {
   "cell_type": "code",
   "execution_count": 19,
   "metadata": {},
   "outputs": [
    {
     "data": {
      "text/html": [
       "<div>\n",
       "<style>\n",
       "    .dataframe thead tr:only-child th {\n",
       "        text-align: right;\n",
       "    }\n",
       "\n",
       "    .dataframe thead th {\n",
       "        text-align: left;\n",
       "    }\n",
       "\n",
       "    .dataframe tbody tr th {\n",
       "        vertical-align: top;\n",
       "    }\n",
       "</style>\n",
       "<table border=\"1\" class=\"dataframe\">\n",
       "  <thead>\n",
       "    <tr style=\"text-align: right;\">\n",
       "      <th></th>\n",
       "      <th>gin</th>\n",
       "      <th>patron</th>\n",
       "    </tr>\n",
       "  </thead>\n",
       "  <tbody>\n",
       "    <tr>\n",
       "      <th>0</th>\n",
       "      <td>0</td>\n",
       "      <td>0</td>\n",
       "    </tr>\n",
       "    <tr>\n",
       "      <th>1</th>\n",
       "      <td>0</td>\n",
       "      <td>0</td>\n",
       "    </tr>\n",
       "    <tr>\n",
       "      <th>2</th>\n",
       "      <td>0</td>\n",
       "      <td>0</td>\n",
       "    </tr>\n",
       "    <tr>\n",
       "      <th>3</th>\n",
       "      <td>0</td>\n",
       "      <td>0</td>\n",
       "    </tr>\n",
       "    <tr>\n",
       "      <th>4</th>\n",
       "      <td>0</td>\n",
       "      <td>0</td>\n",
       "    </tr>\n",
       "  </tbody>\n",
       "</table>\n",
       "</div>"
      ],
      "text/plain": [
       "   gin  patron\n",
       "0    0       0\n",
       "1    0       0\n",
       "2    0       0\n",
       "3    0       0\n",
       "4    0       0"
      ]
     },
     "execution_count": 19,
     "metadata": {},
     "output_type": "execute_result"
    }
   ],
   "source": [
    "from sklearn.feature_extraction.text import CountVectorizer\n",
    "\n",
    "# Make a new Count Vectorizer!!!!\n",
    "# Let's only look for 'gin'\n",
    "vec = CountVectorizer(vocabulary=['gin', 'patron'])\n",
    "\n",
    "# Say hey vectorizer, please read our stuff\n",
    "matrix = vec.fit_transform(df['lyrics'])\n",
    "\n",
    "# And make a dataframe out of it\n",
    "results = pd.DataFrame(matrix.toarray(), columns=vec.get_feature_names())\n",
    "results.head()"
   ]
  },
  {
   "cell_type": "code",
   "execution_count": 20,
   "metadata": {},
   "outputs": [
    {
     "data": {
      "text/html": [
       "<div>\n",
       "<style>\n",
       "    .dataframe thead tr:only-child th {\n",
       "        text-align: right;\n",
       "    }\n",
       "\n",
       "    .dataframe thead th {\n",
       "        text-align: left;\n",
       "    }\n",
       "\n",
       "    .dataframe tbody tr th {\n",
       "        vertical-align: top;\n",
       "    }\n",
       "</style>\n",
       "<table border=\"1\" class=\"dataframe\">\n",
       "  <thead>\n",
       "    <tr style=\"text-align: right;\">\n",
       "      <th></th>\n",
       "      <th>filename</th>\n",
       "      <th>lyrics</th>\n",
       "      <th>year</th>\n",
       "      <th>datetime</th>\n",
       "      <th>title-artist</th>\n",
       "    </tr>\n",
       "  </thead>\n",
       "  <tbody>\n",
       "    <tr>\n",
       "      <th>0</th>\n",
       "      <td>hip-hop/1965/a-change-is-gonna-come-sam-cooke</td>\n",
       "      <td>I was born by the river\\nIn a little tent\\nAnd...</td>\n",
       "      <td>1965</td>\n",
       "      <td>1965-01-01</td>\n",
       "      <td>a-change-is-gonna-come-sam-cooke</td>\n",
       "    </tr>\n",
       "    <tr>\n",
       "      <th>1</th>\n",
       "      <td>hip-hop/1965/a-lovers-concerto-the-toys</td>\n",
       "      <td>How gentle is the rain\\nThat falls softly on t...</td>\n",
       "      <td>1965</td>\n",
       "      <td>1965-01-01</td>\n",
       "      <td>a-lovers-concerto-the-toys</td>\n",
       "    </tr>\n",
       "    <tr>\n",
       "      <th>2</th>\n",
       "      <td>hip-hop/1965/a-woman-can-change-a-man-joe-tex</td>\n",
       "      <td>A man can say what he won't do\\nBut if she rea...</td>\n",
       "      <td>1965</td>\n",
       "      <td>1965-01-01</td>\n",
       "      <td>a-woman-can-change-a-man-joe-tex</td>\n",
       "    </tr>\n",
       "  </tbody>\n",
       "</table>\n",
       "</div>"
      ],
      "text/plain": [
       "                                        filename  \\\n",
       "0  hip-hop/1965/a-change-is-gonna-come-sam-cooke   \n",
       "1        hip-hop/1965/a-lovers-concerto-the-toys   \n",
       "2  hip-hop/1965/a-woman-can-change-a-man-joe-tex   \n",
       "\n",
       "                                              lyrics  year   datetime  \\\n",
       "0  I was born by the river\\nIn a little tent\\nAnd...  1965 1965-01-01   \n",
       "1  How gentle is the rain\\nThat falls softly on t...  1965 1965-01-01   \n",
       "2  A man can say what he won't do\\nBut if she rea...  1965 1965-01-01   \n",
       "\n",
       "                       title-artist  \n",
       "0  a-change-is-gonna-come-sam-cooke  \n",
       "1        a-lovers-concerto-the-toys  \n",
       "2  a-woman-can-change-a-man-joe-tex  "
      ]
     },
     "execution_count": 20,
     "metadata": {},
     "output_type": "execute_result"
    }
   ],
   "source": [
    "df.head(3)"
   ]
  },
  {
   "cell_type": "code",
   "execution_count": 21,
   "metadata": {},
   "outputs": [
    {
     "data": {
      "text/html": [
       "<div>\n",
       "<style>\n",
       "    .dataframe thead tr:only-child th {\n",
       "        text-align: right;\n",
       "    }\n",
       "\n",
       "    .dataframe thead th {\n",
       "        text-align: left;\n",
       "    }\n",
       "\n",
       "    .dataframe tbody tr th {\n",
       "        vertical-align: top;\n",
       "    }\n",
       "</style>\n",
       "<table border=\"1\" class=\"dataframe\">\n",
       "  <thead>\n",
       "    <tr style=\"text-align: right;\">\n",
       "      <th></th>\n",
       "      <th>filename</th>\n",
       "      <th>lyrics</th>\n",
       "      <th>year</th>\n",
       "      <th>datetime</th>\n",
       "      <th>title-artist</th>\n",
       "      <th>gin</th>\n",
       "      <th>patron</th>\n",
       "    </tr>\n",
       "  </thead>\n",
       "  <tbody>\n",
       "    <tr>\n",
       "      <th>0</th>\n",
       "      <td>hip-hop/1965/a-change-is-gonna-come-sam-cooke</td>\n",
       "      <td>I was born by the river\\nIn a little tent\\nAnd...</td>\n",
       "      <td>1965</td>\n",
       "      <td>1965-01-01</td>\n",
       "      <td>a-change-is-gonna-come-sam-cooke</td>\n",
       "      <td>0</td>\n",
       "      <td>0</td>\n",
       "    </tr>\n",
       "    <tr>\n",
       "      <th>1</th>\n",
       "      <td>hip-hop/1965/a-lovers-concerto-the-toys</td>\n",
       "      <td>How gentle is the rain\\nThat falls softly on t...</td>\n",
       "      <td>1965</td>\n",
       "      <td>1965-01-01</td>\n",
       "      <td>a-lovers-concerto-the-toys</td>\n",
       "      <td>0</td>\n",
       "      <td>0</td>\n",
       "    </tr>\n",
       "    <tr>\n",
       "      <th>2</th>\n",
       "      <td>hip-hop/1965/a-woman-can-change-a-man-joe-tex</td>\n",
       "      <td>A man can say what he won't do\\nBut if she rea...</td>\n",
       "      <td>1965</td>\n",
       "      <td>1965-01-01</td>\n",
       "      <td>a-woman-can-change-a-man-joe-tex</td>\n",
       "      <td>0</td>\n",
       "      <td>0</td>\n",
       "    </tr>\n",
       "    <tr>\n",
       "      <th>3</th>\n",
       "      <td>hip-hop/1965/a-womans-love-carla-thomas</td>\n",
       "      <td>When I ask you where you've been\\nDon't get an...</td>\n",
       "      <td>1965</td>\n",
       "      <td>1965-01-01</td>\n",
       "      <td>a-womans-love-carla-thomas</td>\n",
       "      <td>0</td>\n",
       "      <td>0</td>\n",
       "    </tr>\n",
       "    <tr>\n",
       "      <th>4</th>\n",
       "      <td>hip-hop/1965/aint-that-peculiar-marvin-gaye</td>\n",
       "      <td>Honey you do me wrong but still I'm crazy abou...</td>\n",
       "      <td>1965</td>\n",
       "      <td>1965-01-01</td>\n",
       "      <td>aint-that-peculiar-marvin-gaye</td>\n",
       "      <td>0</td>\n",
       "      <td>0</td>\n",
       "    </tr>\n",
       "  </tbody>\n",
       "</table>\n",
       "</div>"
      ],
      "text/plain": [
       "                                        filename  \\\n",
       "0  hip-hop/1965/a-change-is-gonna-come-sam-cooke   \n",
       "1        hip-hop/1965/a-lovers-concerto-the-toys   \n",
       "2  hip-hop/1965/a-woman-can-change-a-man-joe-tex   \n",
       "3        hip-hop/1965/a-womans-love-carla-thomas   \n",
       "4    hip-hop/1965/aint-that-peculiar-marvin-gaye   \n",
       "\n",
       "                                              lyrics  year   datetime  \\\n",
       "0  I was born by the river\\nIn a little tent\\nAnd...  1965 1965-01-01   \n",
       "1  How gentle is the rain\\nThat falls softly on t...  1965 1965-01-01   \n",
       "2  A man can say what he won't do\\nBut if she rea...  1965 1965-01-01   \n",
       "3  When I ask you where you've been\\nDon't get an...  1965 1965-01-01   \n",
       "4  Honey you do me wrong but still I'm crazy abou...  1965 1965-01-01   \n",
       "\n",
       "                       title-artist  gin  patron  \n",
       "0  a-change-is-gonna-come-sam-cooke    0       0  \n",
       "1        a-lovers-concerto-the-toys    0       0  \n",
       "2  a-woman-can-change-a-man-joe-tex    0       0  \n",
       "3        a-womans-love-carla-thomas    0       0  \n",
       "4    aint-that-peculiar-marvin-gaye    0       0  "
      ]
     },
     "execution_count": 21,
     "metadata": {},
     "output_type": "execute_result"
    }
   ],
   "source": [
    "df['gin'] = results['gin']\n",
    "df['patron'] = results['patron']\n",
    "df.head()"
   ]
  },
  {
   "cell_type": "code",
   "execution_count": 26,
   "metadata": {},
   "outputs": [
    {
     "data": {
      "text/plain": [
       "<matplotlib.axes._subplots.AxesSubplot at 0x185a3cac8>"
      ]
     },
     "execution_count": 26,
     "metadata": {},
     "output_type": "execute_result"
    },
    {
     "data": {
      "image/png": "[encoded data removed]",
      "text/plain": [
       "<matplotlib.figure.Figure at 0x110425c18>"
      ]
     },
     "metadata": {},
     "output_type": "display_data"
    }
   ],
   "source": [
    "df.groupby('year')['gin'].sum().plot(kind='bar', figsize=(20,4))"
   ]
  },
  {
   "cell_type": "code",
   "execution_count": 27,
   "metadata": {},
   "outputs": [
    {
     "data": {
      "text/plain": [
       "<matplotlib.axes._subplots.AxesSubplot at 0x18619cef0>"
      ]
     },
     "execution_count": 27,
     "metadata": {},
     "output_type": "execute_result"
    },
    {
     "data": {
      "image/png": "[encoded data removed]",
      "text/plain": [
       "<matplotlib.figure.Figure at 0x1861cb978>"
      ]
     },
     "metadata": {},
     "output_type": "display_data"
    }
   ],
   "source": [
    "df.groupby('year')['patron'].sum().plot(kind='bar', figsize=(20,4))"
   ]
  },
  {
   "cell_type": "markdown",
   "metadata": {},
   "source": [
    "# ARE RAPPERS ANGRY?????"
   ]
  },
  {
   "cell_type": "markdown",
   "metadata": {},
   "source": [
    "## Read in the emotional lexicon"
   ]
  },
  {
   "cell_type": "code",
   "execution_count": 28,
   "metadata": {},
   "outputs": [
    {
     "data": {
      "text/html": [
       "<div>\n",
       "<style>\n",
       "    .dataframe thead tr:only-child th {\n",
       "        text-align: right;\n",
       "    }\n",
       "\n",
       "    .dataframe thead th {\n",
       "        text-align: left;\n",
       "    }\n",
       "\n",
       "    .dataframe tbody tr th {\n",
       "        vertical-align: top;\n",
       "    }\n",
       "</style>\n",
       "<table border=\"1\" class=\"dataframe\">\n",
       "  <thead>\n",
       "    <tr style=\"text-align: right;\">\n",
       "      <th>emotion</th>\n",
       "      <th>word</th>\n",
       "      <th>anger</th>\n",
       "      <th>anticipation</th>\n",
       "      <th>disgust</th>\n",
       "      <th>fear</th>\n",
       "      <th>joy</th>\n",
       "      <th>negative</th>\n",
       "      <th>positive</th>\n",
       "      <th>sadness</th>\n",
       "      <th>surprise</th>\n",
       "      <th>trust</th>\n",
       "    </tr>\n",
       "  </thead>\n",
       "  <tbody>\n",
       "    <tr>\n",
       "      <th>0</th>\n",
       "      <td>aback</td>\n",
       "      <td>0</td>\n",
       "      <td>0</td>\n",
       "      <td>0</td>\n",
       "      <td>0</td>\n",
       "      <td>0</td>\n",
       "      <td>0</td>\n",
       "      <td>0</td>\n",
       "      <td>0</td>\n",
       "      <td>0</td>\n",
       "      <td>0</td>\n",
       "    </tr>\n",
       "    <tr>\n",
       "      <th>1</th>\n",
       "      <td>abacus</td>\n",
       "      <td>0</td>\n",
       "      <td>0</td>\n",
       "      <td>0</td>\n",
       "      <td>0</td>\n",
       "      <td>0</td>\n",
       "      <td>0</td>\n",
       "      <td>0</td>\n",
       "      <td>0</td>\n",
       "      <td>0</td>\n",
       "      <td>1</td>\n",
       "    </tr>\n",
       "    <tr>\n",
       "      <th>2</th>\n",
       "      <td>abandon</td>\n",
       "      <td>0</td>\n",
       "      <td>0</td>\n",
       "      <td>0</td>\n",
       "      <td>1</td>\n",
       "      <td>0</td>\n",
       "      <td>1</td>\n",
       "      <td>0</td>\n",
       "      <td>1</td>\n",
       "      <td>0</td>\n",
       "      <td>0</td>\n",
       "    </tr>\n",
       "  </tbody>\n",
       "</table>\n",
       "</div>"
      ],
      "text/plain": [
       "emotion     word  anger  anticipation  disgust  fear  joy  negative  positive  \\\n",
       "0          aback      0             0        0     0    0         0         0   \n",
       "1         abacus      0             0        0     0    0         0         0   \n",
       "2        abandon      0             0        0     1    0         1         0   \n",
       "\n",
       "emotion  sadness  surprise  trust  \n",
       "0              0         0      0  \n",
       "1              0         0      1  \n",
       "2              1         0      0  "
      ]
     },
     "execution_count": 28,
     "metadata": {},
     "output_type": "execute_result"
    }
   ],
   "source": [
    "filepath = \"NRC-Emotion-Lexicon-v0.92/NRC-emotion-lexicon-wordlevel-alphabetized-v0.92.txt\"\n",
    "emolex_df = pd.read_csv(filepath,  names=[\"word\", \"emotion\", \"association\"], skiprows=45, sep='\\t')\n",
    "emolex_df = emolex_df.pivot(index='word', columns='emotion', values='association').reset_index()\n",
    "emolex_df.head(3)"
   ]
  },
  {
   "cell_type": "markdown",
   "metadata": {},
   "source": [
    "## Pull out the words you want\n",
    "\n",
    "We want **angry** and **positive**"
   ]
  },
  {
   "cell_type": "code",
   "execution_count": 29,
   "metadata": {
    "collapsed": true
   },
   "outputs": [],
   "source": [
    "angry_words = emolex_df[emolex_df.anger == 1].word\n",
    "positive_words = emolex_df[emolex_df.positive == 1].word"
   ]
  },
  {
   "cell_type": "markdown",
   "metadata": {},
   "source": [
    "## Get the percentage of words that we have emotional ratings for"
   ]
  },
  {
   "cell_type": "code",
   "execution_count": 30,
   "metadata": {},
   "outputs": [
    {
     "data": {
      "text/html": [
       "<div>\n",
       "<style>\n",
       "    .dataframe thead tr:only-child th {\n",
       "        text-align: right;\n",
       "    }\n",
       "\n",
       "    .dataframe thead th {\n",
       "        text-align: left;\n",
       "    }\n",
       "\n",
       "    .dataframe tbody tr th {\n",
       "        vertical-align: top;\n",
       "    }\n",
       "</style>\n",
       "<table border=\"1\" class=\"dataframe\">\n",
       "  <thead>\n",
       "    <tr style=\"text-align: right;\">\n",
       "      <th></th>\n",
       "      <th>aback</th>\n",
       "      <th>abacus</th>\n",
       "      <th>abandon</th>\n",
       "      <th>abandoned</th>\n",
       "      <th>abandonment</th>\n",
       "      <th>abate</th>\n",
       "      <th>abatement</th>\n",
       "      <th>abba</th>\n",
       "      <th>abbot</th>\n",
       "      <th>abbreviate</th>\n",
       "      <th>...</th>\n",
       "      <th>zephyr</th>\n",
       "      <th>zeppelin</th>\n",
       "      <th>zest</th>\n",
       "      <th>zip</th>\n",
       "      <th>zodiac</th>\n",
       "      <th>zone</th>\n",
       "      <th>zoo</th>\n",
       "      <th>zoological</th>\n",
       "      <th>zoology</th>\n",
       "      <th>zoom</th>\n",
       "    </tr>\n",
       "  </thead>\n",
       "  <tbody>\n",
       "    <tr>\n",
       "      <th>0</th>\n",
       "      <td>0.0</td>\n",
       "      <td>0.0</td>\n",
       "      <td>0.0</td>\n",
       "      <td>0.0</td>\n",
       "      <td>0.0</td>\n",
       "      <td>0.0</td>\n",
       "      <td>0.0</td>\n",
       "      <td>0.0</td>\n",
       "      <td>0.0</td>\n",
       "      <td>0.0</td>\n",
       "      <td>...</td>\n",
       "      <td>0.0</td>\n",
       "      <td>0.0</td>\n",
       "      <td>0.0</td>\n",
       "      <td>0.0</td>\n",
       "      <td>0.0</td>\n",
       "      <td>0.0</td>\n",
       "      <td>0.0</td>\n",
       "      <td>0.0</td>\n",
       "      <td>0.0</td>\n",
       "      <td>0.0</td>\n",
       "    </tr>\n",
       "    <tr>\n",
       "      <th>1</th>\n",
       "      <td>0.0</td>\n",
       "      <td>0.0</td>\n",
       "      <td>0.0</td>\n",
       "      <td>0.0</td>\n",
       "      <td>0.0</td>\n",
       "      <td>0.0</td>\n",
       "      <td>0.0</td>\n",
       "      <td>0.0</td>\n",
       "      <td>0.0</td>\n",
       "      <td>0.0</td>\n",
       "      <td>...</td>\n",
       "      <td>0.0</td>\n",
       "      <td>0.0</td>\n",
       "      <td>0.0</td>\n",
       "      <td>0.0</td>\n",
       "      <td>0.0</td>\n",
       "      <td>0.0</td>\n",
       "      <td>0.0</td>\n",
       "      <td>0.0</td>\n",
       "      <td>0.0</td>\n",
       "      <td>0.0</td>\n",
       "    </tr>\n",
       "    <tr>\n",
       "      <th>2</th>\n",
       "      <td>0.0</td>\n",
       "      <td>0.0</td>\n",
       "      <td>0.0</td>\n",
       "      <td>0.0</td>\n",
       "      <td>0.0</td>\n",
       "      <td>0.0</td>\n",
       "      <td>0.0</td>\n",
       "      <td>0.0</td>\n",
       "      <td>0.0</td>\n",
       "      <td>0.0</td>\n",
       "      <td>...</td>\n",
       "      <td>0.0</td>\n",
       "      <td>0.0</td>\n",
       "      <td>0.0</td>\n",
       "      <td>0.0</td>\n",
       "      <td>0.0</td>\n",
       "      <td>0.0</td>\n",
       "      <td>0.0</td>\n",
       "      <td>0.0</td>\n",
       "      <td>0.0</td>\n",
       "      <td>0.0</td>\n",
       "    </tr>\n",
       "    <tr>\n",
       "      <th>3</th>\n",
       "      <td>0.0</td>\n",
       "      <td>0.0</td>\n",
       "      <td>0.0</td>\n",
       "      <td>0.0</td>\n",
       "      <td>0.0</td>\n",
       "      <td>0.0</td>\n",
       "      <td>0.0</td>\n",
       "      <td>0.0</td>\n",
       "      <td>0.0</td>\n",
       "      <td>0.0</td>\n",
       "      <td>...</td>\n",
       "      <td>0.0</td>\n",
       "      <td>0.0</td>\n",
       "      <td>0.0</td>\n",
       "      <td>0.0</td>\n",
       "      <td>0.0</td>\n",
       "      <td>0.0</td>\n",
       "      <td>0.0</td>\n",
       "      <td>0.0</td>\n",
       "      <td>0.0</td>\n",
       "      <td>0.0</td>\n",
       "    </tr>\n",
       "    <tr>\n",
       "      <th>4</th>\n",
       "      <td>0.0</td>\n",
       "      <td>0.0</td>\n",
       "      <td>0.0</td>\n",
       "      <td>0.0</td>\n",
       "      <td>0.0</td>\n",
       "      <td>0.0</td>\n",
       "      <td>0.0</td>\n",
       "      <td>0.0</td>\n",
       "      <td>0.0</td>\n",
       "      <td>0.0</td>\n",
       "      <td>...</td>\n",
       "      <td>0.0</td>\n",
       "      <td>0.0</td>\n",
       "      <td>0.0</td>\n",
       "      <td>0.0</td>\n",
       "      <td>0.0</td>\n",
       "      <td>0.0</td>\n",
       "      <td>0.0</td>\n",
       "      <td>0.0</td>\n",
       "      <td>0.0</td>\n",
       "      <td>0.0</td>\n",
       "    </tr>\n",
       "  </tbody>\n",
       "</table>\n",
       "<p>5 rows × 14182 columns</p>\n",
       "</div>"
      ],
      "text/plain": [
       "   aback  abacus  abandon  abandoned  abandonment  abate  abatement  abba  \\\n",
       "0    0.0     0.0      0.0        0.0          0.0    0.0        0.0   0.0   \n",
       "1    0.0     0.0      0.0        0.0          0.0    0.0        0.0   0.0   \n",
       "2    0.0     0.0      0.0        0.0          0.0    0.0        0.0   0.0   \n",
       "3    0.0     0.0      0.0        0.0          0.0    0.0        0.0   0.0   \n",
       "4    0.0     0.0      0.0        0.0          0.0    0.0        0.0   0.0   \n",
       "\n",
       "   abbot  abbreviate  ...   zephyr  zeppelin  zest  zip  zodiac  zone  zoo  \\\n",
       "0    0.0         0.0  ...      0.0       0.0   0.0  0.0     0.0   0.0  0.0   \n",
       "1    0.0         0.0  ...      0.0       0.0   0.0  0.0     0.0   0.0  0.0   \n",
       "2    0.0         0.0  ...      0.0       0.0   0.0  0.0     0.0   0.0  0.0   \n",
       "3    0.0         0.0  ...      0.0       0.0   0.0  0.0     0.0   0.0  0.0   \n",
       "4    0.0         0.0  ...      0.0       0.0   0.0  0.0     0.0   0.0  0.0   \n",
       "\n",
       "   zoological  zoology  zoom  \n",
       "0         0.0      0.0   0.0  \n",
       "1         0.0      0.0   0.0  \n",
       "2         0.0      0.0   0.0  \n",
       "3         0.0      0.0   0.0  \n",
       "4         0.0      0.0   0.0  \n",
       "\n",
       "[5 rows x 14182 columns]"
      ]
     },
     "execution_count": 30,
     "metadata": {},
     "output_type": "execute_result"
    }
   ],
   "source": [
    "from sklearn.feature_extraction.text import TfidfVectorizer\n",
    "\n",
    "# I only want you to look for words in the emotional lexicon\n",
    "# because we don't know what's up with the other words\n",
    "vec = TfidfVectorizer(vocabulary=emolex_df.word,\n",
    "                      use_idf=False, \n",
    "                      norm='l1') # ELL - ONE\n",
    "matrix = vec.fit_transform(df['lyrics'])\n",
    "vocab = vec.get_feature_names()\n",
    "wordcount_df = pd.DataFrame(matrix.toarray(), columns=vocab)\n",
    "wordcount_df.head()"
   ]
  },
  {
   "cell_type": "markdown",
   "metadata": {},
   "source": [
    "## Add up the percent that are angry and the percent that are positive"
   ]
  },
  {
   "cell_type": "code",
   "execution_count": 33,
   "metadata": {},
   "outputs": [
    {
     "data": {
      "text/html": [
       "<div>\n",
       "<style>\n",
       "    .dataframe thead tr:only-child th {\n",
       "        text-align: right;\n",
       "    }\n",
       "\n",
       "    .dataframe thead th {\n",
       "        text-align: left;\n",
       "    }\n",
       "\n",
       "    .dataframe tbody tr th {\n",
       "        vertical-align: top;\n",
       "    }\n",
       "</style>\n",
       "<table border=\"1\" class=\"dataframe\">\n",
       "  <thead>\n",
       "    <tr style=\"text-align: right;\">\n",
       "      <th></th>\n",
       "      <th>filename</th>\n",
       "      <th>lyrics</th>\n",
       "      <th>year</th>\n",
       "      <th>datetime</th>\n",
       "      <th>title-artist</th>\n",
       "      <th>gin</th>\n",
       "      <th>patron</th>\n",
       "      <th>anger</th>\n",
       "      <th>positivity</th>\n",
       "    </tr>\n",
       "  </thead>\n",
       "  <tbody>\n",
       "    <tr>\n",
       "      <th>0</th>\n",
       "      <td>hip-hop/1965/a-change-is-gonna-come-sam-cooke</td>\n",
       "      <td>I was born by the river\\nIn a little tent\\nAnd...</td>\n",
       "      <td>1965</td>\n",
       "      <td>1965-01-01</td>\n",
       "      <td>a-change-is-gonna-come-sam-cooke</td>\n",
       "      <td>0</td>\n",
       "      <td>0</td>\n",
       "      <td>0.000000</td>\n",
       "      <td>0.142857</td>\n",
       "    </tr>\n",
       "    <tr>\n",
       "      <th>1</th>\n",
       "      <td>hip-hop/1965/a-lovers-concerto-the-toys</td>\n",
       "      <td>How gentle is the rain\\nThat falls softly on t...</td>\n",
       "      <td>1965</td>\n",
       "      <td>1965-01-01</td>\n",
       "      <td>a-lovers-concerto-the-toys</td>\n",
       "      <td>0</td>\n",
       "      <td>0</td>\n",
       "      <td>0.022727</td>\n",
       "      <td>0.409091</td>\n",
       "    </tr>\n",
       "    <tr>\n",
       "      <th>2</th>\n",
       "      <td>hip-hop/1965/a-woman-can-change-a-man-joe-tex</td>\n",
       "      <td>A man can say what he won't do\\nBut if she rea...</td>\n",
       "      <td>1965</td>\n",
       "      <td>1965-01-01</td>\n",
       "      <td>a-woman-can-change-a-man-joe-tex</td>\n",
       "      <td>0</td>\n",
       "      <td>0</td>\n",
       "      <td>0.000000</td>\n",
       "      <td>0.090909</td>\n",
       "    </tr>\n",
       "  </tbody>\n",
       "</table>\n",
       "</div>"
      ],
      "text/plain": [
       "                                        filename  \\\n",
       "0  hip-hop/1965/a-change-is-gonna-come-sam-cooke   \n",
       "1        hip-hop/1965/a-lovers-concerto-the-toys   \n",
       "2  hip-hop/1965/a-woman-can-change-a-man-joe-tex   \n",
       "\n",
       "                                              lyrics  year   datetime  \\\n",
       "0  I was born by the river\\nIn a little tent\\nAnd...  1965 1965-01-01   \n",
       "1  How gentle is the rain\\nThat falls softly on t...  1965 1965-01-01   \n",
       "2  A man can say what he won't do\\nBut if she rea...  1965 1965-01-01   \n",
       "\n",
       "                       title-artist  gin  patron     anger  positivity  \n",
       "0  a-change-is-gonna-come-sam-cooke    0       0  0.000000    0.142857  \n",
       "1        a-lovers-concerto-the-toys    0       0  0.022727    0.409091  \n",
       "2  a-woman-can-change-a-man-joe-tex    0       0  0.000000    0.090909  "
      ]
     },
     "execution_count": 33,
     "metadata": {},
     "output_type": "execute_result"
    }
   ],
   "source": [
    "df['anger'] = wordcount_df[angry_words].sum(axis=1)\n",
    "df['positivity'] = wordcount_df[positive_words].sum(axis=1)\n",
    "df.head(3)"
   ]
  },
  {
   "cell_type": "code",
   "execution_count": 34,
   "metadata": {},
   "outputs": [
    {
     "data": {
      "text/plain": [
       "<matplotlib.axes._subplots.AxesSubplot at 0x110e73978>"
      ]
     },
     "execution_count": 34,
     "metadata": {},
     "output_type": "execute_result"
    },
    {
     "data": {
      "image/png": "[encoded data removed]",
      "text/plain": [
       "<matplotlib.figure.Figure at 0x110235438>"
      ]
     },
     "metadata": {},
     "output_type": "display_data"
    }
   ],
   "source": [
    "df.plot(x='positivity', y='anger', kind='scatter')"
   ]
  },
  {
   "cell_type": "code",
   "execution_count": 40,
   "metadata": {},
   "outputs": [
    {
     "data": {
      "text/plain": [
       "<matplotlib.axes._subplots.AxesSubplot at 0x1866bb198>"
      ]
     },
     "execution_count": 40,
     "metadata": {},
     "output_type": "execute_result"
    },
    {
     "data": {
      "image/png": "[encoded data removed]",
      "text/plain": [
       "<matplotlib.figure.Figure at 0x111b8bc88>"
      ]
     },
     "metadata": {},
     "output_type": "display_data"
    }
   ],
   "source": [
    "ax = df.groupby('year')['anger'].mean().plot()\n",
    "df.groupby('year')['positivity'].mean().plot(ax=ax, c='red')"
   ]
  },
  {
   "cell_type": "code",
   "execution_count": null,
   "metadata": {
    "collapsed": true
   },
   "outputs": [],
   "source": []
  }
 ],
 "metadata": {
  "kernelspec": {
   "display_name": "Python 3",
   "language": "python",
   "name": "python3"
  },
  "language_info": {
   "codemirror_mode": {
    "name": "ipython",
    "version": 3
   },
   "file_extension": ".py",
   "mimetype": "text/x-python",
   "name": "python",
   "nbconvert_exporter": "python",
   "pygments_lexer": "ipython3",
   "version": "3.6.1"
  }
 },
 "nbformat": 4,
 "nbformat_minor": 2
}
