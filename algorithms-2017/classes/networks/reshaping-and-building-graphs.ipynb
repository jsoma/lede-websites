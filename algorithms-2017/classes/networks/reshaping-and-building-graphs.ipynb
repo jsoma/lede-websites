{
 "cells": [
  {
   "cell_type": "markdown",
   "metadata": {},
   "source": [
    "# Reading in your data\n",
    "\n",
    "Most of the time when you have a network, you have a list of elements with something in common. In this case, we have a bunch of people from the [Revolutionary War](https://en.wikipedia.org/wiki/American_Revolutionary_War) who were in different clubs.\n",
    "\n",
    "How connected are the people? How connected are the clubs? Network analysis will tell us this! Let's read in the data."
   ]
  },
  {
   "cell_type": "code",
   "execution_count": 4,
   "metadata": {},
   "outputs": [
    {
     "data": {
      "text/html": [
       "<div>\n",
       "<style>\n",
       "    .dataframe thead tr:only-child th {\n",
       "        text-align: right;\n",
       "    }\n",
       "\n",
       "    .dataframe thead th {\n",
       "        text-align: left;\n",
       "    }\n",
       "\n",
       "    .dataframe tbody tr th {\n",
       "        vertical-align: top;\n",
       "    }\n",
       "</style>\n",
       "<table border=\"1\" class=\"dataframe\">\n",
       "  <thead>\n",
       "    <tr style=\"text-align: right;\">\n",
       "      <th></th>\n",
       "      <th>name</th>\n",
       "      <th>club</th>\n",
       "    </tr>\n",
       "  </thead>\n",
       "  <tbody>\n",
       "    <tr>\n",
       "      <th>0</th>\n",
       "      <td>Adams John</td>\n",
       "      <td>North Caucus</td>\n",
       "    </tr>\n",
       "    <tr>\n",
       "      <th>1</th>\n",
       "      <td>Adams John</td>\n",
       "      <td>Long Room Club</td>\n",
       "    </tr>\n",
       "    <tr>\n",
       "      <th>2</th>\n",
       "      <td>Adams Samuel</td>\n",
       "      <td>North Caucus</td>\n",
       "    </tr>\n",
       "  </tbody>\n",
       "</table>\n",
       "</div>"
      ],
      "text/plain": [
       "           name            club\n",
       "0    Adams John    North Caucus\n",
       "1    Adams John  Long Room Club\n",
       "2  Adams Samuel    North Caucus"
      ]
     },
     "execution_count": 4,
     "metadata": {},
     "output_type": "execute_result"
    }
   ],
   "source": [
    "import pandas as pd\n",
    "\n",
    "df = pd.read_csv(\"clubs.csv\")\n",
    "df.head(3)"
   ]
  },
  {
   "cell_type": "markdown",
   "metadata": {},
   "source": [
    "First thing we need to do is **move the node name into the index** - we're going to massage our data a little bit, and if we don't do this we're going to lose our names. "
   ]
  },
  {
   "cell_type": "code",
   "execution_count": 5,
   "metadata": {},
   "outputs": [
    {
     "data": {
      "text/html": [
       "<div>\n",
       "<style>\n",
       "    .dataframe thead tr:only-child th {\n",
       "        text-align: right;\n",
       "    }\n",
       "\n",
       "    .dataframe thead th {\n",
       "        text-align: left;\n",
       "    }\n",
       "\n",
       "    .dataframe tbody tr th {\n",
       "        vertical-align: top;\n",
       "    }\n",
       "</style>\n",
       "<table border=\"1\" class=\"dataframe\">\n",
       "  <thead>\n",
       "    <tr style=\"text-align: right;\">\n",
       "      <th></th>\n",
       "      <th>club</th>\n",
       "    </tr>\n",
       "    <tr>\n",
       "      <th>name</th>\n",
       "      <th></th>\n",
       "    </tr>\n",
       "  </thead>\n",
       "  <tbody>\n",
       "    <tr>\n",
       "      <th>Adams John</th>\n",
       "      <td>North Caucus</td>\n",
       "    </tr>\n",
       "    <tr>\n",
       "      <th>Adams John</th>\n",
       "      <td>Long Room Club</td>\n",
       "    </tr>\n",
       "    <tr>\n",
       "      <th>Adams Samuel</th>\n",
       "      <td>North Caucus</td>\n",
       "    </tr>\n",
       "  </tbody>\n",
       "</table>\n",
       "</div>"
      ],
      "text/plain": [
       "                        club\n",
       "name                        \n",
       "Adams John      North Caucus\n",
       "Adams John    Long Room Club\n",
       "Adams Samuel    North Caucus"
      ]
     },
     "execution_count": 5,
     "metadata": {},
     "output_type": "execute_result"
    }
   ],
   "source": [
    "df.set_index('name', inplace=True)\n",
    "df.head(3)"
   ]
  },
  {
   "cell_type": "markdown",
   "metadata": {},
   "source": [
    "### Reshaping our data\n",
    "\n",
    "Unfortunately this data comes as a list of pairs - people and their clubs. In order to do Network Stuff on it, we need to change it up a little bit.\n",
    "\n",
    "**If your data every looks like our data, you can always use this code.** If you want to know details, it's creating a pivot table, converting anything with data into `True`/`False`, then converting those to `1`/`0`. If you want to see it step-by-step, feel free to delete the `.astype(bool).astype(int)` part and check it out."
   ]
  },
  {
   "cell_type": "code",
   "execution_count": 3,
   "metadata": {},
   "outputs": [
    {
     "data": {
      "text/html": [
       "<div>\n",
       "<style>\n",
       "    .dataframe thead tr:only-child th {\n",
       "        text-align: right;\n",
       "    }\n",
       "\n",
       "    .dataframe thead th {\n",
       "        text-align: left;\n",
       "    }\n",
       "\n",
       "    .dataframe tbody tr th {\n",
       "        vertical-align: top;\n",
       "    }\n",
       "</style>\n",
       "<table border=\"1\" class=\"dataframe\">\n",
       "  <thead>\n",
       "    <tr style=\"text-align: right;\">\n",
       "      <th>club</th>\n",
       "      <th>Boston Committee</th>\n",
       "      <th>London Enemies</th>\n",
       "      <th>Long Room Club</th>\n",
       "      <th>Loyal Nine</th>\n",
       "      <th>North Caucus</th>\n",
       "      <th>St Andrews Lodge</th>\n",
       "      <th>Tea Party</th>\n",
       "    </tr>\n",
       "    <tr>\n",
       "      <th>name</th>\n",
       "      <th></th>\n",
       "      <th></th>\n",
       "      <th></th>\n",
       "      <th></th>\n",
       "      <th></th>\n",
       "      <th></th>\n",
       "      <th></th>\n",
       "    </tr>\n",
       "  </thead>\n",
       "  <tbody>\n",
       "    <tr>\n",
       "      <th>Adams John</th>\n",
       "      <td>0</td>\n",
       "      <td>0</td>\n",
       "      <td>1</td>\n",
       "      <td>0</td>\n",
       "      <td>1</td>\n",
       "      <td>0</td>\n",
       "      <td>0</td>\n",
       "    </tr>\n",
       "    <tr>\n",
       "      <th>Adams Samuel</th>\n",
       "      <td>1</td>\n",
       "      <td>1</td>\n",
       "      <td>1</td>\n",
       "      <td>0</td>\n",
       "      <td>1</td>\n",
       "      <td>0</td>\n",
       "      <td>0</td>\n",
       "    </tr>\n",
       "    <tr>\n",
       "      <th>Allen Dr</th>\n",
       "      <td>0</td>\n",
       "      <td>0</td>\n",
       "      <td>0</td>\n",
       "      <td>0</td>\n",
       "      <td>1</td>\n",
       "      <td>0</td>\n",
       "      <td>0</td>\n",
       "    </tr>\n",
       "  </tbody>\n",
       "</table>\n",
       "</div>"
      ],
      "text/plain": [
       "club          Boston Committee  London Enemies  Long Room Club  Loyal Nine  \\\n",
       "name                                                                         \n",
       "Adams John                   0               0               1           0   \n",
       "Adams Samuel                 1               1               1           0   \n",
       "Allen Dr                     0               0               0           0   \n",
       "\n",
       "club          North Caucus  St Andrews Lodge  Tea Party  \n",
       "name                                                     \n",
       "Adams John               1                 0          0  \n",
       "Adams Samuel             1                 0          0  \n",
       "Allen Dr                 1                 0          0  "
      ]
     },
     "execution_count": 3,
     "metadata": {},
     "output_type": "execute_result"
    }
   ],
   "source": [
    "membership = df.pivot(columns='club', values='club').astype(bool).astype(int)\n",
    "membership.head(3)"
   ]
  },
  {
   "cell_type": "markdown",
   "metadata": {},
   "source": [
    "**This is what we need!** Every column is a possible connection, and every row is a node."
   ]
  },
  {
   "cell_type": "markdown",
   "metadata": {},
   "source": [
    "## Counting the connections\n",
    "\n",
    "Now we need to see **how connected people are to one another**, or **how connected the clubs are to one another**. Do two people go to a lot of the same clubs? Do clubs have members in common with one another?\n",
    "\n",
    "To answer this, we need to take the [dot product](https://www.mathsisfun.com/algebra/vectors-dot-product.html) between the dataframe and the **transposition** of the dataframe.\n",
    "\n",
    "### What is a transposition?\n",
    "\n",
    "The transposition is just when you flip the columns and rows, like this:"
   ]
  },
  {
   "cell_type": "code",
   "execution_count": 9,
   "metadata": {},
   "outputs": [
    {
     "data": {
      "text/html": [
       "<div>\n",
       "<style>\n",
       "    .dataframe thead tr:only-child th {\n",
       "        text-align: right;\n",
       "    }\n",
       "\n",
       "    .dataframe thead th {\n",
       "        text-align: left;\n",
       "    }\n",
       "\n",
       "    .dataframe tbody tr th {\n",
       "        vertical-align: top;\n",
       "    }\n",
       "</style>\n",
       "<table border=\"1\" class=\"dataframe\">\n",
       "  <thead>\n",
       "    <tr style=\"text-align: right;\">\n",
       "      <th>club</th>\n",
       "      <th>Boston Committee</th>\n",
       "      <th>London Enemies</th>\n",
       "      <th>Long Room Club</th>\n",
       "      <th>Loyal Nine</th>\n",
       "      <th>North Caucus</th>\n",
       "      <th>St Andrews Lodge</th>\n",
       "      <th>Tea Party</th>\n",
       "    </tr>\n",
       "    <tr>\n",
       "      <th>name</th>\n",
       "      <th></th>\n",
       "      <th></th>\n",
       "      <th></th>\n",
       "      <th></th>\n",
       "      <th></th>\n",
       "      <th></th>\n",
       "      <th></th>\n",
       "    </tr>\n",
       "  </thead>\n",
       "  <tbody>\n",
       "    <tr>\n",
       "      <th>Adams John</th>\n",
       "      <td>0</td>\n",
       "      <td>0</td>\n",
       "      <td>1</td>\n",
       "      <td>0</td>\n",
       "      <td>1</td>\n",
       "      <td>0</td>\n",
       "      <td>0</td>\n",
       "    </tr>\n",
       "    <tr>\n",
       "      <th>Adams Samuel</th>\n",
       "      <td>1</td>\n",
       "      <td>1</td>\n",
       "      <td>1</td>\n",
       "      <td>0</td>\n",
       "      <td>1</td>\n",
       "      <td>0</td>\n",
       "      <td>0</td>\n",
       "    </tr>\n",
       "  </tbody>\n",
       "</table>\n",
       "</div>"
      ],
      "text/plain": [
       "club          Boston Committee  London Enemies  Long Room Club  Loyal Nine  \\\n",
       "name                                                                         \n",
       "Adams John                   0               0               1           0   \n",
       "Adams Samuel                 1               1               1           0   \n",
       "\n",
       "club          North Caucus  St Andrews Lodge  Tea Party  \n",
       "name                                                     \n",
       "Adams John               1                 0          0  \n",
       "Adams Samuel             1                 0          0  "
      ]
     },
     "execution_count": 9,
     "metadata": {},
     "output_type": "execute_result"
    }
   ],
   "source": [
    "# Normal\n",
    "membership.head(2)"
   ]
  },
  {
   "cell_type": "code",
   "execution_count": 10,
   "metadata": {},
   "outputs": [
    {
     "data": {
      "text/html": [
       "<div>\n",
       "<style>\n",
       "    .dataframe thead tr:only-child th {\n",
       "        text-align: right;\n",
       "    }\n",
       "\n",
       "    .dataframe thead th {\n",
       "        text-align: left;\n",
       "    }\n",
       "\n",
       "    .dataframe tbody tr th {\n",
       "        vertical-align: top;\n",
       "    }\n",
       "</style>\n",
       "<table border=\"1\" class=\"dataframe\">\n",
       "  <thead>\n",
       "    <tr style=\"text-align: right;\">\n",
       "      <th>name</th>\n",
       "      <th>Adams John</th>\n",
       "      <th>Adams Samuel</th>\n",
       "      <th>Allen Dr</th>\n",
       "      <th>Appleton Nathaniel</th>\n",
       "      <th>Ash Gilbert</th>\n",
       "      <th>Austin Benjamin</th>\n",
       "      <th>Austin Samuel</th>\n",
       "      <th>Avery John</th>\n",
       "      <th>Baldwin Cyrus</th>\n",
       "      <th>Ballard John</th>\n",
       "      <th>...</th>\n",
       "      <th>Whitwell William</th>\n",
       "      <th>Williams Jeremiah</th>\n",
       "      <th>Williams Jonathan</th>\n",
       "      <th>Williams Thomas</th>\n",
       "      <th>Willis Nathaniel</th>\n",
       "      <th>Wingfield William</th>\n",
       "      <th>Winslow John</th>\n",
       "      <th>Winthrop John</th>\n",
       "      <th>Wyeth Joshua</th>\n",
       "      <th>Young Thomas</th>\n",
       "    </tr>\n",
       "    <tr>\n",
       "      <th>club</th>\n",
       "      <th></th>\n",
       "      <th></th>\n",
       "      <th></th>\n",
       "      <th></th>\n",
       "      <th></th>\n",
       "      <th></th>\n",
       "      <th></th>\n",
       "      <th></th>\n",
       "      <th></th>\n",
       "      <th></th>\n",
       "      <th></th>\n",
       "      <th></th>\n",
       "      <th></th>\n",
       "      <th></th>\n",
       "      <th></th>\n",
       "      <th></th>\n",
       "      <th></th>\n",
       "      <th></th>\n",
       "      <th></th>\n",
       "      <th></th>\n",
       "      <th></th>\n",
       "    </tr>\n",
       "  </thead>\n",
       "  <tbody>\n",
       "    <tr>\n",
       "      <th>Boston Committee</th>\n",
       "      <td>0</td>\n",
       "      <td>1</td>\n",
       "      <td>0</td>\n",
       "      <td>1</td>\n",
       "      <td>0</td>\n",
       "      <td>0</td>\n",
       "      <td>0</td>\n",
       "      <td>0</td>\n",
       "      <td>0</td>\n",
       "      <td>0</td>\n",
       "      <td>...</td>\n",
       "      <td>0</td>\n",
       "      <td>0</td>\n",
       "      <td>0</td>\n",
       "      <td>0</td>\n",
       "      <td>0</td>\n",
       "      <td>0</td>\n",
       "      <td>0</td>\n",
       "      <td>0</td>\n",
       "      <td>0</td>\n",
       "      <td>1</td>\n",
       "    </tr>\n",
       "    <tr>\n",
       "      <th>London Enemies</th>\n",
       "      <td>0</td>\n",
       "      <td>1</td>\n",
       "      <td>0</td>\n",
       "      <td>0</td>\n",
       "      <td>0</td>\n",
       "      <td>1</td>\n",
       "      <td>1</td>\n",
       "      <td>1</td>\n",
       "      <td>1</td>\n",
       "      <td>0</td>\n",
       "      <td>...</td>\n",
       "      <td>1</td>\n",
       "      <td>0</td>\n",
       "      <td>1</td>\n",
       "      <td>0</td>\n",
       "      <td>0</td>\n",
       "      <td>0</td>\n",
       "      <td>0</td>\n",
       "      <td>1</td>\n",
       "      <td>0</td>\n",
       "      <td>0</td>\n",
       "    </tr>\n",
       "  </tbody>\n",
       "</table>\n",
       "<p>2 rows × 254 columns</p>\n",
       "</div>"
      ],
      "text/plain": [
       "name              Adams John  Adams Samuel  Allen Dr  Appleton Nathaniel  \\\n",
       "club                                                                       \n",
       "Boston Committee           0             1         0                   1   \n",
       "London Enemies             0             1         0                   0   \n",
       "\n",
       "name              Ash Gilbert  Austin Benjamin  Austin Samuel  Avery John  \\\n",
       "club                                                                        \n",
       "Boston Committee            0                0              0           0   \n",
       "London Enemies              0                1              1           1   \n",
       "\n",
       "name              Baldwin Cyrus  Ballard John      ...       Whitwell William  \\\n",
       "club                                               ...                          \n",
       "Boston Committee              0             0      ...                      0   \n",
       "London Enemies                1             0      ...                      1   \n",
       "\n",
       "name              Williams Jeremiah  Williams Jonathan  Williams Thomas  \\\n",
       "club                                                                      \n",
       "Boston Committee                  0                  0                0   \n",
       "London Enemies                    0                  1                0   \n",
       "\n",
       "name              Willis Nathaniel  Wingfield William  Winslow John  \\\n",
       "club                                                                  \n",
       "Boston Committee                 0                  0             0   \n",
       "London Enemies                   0                  0             0   \n",
       "\n",
       "name              Winthrop John  Wyeth Joshua  Young Thomas  \n",
       "club                                                         \n",
       "Boston Committee              0             0             1  \n",
       "London Enemies                1             0             0  \n",
       "\n",
       "[2 rows x 254 columns]"
      ]
     },
     "execution_count": 10,
     "metadata": {},
     "output_type": "execute_result"
    }
   ],
   "source": [
    "# Transposed\n",
    "membership.T.head(2)"
   ]
  },
  {
   "cell_type": "markdown",
   "metadata": {},
   "source": [
    "## Using the transposition and the dot product to calculate connectedness\n",
    "\n",
    "### Connectedness for people\n",
    "\n",
    "To see how **people are connected to people**, we'll use this code here..."
   ]
  },
  {
   "cell_type": "code",
   "execution_count": 16,
   "metadata": {},
   "outputs": [
    {
     "data": {
      "text/html": [
       "<div>\n",
       "<style>\n",
       "    .dataframe thead tr:only-child th {\n",
       "        text-align: right;\n",
       "    }\n",
       "\n",
       "    .dataframe thead th {\n",
       "        text-align: left;\n",
       "    }\n",
       "\n",
       "    .dataframe tbody tr th {\n",
       "        vertical-align: top;\n",
       "    }\n",
       "</style>\n",
       "<table border=\"1\" class=\"dataframe\">\n",
       "  <thead>\n",
       "    <tr style=\"text-align: right;\">\n",
       "      <th>name</th>\n",
       "      <th>Adams John</th>\n",
       "      <th>Adams Samuel</th>\n",
       "      <th>Allen Dr</th>\n",
       "      <th>Appleton Nathaniel</th>\n",
       "      <th>Ash Gilbert</th>\n",
       "      <th>Austin Benjamin</th>\n",
       "      <th>Austin Samuel</th>\n",
       "      <th>Avery John</th>\n",
       "      <th>Baldwin Cyrus</th>\n",
       "      <th>Ballard John</th>\n",
       "      <th>...</th>\n",
       "      <th>Whitwell William</th>\n",
       "      <th>Williams Jeremiah</th>\n",
       "      <th>Williams Jonathan</th>\n",
       "      <th>Williams Thomas</th>\n",
       "      <th>Willis Nathaniel</th>\n",
       "      <th>Wingfield William</th>\n",
       "      <th>Winslow John</th>\n",
       "      <th>Winthrop John</th>\n",
       "      <th>Wyeth Joshua</th>\n",
       "      <th>Young Thomas</th>\n",
       "    </tr>\n",
       "    <tr>\n",
       "      <th>name</th>\n",
       "      <th></th>\n",
       "      <th></th>\n",
       "      <th></th>\n",
       "      <th></th>\n",
       "      <th></th>\n",
       "      <th></th>\n",
       "      <th></th>\n",
       "      <th></th>\n",
       "      <th></th>\n",
       "      <th></th>\n",
       "      <th></th>\n",
       "      <th></th>\n",
       "      <th></th>\n",
       "      <th></th>\n",
       "      <th></th>\n",
       "      <th></th>\n",
       "      <th></th>\n",
       "      <th></th>\n",
       "      <th></th>\n",
       "      <th></th>\n",
       "      <th></th>\n",
       "    </tr>\n",
       "  </thead>\n",
       "  <tbody>\n",
       "    <tr>\n",
       "      <th>Adams John</th>\n",
       "      <td>2</td>\n",
       "      <td>2</td>\n",
       "      <td>1</td>\n",
       "      <td>1</td>\n",
       "      <td>0</td>\n",
       "      <td>0</td>\n",
       "      <td>0</td>\n",
       "      <td>0</td>\n",
       "      <td>0</td>\n",
       "      <td>1</td>\n",
       "      <td>...</td>\n",
       "      <td>0</td>\n",
       "      <td>0</td>\n",
       "      <td>0</td>\n",
       "      <td>0</td>\n",
       "      <td>0</td>\n",
       "      <td>0</td>\n",
       "      <td>1</td>\n",
       "      <td>1</td>\n",
       "      <td>0</td>\n",
       "      <td>1</td>\n",
       "    </tr>\n",
       "    <tr>\n",
       "      <th>Adams Samuel</th>\n",
       "      <td>2</td>\n",
       "      <td>4</td>\n",
       "      <td>1</td>\n",
       "      <td>2</td>\n",
       "      <td>0</td>\n",
       "      <td>1</td>\n",
       "      <td>1</td>\n",
       "      <td>1</td>\n",
       "      <td>1</td>\n",
       "      <td>1</td>\n",
       "      <td>...</td>\n",
       "      <td>1</td>\n",
       "      <td>0</td>\n",
       "      <td>1</td>\n",
       "      <td>0</td>\n",
       "      <td>0</td>\n",
       "      <td>0</td>\n",
       "      <td>1</td>\n",
       "      <td>2</td>\n",
       "      <td>0</td>\n",
       "      <td>2</td>\n",
       "    </tr>\n",
       "    <tr>\n",
       "      <th>Allen Dr</th>\n",
       "      <td>1</td>\n",
       "      <td>1</td>\n",
       "      <td>1</td>\n",
       "      <td>1</td>\n",
       "      <td>0</td>\n",
       "      <td>0</td>\n",
       "      <td>0</td>\n",
       "      <td>0</td>\n",
       "      <td>0</td>\n",
       "      <td>1</td>\n",
       "      <td>...</td>\n",
       "      <td>0</td>\n",
       "      <td>0</td>\n",
       "      <td>0</td>\n",
       "      <td>0</td>\n",
       "      <td>0</td>\n",
       "      <td>0</td>\n",
       "      <td>0</td>\n",
       "      <td>1</td>\n",
       "      <td>0</td>\n",
       "      <td>1</td>\n",
       "    </tr>\n",
       "    <tr>\n",
       "      <th>Appleton Nathaniel</th>\n",
       "      <td>1</td>\n",
       "      <td>2</td>\n",
       "      <td>1</td>\n",
       "      <td>2</td>\n",
       "      <td>0</td>\n",
       "      <td>0</td>\n",
       "      <td>0</td>\n",
       "      <td>0</td>\n",
       "      <td>0</td>\n",
       "      <td>1</td>\n",
       "      <td>...</td>\n",
       "      <td>0</td>\n",
       "      <td>0</td>\n",
       "      <td>0</td>\n",
       "      <td>0</td>\n",
       "      <td>0</td>\n",
       "      <td>0</td>\n",
       "      <td>0</td>\n",
       "      <td>1</td>\n",
       "      <td>0</td>\n",
       "      <td>2</td>\n",
       "    </tr>\n",
       "    <tr>\n",
       "      <th>Ash Gilbert</th>\n",
       "      <td>0</td>\n",
       "      <td>0</td>\n",
       "      <td>0</td>\n",
       "      <td>0</td>\n",
       "      <td>1</td>\n",
       "      <td>0</td>\n",
       "      <td>0</td>\n",
       "      <td>0</td>\n",
       "      <td>0</td>\n",
       "      <td>0</td>\n",
       "      <td>...</td>\n",
       "      <td>0</td>\n",
       "      <td>0</td>\n",
       "      <td>0</td>\n",
       "      <td>0</td>\n",
       "      <td>0</td>\n",
       "      <td>1</td>\n",
       "      <td>0</td>\n",
       "      <td>0</td>\n",
       "      <td>0</td>\n",
       "      <td>0</td>\n",
       "    </tr>\n",
       "  </tbody>\n",
       "</table>\n",
       "<p>5 rows × 254 columns</p>\n",
       "</div>"
      ],
      "text/plain": [
       "name                Adams John  Adams Samuel  Allen Dr  Appleton Nathaniel  \\\n",
       "name                                                                         \n",
       "Adams John                   2             2         1                   1   \n",
       "Adams Samuel                 2             4         1                   2   \n",
       "Allen Dr                     1             1         1                   1   \n",
       "Appleton Nathaniel           1             2         1                   2   \n",
       "Ash Gilbert                  0             0         0                   0   \n",
       "\n",
       "name                Ash Gilbert  Austin Benjamin  Austin Samuel  Avery John  \\\n",
       "name                                                                          \n",
       "Adams John                    0                0              0           0   \n",
       "Adams Samuel                  0                1              1           1   \n",
       "Allen Dr                      0                0              0           0   \n",
       "Appleton Nathaniel            0                0              0           0   \n",
       "Ash Gilbert                   1                0              0           0   \n",
       "\n",
       "name                Baldwin Cyrus  Ballard John      ...       \\\n",
       "name                                                 ...        \n",
       "Adams John                      0             1      ...        \n",
       "Adams Samuel                    1             1      ...        \n",
       "Allen Dr                        0             1      ...        \n",
       "Appleton Nathaniel              0             1      ...        \n",
       "Ash Gilbert                     0             0      ...        \n",
       "\n",
       "name                Whitwell William  Williams Jeremiah  Williams Jonathan  \\\n",
       "name                                                                         \n",
       "Adams John                         0                  0                  0   \n",
       "Adams Samuel                       1                  0                  1   \n",
       "Allen Dr                           0                  0                  0   \n",
       "Appleton Nathaniel                 0                  0                  0   \n",
       "Ash Gilbert                        0                  0                  0   \n",
       "\n",
       "name                Williams Thomas  Willis Nathaniel  Wingfield William  \\\n",
       "name                                                                       \n",
       "Adams John                        0                 0                  0   \n",
       "Adams Samuel                      0                 0                  0   \n",
       "Allen Dr                          0                 0                  0   \n",
       "Appleton Nathaniel                0                 0                  0   \n",
       "Ash Gilbert                       0                 0                  1   \n",
       "\n",
       "name                Winslow John  Winthrop John  Wyeth Joshua  Young Thomas  \n",
       "name                                                                         \n",
       "Adams John                     1              1             0             1  \n",
       "Adams Samuel                   1              2             0             2  \n",
       "Allen Dr                       0              1             0             1  \n",
       "Appleton Nathaniel             0              1             0             2  \n",
       "Ash Gilbert                    0              0             0             0  \n",
       "\n",
       "[5 rows x 254 columns]"
      ]
     },
     "execution_count": 16,
     "metadata": {},
     "output_type": "execute_result"
    }
   ],
   "source": [
    "people_adj = membership.dot(membership.T)\n",
    "people_adj.head()"
   ]
  },
  {
   "cell_type": "markdown",
   "metadata": {},
   "source": [
    "The intersection of two people is how connected they are. John Adams and Sam Adams are apparently in 2 clubs together, while Nathaniel Appleton and John Ballard are only in 1 club together.\n",
    "\n",
    "### Connectedness for clubs\n",
    "\n",
    "We can also **calculate this for the clubs**. All we need to do is switch around the code a little, and move the `.T` (the transposition) *before* we do the dot product."
   ]
  },
  {
   "cell_type": "code",
   "execution_count": 18,
   "metadata": {},
   "outputs": [
    {
     "data": {
      "text/html": [
       "<div>\n",
       "<style>\n",
       "    .dataframe thead tr:only-child th {\n",
       "        text-align: right;\n",
       "    }\n",
       "\n",
       "    .dataframe thead th {\n",
       "        text-align: left;\n",
       "    }\n",
       "\n",
       "    .dataframe tbody tr th {\n",
       "        vertical-align: top;\n",
       "    }\n",
       "</style>\n",
       "<table border=\"1\" class=\"dataframe\">\n",
       "  <thead>\n",
       "    <tr style=\"text-align: right;\">\n",
       "      <th>club</th>\n",
       "      <th>Boston Committee</th>\n",
       "      <th>London Enemies</th>\n",
       "      <th>Long Room Club</th>\n",
       "      <th>Loyal Nine</th>\n",
       "      <th>North Caucus</th>\n",
       "      <th>St Andrews Lodge</th>\n",
       "      <th>Tea Party</th>\n",
       "    </tr>\n",
       "    <tr>\n",
       "      <th>club</th>\n",
       "      <th></th>\n",
       "      <th></th>\n",
       "      <th></th>\n",
       "      <th></th>\n",
       "      <th></th>\n",
       "      <th></th>\n",
       "      <th></th>\n",
       "    </tr>\n",
       "  </thead>\n",
       "  <tbody>\n",
       "    <tr>\n",
       "      <th>Boston Committee</th>\n",
       "      <td>21</td>\n",
       "      <td>11</td>\n",
       "      <td>5</td>\n",
       "      <td>0</td>\n",
       "      <td>9</td>\n",
       "      <td>1</td>\n",
       "      <td>3</td>\n",
       "    </tr>\n",
       "    <tr>\n",
       "      <th>London Enemies</th>\n",
       "      <td>11</td>\n",
       "      <td>62</td>\n",
       "      <td>5</td>\n",
       "      <td>3</td>\n",
       "      <td>16</td>\n",
       "      <td>3</td>\n",
       "      <td>8</td>\n",
       "    </tr>\n",
       "    <tr>\n",
       "      <th>Long Room Club</th>\n",
       "      <td>5</td>\n",
       "      <td>5</td>\n",
       "      <td>17</td>\n",
       "      <td>0</td>\n",
       "      <td>5</td>\n",
       "      <td>2</td>\n",
       "      <td>2</td>\n",
       "    </tr>\n",
       "    <tr>\n",
       "      <th>Loyal Nine</th>\n",
       "      <td>0</td>\n",
       "      <td>3</td>\n",
       "      <td>0</td>\n",
       "      <td>10</td>\n",
       "      <td>3</td>\n",
       "      <td>2</td>\n",
       "      <td>2</td>\n",
       "    </tr>\n",
       "    <tr>\n",
       "      <th>North Caucus</th>\n",
       "      <td>9</td>\n",
       "      <td>16</td>\n",
       "      <td>5</td>\n",
       "      <td>3</td>\n",
       "      <td>59</td>\n",
       "      <td>3</td>\n",
       "      <td>13</td>\n",
       "    </tr>\n",
       "  </tbody>\n",
       "</table>\n",
       "</div>"
      ],
      "text/plain": [
       "club              Boston Committee  London Enemies  Long Room Club  \\\n",
       "club                                                                 \n",
       "Boston Committee                21              11               5   \n",
       "London Enemies                  11              62               5   \n",
       "Long Room Club                   5               5              17   \n",
       "Loyal Nine                       0               3               0   \n",
       "North Caucus                     9              16               5   \n",
       "\n",
       "club              Loyal Nine  North Caucus  St Andrews Lodge  Tea Party  \n",
       "club                                                                     \n",
       "Boston Committee           0             9                 1          3  \n",
       "London Enemies             3            16                 3          8  \n",
       "Long Room Club             0             5                 2          2  \n",
       "Loyal Nine                10             3                 2          2  \n",
       "North Caucus               3            59                 3         13  "
      ]
     },
     "execution_count": 18,
     "metadata": {},
     "output_type": "execute_result"
    }
   ],
   "source": [
    "membership_adj = membership.T.dot(membership)\n",
    "membership_adj.head()"
   ]
  },
  {
   "cell_type": "markdown",
   "metadata": {},
   "source": [
    "Just like before, the intersection of a row and column is how connected two elements are. London Enemies and Boston Committee have 11 people in common, while the North Caucus and the Long Room Club only have 5. Seems easy enough!"
   ]
  },
  {
   "cell_type": "markdown",
   "metadata": {},
   "source": [
    "## Visualizing our network\n",
    "\n",
    "Now we can use **networkx** to visualize our connections! Before we used `g = nx.Graph()` to build a graph, and manually added each node and edge. This time we're just going to feed it our matrix!\n",
    "\n",
    "Let's start with the **membership adjacency matrix**. In order to draw it, we need to feed it the contents of our adjacency matrix, all of those numbers that tell you how connected something is. For some reason it doesn't like pandas, and makes us use `.values` to pull the data out of it first."
   ]
  },
  {
   "cell_type": "code",
   "execution_count": 22,
   "metadata": {},
   "outputs": [
    {
     "data": {
      "text/plain": [
       "array([[21, 11,  5,  0,  9,  1,  3],\n",
       "       [11, 62,  5,  3, 16,  3,  8],\n",
       "       [ 5,  5, 17,  0,  5,  2,  2],\n",
       "       [ 0,  3,  0, 10,  3,  2,  2],\n",
       "       [ 9, 16,  5,  3, 59,  3, 13],\n",
       "       [ 1,  3,  2,  2,  3, 53,  3],\n",
       "       [ 3,  8,  2,  2, 13,  3, 97]])"
      ]
     },
     "execution_count": 22,
     "metadata": {},
     "output_type": "execute_result"
    }
   ],
   "source": [
    "membership_adj.values"
   ]
  },
  {
   "cell_type": "code",
   "execution_count": 23,
   "metadata": {
    "collapsed": true
   },
   "outputs": [],
   "source": [
    "# Ignore matplotlib warnings\n",
    "import warnings\n",
    "warnings.filterwarnings(\"ignore\")"
   ]
  },
  {
   "cell_type": "code",
   "execution_count": 30,
   "metadata": {},
   "outputs": [
    {
     "data": {
      "image/png": "[encoded data removed]",
      "text/plain": [
       "<matplotlib.figure.Figure at 0x10e7fcc18>"
      ]
     },
     "metadata": {},
     "output_type": "display_data"
    }
   ],
   "source": [
    "%matplotlib inline\n",
    "import networkx as nx\n",
    "\n",
    "g = nx.from_numpy_matrix(membership_adj.values)\n",
    "nx.draw(g)"
   ]
  },
  {
   "cell_type": "markdown",
   "metadata": {},
   "source": [
    "It's **pretty ugly**. We could force it to be circular if we wanted, but it's still pretty ugly."
   ]
  },
  {
   "cell_type": "code",
   "execution_count": 32,
   "metadata": {},
   "outputs": [
    {
     "data": {
      "image/png": "[encoded data removed]",
      "text/plain": [
       "<matplotlib.figure.Figure at 0x10e20aba8>"
      ]
     },
     "metadata": {},
     "output_type": "display_data"
    }
   ],
   "source": [
    "g = nx.from_numpy_matrix(membership_adj.values)\n",
    "nx.draw_circular(g)"
   ]
  },
  {
   "cell_type": "markdown",
   "metadata": {},
   "source": [
    "## Fixing up our visualization\n",
    "\n",
    "If we want to customize our visualization - change our nodes up and our edges, etc - we're going to need to draw this step by step, and not use `nx.draw` any more. It takes **a few steps:** \n",
    "\n",
    "1. Create your graph\n",
    "2. Create a layout for your nodes\n",
    "3. Draw the parts you want\n",
    "4. Turn off the axis because I know you don't want it\n",
    "5. Use `matplotlib` to display your graph\n",
    "\n",
    "When we clean things up and get smarter it's going to change, but hey, it's a good start!"
   ]
  },
  {
   "cell_type": "markdown",
   "metadata": {},
   "source": [
    "**Four things you can draw:**\n",
    "\n",
    "* Nodes\n",
    "* Edges\n",
    "* Node labels\n",
    "* Edge labels"
   ]
  },
  {
   "cell_type": "code",
   "execution_count": 40,
   "metadata": {},
   "outputs": [
    {
     "data": {
      "text/plain": [
       "array([[21, 11,  5,  0,  9,  1,  3],\n",
       "       [11, 62,  5,  3, 16,  3,  8],\n",
       "       [ 5,  5, 17,  0,  5,  2,  2],\n",
       "       [ 0,  3,  0, 10,  3,  2,  2],\n",
       "       [ 9, 16,  5,  3, 59,  3, 13],\n",
       "       [ 1,  3,  2,  2,  3, 53,  3],\n",
       "       [ 3,  8,  2,  2, 13,  3, 97]])"
      ]
     },
     "execution_count": 40,
     "metadata": {},
     "output_type": "execute_result"
    }
   ],
   "source": [
    "membership_adj.values"
   ]
  },
  {
   "cell_type": "code",
   "execution_count": 39,
   "metadata": {},
   "outputs": [
    {
     "data": {
      "image/png": "[encoded data removed]",
      "text/plain": [
       "<matplotlib.figure.Figure at 0x10ecfd160>"
      ]
     },
     "metadata": {},
     "output_type": "display_data"
    }
   ],
   "source": [
    "import matplotlib.pyplot as plt\n",
    "\n",
    "# 1. Create the graph\n",
    "g = nx.from_numpy_matrix(membership_adj.values)\n",
    "\n",
    "# 2. Create a layout for our nodes \n",
    "layout = nx.spring_layout(g, iterations=20)\n",
    "\n",
    "# 3. Draw the parts we want\n",
    "nx.draw_networkx_edges(g, layout)\n",
    "nx.draw_networkx_nodes(g, layout)\n",
    "nx.draw_networkx_labels(g, layout)\n",
    "\n",
    "# 4. Turn off the axis because I know you don't want it\n",
    "plt.axis('off')\n",
    "\n",
    "# 5. Tell matplotlib to show it (kind of optional)\n",
    "plt.show()"
   ]
  },
  {
   "cell_type": "markdown",
   "metadata": {},
   "source": [
    "### Improvement 1.1: Labeling our nodes\n",
    "\n",
    "Let's label our nodes so we know what is what."
   ]
  },
  {
   "cell_type": "code",
   "execution_count": 41,
   "metadata": {},
   "outputs": [
    {
     "data": {
      "text/plain": [
       "{0: 'Boston Committee',\n",
       " 1: 'London Enemies',\n",
       " 2: 'Long Room Club',\n",
       " 3: 'Loyal Nine',\n",
       " 4: 'North Caucus',\n",
       " 5: 'St Andrews Lodge',\n",
       " 6: 'Tea Party'}"
      ]
     },
     "execution_count": 41,
     "metadata": {},
     "output_type": "execute_result"
    }
   ],
   "source": [
    "# This is magic, but we'll use it\n",
    "g = nx.from_numpy_matrix(membership_adj.values)\n",
    "dict((zip(g.nodes(), membership_adj.columns)))"
   ]
  },
  {
   "cell_type": "code",
   "execution_count": 42,
   "metadata": {},
   "outputs": [
    {
     "name": "stdout",
     "output_type": "stream",
     "text": [
      "Renaming nodes with {0: 'Boston Committee', 1: 'London Enemies', 2: 'Long Room Club', 3: 'Loyal Nine', 4: 'North Caucus', 5: 'St Andrews Lodge', 6: 'Tea Party'}\n"
     ]
    },
    {
     "data": {
      "image/png": "[encoded data removed]",
      "text/plain": [
       "<matplotlib.figure.Figure at 0x10ed25a58>"
      ]
     },
     "metadata": {},
     "output_type": "display_data"
    }
   ],
   "source": [
    "# 1. Create the graph\n",
    "g = nx.from_numpy_matrix(membership_adj.values)\n",
    "\n",
    "# 1.5 Rename our nodes from boring numbers\n",
    "# copy=False is like inplace=True\n",
    "renamed = dict(zip(g.nodes(), membership_adj.columns))\n",
    "print(\"Renaming nodes with\", renamed)\n",
    "nx.relabel_nodes(g, renamed, copy=False)\n",
    "\n",
    "# 2. Create a layout for our nodes \n",
    "layout = nx.spring_layout(g,iterations=20)\n",
    "\n",
    "# 3. Draw the parts we want\n",
    "nx.draw_networkx_edges(g, layout)\n",
    "nx.draw_networkx_nodes(g, layout)\n",
    "nx.draw_networkx_labels(g, layout)\n",
    "\n",
    "# 4. Turn off the axis because I know you don't want it\n",
    "plt.axis('off')\n",
    "\n",
    "# 5. Tell matplotlib to show it\n",
    "plt.show()"
   ]
  },
  {
   "cell_type": "markdown",
   "metadata": {},
   "source": [
    "### Improvement 1.2: Editing our layout\n",
    "\n",
    "We can **make it round**! We need to replace our `spring_layout` with a `circular_layout`"
   ]
  },
  {
   "cell_type": "code",
   "execution_count": 45,
   "metadata": {},
   "outputs": [
    {
     "name": "stdout",
     "output_type": "stream",
     "text": [
      "Renaming nodes with {0: 'Boston Committee', 1: 'London Enemies', 2: 'Long Room Club', 3: 'Loyal Nine', 4: 'North Caucus', 5: 'St Andrews Lodge', 6: 'Tea Party'}\n"
     ]
    },
    {
     "data": {
      "image/png": "[encoded data removed]",
      "text/plain": [
       "<matplotlib.figure.Figure at 0x10eebce10>"
      ]
     },
     "metadata": {},
     "output_type": "display_data"
    }
   ],
   "source": [
    "# 1. Create the graph\n",
    "g = nx.from_numpy_matrix(membership_adj.values)\n",
    "\n",
    "# 1.5 Rename our nodes from boring numbers\n",
    "# copy=False is like inplace=True\n",
    "renamed = dict(zip(g.nodes(), membership.columns))\n",
    "print(\"Renaming nodes with\", renamed)\n",
    "nx.relabel_nodes(g, renamed, copy=False)\n",
    "\n",
    "# 2. Create a layout for our nodes \n",
    "layout = nx.circular_layout(g)\n",
    "\n",
    "# 3. Draw the parts we want\n",
    "nx.draw_networkx_edges(g, layout)\n",
    "nx.draw_networkx_nodes(g, layout)\n",
    "nx.draw_networkx_labels(g, layout)\n",
    "\n",
    "# 4. Turn off the axis because I know you don't want it\n",
    "plt.axis('off')\n",
    "\n",
    "# 5. Tell matplotlib to show it\n",
    "plt.show()"
   ]
  },
  {
   "cell_type": "markdown",
   "metadata": {},
   "source": [
    "### Improvement 1.3: Edge weights\n",
    "\n",
    "If we want to make our edge thicknesses change according to their number of connections, we need to build a list of weights. We'll do that by doing a list comprehension and passing it to `draw_networkx_edges`."
   ]
  },
  {
   "cell_type": "code",
   "execution_count": 51,
   "metadata": {},
   "outputs": [
    {
     "data": {
      "text/plain": [
       "[('Boston Committee', 'Boston Committee', {'weight': 21}),\n",
       " ('Boston Committee', 'London Enemies', {'weight': 11}),\n",
       " ('Boston Committee', 'Long Room Club', {'weight': 5}),\n",
       " ('Boston Committee', 'North Caucus', {'weight': 9}),\n",
       " ('Boston Committee', 'St Andrews Lodge', {'weight': 1})]"
      ]
     },
     "execution_count": 51,
     "metadata": {},
     "output_type": "execute_result"
    }
   ],
   "source": [
    "# These are some of our edges\n",
    "# data=True shows us the extra data\n",
    "#g.edges(data=True)\n",
    "g.edges(data=True)[:5]"
   ]
  },
  {
   "cell_type": "code",
   "execution_count": 53,
   "metadata": {},
   "outputs": [
    {
     "name": "stdout",
     "output_type": "stream",
     "text": [
      "('Boston Committee', 'Boston Committee', {'weight': 21})\n",
      "-------\n",
      "('Boston Committee', 'London Enemies', {'weight': 11})\n",
      "-------\n",
      "('Boston Committee', 'Long Room Club', {'weight': 5})\n",
      "-------\n",
      "('Boston Committee', 'North Caucus', {'weight': 9})\n",
      "-------\n",
      "('Boston Committee', 'St Andrews Lodge', {'weight': 1})\n",
      "-------\n",
      "('Boston Committee', 'Tea Party', {'weight': 3})\n",
      "-------\n",
      "('London Enemies', 'London Enemies', {'weight': 62})\n",
      "-------\n",
      "('London Enemies', 'Long Room Club', {'weight': 5})\n",
      "-------\n",
      "('London Enemies', 'Loyal Nine', {'weight': 3})\n",
      "-------\n",
      "('London Enemies', 'North Caucus', {'weight': 16})\n",
      "-------\n",
      "('London Enemies', 'St Andrews Lodge', {'weight': 3})\n",
      "-------\n",
      "('London Enemies', 'Tea Party', {'weight': 8})\n",
      "-------\n",
      "('Long Room Club', 'Long Room Club', {'weight': 17})\n",
      "-------\n",
      "('Long Room Club', 'North Caucus', {'weight': 5})\n",
      "-------\n",
      "('Long Room Club', 'St Andrews Lodge', {'weight': 2})\n",
      "-------\n",
      "('Long Room Club', 'Tea Party', {'weight': 2})\n",
      "-------\n",
      "('Loyal Nine', 'Loyal Nine', {'weight': 10})\n",
      "-------\n",
      "('Loyal Nine', 'North Caucus', {'weight': 3})\n",
      "-------\n",
      "('Loyal Nine', 'St Andrews Lodge', {'weight': 2})\n",
      "-------\n",
      "('Loyal Nine', 'Tea Party', {'weight': 2})\n",
      "-------\n",
      "('North Caucus', 'North Caucus', {'weight': 59})\n",
      "-------\n",
      "('North Caucus', 'St Andrews Lodge', {'weight': 3})\n",
      "-------\n",
      "('North Caucus', 'Tea Party', {'weight': 13})\n",
      "-------\n",
      "('St Andrews Lodge', 'St Andrews Lodge', {'weight': 53})\n",
      "-------\n",
      "('St Andrews Lodge', 'Tea Party', {'weight': 3})\n",
      "-------\n",
      "('Tea Party', 'Tea Party', {'weight': 97})\n",
      "-------\n"
     ]
    }
   ],
   "source": [
    "for edge in g.edges(data=True):\n",
    "    print(edge)\n",
    "    print(\"-------\")"
   ]
  },
  {
   "cell_type": "code",
   "execution_count": 54,
   "metadata": {},
   "outputs": [
    {
     "name": "stdout",
     "output_type": "stream",
     "text": [
      "Source is Boston Committee\n",
      "Target is Boston Committee\n",
      "Data is {'weight': 21}\n",
      "------------\n",
      "Source is Boston Committee\n",
      "Target is London Enemies\n",
      "Data is {'weight': 11}\n",
      "------------\n",
      "Source is Boston Committee\n",
      "Target is Long Room Club\n",
      "Data is {'weight': 5}\n",
      "------------\n",
      "Source is Boston Committee\n",
      "Target is North Caucus\n",
      "Data is {'weight': 9}\n",
      "------------\n",
      "Source is Boston Committee\n",
      "Target is St Andrews Lodge\n",
      "Data is {'weight': 1}\n",
      "------------\n",
      "Source is Boston Committee\n",
      "Target is Tea Party\n",
      "Data is {'weight': 3}\n",
      "------------\n",
      "Source is London Enemies\n",
      "Target is London Enemies\n",
      "Data is {'weight': 62}\n",
      "------------\n",
      "Source is London Enemies\n",
      "Target is Long Room Club\n",
      "Data is {'weight': 5}\n",
      "------------\n",
      "Source is London Enemies\n",
      "Target is Loyal Nine\n",
      "Data is {'weight': 3}\n",
      "------------\n",
      "Source is London Enemies\n",
      "Target is North Caucus\n",
      "Data is {'weight': 16}\n",
      "------------\n",
      "Source is London Enemies\n",
      "Target is St Andrews Lodge\n",
      "Data is {'weight': 3}\n",
      "------------\n",
      "Source is London Enemies\n",
      "Target is Tea Party\n",
      "Data is {'weight': 8}\n",
      "------------\n",
      "Source is Long Room Club\n",
      "Target is Long Room Club\n",
      "Data is {'weight': 17}\n",
      "------------\n",
      "Source is Long Room Club\n",
      "Target is North Caucus\n",
      "Data is {'weight': 5}\n",
      "------------\n",
      "Source is Long Room Club\n",
      "Target is St Andrews Lodge\n",
      "Data is {'weight': 2}\n",
      "------------\n",
      "Source is Long Room Club\n",
      "Target is Tea Party\n",
      "Data is {'weight': 2}\n",
      "------------\n",
      "Source is Loyal Nine\n",
      "Target is Loyal Nine\n",
      "Data is {'weight': 10}\n",
      "------------\n",
      "Source is Loyal Nine\n",
      "Target is North Caucus\n",
      "Data is {'weight': 3}\n",
      "------------\n",
      "Source is Loyal Nine\n",
      "Target is St Andrews Lodge\n",
      "Data is {'weight': 2}\n",
      "------------\n",
      "Source is Loyal Nine\n",
      "Target is Tea Party\n",
      "Data is {'weight': 2}\n",
      "------------\n",
      "Source is North Caucus\n",
      "Target is North Caucus\n",
      "Data is {'weight': 59}\n",
      "------------\n",
      "Source is North Caucus\n",
      "Target is St Andrews Lodge\n",
      "Data is {'weight': 3}\n",
      "------------\n",
      "Source is North Caucus\n",
      "Target is Tea Party\n",
      "Data is {'weight': 13}\n",
      "------------\n",
      "Source is St Andrews Lodge\n",
      "Target is St Andrews Lodge\n",
      "Data is {'weight': 53}\n",
      "------------\n",
      "Source is St Andrews Lodge\n",
      "Target is Tea Party\n",
      "Data is {'weight': 3}\n",
      "------------\n",
      "Source is Tea Party\n",
      "Target is Tea Party\n",
      "Data is {'weight': 97}\n",
      "------------\n"
     ]
    }
   ],
   "source": [
    "for source, target, data in g.edges(data=True):\n",
    "    print(\"Source is\", source)\n",
    "    print(\"Target is\", target)\n",
    "    print(\"Data is\", data)\n",
    "    print(\"------------\")"
   ]
  },
  {
   "cell_type": "code",
   "execution_count": 60,
   "metadata": {},
   "outputs": [
    {
     "data": {
      "text/plain": [
       "[('Boston Committee', 'Boston Committee', {'weight': 21}),\n",
       " ('Boston Committee', 'London Enemies', {'weight': 11}),\n",
       " ('Boston Committee', 'Long Room Club', {'weight': 5}),\n",
       " ('Boston Committee', 'North Caucus', {'weight': 9}),\n",
       " ('Boston Committee', 'St Andrews Lodge', {'weight': 1}),\n",
       " ('Boston Committee', 'Tea Party', {'weight': 3}),\n",
       " ('London Enemies', 'London Enemies', {'weight': 62}),\n",
       " ('London Enemies', 'Long Room Club', {'weight': 5}),\n",
       " ('London Enemies', 'Loyal Nine', {'weight': 3}),\n",
       " ('London Enemies', 'North Caucus', {'weight': 16}),\n",
       " ('London Enemies', 'St Andrews Lodge', {'weight': 3}),\n",
       " ('London Enemies', 'Tea Party', {'weight': 8}),\n",
       " ('Long Room Club', 'Long Room Club', {'weight': 17}),\n",
       " ('Long Room Club', 'North Caucus', {'weight': 5}),\n",
       " ('Long Room Club', 'St Andrews Lodge', {'weight': 2}),\n",
       " ('Long Room Club', 'Tea Party', {'weight': 2}),\n",
       " ('Loyal Nine', 'Loyal Nine', {'weight': 10}),\n",
       " ('Loyal Nine', 'North Caucus', {'weight': 3}),\n",
       " ('Loyal Nine', 'St Andrews Lodge', {'weight': 2}),\n",
       " ('Loyal Nine', 'Tea Party', {'weight': 2}),\n",
       " ('North Caucus', 'North Caucus', {'weight': 59}),\n",
       " ('North Caucus', 'St Andrews Lodge', {'weight': 3}),\n",
       " ('North Caucus', 'Tea Party', {'weight': 13}),\n",
       " ('St Andrews Lodge', 'St Andrews Lodge', {'weight': 53}),\n",
       " ('St Andrews Lodge', 'Tea Party', {'weight': 3}),\n",
       " ('Tea Party', 'Tea Party', {'weight': 97})]"
      ]
     },
     "execution_count": 60,
     "metadata": {},
     "output_type": "execute_result"
    }
   ],
   "source": [
    "g.edges(data=True)"
   ]
  },
  {
   "cell_type": "code",
   "execution_count": 61,
   "metadata": {},
   "outputs": [
    {
     "data": {
      "text/plain": [
       "[10.5,\n",
       " 5.5,\n",
       " 2.5,\n",
       " 4.5,\n",
       " 0.5,\n",
       " 1.5,\n",
       " 31.0,\n",
       " 2.5,\n",
       " 1.5,\n",
       " 8.0,\n",
       " 1.5,\n",
       " 4.0,\n",
       " 8.5,\n",
       " 2.5,\n",
       " 1.0,\n",
       " 1.0,\n",
       " 5.0,\n",
       " 1.5,\n",
       " 1.0,\n",
       " 1.0,\n",
       " 29.5,\n",
       " 1.5,\n",
       " 6.5,\n",
       " 26.5,\n",
       " 1.5,\n",
       " 48.5]"
      ]
     },
     "execution_count": 61,
     "metadata": {},
     "output_type": "execute_result"
    }
   ],
   "source": [
    "# We can use a list comprehension to just pull out the weight\n",
    "# And yes, we're taking each part of the above piece by piece,\n",
    "#   * the source (Boston Committee)\n",
    "#   * the target (London Enemies)\n",
    "#   * the data ({'weight': 11})\n",
    "[data['weight'] / 2 for source, target, data in g.edges(data=True)]"
   ]
  },
  {
   "cell_type": "markdown",
   "metadata": {},
   "source": [
    "Now we're going to take those edge widths and give them to `draw_networkx_edges`."
   ]
  },
  {
   "cell_type": "code",
   "execution_count": 62,
   "metadata": {},
   "outputs": [
    {
     "name": "stdout",
     "output_type": "stream",
     "text": [
      "Renaming nodes with {0: 'Boston Committee', 1: 'London Enemies', 2: 'Long Room Club', 3: 'Loyal Nine', 4: 'North Caucus', 5: 'St Andrews Lodge', 6: 'Tea Party'}\n"
     ]
    },
    {
     "data": {
      "image/png": "[encoded data removed]",
      "text/plain": [
       "<matplotlib.figure.Figure at 0x10e63d630>"
      ]
     },
     "metadata": {},
     "output_type": "display_data"
    }
   ],
   "source": [
    "# 1. Create the graph\n",
    "g = nx.from_numpy_matrix(membership_adj.values)\n",
    "\n",
    "# 1.5 Rename our nodes from boring numbers\n",
    "# copy=False is like inplace=True\n",
    "renamed = dict(zip(g.nodes(), membership.columns))\n",
    "print(\"Renaming nodes with\", renamed)\n",
    "nx.relabel_nodes(g, renamed, copy=False)\n",
    "\n",
    "# 2. Create a layout for our nodes \n",
    "layout = nx.circular_layout(g)\n",
    "\n",
    "# 2.1 Make a list of widths\n",
    "edge_widths = [data['weight'] / 2 for source, target, data in g.edges(data=True)]\n",
    "\n",
    "# 3. Draw the parts we want\n",
    "# 3.1 Give draw_networkx_edges our edge widths with width=\n",
    "nx.draw_networkx_edges(g, layout, width=edge_widths)\n",
    "nx.draw_networkx_nodes(g, layout)\n",
    "nx.draw_networkx_labels(g, layout)\n",
    "\n",
    "# 4. Turn off the axis because I know you don't want it\n",
    "plt.axis('off')\n",
    "\n",
    "# 5. Tell matplotlib to show it\n",
    "plt.show()\n"
   ]
  },
  {
   "cell_type": "markdown",
   "metadata": {},
   "source": [
    "Not terribly attractive, is it? Let's fix it up a bit more."
   ]
  },
  {
   "cell_type": "code",
   "execution_count": 68,
   "metadata": {
    "scrolled": true
   },
   "outputs": [
    {
     "name": "stdout",
     "output_type": "stream",
     "text": [
      "Renaming nodes with {0: 'Boston Committee', 1: 'London Enemies', 2: 'Long Room Club', 3: 'Loyal Nine', 4: 'North Caucus', 5: 'St Andrews Lodge', 6: 'Tea Party'}\n"
     ]
    },
    {
     "data": {
      "image/png": "[encoded data removed]",
      "text/plain": [
       "<matplotlib.figure.Figure at 0x10fd4a6a0>"
      ]
     },
     "metadata": {},
     "output_type": "display_data"
    }
   ],
   "source": [
    "import matplotlib.pyplot as plt\n",
    "\n",
    "# 0. Make it bigger!\n",
    "plt.figure(figsize=(12,12))\n",
    "\n",
    "# 1. Create the graph\n",
    "g = nx.from_numpy_matrix(membership_adj.values)\n",
    "\n",
    "# 1.5 Rename our nodes from boring numbers\n",
    "# copy=False is like inplace=True\n",
    "renamed = dict(zip(g.nodes(), membership.columns))\n",
    "print(\"Renaming nodes with\", renamed)\n",
    "nx.relabel_nodes(g, renamed, copy=False)\n",
    "\n",
    "# 2. Create a layout for our nodes \n",
    "layout = nx.circular_layout(g)\n",
    "\n",
    "# 2.1 Make a list of weights\n",
    "edge_widths = [data['weight'] for source, target, data in g.edges(data=True)]\n",
    "\n",
    "# 3. Draw the parts we want\n",
    "# 3.1 Give it our edge widths\n",
    "nx.draw_networkx_edges(g, layout, width=edge_widths, edge_color='#E1E1E1')\n",
    "nx.draw_networkx_nodes(g, layout, node_color='#fbb4ae')\n",
    "nx.draw_networkx_labels(g, layout, font_family='Helvetica', font_size=18)\n",
    "\n",
    "# 4. Turn off the axis because I know you don't want it\n",
    "plt.axis('off')\n",
    "\n",
    "# 4.5 Save it if you want\n",
    "plt.savefig(\"graph.pdf\")\n",
    "\n",
    "# 5. Tell matplotlib to show it\n",
    "plt.show()"
   ]
  },
  {
   "cell_type": "code",
   "execution_count": null,
   "metadata": {
    "collapsed": true
   },
   "outputs": [],
   "source": []
  }
 ],
 "metadata": {
  "kernelspec": {
   "display_name": "Python 3",
   "language": "python",
   "name": "python3"
  },
  "language_info": {
   "codemirror_mode": {
    "name": "ipython",
    "version": 3
   },
   "file_extension": ".py",
   "mimetype": "text/x-python",
   "name": "python",
   "nbconvert_exporter": "python",
   "pygments_lexer": "ipython3",
   "version": "3.6.1"
  }
 },
 "nbformat": 4,
 "nbformat_minor": 2
}
