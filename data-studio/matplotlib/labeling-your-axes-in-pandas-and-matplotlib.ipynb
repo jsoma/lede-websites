{
 "cells": [
  {
   "cell_type": "code",
   "execution_count": 3,
   "metadata": {
    "collapsed": false
   },
   "outputs": [],
   "source": [
    "import pandas as pd\n",
    "import matplotlib.pyplot as plt\n",
    "%matplotlib inline"
   ]
  },
  {
   "cell_type": "markdown",
   "metadata": {},
   "source": [
    "## Import your data"
   ]
  },
  {
   "cell_type": "code",
   "execution_count": 5,
   "metadata": {
    "collapsed": false
   },
   "outputs": [
    {
     "data": {
      "text/html": [
       "<div>\n",
       "<table border=\"1\" class=\"dataframe\">\n",
       "  <thead>\n",
       "    <tr style=\"text-align: right;\">\n",
       "      <th></th>\n",
       "      <th>Country</th>\n",
       "      <th>Continent</th>\n",
       "      <th>GDP_per_capita</th>\n",
       "      <th>life_expectancy</th>\n",
       "      <th>Population</th>\n",
       "    </tr>\n",
       "  </thead>\n",
       "  <tbody>\n",
       "    <tr>\n",
       "      <th>0</th>\n",
       "      <td>Afghanistan</td>\n",
       "      <td>Asia</td>\n",
       "      <td>663</td>\n",
       "      <td>54.863</td>\n",
       "      <td>22856302</td>\n",
       "    </tr>\n",
       "    <tr>\n",
       "      <th>1</th>\n",
       "      <td>Albania</td>\n",
       "      <td>Europe</td>\n",
       "      <td>4195</td>\n",
       "      <td>74.200</td>\n",
       "      <td>3071856</td>\n",
       "    </tr>\n",
       "    <tr>\n",
       "      <th>2</th>\n",
       "      <td>Algeria</td>\n",
       "      <td>Africa</td>\n",
       "      <td>5098</td>\n",
       "      <td>68.963</td>\n",
       "      <td>30533827</td>\n",
       "    </tr>\n",
       "    <tr>\n",
       "      <th>3</th>\n",
       "      <td>Angola</td>\n",
       "      <td>Africa</td>\n",
       "      <td>2446</td>\n",
       "      <td>45.234</td>\n",
       "      <td>13926373</td>\n",
       "    </tr>\n",
       "    <tr>\n",
       "      <th>4</th>\n",
       "      <td>Antigua and Barbuda</td>\n",
       "      <td>N. America</td>\n",
       "      <td>12738</td>\n",
       "      <td>73.544</td>\n",
       "      <td>77656</td>\n",
       "    </tr>\n",
       "  </tbody>\n",
       "</table>\n",
       "</div>"
      ],
      "text/plain": [
       "               Country   Continent  GDP_per_capita  life_expectancy  \\\n",
       "0          Afghanistan        Asia             663           54.863   \n",
       "1              Albania      Europe            4195           74.200   \n",
       "2              Algeria      Africa            5098           68.963   \n",
       "3               Angola      Africa            2446           45.234   \n",
       "4  Antigua and Barbuda  N. America           12738           73.544   \n",
       "\n",
       "   Population  \n",
       "0    22856302  \n",
       "1     3071856  \n",
       "2    30533827  \n",
       "3    13926373  \n",
       "4       77656  "
      ]
     },
     "execution_count": 5,
     "metadata": {},
     "output_type": "execute_result"
    }
   ],
   "source": [
    "df = pd.read_csv(\"country-gdp-2014.csv\")\n",
    "df.head()"
   ]
  },
  {
   "cell_type": "markdown",
   "metadata": {},
   "source": [
    "## Specify axis labels with pandas\n",
    "\n",
    "When you plot, you get back an `ax` element. It has a million and one methods, two of which are `set_xlabel` and `set_ylabel`."
   ]
  },
  {
   "cell_type": "code",
   "execution_count": 13,
   "metadata": {
    "collapsed": false
   },
   "outputs": [
    {
     "data": {
      "text/plain": [
       "<matplotlib.text.Text at 0x10891db00>"
      ]
     },
     "execution_count": 13,
     "metadata": {},
     "output_type": "execute_result"
    },
    {
     "data": {
      "image/png": "[encoded data removed]",
      "text/plain": [
       "<matplotlib.figure.Figure at 0x10892d390>"
      ]
     },
     "metadata": {},
     "output_type": "display_data"
    }
   ],
   "source": [
    "# Draw a graph with pandas and keep what's returned\n",
    "ax = df.plot(kind='scatter', x='GDP_per_capita', y='life_expectancy')\n",
    "\n",
    "# Set the x scale because otherwise it goes into weird negative numbers\n",
    "ax.set_xlim((0, 70000))\n",
    "\n",
    "# Set the x-axis label\n",
    "ax.set_xlabel(\"GDP (per capita)\")\n",
    "\n",
    "# Set the y-axis label\n",
    "ax.set_ylabel(\"Life expectancy at birth\")"
   ]
  },
  {
   "cell_type": "markdown",
   "metadata": {},
   "source": [
    "## Specify axis labels with matplotlib\n",
    "\n",
    "Just to mix it up a bit, this time we're going to use `plt.subplots()` to create a figure first. When we pull the GDP and life expectancy out of the dataframes they just look like lists to the `matplotlib` plotter."
   ]
  },
  {
   "cell_type": "code",
   "execution_count": 12,
   "metadata": {
    "collapsed": false
   },
   "outputs": [
    {
     "data": {
      "text/plain": [
       "<matplotlib.text.Text at 0x108170a90>"
      ]
     },
     "execution_count": 12,
     "metadata": {},
     "output_type": "execute_result"
    },
    {
     "data": {
      "image/png": "[encoded data removed]",
      "text/plain": [
       "<matplotlib.figure.Figure at 0x107ffc320>"
      ]
     },
     "metadata": {},
     "output_type": "display_data"
    }
   ],
   "source": [
    "# Initialize a new figure\n",
    "fig, ax = plt.subplots()\n",
    "\n",
    "# Draw the graph\n",
    "ax.plot(df['GDP_per_capita'], df['life_expectancy'], linestyle='', marker='o')\n",
    "\n",
    "# Set the label for the x-axis\n",
    "ax.set_xlabel(\"GDP (per capita)\")\n",
    "\n",
    "# Set the label for the y-axis\n",
    "ax.set_ylabel(\"Life expectancy at birth\")"
   ]
  },
  {
   "cell_type": "code",
   "execution_count": null,
   "metadata": {
    "collapsed": true
   },
   "outputs": [],
   "source": []
  }
 ],
 "metadata": {
  "kernelspec": {
   "display_name": "Python 3",
   "language": "python",
   "name": "python3"
  },
  "language_info": {
   "codemirror_mode": {
    "name": "ipython",
    "version": 3
   },
   "file_extension": ".py",
   "mimetype": "text/x-python",
   "name": "python",
   "nbconvert_exporter": "python",
   "pygments_lexer": "ipython3",
   "version": "3.4.2"
  }
 },
 "nbformat": 4,
 "nbformat_minor": 0
}
