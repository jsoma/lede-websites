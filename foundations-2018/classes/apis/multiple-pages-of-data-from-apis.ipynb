{
 "cells": [
  {
   "cell_type": "markdown",
   "metadata": {},
   "source": [
    "Sometimes when you're dealing with an API, **it doesn't give you all of the results it knows about**.\n",
    "\n",
    "For example, let's use the [Star Wars API](https://swapi.co) to search for everyone with the letter `a` in their name."
   ]
  },
  {
   "cell_type": "code",
   "execution_count": 1,
   "metadata": {},
   "outputs": [
    {
     "data": {
      "text/plain": [
       "{'count': 60,\n",
       " 'next': 'https://swapi.co/api/people/?search=a&page=2',\n",
       " 'previous': None,\n",
       " 'results': [{'birth_year': '19BBY',\n",
       "   'created': '2014-12-09T13:50:51.644000Z',\n",
       "   'edited': '2014-12-20T21:17:56.891000Z',\n",
       "   'eye_color': 'blue',\n",
       "   'films': ['https://swapi.co/api/films/2/',\n",
       "    'https://swapi.co/api/films/6/',\n",
       "    'https://swapi.co/api/films/3/',\n",
       "    'https://swapi.co/api/films/1/',\n",
       "    'https://swapi.co/api/films/7/'],\n",
       "   'gender': 'male',\n",
       "   'hair_color': 'blond',\n",
       "   'height': '172',\n",
       "   'homeworld': 'https://swapi.co/api/planets/1/',\n",
       "   'mass': '77',\n",
       "   'name': 'Luke Skywalker',\n",
       "   'skin_color': 'fair',\n",
       "   'species': ['https://swapi.co/api/species/1/'],\n",
       "   'starships': ['https://swapi.co/api/starships/12/',\n",
       "    'https://swapi.co/api/starships/22/'],\n",
       "   'url': 'https://swapi.co/api/people/1/',\n",
       "   'vehicles': ['https://swapi.co/api/vehicles/14/',\n",
       "    'https://swapi.co/api/vehicles/30/']},\n",
       "  {'birth_year': '41.9BBY',\n",
       "   'created': '2014-12-10T15:18:20.704000Z',\n",
       "   'edited': '2014-12-20T21:17:50.313000Z',\n",
       "   'eye_color': 'yellow',\n",
       "   'films': ['https://swapi.co/api/films/2/',\n",
       "    'https://swapi.co/api/films/6/',\n",
       "    'https://swapi.co/api/films/3/',\n",
       "    'https://swapi.co/api/films/1/'],\n",
       "   'gender': 'male',\n",
       "   'hair_color': 'none',\n",
       "   'height': '202',\n",
       "   'homeworld': 'https://swapi.co/api/planets/1/',\n",
       "   'mass': '136',\n",
       "   'name': 'Darth Vader',\n",
       "   'skin_color': 'white',\n",
       "   'species': ['https://swapi.co/api/species/1/'],\n",
       "   'starships': ['https://swapi.co/api/starships/13/'],\n",
       "   'url': 'https://swapi.co/api/people/4/',\n",
       "   'vehicles': []},\n",
       "  {'birth_year': '19BBY',\n",
       "   'created': '2014-12-10T15:20:09.791000Z',\n",
       "   'edited': '2014-12-20T21:17:50.315000Z',\n",
       "   'eye_color': 'brown',\n",
       "   'films': ['https://swapi.co/api/films/2/',\n",
       "    'https://swapi.co/api/films/6/',\n",
       "    'https://swapi.co/api/films/3/',\n",
       "    'https://swapi.co/api/films/1/',\n",
       "    'https://swapi.co/api/films/7/'],\n",
       "   'gender': 'female',\n",
       "   'hair_color': 'brown',\n",
       "   'height': '150',\n",
       "   'homeworld': 'https://swapi.co/api/planets/2/',\n",
       "   'mass': '49',\n",
       "   'name': 'Leia Organa',\n",
       "   'skin_color': 'light',\n",
       "   'species': ['https://swapi.co/api/species/1/'],\n",
       "   'starships': [],\n",
       "   'url': 'https://swapi.co/api/people/5/',\n",
       "   'vehicles': ['https://swapi.co/api/vehicles/30/']},\n",
       "  {'birth_year': '52BBY',\n",
       "   'created': '2014-12-10T15:52:14.024000Z',\n",
       "   'edited': '2014-12-20T21:17:50.317000Z',\n",
       "   'eye_color': 'blue',\n",
       "   'films': ['https://swapi.co/api/films/5/',\n",
       "    'https://swapi.co/api/films/6/',\n",
       "    'https://swapi.co/api/films/1/'],\n",
       "   'gender': 'male',\n",
       "   'hair_color': 'brown, grey',\n",
       "   'height': '178',\n",
       "   'homeworld': 'https://swapi.co/api/planets/1/',\n",
       "   'mass': '120',\n",
       "   'name': 'Owen Lars',\n",
       "   'skin_color': 'light',\n",
       "   'species': ['https://swapi.co/api/species/1/'],\n",
       "   'starships': [],\n",
       "   'url': 'https://swapi.co/api/people/6/',\n",
       "   'vehicles': []},\n",
       "  {'birth_year': '47BBY',\n",
       "   'created': '2014-12-10T15:53:41.121000Z',\n",
       "   'edited': '2014-12-20T21:17:50.319000Z',\n",
       "   'eye_color': 'blue',\n",
       "   'films': ['https://swapi.co/api/films/5/',\n",
       "    'https://swapi.co/api/films/6/',\n",
       "    'https://swapi.co/api/films/1/'],\n",
       "   'gender': 'female',\n",
       "   'hair_color': 'brown',\n",
       "   'height': '165',\n",
       "   'homeworld': 'https://swapi.co/api/planets/1/',\n",
       "   'mass': '75',\n",
       "   'name': 'Beru Whitesun lars',\n",
       "   'skin_color': 'light',\n",
       "   'species': ['https://swapi.co/api/species/1/'],\n",
       "   'starships': [],\n",
       "   'url': 'https://swapi.co/api/people/7/',\n",
       "   'vehicles': []},\n",
       "  {'birth_year': '24BBY',\n",
       "   'created': '2014-12-10T15:59:50.509000Z',\n",
       "   'edited': '2014-12-20T21:17:50.323000Z',\n",
       "   'eye_color': 'brown',\n",
       "   'films': ['https://swapi.co/api/films/1/'],\n",
       "   'gender': 'male',\n",
       "   'hair_color': 'black',\n",
       "   'height': '183',\n",
       "   'homeworld': 'https://swapi.co/api/planets/1/',\n",
       "   'mass': '84',\n",
       "   'name': 'Biggs Darklighter',\n",
       "   'skin_color': 'light',\n",
       "   'species': ['https://swapi.co/api/species/1/'],\n",
       "   'starships': ['https://swapi.co/api/starships/12/'],\n",
       "   'url': 'https://swapi.co/api/people/9/',\n",
       "   'vehicles': []},\n",
       "  {'birth_year': '57BBY',\n",
       "   'created': '2014-12-10T16:16:29.192000Z',\n",
       "   'edited': '2014-12-20T21:17:50.325000Z',\n",
       "   'eye_color': 'blue-gray',\n",
       "   'films': ['https://swapi.co/api/films/2/',\n",
       "    'https://swapi.co/api/films/5/',\n",
       "    'https://swapi.co/api/films/4/',\n",
       "    'https://swapi.co/api/films/6/',\n",
       "    'https://swapi.co/api/films/3/',\n",
       "    'https://swapi.co/api/films/1/'],\n",
       "   'gender': 'male',\n",
       "   'hair_color': 'auburn, white',\n",
       "   'height': '182',\n",
       "   'homeworld': 'https://swapi.co/api/planets/20/',\n",
       "   'mass': '77',\n",
       "   'name': 'Obi-Wan Kenobi',\n",
       "   'skin_color': 'fair',\n",
       "   'species': ['https://swapi.co/api/species/1/'],\n",
       "   'starships': ['https://swapi.co/api/starships/48/',\n",
       "    'https://swapi.co/api/starships/59/',\n",
       "    'https://swapi.co/api/starships/64/',\n",
       "    'https://swapi.co/api/starships/65/',\n",
       "    'https://swapi.co/api/starships/74/'],\n",
       "   'url': 'https://swapi.co/api/people/10/',\n",
       "   'vehicles': ['https://swapi.co/api/vehicles/38/']},\n",
       "  {'birth_year': '41.9BBY',\n",
       "   'created': '2014-12-10T16:20:44.310000Z',\n",
       "   'edited': '2014-12-20T21:17:50.327000Z',\n",
       "   'eye_color': 'blue',\n",
       "   'films': ['https://swapi.co/api/films/5/',\n",
       "    'https://swapi.co/api/films/4/',\n",
       "    'https://swapi.co/api/films/6/'],\n",
       "   'gender': 'male',\n",
       "   'hair_color': 'blond',\n",
       "   'height': '188',\n",
       "   'homeworld': 'https://swapi.co/api/planets/1/',\n",
       "   'mass': '84',\n",
       "   'name': 'Anakin Skywalker',\n",
       "   'skin_color': 'fair',\n",
       "   'species': ['https://swapi.co/api/species/1/'],\n",
       "   'starships': ['https://swapi.co/api/starships/59/',\n",
       "    'https://swapi.co/api/starships/65/',\n",
       "    'https://swapi.co/api/starships/39/'],\n",
       "   'url': 'https://swapi.co/api/people/11/',\n",
       "   'vehicles': ['https://swapi.co/api/vehicles/44/',\n",
       "    'https://swapi.co/api/vehicles/46/']},\n",
       "  {'birth_year': '64BBY',\n",
       "   'created': '2014-12-10T16:26:56.138000Z',\n",
       "   'edited': '2014-12-20T21:17:50.330000Z',\n",
       "   'eye_color': 'blue',\n",
       "   'films': ['https://swapi.co/api/films/6/', 'https://swapi.co/api/films/1/'],\n",
       "   'gender': 'male',\n",
       "   'hair_color': 'auburn, grey',\n",
       "   'height': '180',\n",
       "   'homeworld': 'https://swapi.co/api/planets/21/',\n",
       "   'mass': 'unknown',\n",
       "   'name': 'Wilhuff Tarkin',\n",
       "   'skin_color': 'fair',\n",
       "   'species': ['https://swapi.co/api/species/1/'],\n",
       "   'starships': [],\n",
       "   'url': 'https://swapi.co/api/people/12/',\n",
       "   'vehicles': []},\n",
       "  {'birth_year': '200BBY',\n",
       "   'created': '2014-12-10T16:42:45.066000Z',\n",
       "   'edited': '2014-12-20T21:17:50.332000Z',\n",
       "   'eye_color': 'blue',\n",
       "   'films': ['https://swapi.co/api/films/2/',\n",
       "    'https://swapi.co/api/films/6/',\n",
       "    'https://swapi.co/api/films/3/',\n",
       "    'https://swapi.co/api/films/1/',\n",
       "    'https://swapi.co/api/films/7/'],\n",
       "   'gender': 'male',\n",
       "   'hair_color': 'brown',\n",
       "   'height': '228',\n",
       "   'homeworld': 'https://swapi.co/api/planets/14/',\n",
       "   'mass': '112',\n",
       "   'name': 'Chewbacca',\n",
       "   'skin_color': 'unknown',\n",
       "   'species': ['https://swapi.co/api/species/3/'],\n",
       "   'starships': ['https://swapi.co/api/starships/10/',\n",
       "    'https://swapi.co/api/starships/22/'],\n",
       "   'url': 'https://swapi.co/api/people/13/',\n",
       "   'vehicles': ['https://swapi.co/api/vehicles/19/']}]}"
      ]
     },
     "execution_count": 1,
     "metadata": {},
     "output_type": "execute_result"
    }
   ],
   "source": [
    "import requests\n",
    "\n",
    "response = requests.get(\"https://swapi.co/api/people/?search=a\")\n",
    "data = response.json()\n",
    "data"
   ]
  },
  {
   "cell_type": "markdown",
   "metadata": {},
   "source": [
    "It *looks* like a lot of stuff, but let's examine it a little more closely. How many results is it, really?"
   ]
  },
  {
   "cell_type": "code",
   "execution_count": 2,
   "metadata": {},
   "outputs": [
    {
     "data": {
      "text/plain": [
       "60"
      ]
     },
     "execution_count": 2,
     "metadata": {},
     "output_type": "execute_result"
    }
   ],
   "source": [
    "data['count']"
   ]
  },
  {
   "cell_type": "markdown",
   "metadata": {},
   "source": [
    "Okay, cool, 60 results! Let's loop through them."
   ]
  },
  {
   "cell_type": "code",
   "execution_count": 3,
   "metadata": {},
   "outputs": [
    {
     "name": "stdout",
     "output_type": "stream",
     "text": [
      "Luke Skywalker\n",
      "Darth Vader\n",
      "Leia Organa\n",
      "Owen Lars\n",
      "Beru Whitesun lars\n",
      "Biggs Darklighter\n",
      "Obi-Wan Kenobi\n",
      "Anakin Skywalker\n",
      "Wilhuff Tarkin\n",
      "Chewbacca\n"
     ]
    }
   ],
   "source": [
    "for person in data['results']:\n",
    "    print(person['name'])"
   ]
  },
  {
   "cell_type": "markdown",
   "metadata": {},
   "source": [
    "**Wait a second, that's not 60 people!** It's... a lot less."
   ]
  },
  {
   "cell_type": "code",
   "execution_count": 4,
   "metadata": {},
   "outputs": [
    {
     "data": {
      "text/plain": [
       "10"
      ]
     },
     "execution_count": 4,
     "metadata": {},
     "output_type": "execute_result"
    }
   ],
   "source": [
    "len(data['results'])"
   ]
  },
  {
   "cell_type": "markdown",
   "metadata": {},
   "source": [
    "It's... it's 10! **How do we only have 10 results if `data['count']` says we should have 60?**\n",
    "\n",
    "## Pagination in an API\n",
    "\n",
    "Most APIs that allow you to search only return **some of the results at a time**. In this case, you get 10 results at a time, even though there are 60 total. But, to be helpful, the API comes with a `next` key that tells you where to find more."
   ]
  },
  {
   "cell_type": "code",
   "execution_count": 5,
   "metadata": {},
   "outputs": [
    {
     "name": "stdout",
     "output_type": "stream",
     "text": [
      "https://swapi.co/api/people/?search=a&page=2\n"
     ]
    }
   ],
   "source": [
    "print(data['next'])"
   ]
  },
  {
   "cell_type": "markdown",
   "metadata": {},
   "source": [
    "All we need to do to get page 2 is to make a request to that page..."
   ]
  },
  {
   "cell_type": "code",
   "execution_count": 6,
   "metadata": {},
   "outputs": [
    {
     "name": "stdout",
     "output_type": "stream",
     "text": [
      "Han Solo\n",
      "Jabba Desilijic Tiure\n",
      "Wedge Antilles\n",
      "Yoda\n",
      "Palpatine\n",
      "Boba Fett\n",
      "Lando Calrissian\n",
      "Ackbar\n",
      "Mon Mothma\n",
      "Arvel Crynyd\n"
     ]
    }
   ],
   "source": [
    "response = requests.get(\"https://swapi.co/api/people/?search=a&page=2\")\n",
    "data = response.json()\n",
    "\n",
    "for person in data['results']:\n",
    "    print(person['name'])"
   ]
  },
  {
   "cell_type": "markdown",
   "metadata": {},
   "source": [
    "...and we get everyone who is on that second page.\n",
    "\n",
    "Remember how our `data['next']` on page 1 gave us the URL to page 2? On page 2, `data['next']` will also point to the next page, page 3."
   ]
  },
  {
   "cell_type": "code",
   "execution_count": 7,
   "metadata": {},
   "outputs": [
    {
     "name": "stdout",
     "output_type": "stream",
     "text": [
      "https://swapi.co/api/people/?search=a&page=3\n"
     ]
    }
   ],
   "source": [
    "print(data['next'])"
   ]
  },
  {
   "cell_type": "markdown",
   "metadata": {},
   "source": [
    "If we keep going and going and going, eventually the `next` page doesn't exist any more. In this case, it happens on **page 6**."
   ]
  },
  {
   "cell_type": "code",
   "execution_count": 8,
   "metadata": {},
   "outputs": [
    {
     "name": "stdout",
     "output_type": "stream",
     "text": [
      "None\n"
     ]
    }
   ],
   "source": [
    "response = requests.get(\"https://swapi.co/api/people/?search=a&page=6\")\n",
    "data = response.json()\n",
    "\n",
    "print(data['next'])"
   ]
  },
  {
   "cell_type": "markdown",
   "metadata": {},
   "source": [
    "When `data['next']` is `None`, we're finally at the end.\n",
    "\n",
    "How does this work when getting data from an API, though? Are we supposed to keep changing the page number time after time by hand?\n",
    "\n",
    "No!\n",
    "\n",
    "There's an easier way.\n",
    "\n",
    "## Scraping all of the pages at once\n",
    "\n",
    "Technically, there are **two easier ways** to do this, not just one. The first way involves a **cool new kind of loop** called a `while` loop, while the second uses a normal `for` loop.\n",
    "\n",
    "### METHOD ONE: `while` loop\n",
    "\n",
    "A `while` loop is kind of like an `if` statement. For example, maybe we're wondering if we need to get a second page of results:"
   ]
  },
  {
   "cell_type": "code",
   "execution_count": 9,
   "metadata": {
    "scrolled": true
   },
   "outputs": [
    {
     "name": "stdout",
     "output_type": "stream",
     "text": [
      "Downloading the original search results\n",
      "Next page found, downloading https://swapi.co/api/people/?search=a&page=2\n"
     ]
    }
   ],
   "source": [
    "# Grab the search results\n",
    "print(\"Downloading the original search results\")\n",
    "response = requests.get(\"https://swapi.co/api/people/?search=a\")\n",
    "data = response.json()\n",
    "\n",
    "# If data['next'] isn't empty, let's download the next page, too\n",
    "if data['next'] is not None:\n",
    "    print(\"Next page found, downloading\", data['next'])\n",
    "    response = requests.get(data['next'])\n",
    "    data = response.json()"
   ]
  },
  {
   "cell_type": "markdown",
   "metadata": {},
   "source": [
    "The way a `while` loop works is that it *keeps doing something until the statement is `False`*. `if` does something **once**, and `while` does something **forever** (maybe).\n",
    "\n",
    "So in this case, it's going to keep downloading pages as long as `data['next'] is not None`. In other words, **it will only stop when `data['next']` is empty.**\n",
    "\n",
    "Let's change our `if` to `while`:"
   ]
  },
  {
   "cell_type": "code",
   "execution_count": 10,
   "metadata": {},
   "outputs": [
    {
     "name": "stdout",
     "output_type": "stream",
     "text": [
      "Downloading the original search results\n",
      "Next page found, downloading https://swapi.co/api/people/?search=a&page=2\n",
      "Next page found, downloading https://swapi.co/api/people/?search=a&page=3\n",
      "Next page found, downloading https://swapi.co/api/people/?search=a&page=4\n",
      "Next page found, downloading https://swapi.co/api/people/?search=a&page=5\n",
      "Next page found, downloading https://swapi.co/api/people/?search=a&page=6\n"
     ]
    }
   ],
   "source": [
    "# Grab the search results\n",
    "print(\"Downloading the original search results\")\n",
    "response = requests.get(\"https://swapi.co/api/people/?search=a\")\n",
    "data = response.json()\n",
    "\n",
    "# While data['next'] isn't empty, let's download the next page, too\n",
    "while data['next'] is not None:\n",
    "    print(\"Next page found, downloading\", data['next'])\n",
    "    response = requests.get(data['next'])\n",
    "    data = response.json()"
   ]
  },
  {
   "cell_type": "markdown",
   "metadata": {},
   "source": [
    "We just need one small change - let's make an empty list of `total_results` and keep adding `data['results']` to it each time."
   ]
  },
  {
   "cell_type": "code",
   "execution_count": 11,
   "metadata": {},
   "outputs": [
    {
     "name": "stdout",
     "output_type": "stream",
     "text": [
      "Downloading the original search results\n",
      "Next page found, downloading https://swapi.co/api/people/?search=a&page=2\n",
      "Next page found, downloading https://swapi.co/api/people/?search=a&page=3\n",
      "Next page found, downloading https://swapi.co/api/people/?search=a&page=4\n",
      "Next page found, downloading https://swapi.co/api/people/?search=a&page=5\n",
      "Next page found, downloading https://swapi.co/api/people/?search=a&page=6\n",
      "We have 60 total results\n"
     ]
    }
   ],
   "source": [
    "# Start with an empty list\n",
    "total_results = []\n",
    "\n",
    "# Grab the search results\n",
    "print(\"Downloading the original search results\")\n",
    "response = requests.get(\"https://swapi.co/api/people/?search=a\")\n",
    "data = response.json()\n",
    "\n",
    "# Store the first page of results\n",
    "total_results = total_results + data['results']\n",
    "\n",
    "# While data['next'] isn't empty, let's download the next page, too\n",
    "while data['next'] is not None:\n",
    "    print(\"Next page found, downloading\", data['next'])\n",
    "    response = requests.get(data['next'])\n",
    "    data = response.json()\n",
    "    # Store the current page of results\n",
    "    total_results = total_results + data['results']\n",
    "\n",
    "print(\"We have\", len(total_results), \"total results\")"
   ]
  },
  {
   "cell_type": "markdown",
   "metadata": {},
   "source": [
    "### METHOD TWO: `for` loop and `range`\n",
    "\n",
    "I think `while` loops can be trouble because if you write them wrong, **your program might run forever!** This is pretty bad!\n",
    "\n",
    "If you know how many pages you need to go through, though, you can use a `for` loop instead.\n",
    "\n",
    "In this case, we know we need to get everything between page 1 and page 6.\n",
    "\n",
    "* `https://swapi.co/api/people/?search=a&page=1`\n",
    "* `https://swapi.co/api/people/?search=a&page=2`\n",
    "* `https://swapi.co/api/people/?search=a&page=3`\n",
    "* `https://swapi.co/api/people/?search=a&page=4`\n",
    "* `https://swapi.co/api/people/?search=a&page=5`\n",
    "* `https://swapi.co/api/people/?search=a&page=6`"
   ]
  },
  {
   "cell_type": "markdown",
   "metadata": {},
   "source": [
    "A boring way to do this is to make a list of numbers, and loop through it."
   ]
  },
  {
   "cell_type": "code",
   "execution_count": 12,
   "metadata": {},
   "outputs": [
    {
     "name": "stdout",
     "output_type": "stream",
     "text": [
      "https://swapi.co/api/people/?search=a&page=1\n",
      "https://swapi.co/api/people/?search=a&page=2\n",
      "https://swapi.co/api/people/?search=a&page=3\n",
      "https://swapi.co/api/people/?search=a&page=4\n",
      "https://swapi.co/api/people/?search=a&page=5\n",
      "https://swapi.co/api/people/?search=a&page=6\n"
     ]
    }
   ],
   "source": [
    "for page_num in [1, 2, 3, 4, 5, 6]:\n",
    "    url = \"https://swapi.co/api/people/?search=a&page=\" + str(page_num)\n",
    "    print(url)"
   ]
  },
  {
   "cell_type": "markdown",
   "metadata": {},
   "source": [
    "If that's too much typing, Python can also help out. The `range` function will automatically build the list for you.\n",
    "\n",
    "`range(6)` will give you `[0, 1, 2, 3, 4, 5]`, so you can either do `+ 1` on that or `range(1,7)` to get `[1, 2, 3, 4, 5, 6]`."
   ]
  },
  {
   "cell_type": "code",
   "execution_count": 13,
   "metadata": {},
   "outputs": [
    {
     "name": "stdout",
     "output_type": "stream",
     "text": [
      "https://swapi.co/api/people/?search=a&page=1\n",
      "https://swapi.co/api/people/?search=a&page=2\n",
      "https://swapi.co/api/people/?search=a&page=3\n",
      "https://swapi.co/api/people/?search=a&page=4\n",
      "https://swapi.co/api/people/?search=a&page=5\n",
      "https://swapi.co/api/people/?search=a&page=6\n"
     ]
    }
   ],
   "source": [
    "for page_num in range(1, 7):\n",
    "    url = \"https://swapi.co/api/people/?search=a&page=\" + str(page_num)\n",
    "    print(url)"
   ]
  },
  {
   "cell_type": "markdown",
   "metadata": {},
   "source": [
    "Once you have all of the pages, you can do what we did before - each time through the loop, request the page and take the results."
   ]
  },
  {
   "cell_type": "code",
   "execution_count": 14,
   "metadata": {},
   "outputs": [
    {
     "name": "stdout",
     "output_type": "stream",
     "text": [
      "Downloading https://swapi.co/api/people/?search=a&page=1\n",
      "Downloading https://swapi.co/api/people/?search=a&page=2\n",
      "Downloading https://swapi.co/api/people/?search=a&page=3\n",
      "Downloading https://swapi.co/api/people/?search=a&page=4\n",
      "Downloading https://swapi.co/api/people/?search=a&page=5\n",
      "Downloading https://swapi.co/api/people/?search=a&page=6\n",
      "We have 60 total results\n"
     ]
    }
   ],
   "source": [
    "# Start with an empty list\n",
    "total_results = []\n",
    "\n",
    "# Loop through from pages 1 to 6\n",
    "for page_num in range(1, 7):\n",
    "    # Build the URL and download the results\n",
    "    url = \"https://swapi.co/api/people/?search=a&page=\" + str(page_num)\n",
    "    print(\"Downloading\", url)\n",
    "    response = requests.get(url)\n",
    "    data = response.json()\n",
    "    total_results = total_results + data['results']\n",
    "\n",
    "\n",
    "print(\"We have\", len(total_results), \"total results\")"
   ]
  },
  {
   "cell_type": "markdown",
   "metadata": {},
   "source": [
    "This might be easier to read, but there's one problem: **how do you know you have 6 pages?** Honestly, nothing automatic - you probably manually get the first page, then calculate how many pages it is. It's a little more work, but if it makes more sense, go for it."
   ]
  },
  {
   "cell_type": "code",
   "execution_count": null,
   "metadata": {},
   "outputs": [],
   "source": []
  }
 ],
 "metadata": {
  "kernelspec": {
   "display_name": "Python 3",
   "language": "python",
   "name": "python3"
  },
  "language_info": {
   "codemirror_mode": {
    "name": "ipython",
    "version": 3
   },
   "file_extension": ".py",
   "mimetype": "text/x-python",
   "name": "python",
   "nbconvert_exporter": "python",
   "pygments_lexer": "ipython3",
   "version": "3.6.4"
  }
 },
 "nbformat": 4,
 "nbformat_minor": 2
}
