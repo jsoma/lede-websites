{
 "cells": [
  {
   "cell_type": "code",
   "execution_count": 1,
   "metadata": {},
   "outputs": [],
   "source": [
    "import pandas as pd\n",
    "import matplotlib.pyplot as plt\n",
    "%matplotlib inline"
   ]
  },
  {
   "cell_type": "markdown",
   "metadata": {},
   "source": [
    "## Import your data"
   ]
  },
  {
   "cell_type": "code",
   "execution_count": 2,
   "metadata": {},
   "outputs": [
    {
     "data": {
      "text/html": [
       "<div>\n",
       "<style scoped>\n",
       "    .dataframe tbody tr th:only-of-type {\n",
       "        vertical-align: middle;\n",
       "    }\n",
       "\n",
       "    .dataframe tbody tr th {\n",
       "        vertical-align: top;\n",
       "    }\n",
       "\n",
       "    .dataframe thead th {\n",
       "        text-align: right;\n",
       "    }\n",
       "</style>\n",
       "<table border=\"1\" class=\"dataframe\">\n",
       "  <thead>\n",
       "    <tr style=\"text-align: right;\">\n",
       "      <th></th>\n",
       "      <th>Country</th>\n",
       "      <th>Continent</th>\n",
       "      <th>GDP_per_capita</th>\n",
       "      <th>life_expectancy</th>\n",
       "      <th>Population</th>\n",
       "    </tr>\n",
       "  </thead>\n",
       "  <tbody>\n",
       "    <tr>\n",
       "      <th>0</th>\n",
       "      <td>Afghanistan</td>\n",
       "      <td>Asia</td>\n",
       "      <td>663</td>\n",
       "      <td>54.863</td>\n",
       "      <td>22856302</td>\n",
       "    </tr>\n",
       "    <tr>\n",
       "      <th>1</th>\n",
       "      <td>Albania</td>\n",
       "      <td>Europe</td>\n",
       "      <td>4195</td>\n",
       "      <td>74.200</td>\n",
       "      <td>3071856</td>\n",
       "    </tr>\n",
       "    <tr>\n",
       "      <th>2</th>\n",
       "      <td>Algeria</td>\n",
       "      <td>Africa</td>\n",
       "      <td>5098</td>\n",
       "      <td>68.963</td>\n",
       "      <td>30533827</td>\n",
       "    </tr>\n",
       "    <tr>\n",
       "      <th>3</th>\n",
       "      <td>Angola</td>\n",
       "      <td>Africa</td>\n",
       "      <td>2446</td>\n",
       "      <td>45.234</td>\n",
       "      <td>13926373</td>\n",
       "    </tr>\n",
       "    <tr>\n",
       "      <th>4</th>\n",
       "      <td>Antigua and Barbuda</td>\n",
       "      <td>N. America</td>\n",
       "      <td>12738</td>\n",
       "      <td>73.544</td>\n",
       "      <td>77656</td>\n",
       "    </tr>\n",
       "  </tbody>\n",
       "</table>\n",
       "</div>"
      ],
      "text/plain": [
       "               Country   Continent  GDP_per_capita  life_expectancy  \\\n",
       "0          Afghanistan        Asia             663           54.863   \n",
       "1              Albania      Europe            4195           74.200   \n",
       "2              Algeria      Africa            5098           68.963   \n",
       "3               Angola      Africa            2446           45.234   \n",
       "4  Antigua and Barbuda  N. America           12738           73.544   \n",
       "\n",
       "   Population  \n",
       "0    22856302  \n",
       "1     3071856  \n",
       "2    30533827  \n",
       "3    13926373  \n",
       "4       77656  "
      ]
     },
     "execution_count": 2,
     "metadata": {},
     "output_type": "execute_result"
    }
   ],
   "source": [
    "df = pd.read_csv(\"country-gdp-2014.csv\")\n",
    "df.head()"
   ]
  },
  {
   "cell_type": "markdown",
   "metadata": {},
   "source": [
    "## Change the font just for the title or axis labels\n",
    "\n",
    "The default font is **BitstreamVeraSans Roman**, but we want to try out something else. You can pass `fontname` to `.set_xlabel`, `.set_ylabel`, `.set_title`, or `.annotate` to specify a particular font. This does **not** change the font for the numbers on the axes."
   ]
  },
  {
   "cell_type": "code",
   "execution_count": 3,
   "metadata": {},
   "outputs": [
    {
     "data": {
      "text/plain": [
       "Text(0.5,1,'Oceania has small countries')"
      ]
     },
     "execution_count": 3,
     "metadata": {},
     "output_type": "execute_result"
    },
    {
     "data": {
      "image/png": "[encoded data removed]",
      "text/plain": [
       "<Figure size 432x288 with 1 Axes>"
      ]
     },
     "metadata": {},
     "output_type": "display_data"
    }
   ],
   "source": [
    "# Plot the median life expectancy by continent\n",
    "ax = df.groupby('Continent')['Population'].median().sort_values().plot(kind='barh')\n",
    "ax.set_xlabel(\"\")\n",
    "\n",
    "# Change the y axis label to Arial\n",
    "ax.set_ylabel(\"Median Population\", fontname=\"Arial\", fontsize=12)\n",
    "\n",
    "# Set the title to Comic Sans\n",
    "ax.set_title(\"Oceania has small countries\", fontname='Comic Sans MS', fontsize=18)"
   ]
  },
  {
   "cell_type": "markdown",
   "metadata": {},
   "source": [
    "## Change the font for the tick marks/numbers on the axes\n",
    "\n",
    "Changing the fonts for the labels on each axis (the numbers) is a little bit more complicated, but you can use it in combination with the content above to specify fonts for every part of your graph."
   ]
  },
  {
   "cell_type": "code",
   "execution_count": 4,
   "metadata": {},
   "outputs": [
    {
     "data": {
      "image/png": "[encoded data removed]",
      "text/plain": [
       "<Figure size 432x288 with 1 Axes>"
      ]
     },
     "metadata": {},
     "output_type": "display_data"
    }
   ],
   "source": [
    "# Plot the median life expectancy by continent\n",
    "ax = df.groupby('Continent')['Population'].median().sort_values().plot(kind='barh')\n",
    "\n",
    "# You can also ax.set_xlabel(\"\") but the spacing gets weird\n",
    "ax.xaxis.label.set_visible(\"False\")\n",
    "\n",
    "# Change the y axis label to Arial\n",
    "ax.set_ylabel(\"Median Population\", fontname=\"Arial\", fontsize=12)\n",
    "\n",
    "# Set the title to Comic Sans\n",
    "ax.set_title(\"Oceania has small countries\", fontname='Comic Sans MS', fontsize=18)\n",
    "\n",
    "# Set the font name for axis tick labels to be Comic Sans\n",
    "for tick in ax.get_xticklabels():\n",
    "    tick.set_fontname(\"Comic Sans MS\")\n",
    "for tick in ax.get_yticklabels():\n",
    "    tick.set_fontname(\"Comic Sans MS\")"
   ]
  },
  {
   "cell_type": "markdown",
   "metadata": {},
   "source": [
    "## Specify a default font for everything on your graphs\n",
    "\n",
    "You can also specify a default font for *everything* in `matplotlib`. This will affect every single plot you make.\n",
    "\n",
    "> **Note:** Although you *can* do this, unless you're practicing to make a house style I recommend specifying single-use fonts (the above section) instead of defaults. \n",
    "\n",
    "I don't know why, but you can only set it **once**. If you change your mind about what you want your default font to be you'll have to **restart your kernel**.\n",
    "\n",
    "It also **knows whether your font is serif or sans-serif**. If you try it with `serif` and it doesn't work, change both of them to `sans-serif` instead. For example, if I changed my font to **Georgia** down below I'd need it to be `serif` instead, since it's a font with serifs."
   ]
  },
  {
   "cell_type": "code",
   "execution_count": 6,
   "metadata": {},
   "outputs": [
    {
     "data": {
      "text/plain": [
       "Text(0.5,1,'Oceania has small countries')"
      ]
     },
     "execution_count": 6,
     "metadata": {},
     "output_type": "execute_result"
    },
    {
     "data": {
      "image/png": "[encoded data removed]",
      "text/plain": [
       "<Figure size 432x288 with 1 Axes>"
      ]
     },
     "metadata": {},
     "output_type": "display_data"
    }
   ],
   "source": [
    "# Say, \"the default sans-serif font is COMIC SANS\"\n",
    "# Then, \"ALWAYS use sans-serif fonts\"\n",
    "plt.rcParams.update({\n",
    "    'font.sans-serif': 'Comic Sans MS',\n",
    "    'font.family': 'sans-serif'\n",
    "})\n",
    "\n",
    "ax = df.groupby('Continent')['Population'].median().sort_values().plot(kind='barh')\n",
    "ax.set_xlabel(\"\")\n",
    "ax.set_ylabel(\"Median Population\")\n",
    "ax.set_title(\"Oceania has small countries\", fontsize=20)"
   ]
  },
  {
   "cell_type": "markdown",
   "metadata": {},
   "source": [
    "## Listing all of the fonts matplotlib knows about"
   ]
  },
  {
   "cell_type": "markdown",
   "metadata": {},
   "source": [
    "If you'd like to know what fonts are available for use, check out [list all fonts available in matplotlib plus samples](../list-all-fonts-available-in-matplotlib-plus-samples)."
   ]
  },
  {
   "cell_type": "code",
   "execution_count": null,
   "metadata": {
    "collapsed": true
   },
   "outputs": [],
   "source": []
  }
 ],
 "metadata": {
  "kernelspec": {
   "display_name": "Python 3",
   "language": "python",
   "name": "python3"
  },
  "language_info": {
   "codemirror_mode": {
    "name": "ipython",
    "version": 3
   },
   "file_extension": ".py",
   "mimetype": "text/x-python",
   "name": "python",
   "nbconvert_exporter": "python",
   "pygments_lexer": "ipython3",
   "version": "3.6.5"
  }
 },
 "nbformat": 4,
 "nbformat_minor": 1
}
