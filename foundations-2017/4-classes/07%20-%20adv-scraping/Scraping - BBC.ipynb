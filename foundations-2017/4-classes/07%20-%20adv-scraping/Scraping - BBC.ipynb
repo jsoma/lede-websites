{
 "cells": [
  {
   "cell_type": "markdown",
   "metadata": {},
   "source": [
    "# Scraping: http://www.bbc.co.uk/news\n",
    "\n",
    "Let's try to scrape the frontpage of BBC News. We're looking for\n",
    "\n",
    "* Headlines\n",
    "* Summary\n",
    "* Article link"
   ]
  },
  {
   "cell_type": "markdown",
   "metadata": {},
   "source": [
    "## Getting started\n",
    "\n",
    "We'll start by **importing the necessary libraries**."
   ]
  },
  {
   "cell_type": "code",
   "execution_count": 5,
   "metadata": {
    "collapsed": true
   },
   "outputs": [],
   "source": [
    "import requests\n",
    "from bs4 import BeautifulSoup"
   ]
  },
  {
   "cell_type": "markdown",
   "metadata": {},
   "source": [
    "And then move into **downloading the page** and **importing it into BeautifulSoup**."
   ]
  },
  {
   "cell_type": "code",
   "execution_count": 7,
   "metadata": {
    "collapsed": false
   },
   "outputs": [],
   "source": [
    "response = requests.get('http://www.bbc.co.uk/news')\n",
    "doc = BeautifulSoup(response.text, 'html.parser')"
   ]
  },
  {
   "cell_type": "markdown",
   "metadata": {},
   "source": [
    "A lot of people call the analyzed page variable `soup` but for once in my life I actually go against the popular thing - I like to call it `doc`, since it helps me remember that it's the *entire document*."
   ]
  },
  {
   "cell_type": "markdown",
   "metadata": {},
   "source": [
    "## ATTEMPT ONE: Grabbing the tags directly\n",
    "\n",
    "If we look at the page, we try to use the little arrow-selecty-thing to pick up the headlines and **disaster strikes**. We can't touch it! Apparently it's the ENTIRE BLOCK or something crazy like that?"
   ]
  },
  {
   "cell_type": "code",
   "execution_count": null,
   "metadata": {
    "collapsed": true
   },
   "outputs": [],
   "source": []
  },
  {
   "cell_type": "markdown",
   "metadata": {},
   "source": [
    "But luckily we understand HTML, so we can click around on the right-hand Elements page. We navigate to the `h3` tag, which we know is the headline based on the tag name and the content.\n",
    "\n",
    "Hm, what if we just grab all of the `h3` tags?"
   ]
  },
  {
   "cell_type": "code",
   "execution_count": 9,
   "metadata": {
    "collapsed": false
   },
   "outputs": [
    {
     "name": "stdout",
     "output_type": "stream",
     "text": [
      "US 'will not repeat' GCHQ wiretap claims\n",
      "George Osborne to edit London newspaper\n",
      "'Huge advance' in fighting biggest killer\n",
      "Sturgeon up for referendum date talks\n",
      "No punishment for man who raped girl, 12\n",
      "Dunham hits back after weight criticism\n",
      "US warns N Korea of military option\n",
      "US warns N Korea of military option\n",
      "Guinness for royals on St Patrick's Day\n",
      "Mother jailed for hiding baby's death\n",
      "Man dies charging iPhone in bath\n",
      "Hungary puts migrants in containers\n",
      "Love Actually cast reunites for Comic Relief\n",
      "Sizing John wins Cheltenham Gold Cup\n",
      "Miliband's joke steals Osborne's limelight\n",
      "BBC News Channel\n",
      "BBC Radio 4 - PM\n",
      "Jam? Meet the Michael Jackson traffic cop\n",
      "Bake Off line-up: A winning recipe?\n",
      "Weekly quiz: In which soap did Ed Sheeran appear?\n",
      "What's the etiquette on vaping?\n",
      "Tall driver told to 'grow up' by judge\n",
      "The mystery of the murder in the Lucky Holiday Hotel\n",
      "Britain’s bungled effort to clean up its first big oil spill\n",
      "Sweden's Got Talent: The pop star with sleep paralysis\n",
      "George Osborne: From history buff to austerity editor\n",
      "Reality Check: Is education spending at a record level?\n",
      "When will a second referendum take place?\n",
      "Defining moment for US and Germany\n",
      "\n",
      "Live\n",
      "Sportsday - Sizing John wins the Cheltenham Gold Cup\n",
      "\n",
      "\n",
      "Sport\n",
      "Leicester face Atletico in last eight\n",
      "\n",
      "\n",
      "Sport\n",
      "Jeremy Guscott's Six Nations hot steppers\n",
      "\n",
      "\n",
      "Sport\n",
      "Man Utd drawn against Anderlecht\n",
      "\n",
      "\n",
      "Classic hits\n",
      "\n"
     ]
    }
   ],
   "source": [
    "headlines = doc.find_all('h3')\n",
    "\n",
    "for headline in headlines:\n",
    "    print(headline.text)"
   ]
  },
  {
   "cell_type": "markdown",
   "metadata": {},
   "source": [
    "SO EASY, right? Kind of? Mostly it worked? ...except it doesn't have the link, nor does it have the summary.\n",
    "\n",
    "Okay, so we could also get all of the `a` tags, but there are probably a lot of garbage `a` tags - footer content and stuff. Maybe the article `a` tags have a special class? If we take a look, we see `class=\"gs-c-promo-heading nw-o-link-split__anchor gs-o-faux-block-link__overlay-link gel-pica-bold\"`. This isn't just one class, it's **many classes**.\n",
    "\n",
    "* `gs-c-promo-heading`\n",
    "* `nw-o-link-split__anchor`\n",
    "* `gs-o-faux-block-link__overlay-link`\n",
    "* `gel-pica-bold`\n",
    "\n",
    "This is where guesswork comes ib. I think `gs-c-promo-heading` seems reasonable!"
   ]
  },
  {
   "cell_type": "code",
   "execution_count": 10,
   "metadata": {
    "collapsed": false
   },
   "outputs": [
    {
     "name": "stdout",
     "output_type": "stream",
     "text": [
      "US 'will not repeat' GCHQ wiretap claims\n",
      "George Osborne to edit London newspaper\n",
      "'Huge advance' in fighting biggest killer\n",
      "Sturgeon up for referendum date talks\n",
      "No punishment for man who raped girl, 12\n",
      "Dunham hits back after weight criticism\n",
      "US warns N Korea of military option\n",
      "US warns N Korea of military option\n",
      "VideoGuinness for royals on St Patrick's Day\n",
      "Mother jailed for hiding baby's death\n",
      "Man dies charging iPhone in bath\n",
      "VideoHungary puts migrants in containers\n",
      "VideoLove Actually cast reunites for Comic Relief\n",
      "Sizing John wins Cheltenham Gold Cup\n",
      "Miliband's joke steals Osborne's limelight\n",
      "VideoBBC News Channel\n",
      "AudioBBC Radio 4 - PM\n",
      "VideoJam? Meet the Michael Jackson traffic cop\n",
      "Bake Off line-up: A winning recipe?\n",
      "Weekly quiz: In which soap did Ed Sheeran appear?\n",
      "What's the etiquette on vaping?\n",
      "Tall driver told to 'grow up' by judge\n",
      "The mystery of the murder in the Lucky Holiday Hotel\n",
      "Britain’s bungled effort to clean up its first big oil spill\n",
      "Sweden's Got Talent: The pop star with sleep paralysis\n",
      "George Osborne: From history buff to austerity editor\n",
      "Reality Check: Is education spending at a record level?\n",
      "When will a second referendum take place?\n",
      "Defining moment for US and Germany\n"
     ]
    }
   ],
   "source": [
    "links = doc.find_all('a', { 'class': 'gs-c-promo-heading' })\n",
    "\n",
    "for link in links:\n",
    "    print(link.text)"
   ]
  },
  {
   "cell_type": "markdown",
   "metadata": {},
   "source": [
    "That looks pretty good, too! It's getting the `h3` text because the `h3` is inside of the `a` tag, but it doesn't have the *actual link*, the URL. If we look at the `a` tag...\n",
    "\n",
    "    <a class=\"gs-c-promo-heading nw-o-link-split__anchor gs-o-faux-block-link__overlay-link gel-pica-bold\" href=\"/news/world-middle-east-39302560\">\n",
    "   \n",
    "...the URL is hiding in the `href` attribute. Once we have the link, it's actually easy to get an attribute, you just use `['href']`"
   ]
  },
  {
   "cell_type": "code",
   "execution_count": 11,
   "metadata": {
    "collapsed": false
   },
   "outputs": [
    {
     "name": "stdout",
     "output_type": "stream",
     "text": [
      "US 'will not repeat' GCHQ wiretap claims\n",
      "/news/uk-39300191\n",
      "George Osborne to edit London newspaper\n",
      "/news/uk-39304944\n",
      "'Huge advance' in fighting biggest killer\n",
      "/news/health-39305640\n",
      "Sturgeon up for referendum date talks\n",
      "/news/uk-scotland-scotland-politics-39299305\n",
      "No punishment for man who raped girl, 12\n",
      "/news/uk-scotland-edinburgh-east-fife-39305042\n",
      "Dunham hits back after weight criticism\n",
      "/news/entertainment-arts-39303458\n",
      "US warns N Korea of military option\n",
      "/news/world-asia-39297031\n",
      "US warns N Korea of military option\n",
      "/news/world-asia-39297031\n",
      "VideoGuinness for royals on St Patrick's Day\n",
      "/news/uk-39308969\n",
      "Mother jailed for hiding baby's death\n",
      "/news/uk-england-london-39305951\n",
      "Man dies charging iPhone in bath\n",
      "/news/uk-39307418\n",
      "VideoHungary puts migrants in containers\n",
      "/news/world-europe-39301003\n",
      "VideoLove Actually cast reunites for Comic Relief\n",
      "/news/entertainment-arts-39301010\n",
      "Sizing John wins Cheltenham Gold Cup\n",
      "/sport/horse-racing/39307278\n",
      "Miliband's joke steals Osborne's limelight\n",
      "/news/blogs-trending-39302846\n",
      "VideoBBC News Channel\n",
      "/news/10318089\n",
      "AudioBBC Radio 4 - PM\n",
      "http://www.bbc.co.uk/iplayer/console/bbc_radio_four\n",
      "VideoJam? Meet the Michael Jackson traffic cop\n",
      "/news/world-africa-39290410\n",
      "Bake Off line-up: A winning recipe?\n",
      "/news/entertainment-arts-39301921\n",
      "Weekly quiz: In which soap did Ed Sheeran appear?\n",
      "/news/magazine-39295274\n",
      "What's the etiquette on vaping?\n",
      "/news/uk-39301430\n",
      "Tall driver told to 'grow up' by judge\n",
      "/news/uk-england-tyne-39303893\n",
      "The mystery of the murder in the Lucky Holiday Hotel\n",
      "/news/magazine-39297987\n",
      "Britain’s bungled effort to clean up its first big oil spill\n",
      "/news/uk-england-39223308\n",
      "Sweden's Got Talent: The pop star with sleep paralysis\n",
      "/news/entertainment-arts-39293139\n",
      "George Osborne: From history buff to austerity editor\n",
      "/news/entertainment-arts-39304904\n",
      "Reality Check: Is education spending at a record level?\n",
      "/news/education-39302746\n",
      "When will a second referendum take place?\n",
      "/news/uk-scotland-scotland-politics-39306159\n",
      "Defining moment for US and Germany\n",
      "/news/world-europe-39254553\n"
     ]
    }
   ],
   "source": [
    "links = doc.find_all('a', { 'class': 'gs-c-promo-heading' })\n",
    "\n",
    "for link in links:\n",
    "    print(link.text)\n",
    "    print(link['href'])"
   ]
  },
  {
   "cell_type": "markdown",
   "metadata": {},
   "source": [
    "Cool, 'eh? But now we have one final problem: **we don't have the summaries**. So well, we can just use the Inspector to pick one out...\n",
    "\n",
    "    <p class=\"gs-c-promo-summary gel-long-primer gs-u-mt nw-c-promo-summary\">Trade and Nato are high on the agenda as the much-anticipated Washington talks begin.</p>\n",
    "\n",
    "Once again, we have a selection of options. `gs-c-promo-summary` seems promising."
   ]
  },
  {
   "cell_type": "code",
   "execution_count": 13,
   "metadata": {
    "collapsed": false
   },
   "outputs": [
    {
     "name": "stdout",
     "output_type": "stream",
     "text": [
      "Allegations that Donald Trump was wiretapped are \"nonsense\", the UK's intelligence agency says.\n",
      "Former chancellor faces calls to stand down as MP after being named as editor of London Evening Standard.\n",
      "The innovative new injection cuts cholesterol to lowest levels ever seen in medicine.\n",
      "Nicola Sturgeon wants talks with Theresa May about a referendum date that suits both sides.\n",
      "A man who admitted raping a 12-year-old girl in Edinburgh is given an absolute discharge.\n",
      "Actress Lena Dunham, star and creator of Girls, says her recent weight loss \"isn't a triumph\".\n",
      "America's top diplomat says the US could strike if Pyongyang's weapons threat rises.\n",
      "America's top diplomat says the US could strike if Pyongyang's weapons threat rises.\n",
      "The Duke and Duchess of Cambridge drank Guinness at a St Patrick's Day lunch with the Irish Guards.\n",
      "Victoria Gayle pleaded guilty to preventing the lawful and decent burial of her baby son.\n",
      "A coroner and safety experts have since issued warnings about using electrical appliances in the bathroom.\n",
      "Camps for asylum seekers are being built out of shipping containers, despite international criticism.\n",
      "Film-maker Richard Curtis has brought the original stars of Love Actually back together in a special sequel for Comic Relief.\n",
      "Irish challenger Sizing John wins the Cheltenham Gold Cup for jockey Robbie Power and trainer Jessica Harrington.\n",
      "The latest breaking and developing stories \n",
      "An evening look at the day's events\n"
     ]
    }
   ],
   "source": [
    "summaries = doc.find_all('p', { 'class': 'gs-c-promo-summary' })\n",
    "\n",
    "for summary in summaries:\n",
    "    print(summary.text)"
   ]
  },
  {
   "cell_type": "markdown",
   "metadata": {},
   "source": [
    "Great, but **now we're stuck:** we don't have a way of combining the headlines and links to the summaries, and even if we did (cough`zip`cough), we couldn't be sure that they'd match up.\n",
    "\n",
    "What the heck do we do now?"
   ]
  },
  {
   "cell_type": "markdown",
   "metadata": {},
   "source": [
    "## ATTEMPT TWO: Parent elements\n",
    "\n",
    "When you're just grabbing one element - a link and the text inside, or a list of headlines - you are only interested in the element you're looking at. Sometimes, though, **you need to scrape multiple elements at the same time.** When this happens, you need to look at what they all have in common.\n",
    "\n",
    "If we look at a summary, a link and a title, we might find something like the following. **It's a trainwreck, but it's what we want.**\n",
    "\n",
    "\t<div class=\"gs-c-promo nw-c-promo gs-o-faux-block-link gs-u-pb gs-u-pb+@m gs-c-promo--inline gs-c-promo--stacked@m nw-u-w-auto gs-c-promo--flex\" data-entityid=\"container-top-stories#3\">\n",
    "\t\t<div class=\"gs-c-promo-image gs-u-display-none gs-u-display-inline-block@xs gel-1/2@xs gel-1/1@m\">\n",
    "\t\t\t<div class=\"gs-o-media-island\">\n",
    "\t\t\t\t<div class=\"gs-o-responsive-image gs-o-responsive-image--16by9\"><img alt=\"Yemeni police gather round bodies of Somali refugees (17/03/17)\" class=\"qa-lazyload-image lazyautosizes lazyloaded\" data-sizes=\"auto\" data-srcset=\"https://ichef.bbci.co.uk/live-experience/cps/240/cpsprodpb/14F5A/production/_95205858_hi038526789.jpg 240w, https://ichef.bbci.co.uk/live-experience/cps/320/cpsprodpb/14F5A/production/_95205858_hi038526789.jpg 320w, https://ichef.bbci.co.uk/live-experience/cps/480/cpsprodpb/14F5A/production/_95205858_hi038526789.jpg 480w, https://ichef.bbci.co.uk/live-experience/cps/624/cpsprodpb/14F5A/production/_95205858_hi038526789.jpg 624w, https://ichef.bbci.co.uk/live-experience/cps/800/cpsprodpb/14F5A/production/_95205858_hi038526789.jpg 800w\" data-widths=\"[240,320,480,624,800]\" sizes=\"177px\" src=\"data:image/gif;base64,R0lGODlhAQABAIAAAAAAAP///yH5BAEAAAAALAAAAAABAAEAAAIBRAA7\" srcset=\"https://ichef.bbci.co.uk/live-experience/cps/240/cpsprodpb/14F5A/production/_95205858_hi038526789.jpg 240w, https://ichef.bbci.co.uk/live-experience/cps/320/cpsprodpb/14F5A/production/_95205858_hi038526789.jpg 320w, https://ichef.bbci.co.uk/live-experience/cps/480/cpsprodpb/14F5A/production/_95205858_hi038526789.jpg 480w, https://ichef.bbci.co.uk/live-experience/cps/624/cpsprodpb/14F5A/production/_95205858_hi038526789.jpg 624w, https://ichef.bbci.co.uk/live-experience/cps/800/cpsprodpb/14F5A/production/_95205858_hi038526789.jpg 800w\"></div>\n",
    "\t\t\t</div>\n",
    "\t\t</div>\n",
    "\t\t<div class=\"gs-c-promo-body gel-1/2@xs gel-1/1@m gs-u-mt@m\">\n",
    "\t\t\t<div>\n",
    "\t\t\t\t<a class=\"gs-c-promo-heading nw-o-link-split__anchor gs-o-faux-block-link__overlay-link gel-pica-bold\" href=\"/news/world-middle-east-39302560\">\n",
    "\t\t\t\t<h3 class=\"gs-c-promo-heading__title gel-pica-bold nw-o-link-split__text\">Attack on Yemen migrant boat kills 42</h3></a>\n",
    "\t\t\t\t<p class=\"gs-c-promo-summary gel-long-primer gs-u-mt nw-c-promo-summary\">It is unclear who was behind a helicopter attack which killed 42 refugees and injured 80.</p>\n",
    "\t\t\t</div>\n",
    "\t\t\t<ul class=\"gs-o-list-inline gs-o-list-inline--divided gel-brevier gs-u-mt-\">\n",
    "\t\t\t\t<li><span class=\"gs-c-timestamp gs-o-bullet gs-o-bullet- nw-c-timestamp\"><span class=\"gs-o-bullet__icon gel-icon\"><svg viewbox=\"0 0 32 32\">\n",
    "\t\t\t\t<polygon points=\"17,15.4 17,6 15,6 15,16.6 23.8,21.7 24.8,19.9\"></polygon>\n",
    "\t\t\t\t<path d=\"M16,4c6.6,0,12,5.4,12,12c0,6.6-5.4,12-12,12S4,22.6,4,16C4,9.4,9.4,4,16,4 M16,0C7.2,0,0,7.2,0,16c0,8.8,7.2,16,16,16 s16-7.2,16-16C32,7.2,24.8,0,16,0L16,0z\"></path></svg></span><time class=\"gs-o-bullet__text date qa-status-date relative-time\" data-datetime=\"1h\" data-seconds=\"1489768430\" data-timestamp-inserted=\"true\" datetime=\"2017-03-17T16:33:50.000Z\">48 minutes ago</time></span></li>\n",
    "\t\t\t\t<li>\n",
    "\t\t\t\t\t<a aria-label=\"From Middle East\" class=\"gs-c-section-link gs-c-section-link--truncate nw-c-section-link nw-o-link nw-o-link--no-visited-state\" href=\"/news/world/middle_east\"><span aria-hidden=\"true\">Middle East</span></a>\n",
    "\t\t\t\t</li>\n",
    "\t\t\t</ul>\n",
    "\t\t</div>\n",
    "\t</div>\n",
    "\n",
    "The very top part is the **parent element**, all of the other elements are inside of it. In order to scrape them all together, we need to grab each parent (each *story*) and then grab the parts inside of it (the headline, links, image, etc).\n",
    "\n",
    "The part's class is `class=\"gs-c-promo nw-c-promo gs-o-faux-block-link gs-u-pb gs-u-pb+@m gs-c-promo--inline gs-c-promo--stacked@m nw-u-w-auto gs-c-promo--flex\" data-entityid=\"container-top-stories#3\"`, which would be terrifying except that we've struck onto a theme and suspect `gs-c-promo` might be what we're looking for."
   ]
  },
  {
   "cell_type": "code",
   "execution_count": 14,
   "metadata": {
    "collapsed": false
   },
   "outputs": [
    {
     "name": "stdout",
     "output_type": "stream",
     "text": [
      "US 'will not repeat' GCHQ wiretap claimsAllegations that Donald Trump was wiretapped are \"nonsense\", the UK's intelligence agency says.18m19 minutes agoUKRelated contentVideoSpicer cites Fox News claimsVideoWiretap saga in two minutesDid Obama wiretap Trump Tower?\n",
      "George Osborne to edit London newspaperFormer chancellor faces calls to stand down as MP after being named as editor of London Evening Standard.13m13 minutes agoUK Politics Comments\n",
      "'Huge advance' in fighting biggest killerThe innovative new injection cuts cholesterol to lowest levels ever seen in medicine.4h4 hours agoHealth\n",
      "Sturgeon up for referendum date talksNicola Sturgeon wants talks with Theresa May about a referendum date that suits both sides.3h3 hours agoScotland politics Comments\n",
      "No punishment for man who raped girl, 12A man who admitted raping a 12-year-old girl in Edinburgh is given an absolute discharge.4h4 hours agoEdinburgh, Fife & East Scotland\n",
      "Dunham hits back after weight criticismActress Lena Dunham, star and creator of Girls, says her recent weight loss \"isn't a triumph\".4h4 hours agoEntertainment & Arts\n",
      "US warns N Korea of military optionAmerica's top diplomat says the US could strike if Pyongyang's weapons threat rises.1m2 minutes agoAsia Comments\n",
      "US warns N Korea of military optionAmerica's top diplomat says the US could strike if Pyongyang's weapons threat rises.1m2 minutes agoAsia Comments\n",
      "VideoVideoGuinness for royals on St Patrick's DayThe Duke and Duchess of Cambridge drank Guinness at a St Patrick's Day lunch with the Irish Guards.2h2 hours agoUK\n",
      "Mother jailed for hiding baby's deathVictoria Gayle pleaded guilty to preventing the lawful and decent burial of her baby son.1han hour agoLondon\n",
      "Man dies charging iPhone in bathA coroner and safety experts have since issued warnings about using electrical appliances in the bathroom.1h43 minutes agoUK\n",
      "VideoVideoHungary puts migrants in containersCamps for asylum seekers are being built out of shipping containers, despite international criticism.10h10 hours agoEurope\n",
      "VideoVideoLove Actually cast reunites for Comic ReliefFilm-maker Richard Curtis has brought the original stars of Love Actually back together in a special sequel for Comic Relief.6h6 hours agoEntertainment & Arts\n",
      "Sizing John wins Cheltenham Gold CupIrish challenger Sizing John wins the Cheltenham Gold Cup for jockey Robbie Power and trainer Jessica Harrington.1ma minute agoBBC Sport\n",
      "Miliband's joke steals Osborne's limelight\n",
      "VideoWatch LiveVideoBBC News ChannelThe latest breaking and developing stories \n",
      "AudioListen LiveAudioBBC Radio 4 - PMAn evening look at the day's events\n",
      "VideoVideoJam? Meet the Michael Jackson traffic cop\n",
      "Bake Off line-up: A winning recipe?\n",
      "Weekly quiz: In which soap did Ed Sheeran appear?\n",
      "What's the etiquette on vaping?\n",
      "Tall driver told to 'grow up' by judge\n",
      "The mystery of the murder in the Lucky Holiday Hotel\n",
      "Britain’s bungled effort to clean up its first big oil spill\n",
      "Sweden's Got Talent: The pop star with sleep paralysis\n",
      "George Osborne: From history buff to austerity editor\n",
      "Reality Check: Is education spending at a record level?\n",
      "When will a second referendum take place?\n",
      "Defining moment for US and Germany\n"
     ]
    }
   ],
   "source": [
    "stories = doc.find_all('div', { 'class': 'gs-c-promo' })\n",
    "for story in stories:\n",
    "    print(story.text)"
   ]
  },
  {
   "cell_type": "markdown",
   "metadata": {},
   "source": [
    "So... kind of?\n",
    "\n",
    "We apparently can't use `.text` because it's going to get take *all* of the text inside, it's going to take the headline *and* the summary. What we need to do instead is\n",
    "\n",
    "* STEP ONE: Use the doc to get the story\n",
    "* STEP TWO: Use the story to get the headline\n",
    "* STEP THREE: Use the story to get the link\n",
    "* STEP FOUR: Use the story to get the summary\n",
    "\n",
    "### STEP ONE: Use the doc to get the story"
   ]
  },
  {
   "cell_type": "code",
   "execution_count": 15,
   "metadata": {
    "collapsed": false
   },
   "outputs": [
    {
     "name": "stdout",
     "output_type": "stream",
     "text": [
      "This is a story\n",
      "This is a story\n",
      "This is a story\n",
      "This is a story\n",
      "This is a story\n",
      "This is a story\n",
      "This is a story\n",
      "This is a story\n",
      "This is a story\n",
      "This is a story\n",
      "This is a story\n",
      "This is a story\n",
      "This is a story\n",
      "This is a story\n",
      "This is a story\n",
      "This is a story\n",
      "This is a story\n",
      "This is a story\n",
      "This is a story\n",
      "This is a story\n",
      "This is a story\n",
      "This is a story\n",
      "This is a story\n",
      "This is a story\n",
      "This is a story\n",
      "This is a story\n",
      "This is a story\n",
      "This is a story\n",
      "This is a story\n"
     ]
    }
   ],
   "source": [
    "stories = doc.find_all('div', { 'class': 'gs-c-promo' })\n",
    "for story in stories:\n",
    "    print(\"This is a story\")"
   ]
  },
  {
   "cell_type": "markdown",
   "metadata": {},
   "source": [
    "## STEP TWO: Use the story to get the headline\n",
    "\n",
    "Now we can do the same thing to find the link, and then use `['href']` to grab the link URL."
   ]
  },
  {
   "cell_type": "code",
   "execution_count": 18,
   "metadata": {
    "collapsed": false
   },
   "outputs": [
    {
     "name": "stdout",
     "output_type": "stream",
     "text": [
      "THIS IS A STORY\n",
      "US 'will not repeat' GCHQ wiretap claims\n",
      "/news/uk-39300191\n",
      "THIS IS A STORY\n",
      "George Osborne to edit London newspaper\n",
      "/news/uk-39304944\n",
      "THIS IS A STORY\n",
      "'Huge advance' in fighting biggest killer\n",
      "/news/health-39305640\n",
      "THIS IS A STORY\n",
      "Sturgeon up for referendum date talks\n",
      "/news/uk-scotland-scotland-politics-39299305\n",
      "THIS IS A STORY\n",
      "No punishment for man who raped girl, 12\n",
      "/news/uk-scotland-edinburgh-east-fife-39305042\n",
      "THIS IS A STORY\n",
      "Dunham hits back after weight criticism\n",
      "/news/entertainment-arts-39303458\n",
      "THIS IS A STORY\n",
      "US warns N Korea of military option\n",
      "/news/world-asia-39297031\n",
      "THIS IS A STORY\n",
      "US warns N Korea of military option\n",
      "/news/world-asia-39297031\n",
      "THIS IS A STORY\n",
      "Guinness for royals on St Patrick's Day\n",
      "/news/uk-39308969\n",
      "THIS IS A STORY\n",
      "Mother jailed for hiding baby's death\n",
      "/news/uk-england-london-39305951\n",
      "THIS IS A STORY\n",
      "Man dies charging iPhone in bath\n",
      "/news/uk-39307418\n",
      "THIS IS A STORY\n",
      "Hungary puts migrants in containers\n",
      "/news/world-europe-39301003\n",
      "THIS IS A STORY\n",
      "Love Actually cast reunites for Comic Relief\n",
      "/news/entertainment-arts-39301010\n",
      "THIS IS A STORY\n",
      "Sizing John wins Cheltenham Gold Cup\n",
      "/sport/horse-racing/39307278\n",
      "THIS IS A STORY\n",
      "Miliband's joke steals Osborne's limelight\n",
      "/news/blogs-trending-39302846\n",
      "THIS IS A STORY\n",
      "BBC News Channel\n",
      "/news/10318089\n",
      "THIS IS A STORY\n",
      "BBC Radio 4 - PM\n",
      "http://www.bbc.co.uk/iplayer/console/bbc_radio_four\n",
      "THIS IS A STORY\n",
      "Jam? Meet the Michael Jackson traffic cop\n",
      "/news/world-africa-39290410\n",
      "THIS IS A STORY\n",
      "Bake Off line-up: A winning recipe?\n",
      "/news/entertainment-arts-39301921\n",
      "THIS IS A STORY\n",
      "Weekly quiz: In which soap did Ed Sheeran appear?\n",
      "/news/magazine-39295274\n",
      "THIS IS A STORY\n",
      "What's the etiquette on vaping?\n",
      "/news/uk-39301430\n",
      "THIS IS A STORY\n",
      "Tall driver told to 'grow up' by judge\n",
      "/news/uk-england-tyne-39303893\n",
      "THIS IS A STORY\n",
      "The mystery of the murder in the Lucky Holiday Hotel\n",
      "/news/magazine-39297987\n",
      "THIS IS A STORY\n",
      "Britain’s bungled effort to clean up its first big oil spill\n",
      "/news/uk-england-39223308\n",
      "THIS IS A STORY\n",
      "Sweden's Got Talent: The pop star with sleep paralysis\n",
      "/news/entertainment-arts-39293139\n",
      "THIS IS A STORY\n",
      "George Osborne: From history buff to austerity editor\n",
      "/news/entertainment-arts-39304904\n",
      "THIS IS A STORY\n",
      "Reality Check: Is education spending at a record level?\n",
      "/news/education-39302746\n",
      "THIS IS A STORY\n",
      "When will a second referendum take place?\n",
      "/news/uk-scotland-scotland-politics-39306159\n",
      "THIS IS A STORY\n",
      "Defining moment for US and Germany\n",
      "/news/world-europe-39254553\n"
     ]
    }
   ],
   "source": [
    "stories = doc.find_all('div', { 'class': 'gs-c-promo' })\n",
    "for story in stories:\n",
    "    print(\"THIS IS A STORY\")\n",
    "    headline = story.find('h3')\n",
    "    print(headline.text)\n",
    "    link = story.find('a')\n",
    "    print(link['href'])"
   ]
  },
  {
   "cell_type": "markdown",
   "metadata": {},
   "source": [
    "## STEP FOUR: Use the story to get the summary\n",
    "\n",
    "Same thing again! This time we're looking for a `p`."
   ]
  },
  {
   "cell_type": "code",
   "execution_count": 20,
   "metadata": {
    "collapsed": false
   },
   "outputs": [
    {
     "name": "stdout",
     "output_type": "stream",
     "text": [
      "THIS IS A STORY\n",
      "US 'will not repeat' GCHQ wiretap claims\n",
      "/news/uk-39300191\n",
      "Allegations that Donald Trump was wiretapped are \"nonsense\", the UK's intelligence agency says.\n",
      "THIS IS A STORY\n",
      "George Osborne to edit London newspaper\n",
      "/news/uk-39304944\n",
      "Former chancellor faces calls to stand down as MP after being named as editor of London Evening Standard.\n",
      "THIS IS A STORY\n",
      "'Huge advance' in fighting biggest killer\n",
      "/news/health-39305640\n",
      "The innovative new injection cuts cholesterol to lowest levels ever seen in medicine.\n",
      "THIS IS A STORY\n",
      "Sturgeon up for referendum date talks\n",
      "/news/uk-scotland-scotland-politics-39299305\n",
      "Nicola Sturgeon wants talks with Theresa May about a referendum date that suits both sides.\n",
      "THIS IS A STORY\n",
      "No punishment for man who raped girl, 12\n",
      "/news/uk-scotland-edinburgh-east-fife-39305042\n",
      "A man who admitted raping a 12-year-old girl in Edinburgh is given an absolute discharge.\n",
      "THIS IS A STORY\n",
      "Dunham hits back after weight criticism\n",
      "/news/entertainment-arts-39303458\n",
      "Actress Lena Dunham, star and creator of Girls, says her recent weight loss \"isn't a triumph\".\n",
      "THIS IS A STORY\n",
      "US warns N Korea of military option\n",
      "/news/world-asia-39297031\n",
      "America's top diplomat says the US could strike if Pyongyang's weapons threat rises.\n",
      "THIS IS A STORY\n",
      "US warns N Korea of military option\n",
      "/news/world-asia-39297031\n",
      "America's top diplomat says the US could strike if Pyongyang's weapons threat rises.\n",
      "THIS IS A STORY\n",
      "Guinness for royals on St Patrick's Day\n",
      "/news/uk-39308969\n",
      "The Duke and Duchess of Cambridge drank Guinness at a St Patrick's Day lunch with the Irish Guards.\n",
      "THIS IS A STORY\n",
      "Mother jailed for hiding baby's death\n",
      "/news/uk-england-london-39305951\n",
      "Victoria Gayle pleaded guilty to preventing the lawful and decent burial of her baby son.\n",
      "THIS IS A STORY\n",
      "Man dies charging iPhone in bath\n",
      "/news/uk-39307418\n",
      "A coroner and safety experts have since issued warnings about using electrical appliances in the bathroom.\n",
      "THIS IS A STORY\n",
      "Hungary puts migrants in containers\n",
      "/news/world-europe-39301003\n",
      "Camps for asylum seekers are being built out of shipping containers, despite international criticism.\n",
      "THIS IS A STORY\n",
      "Love Actually cast reunites for Comic Relief\n",
      "/news/entertainment-arts-39301010\n",
      "Film-maker Richard Curtis has brought the original stars of Love Actually back together in a special sequel for Comic Relief.\n",
      "THIS IS A STORY\n",
      "Sizing John wins Cheltenham Gold Cup\n",
      "/sport/horse-racing/39307278\n",
      "Irish challenger Sizing John wins the Cheltenham Gold Cup for jockey Robbie Power and trainer Jessica Harrington.\n",
      "THIS IS A STORY\n",
      "Miliband's joke steals Osborne's limelight\n",
      "/news/blogs-trending-39302846\n"
     ]
    },
    {
     "ename": "AttributeError",
     "evalue": "'NoneType' object has no attribute 'text'",
     "output_type": "error",
     "traceback": [
      "\u001b[0;31m---------------------------------------------------------------------------\u001b[0m",
      "\u001b[0;31mAttributeError\u001b[0m                            Traceback (most recent call last)",
      "\u001b[0;32m<ipython-input-20-e55795264040>\u001b[0m in \u001b[0;36m<module>\u001b[0;34m()\u001b[0m\n\u001b[1;32m      7\u001b[0m     \u001b[0mprint\u001b[0m\u001b[0;34m(\u001b[0m\u001b[0mlink\u001b[0m\u001b[0;34m[\u001b[0m\u001b[0;34m'href'\u001b[0m\u001b[0;34m]\u001b[0m\u001b[0;34m)\u001b[0m\u001b[0;34m\u001b[0m\u001b[0m\n\u001b[1;32m      8\u001b[0m     \u001b[0msummary\u001b[0m \u001b[0;34m=\u001b[0m \u001b[0mstory\u001b[0m\u001b[0;34m.\u001b[0m\u001b[0mfind\u001b[0m\u001b[0;34m(\u001b[0m\u001b[0;34m'p'\u001b[0m\u001b[0;34m)\u001b[0m\u001b[0;34m\u001b[0m\u001b[0m\n\u001b[0;32m----> 9\u001b[0;31m     \u001b[0mprint\u001b[0m\u001b[0;34m(\u001b[0m\u001b[0msummary\u001b[0m\u001b[0;34m.\u001b[0m\u001b[0mtext\u001b[0m\u001b[0;34m)\u001b[0m\u001b[0;34m\u001b[0m\u001b[0m\n\u001b[0m",
      "\u001b[0;31mAttributeError\u001b[0m: 'NoneType' object has no attribute 'text'"
     ]
    }
   ],
   "source": [
    "stories = doc.find_all('div', { 'class': 'gs-c-promo' })\n",
    "for story in stories:\n",
    "    print(\"THIS IS A STORY\")\n",
    "    headline = story.find('h3')\n",
    "    print(headline.text)\n",
    "    link = story.find('a')\n",
    "    print(link['href'])\n",
    "    summary = story.find('p')\n",
    "    print(summary.text)"
   ]
  },
  {
   "cell_type": "markdown",
   "metadata": {},
   "source": [
    "### Missing elements\n",
    "\n",
    "Oh god, an error! If you weren't paying attention, the error is\n",
    "\n",
    "    ---------------------------------------------------------------------------\n",
    "    AttributeError                            Traceback (most recent call last)\n",
    "    <ipython-input-20-e55795264040> in <module>()\n",
    "          7     print(link['href'])\n",
    "          8     summary = story.find('p')\n",
    "    ----> 9     print(summary.text)\n",
    "\n",
    "    AttributeError: 'NoneType' object has no attribute 'text'\n",
    "\n",
    "Since it showed up after we added in the `summary` part, I'm going to assume this is an issue because **not every story has a summary**. How do we get around it!!!\n",
    "\n",
    "Well, just *ask if it has a summary*. If it does, you can use it. If it doesn't, ignore it. **It's just a simple `if` statement**."
   ]
  },
  {
   "cell_type": "code",
   "execution_count": 22,
   "metadata": {
    "collapsed": false
   },
   "outputs": [
    {
     "name": "stdout",
     "output_type": "stream",
     "text": [
      "THIS IS A STORY\n",
      "US 'will not repeat' GCHQ wiretap claims\n",
      "/news/uk-39300191\n",
      "Allegations that Donald Trump was wiretapped are \"nonsense\", the UK's intelligence agency says.\n",
      "THIS IS A STORY\n",
      "George Osborne to edit London newspaper\n",
      "/news/uk-39304944\n",
      "Former chancellor faces calls to stand down as MP after being named as editor of London Evening Standard.\n",
      "THIS IS A STORY\n",
      "'Huge advance' in fighting biggest killer\n",
      "/news/health-39305640\n",
      "The innovative new injection cuts cholesterol to lowest levels ever seen in medicine.\n",
      "THIS IS A STORY\n",
      "Sturgeon up for referendum date talks\n",
      "/news/uk-scotland-scotland-politics-39299305\n",
      "Nicola Sturgeon wants talks with Theresa May about a referendum date that suits both sides.\n",
      "THIS IS A STORY\n",
      "No punishment for man who raped girl, 12\n",
      "/news/uk-scotland-edinburgh-east-fife-39305042\n",
      "A man who admitted raping a 12-year-old girl in Edinburgh is given an absolute discharge.\n",
      "THIS IS A STORY\n",
      "Dunham hits back after weight criticism\n",
      "/news/entertainment-arts-39303458\n",
      "Actress Lena Dunham, star and creator of Girls, says her recent weight loss \"isn't a triumph\".\n",
      "THIS IS A STORY\n",
      "US warns N Korea of military option\n",
      "/news/world-asia-39297031\n",
      "America's top diplomat says the US could strike if Pyongyang's weapons threat rises.\n",
      "THIS IS A STORY\n",
      "US warns N Korea of military option\n",
      "/news/world-asia-39297031\n",
      "America's top diplomat says the US could strike if Pyongyang's weapons threat rises.\n",
      "THIS IS A STORY\n",
      "Guinness for royals on St Patrick's Day\n",
      "/news/uk-39308969\n",
      "The Duke and Duchess of Cambridge drank Guinness at a St Patrick's Day lunch with the Irish Guards.\n",
      "THIS IS A STORY\n",
      "Mother jailed for hiding baby's death\n",
      "/news/uk-england-london-39305951\n",
      "Victoria Gayle pleaded guilty to preventing the lawful and decent burial of her baby son.\n",
      "THIS IS A STORY\n",
      "Man dies charging iPhone in bath\n",
      "/news/uk-39307418\n",
      "A coroner and safety experts have since issued warnings about using electrical appliances in the bathroom.\n",
      "THIS IS A STORY\n",
      "Hungary puts migrants in containers\n",
      "/news/world-europe-39301003\n",
      "Camps for asylum seekers are being built out of shipping containers, despite international criticism.\n",
      "THIS IS A STORY\n",
      "Love Actually cast reunites for Comic Relief\n",
      "/news/entertainment-arts-39301010\n",
      "Film-maker Richard Curtis has brought the original stars of Love Actually back together in a special sequel for Comic Relief.\n",
      "THIS IS A STORY\n",
      "Sizing John wins Cheltenham Gold Cup\n",
      "/sport/horse-racing/39307278\n",
      "Irish challenger Sizing John wins the Cheltenham Gold Cup for jockey Robbie Power and trainer Jessica Harrington.\n",
      "THIS IS A STORY\n",
      "Miliband's joke steals Osborne's limelight\n",
      "/news/blogs-trending-39302846\n",
      "THIS IS A STORY\n",
      "BBC News Channel\n",
      "/news/10318089\n",
      "The latest breaking and developing stories \n",
      "THIS IS A STORY\n",
      "BBC Radio 4 - PM\n",
      "http://www.bbc.co.uk/iplayer/console/bbc_radio_four\n",
      "An evening look at the day's events\n",
      "THIS IS A STORY\n",
      "Jam? Meet the Michael Jackson traffic cop\n",
      "/news/world-africa-39290410\n",
      "THIS IS A STORY\n",
      "Bake Off line-up: A winning recipe?\n",
      "/news/entertainment-arts-39301921\n",
      "THIS IS A STORY\n",
      "Weekly quiz: In which soap did Ed Sheeran appear?\n",
      "/news/magazine-39295274\n",
      "THIS IS A STORY\n",
      "What's the etiquette on vaping?\n",
      "/news/uk-39301430\n",
      "THIS IS A STORY\n",
      "Tall driver told to 'grow up' by judge\n",
      "/news/uk-england-tyne-39303893\n",
      "THIS IS A STORY\n",
      "The mystery of the murder in the Lucky Holiday Hotel\n",
      "/news/magazine-39297987\n",
      "THIS IS A STORY\n",
      "Britain’s bungled effort to clean up its first big oil spill\n",
      "/news/uk-england-39223308\n",
      "THIS IS A STORY\n",
      "Sweden's Got Talent: The pop star with sleep paralysis\n",
      "/news/entertainment-arts-39293139\n",
      "THIS IS A STORY\n",
      "George Osborne: From history buff to austerity editor\n",
      "/news/entertainment-arts-39304904\n",
      "THIS IS A STORY\n",
      "Reality Check: Is education spending at a record level?\n",
      "/news/education-39302746\n",
      "THIS IS A STORY\n",
      "When will a second referendum take place?\n",
      "/news/uk-scotland-scotland-politics-39306159\n",
      "THIS IS A STORY\n",
      "Defining moment for US and Germany\n",
      "/news/world-europe-39254553\n"
     ]
    }
   ],
   "source": [
    "stories = doc.find_all('div', { 'class': 'gs-c-promo' })\n",
    "for story in stories:\n",
    "    print(\"THIS IS A STORY\")\n",
    "    headline = story.find('h3')\n",
    "    print(headline.text)\n",
    "    link = story.find('a')\n",
    "    print(link['href'])\n",
    "    summary = story.find('p')\n",
    "    if summary:\n",
    "        print(summary.text)"
   ]
  },
  {
   "cell_type": "markdown",
   "metadata": {},
   "source": [
    "## Turning it into a CSV\n",
    "\n",
    "Now that we have all of our elements, we can turn it into a CSV. There are three steps to building the CSV:\n",
    "    \n",
    "1. **Start with an empty list:** Each story we'll find, we'll add it to the list\n",
    "2. **Build a dictionary** for each story element\n",
    "3. **Convert the list to a DataFrame**, and then\n",
    "4. **Export the DataFrame to a CSV**\n",
    "\n",
    "The dictionary-buiding part can be complicated, so let's look at **two different ways of doing it**."
   ]
  },
  {
   "cell_type": "markdown",
   "metadata": {},
   "source": [
    "### Method One: All at once\n",
    "\n",
    "For this method, we'll make our `story_dict` all at once, then add it to the `stories_list`."
   ]
  },
  {
   "cell_type": "code",
   "execution_count": 43,
   "metadata": {
    "collapsed": false
   },
   "outputs": [
    {
     "name": "stdout",
     "output_type": "stream",
     "text": [
      "[{'summary': 'Allegations that Donald Trump was wiretapped are \"nonsense\", the UK\\'s intelligence agency says.', 'headline': \"US 'will not repeat' GCHQ wiretap claims\", 'url': '/news/uk-39300191'}, {'summary': 'Former chancellor faces calls to stand down as MP after being named as editor of London Evening Standard.', 'headline': 'George Osborne to edit London newspaper', 'url': '/news/uk-39304944'}, {'summary': 'The innovative new injection cuts cholesterol to lowest levels ever seen in medicine.', 'headline': \"'Huge advance' in fighting biggest killer\", 'url': '/news/health-39305640'}, {'summary': 'Nicola Sturgeon wants talks with Theresa May about a referendum date that suits both sides.', 'headline': 'Sturgeon up for referendum date talks', 'url': '/news/uk-scotland-scotland-politics-39299305'}, {'summary': 'A man who admitted raping a 12-year-old girl in Edinburgh is given an absolute discharge.', 'headline': 'No punishment for man who raped girl, 12', 'url': '/news/uk-scotland-edinburgh-east-fife-39305042'}, {'summary': 'Actress Lena Dunham, star and creator of Girls, says her recent weight loss \"isn\\'t a triumph\".', 'headline': 'Dunham hits back after weight criticism', 'url': '/news/entertainment-arts-39303458'}, {'summary': \"America's top diplomat says the US could strike if Pyongyang's weapons threat rises.\", 'headline': 'US warns N Korea of military option', 'url': '/news/world-asia-39297031'}, {'summary': \"America's top diplomat says the US could strike if Pyongyang's weapons threat rises.\", 'headline': 'US warns N Korea of military option', 'url': '/news/world-asia-39297031'}, {'summary': \"The Duke and Duchess of Cambridge drank Guinness at a St Patrick's Day lunch with the Irish Guards.\", 'headline': \"Guinness for royals on St Patrick's Day\", 'url': '/news/uk-39308969'}, {'summary': 'Victoria Gayle pleaded guilty to preventing the lawful and decent burial of her baby son.', 'headline': \"Mother jailed for hiding baby's death\", 'url': '/news/uk-england-london-39305951'}, {'summary': 'A coroner and safety experts have since issued warnings about using electrical appliances in the bathroom.', 'headline': 'Man dies charging iPhone in bath', 'url': '/news/uk-39307418'}, {'summary': 'Camps for asylum seekers are being built out of shipping containers, despite international criticism.', 'headline': 'Hungary puts migrants in containers', 'url': '/news/world-europe-39301003'}, {'summary': 'Film-maker Richard Curtis has brought the original stars of Love Actually back together in a special sequel for Comic Relief.', 'headline': 'Love Actually cast reunites for Comic Relief', 'url': '/news/entertainment-arts-39301010'}, {'summary': 'Irish challenger Sizing John wins the Cheltenham Gold Cup for jockey Robbie Power and trainer Jessica Harrington.', 'headline': 'Sizing John wins Cheltenham Gold Cup', 'url': '/sport/horse-racing/39307278'}, {'headline': \"Miliband's joke steals Osborne's limelight\", 'url': '/news/blogs-trending-39302846'}, {'summary': 'The latest breaking and developing stories ', 'headline': 'BBC News Channel', 'url': '/news/10318089'}, {'summary': \"An evening look at the day's events\", 'headline': 'BBC Radio 4 - PM', 'url': 'http://www.bbc.co.uk/iplayer/console/bbc_radio_four'}, {'headline': 'Jam? Meet the Michael Jackson traffic cop', 'url': '/news/world-africa-39290410'}, {'headline': 'Bake Off line-up: A winning recipe?', 'url': '/news/entertainment-arts-39301921'}, {'headline': 'Weekly quiz: In which soap did Ed Sheeran appear?', 'url': '/news/magazine-39295274'}, {'headline': \"What's the etiquette on vaping?\", 'url': '/news/uk-39301430'}, {'headline': \"Tall driver told to 'grow up' by judge\", 'url': '/news/uk-england-tyne-39303893'}, {'headline': 'The mystery of the murder in the Lucky Holiday Hotel', 'url': '/news/magazine-39297987'}, {'headline': 'Britain’s bungled effort to clean up its first big oil spill', 'url': '/news/uk-england-39223308'}, {'headline': \"Sweden's Got Talent: The pop star with sleep paralysis\", 'url': '/news/entertainment-arts-39293139'}, {'headline': 'George Osborne: From history buff to austerity editor', 'url': '/news/entertainment-arts-39304904'}, {'headline': 'Reality Check: Is education spending at a record level?', 'url': '/news/education-39302746'}, {'headline': 'When will a second referendum take place?', 'url': '/news/uk-scotland-scotland-politics-39306159'}, {'headline': 'Defining moment for US and Germany', 'url': '/news/world-europe-39254553'}]\n"
     ]
    }
   ],
   "source": [
    "# Start with an empty list\n",
    "stories_list = []\n",
    "stories = doc.find_all('div', { 'class': 'gs-c-promo' })\n",
    "for story in stories:\n",
    "    headline = story.find('h3')\n",
    "    link = story.find('a')\n",
    "    summary = story.find('p')\n",
    "    # Does our story have a summary?\n",
    "    if summary:\n",
    "        # Build a dict that HAS a summary\n",
    "        story_dict = {\n",
    "            'headline': headline.text,\n",
    "            'url': link['href'],\n",
    "            'summary': summary.text\n",
    "        }\n",
    "    else:\n",
    "        # Build a dict that does NOT have a summary\n",
    "        story_dict = {\n",
    "            'headline': headline.text,\n",
    "            'url': link['href'],\n",
    "        }    \n",
    "    # Add the dict to our list\n",
    "    stories_list.append(story_dict)\n",
    "\n",
    "print(stories_list)\n",
    "\n",
    "# Now that we're done, convert to a CSV and save.\n",
    "# If you don't use index=False, you'll get an ugly dataframe!\n",
    "import pandas as pd\n",
    "df = pd.DataFrame(stories_list)\n",
    "df.to_csv(\"bbc.csv\", index=False)"
   ]
  },
  {
   "cell_type": "markdown",
   "metadata": {},
   "source": [
    "### Method Two: Filling in the blanks\n",
    "\n",
    "For this method, we'll make our `story_dict` in the beginning, then fill in any pieces that exist."
   ]
  },
  {
   "cell_type": "code",
   "execution_count": 42,
   "metadata": {
    "collapsed": false
   },
   "outputs": [],
   "source": [
    "# Start with an empty list\n",
    "stories_list = []\n",
    "stories = doc.find_all('div', { 'class': 'gs-c-promo' })\n",
    "for story in stories:\n",
    "    # Create a dictionary without anything in it\n",
    "    story_dict = {}\n",
    "    headline = story.find('h3')\n",
    "    if headline:\n",
    "        story_dict['headline'] = headline.text\n",
    "    link = story.find('a')\n",
    "    if link:\n",
    "        story_dict['url'] = link['href']\n",
    "    summary = story.find('p')\n",
    "    if summary:\n",
    "        story_dict['summary'] = summary.text\n",
    "    # Add the dict to our list\n",
    "    stories_list.append(story_dict)\n",
    "    \n",
    "# Now that we're done, convert to a CSV and save\n",
    "# If you don't use index=False, you'll get an ugly dataframe!\n",
    "import pandas as pd\n",
    "df = pd.DataFrame(stories_list)\n",
    "df.to_csv(\"bbc.csv\", index=False)"
   ]
  },
  {
   "cell_type": "code",
   "execution_count": null,
   "metadata": {
    "collapsed": true
   },
   "outputs": [],
   "source": []
  }
 ],
 "metadata": {
  "kernelspec": {
   "display_name": "Python 3",
   "language": "python",
   "name": "python3"
  },
  "language_info": {
   "codemirror_mode": {
    "name": "ipython",
    "version": 3
   },
   "file_extension": ".py",
   "mimetype": "text/x-python",
   "name": "python",
   "nbconvert_exporter": "python",
   "pygments_lexer": "ipython3",
   "version": "3.5.2"
  }
 },
 "nbformat": 4,
 "nbformat_minor": 2
}
