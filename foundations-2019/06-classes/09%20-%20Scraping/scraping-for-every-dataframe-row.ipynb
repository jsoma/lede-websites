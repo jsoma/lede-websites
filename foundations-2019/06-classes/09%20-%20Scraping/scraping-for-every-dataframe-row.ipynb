{
 "cells": [
  {
   "cell_type": "markdown",
   "metadata": {},
   "source": [
    "Okay, so, well, maybe I could teach you how `.apply` works, right? Maybe we could go deep into scraping, go big on columns vs rows in pandas, learn every single thing about how everything works?\n",
    "\n",
    "Or, we could just figure out **how to do it**. That's easier for me to write, so I'm going to be lazy.\n",
    "\n",
    "## Scraping a single page on Yelp\n",
    "\n",
    "Let's say you're scraping a page on Yelp. Our page is going to be [this Shake Shake location](https://www.yelp.com/biz/shake-shack-new-york-54).\n",
    "\n",
    "We'll scrape it just like normal, and make a dictionary of the information on it."
   ]
  },
  {
   "cell_type": "code",
   "execution_count": 4,
   "metadata": {},
   "outputs": [
    {
     "data": {
      "text/plain": [
       "{'address': '2957 Broadway\\nNew York, NY 10025',\n",
       " 'categories': 'Hot Dogs, Burgers, Ice Cream & Frozen Yogurt',\n",
       " 'name': 'Shake Shack',\n",
       " 'stars': '3.5 star rating'}"
      ]
     },
     "execution_count": 4,
     "metadata": {},
     "output_type": "execute_result"
    }
   ],
   "source": [
    "from selenium import webdriver\n",
    "\n",
    "driver = webdriver.Chrome()\n",
    "\n",
    "driver.get('https://www.yelp.com/biz/shake-shack-new-york-54')\n",
    "\n",
    "store_name = driver.find_element_by_class_name(\"biz-page-title\").text\n",
    "full_address = driver.find_element_by_class_name(\"street-address\").text\n",
    "stars = driver.find_element_by_class_name(\"i-stars\").get_attribute('title')\n",
    "categories = driver.find_element_by_class_name(\"category-str-list\").text\n",
    "\n",
    "store = {\n",
    "    'name': store_name,\n",
    "    'address': full_address,\n",
    "    'stars': stars,\n",
    "    'categories': categories\n",
    "}\n",
    "\n",
    "store"
   ]
  },
  {
   "cell_type": "markdown",
   "metadata": {},
   "source": [
    "## Scraping many pages on Yelp\n",
    "\n",
    "But sometimes instead of scraping *one* page, you need to scrape *many* pages. In this case, you need two things:\n",
    "\n",
    "1. A dataframe, where you're going to scrape for each row\n",
    "2. A function to do the actual scraping\n",
    "\n",
    "### Our dataframe"
   ]
  },
  {
   "cell_type": "code",
   "execution_count": 10,
   "metadata": {},
   "outputs": [
    {
     "data": {
      "text/html": [
       "<div>\n",
       "<style scoped>\n",
       "    .dataframe tbody tr th:only-of-type {\n",
       "        vertical-align: middle;\n",
       "    }\n",
       "\n",
       "    .dataframe tbody tr th {\n",
       "        vertical-align: top;\n",
       "    }\n",
       "\n",
       "    .dataframe thead th {\n",
       "        text-align: right;\n",
       "    }\n",
       "</style>\n",
       "<table border=\"1\" class=\"dataframe\">\n",
       "  <thead>\n",
       "    <tr style=\"text-align: right;\">\n",
       "      <th></th>\n",
       "      <th>name</th>\n",
       "      <th>slug</th>\n",
       "    </tr>\n",
       "  </thead>\n",
       "  <tbody>\n",
       "    <tr>\n",
       "      <th>0</th>\n",
       "      <td>Shake Shack</td>\n",
       "      <td>shake-shack-new-york-54</td>\n",
       "    </tr>\n",
       "    <tr>\n",
       "      <th>1</th>\n",
       "      <td>Flat Top</td>\n",
       "      <td>flat-top-new-york</td>\n",
       "    </tr>\n",
       "    <tr>\n",
       "      <th>2</th>\n",
       "      <td>Friedman's</td>\n",
       "      <td>friedmans-new-york-62</td>\n",
       "    </tr>\n",
       "  </tbody>\n",
       "</table>\n",
       "</div>"
      ],
      "text/plain": [
       "          name                     slug\n",
       "0  Shake Shack  shake-shack-new-york-54\n",
       "1     Flat Top        flat-top-new-york\n",
       "2   Friedman's    friedmans-new-york-62"
      ]
     },
     "execution_count": 10,
     "metadata": {},
     "output_type": "execute_result"
    }
   ],
   "source": [
    "import pandas as pd\n",
    "\n",
    "df = pd.read_csv(\"yelp.csv\")\n",
    "df.head(3)"
   ]
  },
  {
   "cell_type": "markdown",
   "metadata": {},
   "source": [
    "### A function to do the scraping\n",
    "\n",
    "We're just going to take our old scraping code and make a few adjustments:\n",
    "\n",
    "### 1. Add `def somethingsomething(row)` to turn it into a function\n",
    "\n",
    "Because it's a function, we'll need to indent.\n",
    "\n",
    "Also, we want to make sure we do NOT have `driver = webdriver.Chrome()` inside of the function, or else it will make a new Chrome every time we want to visit another page.\n",
    "\n",
    "### 2. Use the `row` variable so it isn't always scraping the same page\n",
    "\n",
    "Before we always got the same URL from Yelp. We don't want to do that anymore!\n",
    "\n",
    "**Old code**\n",
    "\n",
    "```python\n",
    "driver.get(\"https://www.yelp.com/biz/shake-shack-new-york-54\")\n",
    "```\n",
    "\n",
    "Now we have a `row` variable that is our row of data. If we want to build a URL, we take `\"https://www.yelp.com/biz/\"` and add `row['slug']` (that's how Yelp URLs look).\n",
    "\n",
    "**New code**\n",
    "\n",
    "```python\n",
    "driver.get(\"https://www.yelp.com/biz/\" + row['slug'])\n",
    "```\n",
    "\n",
    "### 3. Return a `pd.Series` of our data instead of creating a dictionary\n",
    "\n",
    "**Old code**\n",
    "\n",
    "```python\n",
    "store = {\n",
    "    'name': store_name,\n",
    "    'address': full_address,\n",
    "    'stars': stars,\n",
    "    'categories': categories\n",
    "}\n",
    "\n",
    "store\n",
    "```\n",
    "\n",
    "Because it's a function, we need to **return** something - and to add columns to our dataframe, it needs to be a `pd.Series`.\n",
    "\n",
    "**New code**\n",
    "\n",
    "```python\n",
    "return pd.Series({\n",
    "    'name': store_name,\n",
    "    'address': full_address,\n",
    "    'stars': stars,\n",
    "    'categories': categories\n",
    "})\n",
    "```"
   ]
  },
  {
   "cell_type": "markdown",
   "metadata": {},
   "source": [
    "## Complete OLD code"
   ]
  },
  {
   "cell_type": "code",
   "execution_count": null,
   "metadata": {},
   "outputs": [],
   "source": [
    "driver = webdriver.Chrome()\n",
    "\n",
    "driver.get(\"https://www.yelp.com/biz/shake-shack-new-york-54\")\n",
    "\n",
    "store_name = driver.find_element_by_class_name(\"biz-page-title\").text\n",
    "full_address = driver.find_element_by_class_name(\"street-address\").text\n",
    "stars = driver.find_element_by_class_name(\"i-stars\").get_attribute('title')\n",
    "categories = driver.find_element_by_class_name(\"category-str-list\").text\n",
    "\n",
    "store = {\n",
    "    'name': store_name,\n",
    "    'address': full_address,\n",
    "    'stars': stars,\n",
    "    'categories': categories\n",
    "}\n",
    "\n",
    "store"
   ]
  },
  {
   "cell_type": "markdown",
   "metadata": {},
   "source": [
    "## Complete NEW code"
   ]
  },
  {
   "cell_type": "code",
   "execution_count": 18,
   "metadata": {},
   "outputs": [],
   "source": [
    "def get_yelp_info(row):\n",
    "    driver.get(\"https://www.yelp.com/biz/\" + row['slug'])\n",
    "\n",
    "    store_name = driver.find_element_by_class_name(\"biz-page-title\").text\n",
    "    full_address = driver.find_element_by_class_name(\"street-address\").text\n",
    "    stars = driver.find_element_by_class_name(\"i-stars\").get_attribute('title')\n",
    "    categories = driver.find_element_by_class_name(\"category-str-list\").text\n",
    "\n",
    "    return pd.Series({\n",
    "        'store_name': store_name,\n",
    "        'address': full_address,\n",
    "        'stars': stars,\n",
    "        'categories': categories\n",
    "    })"
   ]
  },
  {
   "cell_type": "markdown",
   "metadata": {},
   "source": [
    "## Using our function\n",
    "\n",
    "Now that we've made a function, we need to **use it.**\n",
    "\n",
    "1. Open up a new `driver`\n",
    "2. Use `.apply` to use the function on each row\n",
    "3. Use `.join` to add the columns to the dataframe\n",
    "\n",
    "Basically you'll always cut and paste this code. **Be sure to change your variable names.**"
   ]
  },
  {
   "cell_type": "code",
   "execution_count": 19,
   "metadata": {},
   "outputs": [
    {
     "data": {
      "text/html": [
       "<div>\n",
       "<style scoped>\n",
       "    .dataframe tbody tr th:only-of-type {\n",
       "        vertical-align: middle;\n",
       "    }\n",
       "\n",
       "    .dataframe tbody tr th {\n",
       "        vertical-align: top;\n",
       "    }\n",
       "\n",
       "    .dataframe thead th {\n",
       "        text-align: right;\n",
       "    }\n",
       "</style>\n",
       "<table border=\"1\" class=\"dataframe\">\n",
       "  <thead>\n",
       "    <tr style=\"text-align: right;\">\n",
       "      <th></th>\n",
       "      <th>address</th>\n",
       "      <th>categories</th>\n",
       "      <th>stars</th>\n",
       "      <th>store_name</th>\n",
       "      <th>name</th>\n",
       "      <th>slug</th>\n",
       "      <th>url</th>\n",
       "    </tr>\n",
       "  </thead>\n",
       "  <tbody>\n",
       "    <tr>\n",
       "      <th>0</th>\n",
       "      <td>2957 Broadway\\nNew York, NY 10025</td>\n",
       "      <td>Hot Dogs, Burgers, Ice Cream &amp; Frozen Yogurt</td>\n",
       "      <td>3.5 star rating</td>\n",
       "      <td>Shake Shack</td>\n",
       "      <td>Shake Shack</td>\n",
       "      <td>shake-shack-new-york-54</td>\n",
       "      <td>https://www.yelp.com/biz/shake-shack-new-york-54</td>\n",
       "    </tr>\n",
       "    <tr>\n",
       "      <th>1</th>\n",
       "      <td>1241 Amsterdam Ave\\nNew York, NY 10027</td>\n",
       "      <td>American (New), Cafes, Breakfast &amp; Brunch</td>\n",
       "      <td>4.0 star rating</td>\n",
       "      <td>Flat Top</td>\n",
       "      <td>Flat Top</td>\n",
       "      <td>flat-top-new-york</td>\n",
       "      <td>https://www.yelp.com/biz/flat-top-new-york</td>\n",
       "    </tr>\n",
       "    <tr>\n",
       "      <th>2</th>\n",
       "      <td>1187 Amsterdam Ave\\nNew York, NY 10027</td>\n",
       "      <td>American (Traditional), Breakfast &amp; Brunch</td>\n",
       "      <td>3.5 star rating</td>\n",
       "      <td>Friedman’s</td>\n",
       "      <td>Friedman's</td>\n",
       "      <td>friedmans-new-york-62</td>\n",
       "      <td>https://www.yelp.com/biz/friedmans-new-york-62</td>\n",
       "    </tr>\n",
       "    <tr>\n",
       "      <th>3</th>\n",
       "      <td>2937 Broadway\\nNew York, NY 10025</td>\n",
       "      <td>Salad, Vegetarian</td>\n",
       "      <td>3.0 star rating</td>\n",
       "      <td>sweetgreen</td>\n",
       "      <td>sweetgreen</td>\n",
       "      <td>sweetgreen-new-york-6</td>\n",
       "      <td>https://www.yelp.com/biz/sweetgreen-new-york-6</td>\n",
       "    </tr>\n",
       "    <tr>\n",
       "      <th>4</th>\n",
       "      <td>2168 Frederick Douglass Blvd\\nNew York, NY 10026</td>\n",
       "      <td>Italian, Breakfast &amp; Brunch, Cocktail Bars</td>\n",
       "      <td>4.0 star rating</td>\n",
       "      <td>Lido</td>\n",
       "      <td>Lido</td>\n",
       "      <td>lido-new-york</td>\n",
       "      <td>https://www.yelp.com/biz/lido-new-york</td>\n",
       "    </tr>\n",
       "  </tbody>\n",
       "</table>\n",
       "</div>"
      ],
      "text/plain": [
       "                                            address  \\\n",
       "0                 2957 Broadway\\nNew York, NY 10025   \n",
       "1            1241 Amsterdam Ave\\nNew York, NY 10027   \n",
       "2            1187 Amsterdam Ave\\nNew York, NY 10027   \n",
       "3                 2937 Broadway\\nNew York, NY 10025   \n",
       "4  2168 Frederick Douglass Blvd\\nNew York, NY 10026   \n",
       "\n",
       "                                     categories            stars   store_name  \\\n",
       "0  Hot Dogs, Burgers, Ice Cream & Frozen Yogurt  3.5 star rating  Shake Shack   \n",
       "1     American (New), Cafes, Breakfast & Brunch  4.0 star rating     Flat Top   \n",
       "2    American (Traditional), Breakfast & Brunch  3.5 star rating   Friedman’s   \n",
       "3                             Salad, Vegetarian  3.0 star rating   sweetgreen   \n",
       "4    Italian, Breakfast & Brunch, Cocktail Bars  4.0 star rating         Lido   \n",
       "\n",
       "          name                     slug  \\\n",
       "0  Shake Shack  shake-shack-new-york-54   \n",
       "1     Flat Top        flat-top-new-york   \n",
       "2   Friedman's    friedmans-new-york-62   \n",
       "3   sweetgreen    sweetgreen-new-york-6   \n",
       "4         Lido            lido-new-york   \n",
       "\n",
       "                                                url  \n",
       "0  https://www.yelp.com/biz/shake-shack-new-york-54  \n",
       "1        https://www.yelp.com/biz/flat-top-new-york  \n",
       "2    https://www.yelp.com/biz/friedmans-new-york-62  \n",
       "3    https://www.yelp.com/biz/sweetgreen-new-york-6  \n",
       "4            https://www.yelp.com/biz/lido-new-york  "
      ]
     },
     "execution_count": 19,
     "metadata": {},
     "output_type": "execute_result"
    }
   ],
   "source": [
    "# Open up a new Chrome\n",
    "driver = webdriver.Chrome()\n",
    "\n",
    "# Take every row and send it to get_yelp_info, and combine with old data\n",
    "new_df = df.apply(get_yelp_info, axis=1).join(df)\n",
    "new_df.head()"
   ]
  },
  {
   "cell_type": "markdown",
   "metadata": {},
   "source": [
    "## But what about BeautifulSoup?\n",
    "\n",
    "No problem, you can do the *exact same thing.* This isn't about Selenium, it's about pandas!"
   ]
  },
  {
   "cell_type": "code",
   "execution_count": 20,
   "metadata": {},
   "outputs": [],
   "source": [
    "import requests\n",
    "from bs4 import BeautifulSoup"
   ]
  },
  {
   "cell_type": "code",
   "execution_count": 24,
   "metadata": {},
   "outputs": [],
   "source": [
    "def get_yelp_with_bs(row):\n",
    "    response = requests.get(\"https://www.yelp.com/biz/\" + row['slug'])\n",
    "    doc = BeautifulSoup(response.text, 'html.parser')\n",
    "    \n",
    "    store_name = doc.find(class_=\"biz-page-title\").text\n",
    "    full_address = doc.find(class_=\"street-address\").text\n",
    "    stars = doc.find(class_=\"i-stars\")['title']\n",
    "    categories = doc.find(class_=\"category-str-list\").text\n",
    "\n",
    "    return pd.Series({\n",
    "        'store_name': store_name,\n",
    "        'address': full_address,\n",
    "        'stars': stars,\n",
    "        'categories': categories\n",
    "    })"
   ]
  },
  {
   "cell_type": "code",
   "execution_count": 25,
   "metadata": {},
   "outputs": [
    {
     "data": {
      "text/html": [
       "<div>\n",
       "<style scoped>\n",
       "    .dataframe tbody tr th:only-of-type {\n",
       "        vertical-align: middle;\n",
       "    }\n",
       "\n",
       "    .dataframe tbody tr th {\n",
       "        vertical-align: top;\n",
       "    }\n",
       "\n",
       "    .dataframe thead th {\n",
       "        text-align: right;\n",
       "    }\n",
       "</style>\n",
       "<table border=\"1\" class=\"dataframe\">\n",
       "  <thead>\n",
       "    <tr style=\"text-align: right;\">\n",
       "      <th></th>\n",
       "      <th>address</th>\n",
       "      <th>categories</th>\n",
       "      <th>stars</th>\n",
       "      <th>store_name</th>\n",
       "      <th>name</th>\n",
       "      <th>slug</th>\n",
       "      <th>url</th>\n",
       "    </tr>\n",
       "  </thead>\n",
       "  <tbody>\n",
       "    <tr>\n",
       "      <th>0</th>\n",
       "      <td>\\n\\n        2957 BroadwayNew York, NY 10025\\n ...</td>\n",
       "      <td>\\nHot Dogs,\\n                    Burgers,\\n   ...</td>\n",
       "      <td>3.5 star rating</td>\n",
       "      <td>\\n            Shake Shack\\n</td>\n",
       "      <td>Shake Shack</td>\n",
       "      <td>shake-shack-new-york-54</td>\n",
       "      <td>https://www.yelp.com/biz/shake-shack-new-york-54</td>\n",
       "    </tr>\n",
       "    <tr>\n",
       "      <th>1</th>\n",
       "      <td>\\n\\n        1241 Amsterdam AveNew York, NY 100...</td>\n",
       "      <td>\\nAmerican (New),\\n                    Cafes,\\...</td>\n",
       "      <td>4.0 star rating</td>\n",
       "      <td>\\n            Flat Top\\n</td>\n",
       "      <td>Flat Top</td>\n",
       "      <td>flat-top-new-york</td>\n",
       "      <td>https://www.yelp.com/biz/flat-top-new-york</td>\n",
       "    </tr>\n",
       "    <tr>\n",
       "      <th>2</th>\n",
       "      <td>\\n\\n        1187 Amsterdam AveNew York, NY 100...</td>\n",
       "      <td>\\nAmerican (Traditional),\\n                   ...</td>\n",
       "      <td>3.5 star rating</td>\n",
       "      <td>\\n            Friedman’s\\n</td>\n",
       "      <td>Friedman's</td>\n",
       "      <td>friedmans-new-york-62</td>\n",
       "      <td>https://www.yelp.com/biz/friedmans-new-york-62</td>\n",
       "    </tr>\n",
       "    <tr>\n",
       "      <th>3</th>\n",
       "      <td>\\n\\n        2937 BroadwayNew York, NY 10025\\n ...</td>\n",
       "      <td>\\nSalad,\\n                    Vegetarian\\n</td>\n",
       "      <td>3.0 star rating</td>\n",
       "      <td>\\n            sweetgreen\\n</td>\n",
       "      <td>sweetgreen</td>\n",
       "      <td>sweetgreen-new-york-6</td>\n",
       "      <td>https://www.yelp.com/biz/sweetgreen-new-york-6</td>\n",
       "    </tr>\n",
       "    <tr>\n",
       "      <th>4</th>\n",
       "      <td>\\n\\n        2168 Frederick Douglass BlvdNew Yo...</td>\n",
       "      <td>\\nItalian,\\n                    Breakfast &amp; Br...</td>\n",
       "      <td>4.0 star rating</td>\n",
       "      <td>\\n            Lido\\n</td>\n",
       "      <td>Lido</td>\n",
       "      <td>lido-new-york</td>\n",
       "      <td>https://www.yelp.com/biz/lido-new-york</td>\n",
       "    </tr>\n",
       "  </tbody>\n",
       "</table>\n",
       "</div>"
      ],
      "text/plain": [
       "                                             address  \\\n",
       "0  \\n\\n        2957 BroadwayNew York, NY 10025\\n ...   \n",
       "1  \\n\\n        1241 Amsterdam AveNew York, NY 100...   \n",
       "2  \\n\\n        1187 Amsterdam AveNew York, NY 100...   \n",
       "3  \\n\\n        2937 BroadwayNew York, NY 10025\\n ...   \n",
       "4  \\n\\n        2168 Frederick Douglass BlvdNew Yo...   \n",
       "\n",
       "                                          categories            stars  \\\n",
       "0  \\nHot Dogs,\\n                    Burgers,\\n   ...  3.5 star rating   \n",
       "1  \\nAmerican (New),\\n                    Cafes,\\...  4.0 star rating   \n",
       "2  \\nAmerican (Traditional),\\n                   ...  3.5 star rating   \n",
       "3         \\nSalad,\\n                    Vegetarian\\n  3.0 star rating   \n",
       "4  \\nItalian,\\n                    Breakfast & Br...  4.0 star rating   \n",
       "\n",
       "                            store_name         name                     slug  \\\n",
       "0  \\n            Shake Shack\\n          Shake Shack  shake-shack-new-york-54   \n",
       "1     \\n            Flat Top\\n             Flat Top        flat-top-new-york   \n",
       "2   \\n            Friedman’s\\n           Friedman's    friedmans-new-york-62   \n",
       "3   \\n            sweetgreen\\n           sweetgreen    sweetgreen-new-york-6   \n",
       "4         \\n            Lido\\n                 Lido            lido-new-york   \n",
       "\n",
       "                                                url  \n",
       "0  https://www.yelp.com/biz/shake-shack-new-york-54  \n",
       "1        https://www.yelp.com/biz/flat-top-new-york  \n",
       "2    https://www.yelp.com/biz/friedmans-new-york-62  \n",
       "3    https://www.yelp.com/biz/sweetgreen-new-york-6  \n",
       "4            https://www.yelp.com/biz/lido-new-york  "
      ]
     },
     "execution_count": 25,
     "metadata": {},
     "output_type": "execute_result"
    }
   ],
   "source": [
    "bs_df = df.apply(get_yelp_with_bs, axis=1).join(df)\n",
    "bs_df.head()"
   ]
  },
  {
   "cell_type": "markdown",
   "metadata": {},
   "source": [
    "## BONUS: How fast is Selenium vs. BeautifulSoup?\n",
    "\n",
    "We can use the magic `%%time` to time them. **IT'S A RACE!**\n",
    "\n",
    "First up, **Selenium:**"
   ]
  },
  {
   "cell_type": "code",
   "execution_count": 29,
   "metadata": {},
   "outputs": [
    {
     "name": "stdout",
     "output_type": "stream",
     "text": [
      "CPU times: user 89.9 ms, sys: 7.38 ms, total: 97.2 ms\n",
      "Wall time: 53.9 s\n"
     ]
    }
   ],
   "source": [
    "%%time\n",
    "new_df = df.apply(get_yelp_info, axis=1).join(df)\n",
    "new_df.head()"
   ]
  },
  {
   "cell_type": "markdown",
   "metadata": {},
   "source": [
    "Now let's try **BeautifulSoup and requests:**"
   ]
  },
  {
   "cell_type": "code",
   "execution_count": 30,
   "metadata": {},
   "outputs": [
    {
     "name": "stdout",
     "output_type": "stream",
     "text": [
      "CPU times: user 6.46 s, sys: 85.3 ms, total: 6.54 s\n",
      "Wall time: 41.2 s\n"
     ]
    }
   ],
   "source": [
    "%%time\n",
    "bs_df = df.apply(get_yelp_with_bs, axis=1).join(df)\n",
    "bs_df.head(2)"
   ]
  },
  {
   "cell_type": "markdown",
   "metadata": {},
   "source": [
    "Not that much different in this case!"
   ]
  },
  {
   "cell_type": "code",
   "execution_count": null,
   "metadata": {},
   "outputs": [],
   "source": []
  }
 ],
 "metadata": {
  "kernelspec": {
   "display_name": "Python 3",
   "language": "python",
   "name": "python3"
  },
  "language_info": {
   "codemirror_mode": {
    "name": "ipython",
    "version": 3
   },
   "file_extension": ".py",
   "mimetype": "text/x-python",
   "name": "python",
   "nbconvert_exporter": "python",
   "pygments_lexer": "ipython3",
   "version": "3.6.4"
  }
 },
 "nbformat": 4,
 "nbformat_minor": 2
}
