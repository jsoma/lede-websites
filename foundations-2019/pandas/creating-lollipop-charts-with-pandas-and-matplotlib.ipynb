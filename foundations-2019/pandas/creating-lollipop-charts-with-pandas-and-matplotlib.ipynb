{
 "cells": [
  {
   "cell_type": "code",
   "execution_count": 1,
   "metadata": {},
   "outputs": [],
   "source": [
    "import pandas as pd\n",
    "import matplotlib.pyplot as plt\n",
    "\n",
    "%matplotlib inline"
   ]
  },
  {
   "cell_type": "markdown",
   "metadata": {},
   "source": [
    "# How to create lollipop charts from a pandas dataframe\n",
    "\n",
    "### Read in your data"
   ]
  },
  {
   "cell_type": "code",
   "execution_count": 2,
   "metadata": {},
   "outputs": [
    {
     "data": {
      "text/html": [
       "<div>\n",
       "<style scoped>\n",
       "    .dataframe tbody tr th:only-of-type {\n",
       "        vertical-align: middle;\n",
       "    }\n",
       "\n",
       "    .dataframe tbody tr th {\n",
       "        vertical-align: top;\n",
       "    }\n",
       "\n",
       "    .dataframe thead th {\n",
       "        text-align: right;\n",
       "    }\n",
       "</style>\n",
       "<table border=\"1\" class=\"dataframe\">\n",
       "  <thead>\n",
       "    <tr style=\"text-align: right;\">\n",
       "      <th></th>\n",
       "      <th>street</th>\n",
       "      <th>shootings</th>\n",
       "      <th>duration</th>\n",
       "      <th>dur_per_day</th>\n",
       "      <th>dur_per_hour</th>\n",
       "    </tr>\n",
       "  </thead>\n",
       "  <tbody>\n",
       "    <tr>\n",
       "      <th>0</th>\n",
       "      <td>Java Str</td>\n",
       "      <td>161</td>\n",
       "      <td>2547.0</td>\n",
       "      <td>1.163014</td>\n",
       "      <td>0.048459</td>\n",
       "    </tr>\n",
       "    <tr>\n",
       "      <th>1</th>\n",
       "      <td>East  18 Str</td>\n",
       "      <td>170</td>\n",
       "      <td>2547.0</td>\n",
       "      <td>1.163014</td>\n",
       "      <td>0.048459</td>\n",
       "    </tr>\n",
       "    <tr>\n",
       "      <th>2</th>\n",
       "      <td>Grand Str</td>\n",
       "      <td>168</td>\n",
       "      <td>2619.0</td>\n",
       "      <td>1.195890</td>\n",
       "      <td>0.049829</td>\n",
       "    </tr>\n",
       "    <tr>\n",
       "      <th>3</th>\n",
       "      <td>Eagle Str</td>\n",
       "      <td>180</td>\n",
       "      <td>2626.0</td>\n",
       "      <td>1.199087</td>\n",
       "      <td>0.049962</td>\n",
       "    </tr>\n",
       "    <tr>\n",
       "      <th>4</th>\n",
       "      <td>10 Av</td>\n",
       "      <td>159</td>\n",
       "      <td>2638.0</td>\n",
       "      <td>1.204566</td>\n",
       "      <td>0.050190</td>\n",
       "    </tr>\n",
       "  </tbody>\n",
       "</table>\n",
       "</div>"
      ],
      "text/plain": [
       "         street  shootings  duration  dur_per_day  dur_per_hour\n",
       "0      Java Str        161    2547.0     1.163014      0.048459\n",
       "1  East  18 Str        170    2547.0     1.163014      0.048459\n",
       "2     Grand Str        168    2619.0     1.195890      0.049829\n",
       "3     Eagle Str        180    2626.0     1.199087      0.049962\n",
       "4         10 Av        159    2638.0     1.204566      0.050190"
      ]
     },
     "execution_count": 2,
     "metadata": {},
     "output_type": "execute_result"
    }
   ],
   "source": [
    "df = pd.read_csv(\"street-data.csv\")\n",
    "df.head()"
   ]
  },
  {
   "cell_type": "markdown",
   "metadata": {},
   "source": [
    "### The inflexible way: using `plt.stem`\n",
    "\n",
    "After I wrote this rest of this, I [read about `plt.stem`](https://python-graph-gallery.com/181-custom-lollipop-plot/). It makes everything so easy! But it's kiiiind of inflexible, which is why you might want to try the other options."
   ]
  },
  {
   "cell_type": "code",
   "execution_count": 52,
   "metadata": {},
   "outputs": [
    {
     "data": {
      "text/plain": [
       "(0, 1.5)"
      ]
     },
     "execution_count": 52,
     "metadata": {},
     "output_type": "execute_result"
    },
    {
     "data": {
      "image/png": "[encoded data removed]",
      "text/plain": [
       "<Figure size 432x288 with 1 Axes>"
      ]
     },
     "metadata": {},
     "output_type": "display_data"
    }
   ],
   "source": [
    "fig, ax = plt.subplots()\n",
    "\n",
    "# Draw the stem and circle\n",
    "ax.stem(df.street, df.dur_per_day, basefmt=' ')\n",
    "\n",
    "# Start the graph at 0\n",
    "ax.set_ylim(0, 1.5)"
   ]
  },
  {
   "cell_type": "markdown",
   "metadata": {},
   "source": [
    "## Building a horizontal lollipop graph with a categorical y axis\n",
    "\n",
    "We're going to use `plot.subplots()` to make an empty graph, then...\n",
    "\n",
    "* `ax.hlines` is going to draw horizontal lines. This takes an `xmin` and an `xmax`.\n",
    "* `ax.plot` is going to draw circles (like a scatterplot)\n",
    "* `ax.set_xlim` to make the graph start at `0`\n",
    "\n",
    "Not so bad!"
   ]
  },
  {
   "cell_type": "code",
   "execution_count": 53,
   "metadata": {},
   "outputs": [
    {
     "data": {
      "text/plain": [
       "(0, 1.5)"
      ]
     },
     "execution_count": 53,
     "metadata": {},
     "output_type": "execute_result"
    },
    {
     "data": {
      "image/png": "[encoded data removed]",
      "text/plain": [
       "<Figure size 432x288 with 1 Axes>"
      ]
     },
     "metadata": {},
     "output_type": "display_data"
    }
   ],
   "source": [
    "fig, ax = plt.subplots()\n",
    "\n",
    "ax.hlines(df.street, xmin=0, xmax=df.dur_per_day)\n",
    "ax.plot(df.dur_per_day, df.street, \"o\", color='black')\n",
    "ax.set_xlim(0, 1.5)"
   ]
  },
  {
   "cell_type": "markdown",
   "metadata": {},
   "source": [
    "## Building a verticla lollipop graph with a categorical x axis\n",
    "\n",
    "It's basically the same as before, but all of the horizontal lines become vertical, and our axes are switched on our scatterplot. We're going to use `plot.subplots()` to make an empty graph, then...\n",
    "\n",
    "* `ax.vlines` is going to draw vertical lines. This takes a `ymin` and a `ymax`.\n",
    "* `ax.plot` is going to draw circles (like a scatterplot)\n",
    "* `ax.set_ylim` to make the graph start at `0`\n",
    "\n",
    "Just as easy!"
   ]
  },
  {
   "cell_type": "code",
   "execution_count": 54,
   "metadata": {},
   "outputs": [
    {
     "data": {
      "text/plain": [
       "(0, 1.5)"
      ]
     },
     "execution_count": 54,
     "metadata": {},
     "output_type": "execute_result"
    },
    {
     "data": {
      "image/png": "[encoded data removed]",
      "text/plain": [
       "<Figure size 432x288 with 1 Axes>"
      ]
     },
     "metadata": {},
     "output_type": "display_data"
    }
   ],
   "source": [
    "fig, ax = plt.subplots()\n",
    "\n",
    "ax.vlines(df.street, ymin=0, ymax=df.dur_per_day)\n",
    "ax.plot(df.street, df.dur_per_day, \"o\", color='black')\n",
    "ax.set_ylim(0, 1.5)"
   ]
  },
  {
   "cell_type": "code",
   "execution_count": null,
   "metadata": {},
   "outputs": [],
   "source": []
  }
 ],
 "metadata": {
  "kernelspec": {
   "display_name": "Python 3",
   "language": "python",
   "name": "python3"
  },
  "language_info": {
   "codemirror_mode": {
    "name": "ipython",
    "version": 3
   },
   "file_extension": ".py",
   "mimetype": "text/x-python",
   "name": "python",
   "nbconvert_exporter": "python",
   "pygments_lexer": "ipython3",
   "version": "3.6.5"
  }
 },
 "nbformat": 4,
 "nbformat_minor": 2
}
