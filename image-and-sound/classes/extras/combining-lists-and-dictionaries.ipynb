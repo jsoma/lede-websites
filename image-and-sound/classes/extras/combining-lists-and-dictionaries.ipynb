{
 "cells": [
  {
   "cell_type": "markdown",
   "metadata": {},
   "source": [
    "Dealing with **lists of dictionaries** and **dictionaries with lists inside** can sometimes be confusing, even if we understand how each work separately. Let's break them all down.\n",
    "\n",
    "## A little review\n",
    "\n",
    "### Lists\n",
    "\n",
    "First, we have **lists**. We can do two major things with lists:\n",
    "  \n",
    "  - We can grab specific elements, and\n",
    "  - we can loop through each element of the list"
   ]
  },
  {
   "cell_type": "code",
   "execution_count": 5,
   "metadata": {
    "collapsed": true
   },
   "outputs": [],
   "source": [
    "# A list of a few numbers\n",
    "numbers = [5, 32, -3]"
   ]
  },
  {
   "cell_type": "code",
   "execution_count": 6,
   "metadata": {
    "collapsed": false
   },
   "outputs": [
    {
     "name": "stdout",
     "output_type": "stream",
     "text": [
      "5\n"
     ]
    }
   ],
   "source": [
    "# Get the first number and print it\n",
    "first_number = numbers[0]\n",
    "print(first_number)"
   ]
  },
  {
   "cell_type": "code",
   "execution_count": 7,
   "metadata": {
    "collapsed": false
   },
   "outputs": [
    {
     "name": "stdout",
     "output_type": "stream",
     "text": [
      "5\n",
      "32\n",
      "-3\n"
     ]
    }
   ],
   "source": [
    "# Use a for loop to print every number\n",
    "for number in numbers:\n",
    "  print(number)"
   ]
  },
  {
   "cell_type": "markdown",
   "metadata": {},
   "source": [
    "### Dictionaries\n",
    "\n",
    "Then we have **dictionaries**. We can do a few things with lists\n",
    "\n",
    "  - We can grab a specific value using a key\n",
    "  - We can grab all of the keys\n",
    "  - We can grab all of the values (you probably don't do this often)"
   ]
  },
  {
   "cell_type": "code",
   "execution_count": 9,
   "metadata": {
    "collapsed": true
   },
   "outputs": [],
   "source": [
    "# A dictionary about the film Maid in Manhattan\n",
    "movie = {\n",
    "  'name': 'Maid in Manhattan',\n",
    "  'starring': 'Jennifer Lopez',\n",
    "  'year': 2002\n",
    "}"
   ]
  },
  {
   "cell_type": "code",
   "execution_count": 10,
   "metadata": {
    "collapsed": false
   },
   "outputs": [
    {
     "name": "stdout",
     "output_type": "stream",
     "text": [
      "Maid in Manhattan\n"
     ]
    }
   ],
   "source": [
    "# Print the name of the movie using the 'name' key\n",
    "print(movie['name'])"
   ]
  },
  {
   "cell_type": "code",
   "execution_count": 12,
   "metadata": {
    "collapsed": false
   },
   "outputs": [
    {
     "name": "stdout",
     "output_type": "stream",
     "text": [
      "dict_keys(['year', 'starring', 'name'])\n"
     ]
    }
   ],
   "source": [
    "# View all the keys of the dictionary (name, starring, year) \n",
    "print(movie.keys())"
   ]
  },
  {
   "cell_type": "markdown",
   "metadata": {},
   "source": [
    "## Lists of dictionaries\n",
    "\n",
    "Now that we've looked at the two separately, let's **combine the two**."
   ]
  },
  {
   "cell_type": "code",
   "execution_count": 19,
   "metadata": {
    "collapsed": true
   },
   "outputs": [],
   "source": [
    "# A list of three Heath Ledger movies\n",
    "movies = [\n",
    "  {\n",
    "    'name': 'Ten Things I Hate About You',\n",
    "    'starring': 'Heath Ledger',\n",
    "    'year': 1999,\n",
    "    'rating': 61\n",
    "  },\n",
    "  {\n",
    "    'name': 'Brokeback Mountain',\n",
    "    'starring': 'Heath Ledger',\n",
    "    'year': 2005,\n",
    "    'rating': 87\n",
    "  },\n",
    "  {\n",
    "    'name': 'The Dark Knight',\n",
    "    'starring': 'Heath Ledger',\n",
    "    'year': 2008,\n",
    "    'rating': 94\n",
    "  }\n",
    "]"
   ]
  },
  {
   "cell_type": "markdown",
   "metadata": {},
   "source": [
    "Don't think of `movies` as a list of dictionaries - **just think of it as a list**, ignore what's inside. What can we do with a list?\n",
    "\n",
    "  - Get specific elements (the first, the last, etc)\n",
    "  - Loop through each element of the list\n",
    " \n",
    "So, well, let's do those!"
   ]
  },
  {
   "cell_type": "code",
   "execution_count": 21,
   "metadata": {
    "collapsed": false
   },
   "outputs": [
    {
     "name": "stdout",
     "output_type": "stream",
     "text": [
      "{'rating': 61, 'year': 1999, 'starring': 'Heath Ledger', 'name': 'Ten Things I Hate About You'}\n"
     ]
    }
   ],
   "source": [
    "# Get the first movie and print it\n",
    "movie = movies[0]\n",
    "print(movie)"
   ]
  },
  {
   "cell_type": "markdown",
   "metadata": {},
   "source": [
    "Okay, so it printed out **the entire first dictionary**. The same thing will happen if we loop through each element."
   ]
  },
  {
   "cell_type": "code",
   "execution_count": 22,
   "metadata": {
    "collapsed": false
   },
   "outputs": [
    {
     "name": "stdout",
     "output_type": "stream",
     "text": [
      "{'rating': 61, 'year': 1999, 'starring': 'Heath Ledger', 'name': 'Ten Things I Hate About You'}\n",
      "{'rating': 87, 'year': 2005, 'starring': 'Heath Ledger', 'name': 'Brokeback Mountain'}\n",
      "{'rating': 94, 'year': 2008, 'starring': 'Heath Ledger', 'name': 'The Dark Knight'}\n"
     ]
    }
   ],
   "source": [
    "# Loop through each movie\n",
    "for movie in movies:\n",
    "  print(movie)"
   ]
  },
  {
   "cell_type": "markdown",
   "metadata": {},
   "source": [
    "This usually isn't helpful, since we normally only want to deal with one or two aspects of our data (maybe the rating or the name). But think about it - each time we pull out a **specific element** or each time we're **inside the loop**, `movie` is a dictionary. What are our favorite things to do with a dictionary?\n",
    "\n",
    "  - We can grab a specific value using a key\n",
    "  - We can grab all of the keys\n",
    "\n",
    "So let's **combine the two steps**, first dealing with the list on the outside, then the dictionary on the inside.\n",
    "\n",
    " 1. We have a list, so we can pull out a specific element\n",
    " 2. That specific element is a dictionary, so we can get its keys\n",
    " 3. Which means we can also use those keys to get data!"
   ]
  },
  {
   "cell_type": "code",
   "execution_count": 32,
   "metadata": {
    "collapsed": false
   },
   "outputs": [
    {
     "name": "stdout",
     "output_type": "stream",
     "text": [
      "The movie has the keys dict_keys(['rating', 'year', 'starring', 'name'])\n",
      "The movie's name is Ten Things I Hate About You\n"
     ]
    }
   ],
   "source": [
    "# MOVIES is a list, so we can get the first movie using [0]\n",
    "movie = movies[0]\n",
    "# MOVIE is a dictionary, so we can find the keys using .keys()\n",
    "print(\"The movie has the keys\", movie.keys())\n",
    "# MOVIE is a dictionary, so we can get data using a key\n",
    "print(\"The movie's name is\", movie['name'])"
   ]
  },
  {
   "cell_type": "markdown",
   "metadata": {},
   "source": [
    "But maybe you want to deal with **all of the elements**, like maybe we want to see the ratings? Let's combine again.\n",
    "\n",
    "1. We have a list, so we can loop through all of the elements\n",
    "2. Each element is a dictionary, so we can get data using a key"
   ]
  },
  {
   "cell_type": "code",
   "execution_count": 28,
   "metadata": {
    "collapsed": false
   },
   "outputs": [
    {
     "name": "stdout",
     "output_type": "stream",
     "text": [
      "Ten Things I Hate About You had a rating of 61\n",
      "Brokeback Mountain had a rating of 87\n",
      "The Dark Knight had a rating of 94\n"
     ]
    }
   ],
   "source": [
    "# movies is a list, so we can loop through all of the elements\n",
    "for movie in movies:\n",
    "    # What's inside the list? a DICTIONARY. So we can use keys to get data!\n",
    "    print(movie['name'], \"had a rating of\", movie['rating'])"
   ]
  },
  {
   "cell_type": "markdown",
   "metadata": {},
   "source": [
    "## Dictionaries with lists inside\n",
    "\n",
    "Another version of this is when you have a dictionary with a list inside."
   ]
  },
  {
   "cell_type": "code",
   "execution_count": 31,
   "metadata": {
    "collapsed": true
   },
   "outputs": [],
   "source": [
    "# Lauren is indecisive and has many favorites\n",
    "lauren = {\n",
    "    'age': 12,\n",
    "    'favorite_numbers': [4, 5, 3, 1, 4, 5],\n",
    "    'favorite_colors': ['blue', 'green', 'purple']\n",
    "}"
   ]
  },
  {
   "cell_type": "markdown",
   "metadata": {},
   "source": [
    "Since `lauren` is just a dictionary, you can do dictionary things to it.\n",
    "\n",
    "- We can grab a specific value using a key\n",
    "- We can grab all of the keys"
   ]
  },
  {
   "cell_type": "code",
   "execution_count": 34,
   "metadata": {
    "collapsed": false
   },
   "outputs": [
    {
     "name": "stdout",
     "output_type": "stream",
     "text": [
      "12\n"
     ]
    }
   ],
   "source": [
    "# This value is boring\n",
    "print(lauren['age'])"
   ]
  },
  {
   "cell_type": "code",
   "execution_count": 35,
   "metadata": {
    "collapsed": false
   },
   "outputs": [
    {
     "name": "stdout",
     "output_type": "stream",
     "text": [
      "['blue', 'green', 'purple']\n"
     ]
    }
   ],
   "source": [
    "# This value is more exciting!\n",
    "print(lauren['favorite_colors'])"
   ]
  },
  {
   "cell_type": "code",
   "execution_count": 41,
   "metadata": {
    "collapsed": false
   },
   "outputs": [
    {
     "name": "stdout",
     "output_type": "stream",
     "text": [
      "<class 'int'>\n",
      "<class 'list'>\n"
     ]
    }
   ],
   "source": [
    "# You can even what data type things are using 'type'\n",
    "print(type(lauren['age']))\n",
    "print(type(lauren['favorite_colors']))"
   ]
  },
  {
   "cell_type": "markdown",
   "metadata": {},
   "source": [
    "Now that we've found a list, we can do list things.\n",
    "\n",
    "- Get specific elements (the first, the last, etc)\n",
    "- Loop through each element of the list\n",
    "\n",
    "So we 'll have two steps\n",
    "\n",
    "1. We have a dictionary, so specific data out using a key\n",
    "2. We then a list, so use `[...]` indices or `for` loops to go through each element"
   ]
  },
  {
   "cell_type": "code",
   "execution_count": 42,
   "metadata": {
    "collapsed": false
   },
   "outputs": [
    {
     "name": "stdout",
     "output_type": "stream",
     "text": [
      "blue\n",
      "blue\n"
     ]
    }
   ],
   "source": [
    "# STEP ONE: Use a key to get something out of the dictionary\n",
    "colors = lauren['favorite_colors']\n",
    "# STEP TWO: It's a list, so let's get the first one\n",
    "print(colors[0])\n",
    "\n",
    "# STEP ONE + STEP TWO all at once\n",
    "print(lauren['favorite_colors'][0])"
   ]
  },
  {
   "cell_type": "code",
   "execution_count": 43,
   "metadata": {
    "collapsed": false
   },
   "outputs": [
    {
     "name": "stdout",
     "output_type": "stream",
     "text": [
      "<class 'list'>\n",
      "blue\n",
      "green\n",
      "purple\n"
     ]
    }
   ],
   "source": [
    "# STEP ONE: Use a key to get something out of the dictionary\n",
    "colors = lauren['favorite_colors']\n",
    "\n",
    "print(type(colors))\n",
    "\n",
    "# STEP TWO: It's a list, so let's loop through them\n",
    "for color in colors:\n",
    "    print(color)"
   ]
  },
  {
   "cell_type": "code",
   "execution_count": null,
   "metadata": {
    "collapsed": true
   },
   "outputs": [],
   "source": []
  }
 ],
 "metadata": {
  "kernelspec": {
   "display_name": "Python 3",
   "language": "python",
   "name": "python3"
  },
  "language_info": {
   "codemirror_mode": {
    "name": "ipython",
    "version": 3
   },
   "file_extension": ".py",
   "mimetype": "text/x-python",
   "name": "python",
   "nbconvert_exporter": "python",
   "pygments_lexer": "ipython3",
   "version": "3.5.2"
  }
 },
 "nbformat": 4,
 "nbformat_minor": 1
}
