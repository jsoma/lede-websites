{
 "cells": [
  {
   "cell_type": "code",
   "execution_count": 1,
   "metadata": {},
   "outputs": [],
   "source": [
    "import pandas as pd\n",
    "from sklearn.feature_extraction.text import CountVectorizer\n",
    "from sklearn.feature_extraction.text import TfidfVectorizer\n",
    "import re\n",
    "from nltk.stem.porter import PorterStemmer\n",
    "\n",
    "pd.options.display.max_columns = 30\n",
    "%matplotlib inline"
   ]
  },
  {
   "cell_type": "markdown",
   "metadata": {},
   "source": [
    "# Analyzing text!\n",
    "\n",
    "Text analysis has a few parts. We are going to use **bag of words** analysis, which just treats a sentence like a bag of words - no particular order or anything. It's simple but it usually gets the job done adequately.\n",
    "\n",
    "Here is our text."
   ]
  },
  {
   "cell_type": "code",
   "execution_count": 2,
   "metadata": {
    "collapsed": true
   },
   "outputs": [],
   "source": [
    "texts = [\n",
    "    \"Penny bought bright blue fishes.\",\n",
    "    \"Penny bought bright blue and orange fish.\",\n",
    "    \"The cat ate a fish at the store.\",\n",
    "    \"Penny went to the store. Penny ate a bug. Penny saw a fish.\",\n",
    "    \"It meowed once at the fish, it is still meowing at the fish. It meowed at the bug and the fish.\",\n",
    "    \"The cat is at the fish store. The cat is orange. The cat is meowing at the fish.\",\n",
    "    \"Penny is a fish\"\n",
    "]"
   ]
  },
  {
   "cell_type": "markdown",
   "metadata": {},
   "source": [
    "When you process text you have a nice long series of steps, but if we want to be general we're interested in three things:\n",
    "\n",
    "1. **Tokenizing** converts all of the sentences/phrases/etc into a series of words, and then it might also include converting it into a series of numbers - math stuff only works with numbers, not words. So maybe 'cat' is 2 and 'rug' is 4 and stuff like that.\n",
    "2. **Counting** takes those words and sees how many there are (obviously) - how many times does `meow` appear?\n",
    "3. **Normalizing** takes the count and makes new numbers - maybe it's how many times `meow` appears vs. how many total words there are, or maybe you're seeing how often `meow` comes up to see whether it's important."
   ]
  },
  {
   "cell_type": "markdown",
   "metadata": {},
   "source": [
    "## Why tokenizing and counting are difficult\n",
    "\n",
    "Tokenizing and counting are kind of funny, because they *seem* like they'd be simple. If we have a sentence and want to figure out how many times some word appears in it, why do we need some fancy library? Can't we just use `.count` on our strings?\n",
    "\n",
    "Let's count the number of times \"store\" appears in the following sentence."
   ]
  },
  {
   "cell_type": "code",
   "execution_count": 3,
   "metadata": {},
   "outputs": [
    {
     "data": {
      "text/plain": [
       "2"
      ]
     },
     "execution_count": 3,
     "metadata": {},
     "output_type": "execute_result"
    }
   ],
   "source": [
    "\"I went to the store today, but the store was closed\".count(\"store\")"
   ]
  },
  {
   "cell_type": "markdown",
   "metadata": {},
   "source": [
    "Seems simple enough, and it seems like it worked, but *it's a trick*. Let's find out how many times \"can\" shows up in the following sentence."
   ]
  },
  {
   "cell_type": "code",
   "execution_count": 4,
   "metadata": {},
   "outputs": [
    {
     "data": {
      "text/plain": [
       "2"
      ]
     },
     "execution_count": 4,
     "metadata": {},
     "output_type": "execute_result"
    }
   ],
   "source": [
    "\"The toucan doesn't like pelicans\".count(\"can\")"
   ]
  },
  {
   "cell_type": "markdown",
   "metadata": {},
   "source": [
    "Oof! `.count` tells you whether the *string* shows up anywhere, not the *word*. So if \"can\" is in \"toucan\" or \"pelican\" `.count` still counts it.\n",
    "\n",
    "\"But!\" you exclaim. \"What if we split the string and use `.count` for the array?\" You'd be right! ...kind of."
   ]
  },
  {
   "cell_type": "code",
   "execution_count": 5,
   "metadata": {},
   "outputs": [
    {
     "data": {
      "text/plain": [
       "['The', 'toucan', \"doesn't\", 'like', 'pelicans']"
      ]
     },
     "execution_count": 5,
     "metadata": {},
     "output_type": "execute_result"
    }
   ],
   "source": [
    "# .split() or .split(\" \") will separate a string into a list of words\n",
    "\"The toucan doesn't like pelicans\".split(\" \")"
   ]
  },
  {
   "cell_type": "code",
   "execution_count": 6,
   "metadata": {},
   "outputs": [
    {
     "data": {
      "text/plain": [
       "0"
      ]
     },
     "execution_count": 6,
     "metadata": {},
     "output_type": "execute_result"
    }
   ],
   "source": [
    "# Then we can ask whether that list contains 'can'\n",
    "\"The toucan doesn't like pelicans\".split(\" \").count(\"can\")"
   ]
  },
  {
   "cell_type": "code",
   "execution_count": 7,
   "metadata": {},
   "outputs": [
    {
     "data": {
      "text/plain": [
       "1"
      ]
     },
     "execution_count": 7,
     "metadata": {},
     "output_type": "execute_result"
    }
   ],
   "source": [
    "# Or 'toucan'\n",
    "\"The toucan doesn't like pelicans\".split(\" \").count(\"toucan\")"
   ]
  },
  {
   "cell_type": "markdown",
   "metadata": {},
   "source": [
    "This looks better and works great for *that* example, but once I start throwing punctuation in things get hairy."
   ]
  },
  {
   "cell_type": "code",
   "execution_count": 8,
   "metadata": {},
   "outputs": [
    {
     "data": {
      "text/plain": [
       "['What', 'about', 'the', 'mouse!!!!!']"
      ]
     },
     "execution_count": 8,
     "metadata": {},
     "output_type": "execute_result"
    }
   ],
   "source": [
    "\"What about the mouse!!!!!\".split(\" \")"
   ]
  },
  {
   "cell_type": "markdown",
   "metadata": {},
   "source": [
    "Notice how instead of `\"mouse\"` we have `\"mouse!!!!!\"`? That's going to be a problem, since we won't be able to get an exact match."
   ]
  },
  {
   "cell_type": "code",
   "execution_count": 9,
   "metadata": {},
   "outputs": [
    {
     "data": {
      "text/plain": [
       "0"
      ]
     },
     "execution_count": 9,
     "metadata": {},
     "output_type": "execute_result"
    }
   ],
   "source": [
    "\"What about the mouse!!!!!\".split(\" \").count(\"mouse\")"
   ]
  },
  {
   "cell_type": "code",
   "execution_count": 10,
   "metadata": {},
   "outputs": [
    {
     "data": {
      "text/plain": [
       "1"
      ]
     },
     "execution_count": 10,
     "metadata": {},
     "output_type": "execute_result"
    }
   ],
   "source": [
    "\"What about the mouse!!!!!\".split(\" \").count(\"mouse!!!!!\")"
   ]
  },
  {
   "cell_type": "markdown",
   "metadata": {},
   "source": [
    "Sure, we might be able to get rid of the punctuation... and then later, make everything lowercase so \"Mouse\" and \"mouse\" are the same... and this, and that, and a thousand other things. That's why we rely on library!\n",
    "\n",
    "Unfortunately there are about ten thousand libraries, each with their own strengths and weaknesses. For now we're going to be using [scikit-learn](http://scikit-learn.org/), which is a machine learning library. We like it because it plugs into pandas very easily."
   ]
  },
  {
   "cell_type": "markdown",
   "metadata": {},
   "source": [
    "## Penny and the fishes"
   ]
  },
  {
   "cell_type": "code",
   "execution_count": 11,
   "metadata": {
    "collapsed": true
   },
   "outputs": [],
   "source": [
    "texts = [\n",
    "    \"Penny bought bright blue fishes.\",\n",
    "    \"Penny bought bright blue and orange fish.\",\n",
    "    \"The cat ate a fish at the store.\",\n",
    "    \"Penny went to the store. Penny ate a bug. Penny saw a fish.\",\n",
    "    \"It meowed once at the fish, it is still meowing at the fish. It meowed at the bug and the fish.\",\n",
    "    \"The cat is at the fish store. The cat is orange. The cat is meowing at the fish.\",\n",
    "    \"Penny is a fish\"\n",
    "]"
   ]
  },
  {
   "cell_type": "code",
   "execution_count": 12,
   "metadata": {},
   "outputs": [
    {
     "data": {
      "text/plain": [
       "['Penny', 'bought', 'bright', 'blue', 'fishes']"
      ]
     },
     "execution_count": 12,
     "metadata": {},
     "output_type": "execute_result"
    }
   ],
   "source": [
    "\"Penny bought bright blue fishes\".split()"
   ]
  },
  {
   "cell_type": "markdown",
   "metadata": {},
   "source": [
    "      Penny bought bright blue fishes.\n",
    "\n",
    "If we want to **tokenize** that sentence, we'd like to lowercase it, removing the punctuation and split on spaces - `penny bought bright blue fishes`. It also works for other languages:\n",
    "\n",
    "      у меня зазвонил телефон\n",
    "\n",
    "That's Russian for \"my phone is ringing.\" It works just as well with the tokenizer we used for English - lowercase it, remove punctuation, split on spaces. No big deal!\n",
    "\n",
    "      私はえんぴつです。\n",
    "  \n",
    "This is Japanese for \"I am a pencil.\" It *doesn't* work with our tokenizer, since it doesn't have spaces. You don't treat every character separately, either - `私` and `は` are their own thing, but `えんぴつ` means \"pencil\" and `です` is \"to be.\"\n",
    "\n",
    "\"Eastern\" languages need special tokenizing (and usually other treatment) when doing text analysis, mostly because they don't have spaces. They're collectively referred to as \"CJK\" languages, for Chinese, Japanese and Korean. It includes languages outside of those three, too, as long as they don't adhere to the \"just make it lowercase and split on spaces\" rules. You'll need to track down special tokenizers if you're working with those languages.\n"
   ]
  },
  {
   "cell_type": "markdown",
   "metadata": {},
   "source": [
    "## Getting to work\n",
    "\n",
    "The `scikit-learn` package does a **ton of stuff**, some of which includes the above. We're going to start by playing with the `CountVectorizer`, which helps us tokenize **and** count.\n",
    "\n",
    "\"What is vectorizing?!?!\" You might (understandable) exclaim, hands formed into claws. It's just a stupid technical word that mean \"turning words into numbers.\" If you're thinking about worrying about it, don't worry about it.\n",
    "\n",
    "First we need to **create a `CountVectorizer`** to do the work for us. It seems like a kind of useless line of code, but it's just because we aren't giving `CountVectorizer` any options just yet."
   ]
  },
  {
   "cell_type": "code",
   "execution_count": 13,
   "metadata": {
    "collapsed": true
   },
   "outputs": [],
   "source": [
    "# Import the CountVectorizer code from scikit-learn\n",
    "# And create a new vectorizer that will do our counting later\n",
    "from sklearn.feature_extraction.text import CountVectorizer\n",
    "vectorizer = CountVectorizer()"
   ]
  },
  {
   "cell_type": "markdown",
   "metadata": {},
   "source": [
    "Now we'll put it to use by using the `.fit_transform` method. This basically means \"figure out the words in the texts and count them all.\""
   ]
  },
  {
   "cell_type": "code",
   "execution_count": 14,
   "metadata": {},
   "outputs": [],
   "source": [
    "# .fit_transfer TOKENIZES and COUNTS\n",
    "matrix = vectorizer.fit_transform(texts)"
   ]
  },
  {
   "cell_type": "markdown",
   "metadata": {},
   "source": [
    "Let's take a look at what it found out!"
   ]
  },
  {
   "cell_type": "code",
   "execution_count": 15,
   "metadata": {},
   "outputs": [
    {
     "data": {
      "text/plain": [
       "<7x23 sparse matrix of type '<class 'numpy.int64'>'\n",
       "\twith 49 stored elements in Compressed Sparse Row format>"
      ]
     },
     "execution_count": 15,
     "metadata": {},
     "output_type": "execute_result"
    }
   ],
   "source": [
    "matrix"
   ]
  },
  {
   "cell_type": "markdown",
   "metadata": {},
   "source": [
    "Okay, that looks like trash and garbage. What's a \"sparse array\"??????"
   ]
  },
  {
   "cell_type": "code",
   "execution_count": 16,
   "metadata": {},
   "outputs": [
    {
     "data": {
      "text/plain": [
       "array([[0, 0, 0, 1, 1, 1, 0, 0, 0, 1, 0, 0, 0, 0, 0, 0, 1, 0, 0, 0, 0, 0, 0],\n",
       "       [1, 0, 0, 1, 1, 1, 0, 0, 1, 0, 0, 0, 0, 0, 0, 1, 1, 0, 0, 0, 0, 0, 0],\n",
       "       [0, 1, 1, 0, 0, 0, 0, 1, 1, 0, 0, 0, 0, 0, 0, 0, 0, 0, 0, 1, 2, 0, 0],\n",
       "       [0, 0, 1, 0, 0, 0, 1, 0, 1, 0, 0, 0, 0, 0, 0, 0, 3, 1, 0, 1, 1, 1, 1],\n",
       "       [1, 3, 0, 0, 0, 0, 1, 0, 3, 0, 1, 3, 2, 1, 1, 0, 0, 0, 1, 0, 4, 0, 0],\n",
       "       [0, 2, 0, 0, 0, 0, 0, 3, 2, 0, 3, 0, 0, 1, 0, 1, 0, 0, 0, 1, 5, 0, 0],\n",
       "       [0, 0, 0, 0, 0, 0, 0, 0, 1, 0, 1, 0, 0, 0, 0, 0, 1, 0, 0, 0, 0, 0, 0]], dtype=int64)"
      ]
     },
     "execution_count": 16,
     "metadata": {},
     "output_type": "execute_result"
    }
   ],
   "source": [
    "matrix.toarray()"
   ]
  },
  {
   "cell_type": "markdown",
   "metadata": {},
   "source": [
    "This is going to take a little imagination, but bear with me!\n",
    "\n",
    "**Each one of those rows is one of our texts.** The first row represents our first sentence, the second row represents our second sentence, and so on. \n",
    "\n",
    "|sentence|representation|\n",
    "|---|---|\n",
    "|Penny bought bright blue fishes.|`[0, 0, 0, 1, 1, 1, 0, 0, 0, 1, 0, 0, 0, 0, 0, 0, 1, 0, 0, 0, 0, 0, 0]`|\n",
    "|Penny bought bright blue and orange fish.|`[1, 0, 0, 1, 1, 1, 0, 0, 1, 0, 0, 0, 0, 0, 0, 1, 1, 0, 0, 0, 0, 0, 0]`|\n",
    "|The cat ate a fish at the store|`[0, 1, 1, 0, 0, 0, 0, 1, 1, 0, 0, 0, 0, 0, 0, 0, 0, 0, 0, 1, 2, 0, 0]`|\n",
    "|...etc|...etc|\n",
    "\n",
    "**Each number is the number of appearances of a possible word.** We don't know what the words they're counting are just yet, but we know the first sentence has 0 of the first word, 0 of the second word, 0 of the third word, and 1 of words four, five and six. If we compare it to the second sentence, we see they have a lot of the same numbers in the columns - that means they're similar sentences!\n",
    "\n",
    "But let's be honest: we can't *read* that. It would look nicer as a dataframe. So, well, let's take the `matrix` and make it a dataframe."
   ]
  },
  {
   "cell_type": "code",
   "execution_count": 17,
   "metadata": {},
   "outputs": [
    {
     "data": {
      "text/html": [
       "<div>\n",
       "<table border=\"1\" class=\"dataframe\">\n",
       "  <thead>\n",
       "    <tr style=\"text-align: right;\">\n",
       "      <th></th>\n",
       "      <th>0</th>\n",
       "      <th>1</th>\n",
       "      <th>2</th>\n",
       "      <th>3</th>\n",
       "      <th>4</th>\n",
       "      <th>5</th>\n",
       "      <th>6</th>\n",
       "      <th>7</th>\n",
       "      <th>8</th>\n",
       "      <th>9</th>\n",
       "      <th>10</th>\n",
       "      <th>11</th>\n",
       "      <th>12</th>\n",
       "      <th>13</th>\n",
       "      <th>14</th>\n",
       "      <th>15</th>\n",
       "      <th>16</th>\n",
       "      <th>17</th>\n",
       "      <th>18</th>\n",
       "      <th>19</th>\n",
       "      <th>20</th>\n",
       "      <th>21</th>\n",
       "      <th>22</th>\n",
       "    </tr>\n",
       "  </thead>\n",
       "  <tbody>\n",
       "    <tr>\n",
       "      <th>0</th>\n",
       "      <td>0</td>\n",
       "      <td>0</td>\n",
       "      <td>0</td>\n",
       "      <td>1</td>\n",
       "      <td>1</td>\n",
       "      <td>1</td>\n",
       "      <td>0</td>\n",
       "      <td>0</td>\n",
       "      <td>0</td>\n",
       "      <td>1</td>\n",
       "      <td>0</td>\n",
       "      <td>0</td>\n",
       "      <td>0</td>\n",
       "      <td>0</td>\n",
       "      <td>0</td>\n",
       "      <td>0</td>\n",
       "      <td>1</td>\n",
       "      <td>0</td>\n",
       "      <td>0</td>\n",
       "      <td>0</td>\n",
       "      <td>0</td>\n",
       "      <td>0</td>\n",
       "      <td>0</td>\n",
       "    </tr>\n",
       "    <tr>\n",
       "      <th>1</th>\n",
       "      <td>1</td>\n",
       "      <td>0</td>\n",
       "      <td>0</td>\n",
       "      <td>1</td>\n",
       "      <td>1</td>\n",
       "      <td>1</td>\n",
       "      <td>0</td>\n",
       "      <td>0</td>\n",
       "      <td>1</td>\n",
       "      <td>0</td>\n",
       "      <td>0</td>\n",
       "      <td>0</td>\n",
       "      <td>0</td>\n",
       "      <td>0</td>\n",
       "      <td>0</td>\n",
       "      <td>1</td>\n",
       "      <td>1</td>\n",
       "      <td>0</td>\n",
       "      <td>0</td>\n",
       "      <td>0</td>\n",
       "      <td>0</td>\n",
       "      <td>0</td>\n",
       "      <td>0</td>\n",
       "    </tr>\n",
       "    <tr>\n",
       "      <th>2</th>\n",
       "      <td>0</td>\n",
       "      <td>1</td>\n",
       "      <td>1</td>\n",
       "      <td>0</td>\n",
       "      <td>0</td>\n",
       "      <td>0</td>\n",
       "      <td>0</td>\n",
       "      <td>1</td>\n",
       "      <td>1</td>\n",
       "      <td>0</td>\n",
       "      <td>0</td>\n",
       "      <td>0</td>\n",
       "      <td>0</td>\n",
       "      <td>0</td>\n",
       "      <td>0</td>\n",
       "      <td>0</td>\n",
       "      <td>0</td>\n",
       "      <td>0</td>\n",
       "      <td>0</td>\n",
       "      <td>1</td>\n",
       "      <td>2</td>\n",
       "      <td>0</td>\n",
       "      <td>0</td>\n",
       "    </tr>\n",
       "    <tr>\n",
       "      <th>3</th>\n",
       "      <td>0</td>\n",
       "      <td>0</td>\n",
       "      <td>1</td>\n",
       "      <td>0</td>\n",
       "      <td>0</td>\n",
       "      <td>0</td>\n",
       "      <td>1</td>\n",
       "      <td>0</td>\n",
       "      <td>1</td>\n",
       "      <td>0</td>\n",
       "      <td>0</td>\n",
       "      <td>0</td>\n",
       "      <td>0</td>\n",
       "      <td>0</td>\n",
       "      <td>0</td>\n",
       "      <td>0</td>\n",
       "      <td>3</td>\n",
       "      <td>1</td>\n",
       "      <td>0</td>\n",
       "      <td>1</td>\n",
       "      <td>1</td>\n",
       "      <td>1</td>\n",
       "      <td>1</td>\n",
       "    </tr>\n",
       "    <tr>\n",
       "      <th>4</th>\n",
       "      <td>1</td>\n",
       "      <td>3</td>\n",
       "      <td>0</td>\n",
       "      <td>0</td>\n",
       "      <td>0</td>\n",
       "      <td>0</td>\n",
       "      <td>1</td>\n",
       "      <td>0</td>\n",
       "      <td>3</td>\n",
       "      <td>0</td>\n",
       "      <td>1</td>\n",
       "      <td>3</td>\n",
       "      <td>2</td>\n",
       "      <td>1</td>\n",
       "      <td>1</td>\n",
       "      <td>0</td>\n",
       "      <td>0</td>\n",
       "      <td>0</td>\n",
       "      <td>1</td>\n",
       "      <td>0</td>\n",
       "      <td>4</td>\n",
       "      <td>0</td>\n",
       "      <td>0</td>\n",
       "    </tr>\n",
       "    <tr>\n",
       "      <th>5</th>\n",
       "      <td>0</td>\n",
       "      <td>2</td>\n",
       "      <td>0</td>\n",
       "      <td>0</td>\n",
       "      <td>0</td>\n",
       "      <td>0</td>\n",
       "      <td>0</td>\n",
       "      <td>3</td>\n",
       "      <td>2</td>\n",
       "      <td>0</td>\n",
       "      <td>3</td>\n",
       "      <td>0</td>\n",
       "      <td>0</td>\n",
       "      <td>1</td>\n",
       "      <td>0</td>\n",
       "      <td>1</td>\n",
       "      <td>0</td>\n",
       "      <td>0</td>\n",
       "      <td>0</td>\n",
       "      <td>1</td>\n",
       "      <td>5</td>\n",
       "      <td>0</td>\n",
       "      <td>0</td>\n",
       "    </tr>\n",
       "    <tr>\n",
       "      <th>6</th>\n",
       "      <td>0</td>\n",
       "      <td>0</td>\n",
       "      <td>0</td>\n",
       "      <td>0</td>\n",
       "      <td>0</td>\n",
       "      <td>0</td>\n",
       "      <td>0</td>\n",
       "      <td>0</td>\n",
       "      <td>1</td>\n",
       "      <td>0</td>\n",
       "      <td>1</td>\n",
       "      <td>0</td>\n",
       "      <td>0</td>\n",
       "      <td>0</td>\n",
       "      <td>0</td>\n",
       "      <td>0</td>\n",
       "      <td>1</td>\n",
       "      <td>0</td>\n",
       "      <td>0</td>\n",
       "      <td>0</td>\n",
       "      <td>0</td>\n",
       "      <td>0</td>\n",
       "      <td>0</td>\n",
       "    </tr>\n",
       "  </tbody>\n",
       "</table>\n",
       "</div>"
      ],
      "text/plain": [
       "   0   1   2   3   4   5   6   7   8   9   10  11  12  13  14  15  16  17  18  \\\n",
       "0   0   0   0   1   1   1   0   0   0   1   0   0   0   0   0   0   1   0   0   \n",
       "1   1   0   0   1   1   1   0   0   1   0   0   0   0   0   0   1   1   0   0   \n",
       "2   0   1   1   0   0   0   0   1   1   0   0   0   0   0   0   0   0   0   0   \n",
       "3   0   0   1   0   0   0   1   0   1   0   0   0   0   0   0   0   3   1   0   \n",
       "4   1   3   0   0   0   0   1   0   3   0   1   3   2   1   1   0   0   0   1   \n",
       "5   0   2   0   0   0   0   0   3   2   0   3   0   0   1   0   1   0   0   0   \n",
       "6   0   0   0   0   0   0   0   0   1   0   1   0   0   0   0   0   1   0   0   \n",
       "\n",
       "   19  20  21  22  \n",
       "0   0   0   0   0  \n",
       "1   0   0   0   0  \n",
       "2   1   2   0   0  \n",
       "3   1   1   1   1  \n",
       "4   0   4   0   0  \n",
       "5   1   5   0   0  \n",
       "6   0   0   0   0  "
      ]
     },
     "execution_count": 17,
     "metadata": {},
     "output_type": "execute_result"
    }
   ],
   "source": [
    "# You get an error doing pd.DataFrame(matrix), you need the .toarray() part\n",
    "pd.DataFrame(matrix.toarray())"
   ]
  },
  {
   "cell_type": "markdown",
   "metadata": {},
   "source": [
    "Each row is one of our sentences, sure, but what do all of those numbers mean???? I want to know what word number 0 is, and word number 1, and word number 2, and so on!\n",
    "\n",
    "Luckily when we used our vectorizer it remembered all of the words, so we can take a peek at them. When you're doing machine learning, anything interesting about an object is called a **feature**. It's interesting that these sentences have this word or that word, so they're called **features**."
   ]
  },
  {
   "cell_type": "code",
   "execution_count": 18,
   "metadata": {},
   "outputs": [
    {
     "name": "stdout",
     "output_type": "stream",
     "text": [
      "['and', 'at', 'ate', 'blue', 'bought', 'bright', 'bug', 'cat', 'fish', 'fishes', 'is', 'it', 'meowed', 'meowing', 'once', 'orange', 'penny', 'saw', 'still', 'store', 'the', 'to', 'went']\n"
     ]
    }
   ],
   "source": [
    "print(vectorizer.get_feature_names())"
   ]
  },
  {
   "cell_type": "markdown",
   "metadata": {},
   "source": [
    "Because we're excellent programmers, we know that we can combine the last two snippets of code, so we'll\n",
    "\n",
    "1. create a dataframe of our matrix, while also\n",
    "2. specifying column names using our vocabulary list\n",
    "\n",
    "and then we'll have a beautiful dataframe of all of our word counts, with very nice titles."
   ]
  },
  {
   "cell_type": "code",
   "execution_count": 19,
   "metadata": {},
   "outputs": [
    {
     "data": {
      "text/html": [
       "<div>\n",
       "<table border=\"1\" class=\"dataframe\">\n",
       "  <thead>\n",
       "    <tr style=\"text-align: right;\">\n",
       "      <th></th>\n",
       "      <th>and</th>\n",
       "      <th>at</th>\n",
       "      <th>ate</th>\n",
       "      <th>blue</th>\n",
       "      <th>bought</th>\n",
       "      <th>bright</th>\n",
       "      <th>bug</th>\n",
       "      <th>cat</th>\n",
       "      <th>fish</th>\n",
       "      <th>fishes</th>\n",
       "      <th>is</th>\n",
       "      <th>it</th>\n",
       "      <th>meowed</th>\n",
       "      <th>meowing</th>\n",
       "      <th>once</th>\n",
       "      <th>orange</th>\n",
       "      <th>penny</th>\n",
       "      <th>saw</th>\n",
       "      <th>still</th>\n",
       "      <th>store</th>\n",
       "      <th>the</th>\n",
       "      <th>to</th>\n",
       "      <th>went</th>\n",
       "    </tr>\n",
       "  </thead>\n",
       "  <tbody>\n",
       "    <tr>\n",
       "      <th>0</th>\n",
       "      <td>0</td>\n",
       "      <td>0</td>\n",
       "      <td>0</td>\n",
       "      <td>1</td>\n",
       "      <td>1</td>\n",
       "      <td>1</td>\n",
       "      <td>0</td>\n",
       "      <td>0</td>\n",
       "      <td>0</td>\n",
       "      <td>1</td>\n",
       "      <td>0</td>\n",
       "      <td>0</td>\n",
       "      <td>0</td>\n",
       "      <td>0</td>\n",
       "      <td>0</td>\n",
       "      <td>0</td>\n",
       "      <td>1</td>\n",
       "      <td>0</td>\n",
       "      <td>0</td>\n",
       "      <td>0</td>\n",
       "      <td>0</td>\n",
       "      <td>0</td>\n",
       "      <td>0</td>\n",
       "    </tr>\n",
       "    <tr>\n",
       "      <th>1</th>\n",
       "      <td>1</td>\n",
       "      <td>0</td>\n",
       "      <td>0</td>\n",
       "      <td>1</td>\n",
       "      <td>1</td>\n",
       "      <td>1</td>\n",
       "      <td>0</td>\n",
       "      <td>0</td>\n",
       "      <td>1</td>\n",
       "      <td>0</td>\n",
       "      <td>0</td>\n",
       "      <td>0</td>\n",
       "      <td>0</td>\n",
       "      <td>0</td>\n",
       "      <td>0</td>\n",
       "      <td>1</td>\n",
       "      <td>1</td>\n",
       "      <td>0</td>\n",
       "      <td>0</td>\n",
       "      <td>0</td>\n",
       "      <td>0</td>\n",
       "      <td>0</td>\n",
       "      <td>0</td>\n",
       "    </tr>\n",
       "    <tr>\n",
       "      <th>2</th>\n",
       "      <td>0</td>\n",
       "      <td>1</td>\n",
       "      <td>1</td>\n",
       "      <td>0</td>\n",
       "      <td>0</td>\n",
       "      <td>0</td>\n",
       "      <td>0</td>\n",
       "      <td>1</td>\n",
       "      <td>1</td>\n",
       "      <td>0</td>\n",
       "      <td>0</td>\n",
       "      <td>0</td>\n",
       "      <td>0</td>\n",
       "      <td>0</td>\n",
       "      <td>0</td>\n",
       "      <td>0</td>\n",
       "      <td>0</td>\n",
       "      <td>0</td>\n",
       "      <td>0</td>\n",
       "      <td>1</td>\n",
       "      <td>2</td>\n",
       "      <td>0</td>\n",
       "      <td>0</td>\n",
       "    </tr>\n",
       "    <tr>\n",
       "      <th>3</th>\n",
       "      <td>0</td>\n",
       "      <td>0</td>\n",
       "      <td>1</td>\n",
       "      <td>0</td>\n",
       "      <td>0</td>\n",
       "      <td>0</td>\n",
       "      <td>1</td>\n",
       "      <td>0</td>\n",
       "      <td>1</td>\n",
       "      <td>0</td>\n",
       "      <td>0</td>\n",
       "      <td>0</td>\n",
       "      <td>0</td>\n",
       "      <td>0</td>\n",
       "      <td>0</td>\n",
       "      <td>0</td>\n",
       "      <td>3</td>\n",
       "      <td>1</td>\n",
       "      <td>0</td>\n",
       "      <td>1</td>\n",
       "      <td>1</td>\n",
       "      <td>1</td>\n",
       "      <td>1</td>\n",
       "    </tr>\n",
       "    <tr>\n",
       "      <th>4</th>\n",
       "      <td>1</td>\n",
       "      <td>3</td>\n",
       "      <td>0</td>\n",
       "      <td>0</td>\n",
       "      <td>0</td>\n",
       "      <td>0</td>\n",
       "      <td>1</td>\n",
       "      <td>0</td>\n",
       "      <td>3</td>\n",
       "      <td>0</td>\n",
       "      <td>1</td>\n",
       "      <td>3</td>\n",
       "      <td>2</td>\n",
       "      <td>1</td>\n",
       "      <td>1</td>\n",
       "      <td>0</td>\n",
       "      <td>0</td>\n",
       "      <td>0</td>\n",
       "      <td>1</td>\n",
       "      <td>0</td>\n",
       "      <td>4</td>\n",
       "      <td>0</td>\n",
       "      <td>0</td>\n",
       "    </tr>\n",
       "    <tr>\n",
       "      <th>5</th>\n",
       "      <td>0</td>\n",
       "      <td>2</td>\n",
       "      <td>0</td>\n",
       "      <td>0</td>\n",
       "      <td>0</td>\n",
       "      <td>0</td>\n",
       "      <td>0</td>\n",
       "      <td>3</td>\n",
       "      <td>2</td>\n",
       "      <td>0</td>\n",
       "      <td>3</td>\n",
       "      <td>0</td>\n",
       "      <td>0</td>\n",
       "      <td>1</td>\n",
       "      <td>0</td>\n",
       "      <td>1</td>\n",
       "      <td>0</td>\n",
       "      <td>0</td>\n",
       "      <td>0</td>\n",
       "      <td>1</td>\n",
       "      <td>5</td>\n",
       "      <td>0</td>\n",
       "      <td>0</td>\n",
       "    </tr>\n",
       "    <tr>\n",
       "      <th>6</th>\n",
       "      <td>0</td>\n",
       "      <td>0</td>\n",
       "      <td>0</td>\n",
       "      <td>0</td>\n",
       "      <td>0</td>\n",
       "      <td>0</td>\n",
       "      <td>0</td>\n",
       "      <td>0</td>\n",
       "      <td>1</td>\n",
       "      <td>0</td>\n",
       "      <td>1</td>\n",
       "      <td>0</td>\n",
       "      <td>0</td>\n",
       "      <td>0</td>\n",
       "      <td>0</td>\n",
       "      <td>0</td>\n",
       "      <td>1</td>\n",
       "      <td>0</td>\n",
       "      <td>0</td>\n",
       "      <td>0</td>\n",
       "      <td>0</td>\n",
       "      <td>0</td>\n",
       "      <td>0</td>\n",
       "    </tr>\n",
       "  </tbody>\n",
       "</table>\n",
       "</div>"
      ],
      "text/plain": [
       "   and  at  ate  blue  bought  bright  bug  cat  fish  fishes  is  it  meowed  \\\n",
       "0    0   0    0     1       1       1    0    0     0       1   0   0       0   \n",
       "1    1   0    0     1       1       1    0    0     1       0   0   0       0   \n",
       "2    0   1    1     0       0       0    0    1     1       0   0   0       0   \n",
       "3    0   0    1     0       0       0    1    0     1       0   0   0       0   \n",
       "4    1   3    0     0       0       0    1    0     3       0   1   3       2   \n",
       "5    0   2    0     0       0       0    0    3     2       0   3   0       0   \n",
       "6    0   0    0     0       0       0    0    0     1       0   1   0       0   \n",
       "\n",
       "   meowing  once  orange  penny  saw  still  store  the  to  went  \n",
       "0        0     0       0      1    0      0      0    0   0     0  \n",
       "1        0     0       1      1    0      0      0    0   0     0  \n",
       "2        0     0       0      0    0      0      1    2   0     0  \n",
       "3        0     0       0      3    1      0      1    1   1     1  \n",
       "4        1     1       0      0    0      1      0    4   0     0  \n",
       "5        1     0       1      0    0      0      1    5   0     0  \n",
       "6        0     0       0      1    0      0      0    0   0     0  "
      ]
     },
     "execution_count": 19,
     "metadata": {},
     "output_type": "execute_result"
    }
   ],
   "source": [
    "pd.DataFrame(matrix.toarray(), columns=vectorizer.get_feature_names())"
   ]
  },
  {
   "cell_type": "markdown",
   "metadata": {},
   "source": [
    "So sentence #4 has \"at\" twice, and the first sentence has \"bought\" once, and the fifth sentence has \"the\" five times.\n",
    "\n",
    "Hmmm, 'bought' might be interesting, but \"the\" sure isn't. Neither is \"and\" or \"to,\" I think. Who cares about boring words like that? Not me! I just think they're cluttering up our dataframe.\n",
    "\n",
    "We can actually have the vectorizer *totally ignore them*. Words you ignore are called **stopwords**, and they're a common way to simplify your text analysis. Most text analysis software comes with prebuilt lists of stopwords - we're just going to tell our vectorizer to use the standard list for Engish."
   ]
  },
  {
   "cell_type": "code",
   "execution_count": 20,
   "metadata": {},
   "outputs": [
    {
     "name": "stdout",
     "output_type": "stream",
     "text": [
      "['ate', 'blue', 'bought', 'bright', 'bug', 'cat', 'fish', 'fishes', 'meowed', 'meowing', 'orange', 'penny', 'saw', 'store', 'went']\n"
     ]
    }
   ],
   "source": [
    "# We'll make a new vectorizer\n",
    "vectorizer = CountVectorizer(stop_words='english')\n",
    "# Find all the words and count them\n",
    "matrix =vectorizer.fit_transform(texts)\n",
    "# And let's look at the feature names\n",
    "print(vectorizer.get_feature_names())"
   ]
  },
  {
   "cell_type": "markdown",
   "metadata": {},
   "source": [
    "Looks good! See, no more \"the\" or \"and\" - life is perfect now. Let's make another dataframe!"
   ]
  },
  {
   "cell_type": "code",
   "execution_count": 21,
   "metadata": {},
   "outputs": [
    {
     "data": {
      "text/html": [
       "<div>\n",
       "<table border=\"1\" class=\"dataframe\">\n",
       "  <thead>\n",
       "    <tr style=\"text-align: right;\">\n",
       "      <th></th>\n",
       "      <th>ate</th>\n",
       "      <th>blue</th>\n",
       "      <th>bought</th>\n",
       "      <th>bright</th>\n",
       "      <th>bug</th>\n",
       "      <th>cat</th>\n",
       "      <th>fish</th>\n",
       "      <th>fishes</th>\n",
       "      <th>meowed</th>\n",
       "      <th>meowing</th>\n",
       "      <th>orange</th>\n",
       "      <th>penny</th>\n",
       "      <th>saw</th>\n",
       "      <th>store</th>\n",
       "      <th>went</th>\n",
       "    </tr>\n",
       "  </thead>\n",
       "  <tbody>\n",
       "    <tr>\n",
       "      <th>0</th>\n",
       "      <td>0</td>\n",
       "      <td>1</td>\n",
       "      <td>1</td>\n",
       "      <td>1</td>\n",
       "      <td>0</td>\n",
       "      <td>0</td>\n",
       "      <td>0</td>\n",
       "      <td>1</td>\n",
       "      <td>0</td>\n",
       "      <td>0</td>\n",
       "      <td>0</td>\n",
       "      <td>1</td>\n",
       "      <td>0</td>\n",
       "      <td>0</td>\n",
       "      <td>0</td>\n",
       "    </tr>\n",
       "    <tr>\n",
       "      <th>1</th>\n",
       "      <td>0</td>\n",
       "      <td>1</td>\n",
       "      <td>1</td>\n",
       "      <td>1</td>\n",
       "      <td>0</td>\n",
       "      <td>0</td>\n",
       "      <td>1</td>\n",
       "      <td>0</td>\n",
       "      <td>0</td>\n",
       "      <td>0</td>\n",
       "      <td>1</td>\n",
       "      <td>1</td>\n",
       "      <td>0</td>\n",
       "      <td>0</td>\n",
       "      <td>0</td>\n",
       "    </tr>\n",
       "    <tr>\n",
       "      <th>2</th>\n",
       "      <td>1</td>\n",
       "      <td>0</td>\n",
       "      <td>0</td>\n",
       "      <td>0</td>\n",
       "      <td>0</td>\n",
       "      <td>1</td>\n",
       "      <td>1</td>\n",
       "      <td>0</td>\n",
       "      <td>0</td>\n",
       "      <td>0</td>\n",
       "      <td>0</td>\n",
       "      <td>0</td>\n",
       "      <td>0</td>\n",
       "      <td>1</td>\n",
       "      <td>0</td>\n",
       "    </tr>\n",
       "    <tr>\n",
       "      <th>3</th>\n",
       "      <td>1</td>\n",
       "      <td>0</td>\n",
       "      <td>0</td>\n",
       "      <td>0</td>\n",
       "      <td>1</td>\n",
       "      <td>0</td>\n",
       "      <td>1</td>\n",
       "      <td>0</td>\n",
       "      <td>0</td>\n",
       "      <td>0</td>\n",
       "      <td>0</td>\n",
       "      <td>3</td>\n",
       "      <td>1</td>\n",
       "      <td>1</td>\n",
       "      <td>1</td>\n",
       "    </tr>\n",
       "    <tr>\n",
       "      <th>4</th>\n",
       "      <td>0</td>\n",
       "      <td>0</td>\n",
       "      <td>0</td>\n",
       "      <td>0</td>\n",
       "      <td>1</td>\n",
       "      <td>0</td>\n",
       "      <td>3</td>\n",
       "      <td>0</td>\n",
       "      <td>2</td>\n",
       "      <td>1</td>\n",
       "      <td>0</td>\n",
       "      <td>0</td>\n",
       "      <td>0</td>\n",
       "      <td>0</td>\n",
       "      <td>0</td>\n",
       "    </tr>\n",
       "    <tr>\n",
       "      <th>5</th>\n",
       "      <td>0</td>\n",
       "      <td>0</td>\n",
       "      <td>0</td>\n",
       "      <td>0</td>\n",
       "      <td>0</td>\n",
       "      <td>3</td>\n",
       "      <td>2</td>\n",
       "      <td>0</td>\n",
       "      <td>0</td>\n",
       "      <td>1</td>\n",
       "      <td>1</td>\n",
       "      <td>0</td>\n",
       "      <td>0</td>\n",
       "      <td>1</td>\n",
       "      <td>0</td>\n",
       "    </tr>\n",
       "    <tr>\n",
       "      <th>6</th>\n",
       "      <td>0</td>\n",
       "      <td>0</td>\n",
       "      <td>0</td>\n",
       "      <td>0</td>\n",
       "      <td>0</td>\n",
       "      <td>0</td>\n",
       "      <td>1</td>\n",
       "      <td>0</td>\n",
       "      <td>0</td>\n",
       "      <td>0</td>\n",
       "      <td>0</td>\n",
       "      <td>1</td>\n",
       "      <td>0</td>\n",
       "      <td>0</td>\n",
       "      <td>0</td>\n",
       "    </tr>\n",
       "  </tbody>\n",
       "</table>\n",
       "</div>"
      ],
      "text/plain": [
       "   ate  blue  bought  bright  bug  cat  fish  fishes  meowed  meowing  orange  \\\n",
       "0    0     1       1       1    0    0     0       1       0        0       0   \n",
       "1    0     1       1       1    0    0     1       0       0        0       1   \n",
       "2    1     0       0       0    0    1     1       0       0        0       0   \n",
       "3    1     0       0       0    1    0     1       0       0        0       0   \n",
       "4    0     0       0       0    1    0     3       0       2        1       0   \n",
       "5    0     0       0       0    0    3     2       0       0        1       1   \n",
       "6    0     0       0       0    0    0     1       0       0        0       0   \n",
       "\n",
       "   penny  saw  store  went  \n",
       "0      1    0      0     0  \n",
       "1      1    0      0     0  \n",
       "2      0    0      1     0  \n",
       "3      3    1      1     1  \n",
       "4      0    0      0     0  \n",
       "5      0    0      1     0  \n",
       "6      1    0      0     0  "
      ]
     },
     "execution_count": 21,
     "metadata": {},
     "output_type": "execute_result"
    }
   ],
   "source": [
    "# We've done this before!\n",
    "pd.DataFrame(matrix.toarray(), columns=vectorizer.get_feature_names())"
   ]
  },
  {
   "cell_type": "markdown",
   "metadata": {},
   "source": [
    "## Lemmatizing and stemming\n",
    "\n",
    "I do have an issue with this, though - I see separate entries for `meowed` and `meowing` and `fish` and `fishes`, even though they kind of seem like the same words to me! I mean, they kind of *are* the same words: they're just different *forms*.\n",
    "\n",
    "To do that kind of simplification, you can either **stem** or **lemmatize** your words. Stemming is a lazy way of chopping off endings, while **lemmatization** means you looked the word up in the dictionary to find out what the simple form of the word should be.\n",
    "\n",
    "You can tell the difference with something like \"running\" vs \"ran.\"\n",
    "\n",
    "|word|stem|lemma|\n",
    "|---|---|---|\n",
    "|runner|run|run|\n",
    "|running|run|run|\n",
    "|ran|ran|run|\n",
    "\n",
    "Lemmas are better than stems, but they also take a lot more work and time! So how are we gonna do this? We pick another library!\n",
    "\n",
    "**TextBlob:** Some people use TextBlob for lemmatizing. *We ain't gonna do it!* It's a nice library, but by default it thinks everything is a noun. That makes for bad lemmatizing, because it needs to understand that \"running\" is a verb to make it into \"run.\"\n",
    "\n",
    "**spaCy:** We're going to use spaCy instead. It's like a cool new hip NLTK. It's kind of weird until you get used to it, though."
   ]
  },
  {
   "cell_type": "markdown",
   "metadata": {},
   "source": [
    "## spaCy: A weird but good text analysis thingie\n",
    "\n",
    "spaCy is a dream, but a dream where sometimes your legs won't move right and you can't read text. But sometimes you can fly! So yes, as always, ups and downs."
   ]
  },
  {
   "cell_type": "code",
   "execution_count": 22,
   "metadata": {
    "collapsed": true
   },
   "outputs": [],
   "source": [
    "import spacy\n",
    "# Create a spacy natural-language processor for English\n",
    "nlp = spacy.load('en')"
   ]
  },
  {
   "cell_type": "markdown",
   "metadata": {},
   "source": [
    "**Didn't that take forever to load?** I'd like to think it's because it's SO SMART. spaCy knows an insane amount of information about each token in your text. Things like the lemma, [detailed part-of-speech](https://www.ling.upenn.edu/courses/Fall_2003/ling001/penn_treebank_pos.html), whether it's part of a stopword list, punctuation etc. See a full [list here](https://spacy.io/docs/api/token) and see an example of a few below!"
   ]
  },
  {
   "cell_type": "code",
   "execution_count": 23,
   "metadata": {},
   "outputs": [
    {
     "name": "stdout",
     "output_type": "stream",
     "text": [
      "Sentence:  It meowed once at the fish, it is still meowing at the fish. It meowed at the bug and the fish. \n",
      "\n",
      "               original | It\n",
      "                  lemma | -PRON-\n",
      "        is punctuation? | False\n",
      "            is numeric? | False\n",
      "         is a stopword? | True\n",
      "         part of speech | PRON\n",
      "           detailed POS | PRP\n",
      "\n",
      "               original | meowed\n",
      "                  lemma | meow\n",
      "        is punctuation? | False\n",
      "            is numeric? | False\n",
      "         is a stopword? | False\n",
      "         part of speech | VERB\n",
      "           detailed POS | VBD\n",
      "\n",
      "               original | once\n",
      "                  lemma | once\n",
      "        is punctuation? | False\n",
      "            is numeric? | False\n",
      "         is a stopword? | True\n",
      "         part of speech | ADV\n",
      "           detailed POS | RB\n",
      "\n",
      "               original | at\n",
      "                  lemma | at\n",
      "        is punctuation? | False\n",
      "            is numeric? | False\n",
      "         is a stopword? | True\n",
      "         part of speech | ADP\n",
      "           detailed POS | IN\n",
      "\n",
      "               original | the\n",
      "                  lemma | the\n",
      "        is punctuation? | False\n",
      "            is numeric? | False\n",
      "         is a stopword? | True\n",
      "         part of speech | DET\n",
      "           detailed POS | DT\n",
      "\n",
      "               original | fish\n",
      "                  lemma | fish\n",
      "        is punctuation? | False\n",
      "            is numeric? | False\n",
      "         is a stopword? | False\n",
      "         part of speech | NOUN\n",
      "           detailed POS | NN\n",
      "\n",
      "               original | ,\n",
      "                  lemma | ,\n",
      "        is punctuation? | True\n",
      "            is numeric? | False\n",
      "         is a stopword? | False\n",
      "         part of speech | PUNCT\n",
      "           detailed POS | ,\n",
      "\n"
     ]
    }
   ],
   "source": [
    "doc = nlp(\"It meowed once at the fish, it is still meowing at the fish. It meowed at the bug and the fish.\")\n",
    "\n",
    "print(\"Sentence: \", doc, \"\\n\")\n",
    "\n",
    "for token in doc[:7]:\n",
    "    print(\"               original |\", token.orth_)\n",
    "    print(\"                  lemma |\", token.lemma_)\n",
    "    print(\"        is punctuation? |\", token.is_punct)\n",
    "    print(\"            is numeric? |\", token.is_digit)\n",
    "    print(\"         is a stopword? |\", token.is_stop)\n",
    "    print(\"         part of speech |\", token.pos_)\n",
    "    print(\"           detailed POS |\", token.tag_)\n",
    "    print(\"\")"
   ]
  },
  {
   "cell_type": "markdown",
   "metadata": {},
   "source": [
    "Remember tokenization, where you break the sentence into words? By default spaCy **includes punctuation** in its list of tokens - notice the commas and periods that are included in the following."
   ]
  },
  {
   "cell_type": "code",
   "execution_count": 24,
   "metadata": {},
   "outputs": [
    {
     "name": "stdout",
     "output_type": "stream",
     "text": [
      "[It, meowed, once, at, the, fish, ,, it, is, still, meowing, at, the, fish, ., It, meowed, at, the, bug, and, the, fish, .]\n"
     ]
    }
   ],
   "source": [
    "tokens = [token for token in doc]\n",
    "print(tokens)"
   ]
  },
  {
   "cell_type": "markdown",
   "metadata": {},
   "source": [
    "**Aside:** Why are we using a list comprehension? Because we have to. Because spaCy is weird.\n",
    "\n",
    "Since we don't like the punctuation in our list of tokens, we can use an `if` condition in a list comprehension to say hey, we don't want things that are punctuation!"
   ]
  },
  {
   "cell_type": "code",
   "execution_count": 25,
   "metadata": {},
   "outputs": [
    {
     "name": "stdout",
     "output_type": "stream",
     "text": [
      "[It, meowed, once, at, the, fish, it, is, still, meowing, at, the, fish, It, meowed, at, the, bug, and, the, fish]\n"
     ]
    }
   ],
   "source": [
    "tokens = [token for token in doc if not token.is_punct]\n",
    "print(tokens)"
   ]
  },
  {
   "cell_type": "markdown",
   "metadata": {},
   "source": [
    "And then maybe we can convert them to lemmas..."
   ]
  },
  {
   "cell_type": "code",
   "execution_count": 26,
   "metadata": {},
   "outputs": [
    {
     "name": "stdout",
     "output_type": "stream",
     "text": [
      "['-PRON-', 'meow', 'once', 'at', 'the', 'fish', '-PRON-', 'be', 'still', 'meow', 'at', 'the', 'fish', '-PRON-', 'meow', 'at', 'the', 'bug', 'and', 'the', 'fish']\n"
     ]
    }
   ],
   "source": [
    "lemmas = [token.lemma_ for token in tokens]\n",
    "print(lemmas)"
   ]
  },
  {
   "cell_type": "markdown",
   "metadata": {},
   "source": [
    "spaCy decided that there's no basic form for pronouns, so it just *replaced them all with `-PRON-`.* I don't know how I feel about this, so I'm going to go ahead and make an insane list comprehension to keep the original version if it's a pronoun."
   ]
  },
  {
   "cell_type": "code",
   "execution_count": 27,
   "metadata": {},
   "outputs": [
    {
     "name": "stdout",
     "output_type": "stream",
     "text": [
      "['It', 'meow', 'once', 'at', 'the', 'fish', 'it', 'be', 'still', 'meow', 'at', 'the', 'fish', 'It', 'meow', 'at', 'the', 'bug', 'and', 'the', 'fish']\n"
     ]
    }
   ],
   "source": [
    "lemmas = [token.lemma_ if token.pos_ != 'PRON' else token.orth_ for token in tokens]\n",
    "print(lemmas)"
   ]
  },
  {
   "cell_type": "markdown",
   "metadata": {},
   "source": [
    "Since we've made a lot of changes, let's put all of the code in one place to see how spaCy works."
   ]
  },
  {
   "cell_type": "code",
   "execution_count": 28,
   "metadata": {
    "collapsed": true
   },
   "outputs": [],
   "source": [
    "import spacy\n",
    "# Create a spacy natural-language processor for English\n",
    "# This usually takes a little bit\n",
    "nlp = spacy.load('en')"
   ]
  },
  {
   "cell_type": "code",
   "execution_count": 29,
   "metadata": {},
   "outputs": [
    {
     "name": "stdout",
     "output_type": "stream",
     "text": [
      "['It', 'meow', 'once', 'at', 'the', 'fish', 'it', 'be', 'still', 'meow', 'at', 'the', 'fish', 'It', 'meow', 'at', 'the', 'bug', 'and', 'the', 'fish']\n"
     ]
    }
   ],
   "source": [
    "# Process our text with the spaCy processor\n",
    "doc = nlp(\"It meowed once at the fish, it is still meowing at the fish. It meowed at the bug and the fish.\")\n",
    "# Turn it into tokens, ignoring the punctuation\n",
    "tokens = [token for token in doc if not token.is_punct]\n",
    "# Convert those tokens into lemmas, EXCEPT the pronouns, we'll keep those.\n",
    "lemmas = [token.lemma_ if token.pos_ != 'PRON' else token.orth_ for token in tokens]\n",
    "print(lemmas)"
   ]
  },
  {
   "cell_type": "markdown",
   "metadata": {},
   "source": [
    "## Lemmatizing with a vectorizer\n",
    "\n",
    "Now that we've figured out how to turn a sentence into lemmas, we need to put it to use with our `CountVectorizer`. Luckily we can just say \"hey, vectorizer, we made a thingie that breaks the text into pieces, please use it instead of whatever you already use\" and it will say \"sounds great I will use that.\""
   ]
  },
  {
   "cell_type": "code",
   "execution_count": 30,
   "metadata": {},
   "outputs": [],
   "source": [
    "def lemmatize(text):\n",
    "    doc = nlp(text)\n",
    "    # Turn it into tokens, ignoring the punctuation\n",
    "    tokens = [token for token in doc if not token.is_punct]\n",
    "    # Convert those tokens into lemmas, EXCEPT the pronouns, we'll keep those.\n",
    "    lemmas = [token.lemma_ if token.pos_ != 'PRON' else token.orth_ for token in tokens]\n",
    "    return lemmas"
   ]
  },
  {
   "cell_type": "markdown",
   "metadata": {},
   "source": [
    "We'll make a new vectorizer, but now anytime it wants to break down text, it will send the text to our 'lemmatize' function that we wrote above."
   ]
  },
  {
   "cell_type": "code",
   "execution_count": 31,
   "metadata": {},
   "outputs": [
    {
     "data": {
      "text/plain": [
       "<7x11 sparse matrix of type '<class 'numpy.int64'>'\n",
       "\twith 30 stored elements in Compressed Sparse Row format>"
      ]
     },
     "execution_count": 31,
     "metadata": {},
     "output_type": "execute_result"
    }
   ],
   "source": [
    "vectorizer = CountVectorizer(stop_words='english', tokenizer=lemmatize)\n",
    "# Find all the words and count them\n",
    "matrix = vectorizer.fit_transform(texts)\n",
    "matrix"
   ]
  },
  {
   "cell_type": "markdown",
   "metadata": {},
   "source": [
    "What words did we get back?"
   ]
  },
  {
   "cell_type": "code",
   "execution_count": 32,
   "metadata": {},
   "outputs": [
    {
     "name": "stdout",
     "output_type": "stream",
     "text": [
      "['blue', 'bright', 'bug', 'buy', 'cat', 'eat', 'fish', 'meow', 'orange', 'penny', 'store']\n"
     ]
    }
   ],
   "source": [
    "print(vectorizer.get_feature_names())"
   ]
  },
  {
   "cell_type": "markdown",
   "metadata": {},
   "source": [
    "Looks great! While we're at it, can we see it as a dataframe?"
   ]
  },
  {
   "cell_type": "code",
   "execution_count": 33,
   "metadata": {},
   "outputs": [
    {
     "data": {
      "text/html": [
       "<div>\n",
       "<table border=\"1\" class=\"dataframe\">\n",
       "  <thead>\n",
       "    <tr style=\"text-align: right;\">\n",
       "      <th></th>\n",
       "      <th>blue</th>\n",
       "      <th>bright</th>\n",
       "      <th>bug</th>\n",
       "      <th>buy</th>\n",
       "      <th>cat</th>\n",
       "      <th>eat</th>\n",
       "      <th>fish</th>\n",
       "      <th>meow</th>\n",
       "      <th>orange</th>\n",
       "      <th>penny</th>\n",
       "      <th>store</th>\n",
       "    </tr>\n",
       "  </thead>\n",
       "  <tbody>\n",
       "    <tr>\n",
       "      <th>0</th>\n",
       "      <td>1</td>\n",
       "      <td>1</td>\n",
       "      <td>0</td>\n",
       "      <td>1</td>\n",
       "      <td>0</td>\n",
       "      <td>0</td>\n",
       "      <td>1</td>\n",
       "      <td>0</td>\n",
       "      <td>0</td>\n",
       "      <td>1</td>\n",
       "      <td>0</td>\n",
       "    </tr>\n",
       "    <tr>\n",
       "      <th>1</th>\n",
       "      <td>1</td>\n",
       "      <td>1</td>\n",
       "      <td>0</td>\n",
       "      <td>1</td>\n",
       "      <td>0</td>\n",
       "      <td>0</td>\n",
       "      <td>1</td>\n",
       "      <td>0</td>\n",
       "      <td>1</td>\n",
       "      <td>1</td>\n",
       "      <td>0</td>\n",
       "    </tr>\n",
       "    <tr>\n",
       "      <th>2</th>\n",
       "      <td>0</td>\n",
       "      <td>0</td>\n",
       "      <td>0</td>\n",
       "      <td>0</td>\n",
       "      <td>1</td>\n",
       "      <td>1</td>\n",
       "      <td>1</td>\n",
       "      <td>0</td>\n",
       "      <td>0</td>\n",
       "      <td>0</td>\n",
       "      <td>1</td>\n",
       "    </tr>\n",
       "    <tr>\n",
       "      <th>3</th>\n",
       "      <td>0</td>\n",
       "      <td>0</td>\n",
       "      <td>1</td>\n",
       "      <td>0</td>\n",
       "      <td>0</td>\n",
       "      <td>1</td>\n",
       "      <td>1</td>\n",
       "      <td>0</td>\n",
       "      <td>0</td>\n",
       "      <td>3</td>\n",
       "      <td>1</td>\n",
       "    </tr>\n",
       "    <tr>\n",
       "      <th>4</th>\n",
       "      <td>0</td>\n",
       "      <td>0</td>\n",
       "      <td>1</td>\n",
       "      <td>0</td>\n",
       "      <td>0</td>\n",
       "      <td>0</td>\n",
       "      <td>3</td>\n",
       "      <td>3</td>\n",
       "      <td>0</td>\n",
       "      <td>0</td>\n",
       "      <td>0</td>\n",
       "    </tr>\n",
       "    <tr>\n",
       "      <th>5</th>\n",
       "      <td>0</td>\n",
       "      <td>0</td>\n",
       "      <td>0</td>\n",
       "      <td>0</td>\n",
       "      <td>3</td>\n",
       "      <td>0</td>\n",
       "      <td>2</td>\n",
       "      <td>1</td>\n",
       "      <td>1</td>\n",
       "      <td>0</td>\n",
       "      <td>1</td>\n",
       "    </tr>\n",
       "    <tr>\n",
       "      <th>6</th>\n",
       "      <td>0</td>\n",
       "      <td>0</td>\n",
       "      <td>0</td>\n",
       "      <td>0</td>\n",
       "      <td>0</td>\n",
       "      <td>0</td>\n",
       "      <td>1</td>\n",
       "      <td>0</td>\n",
       "      <td>0</td>\n",
       "      <td>1</td>\n",
       "      <td>0</td>\n",
       "    </tr>\n",
       "  </tbody>\n",
       "</table>\n",
       "</div>"
      ],
      "text/plain": [
       "   blue  bright  bug  buy  cat  eat  fish  meow  orange  penny  store\n",
       "0     1       1    0    1    0    0     1     0       0      1      0\n",
       "1     1       1    0    1    0    0     1     0       1      1      0\n",
       "2     0       0    0    0    1    1     1     0       0      0      1\n",
       "3     0       0    1    0    0    1     1     0       0      3      1\n",
       "4     0       0    1    0    0    0     3     3       0      0      0\n",
       "5     0       0    0    0    3    0     2     1       1      0      1\n",
       "6     0       0    0    0    0    0     1     0       0      1      0"
      ]
     },
     "execution_count": 33,
     "metadata": {},
     "output_type": "execute_result"
    }
   ],
   "source": [
    "pd.DataFrame(matrix.toarray(), columns=vectorizer.get_feature_names())"
   ]
  },
  {
   "cell_type": "markdown",
   "metadata": {},
   "source": [
    "**Beautiful.**"
   ]
  },
  {
   "cell_type": "markdown",
   "metadata": {},
   "source": [
    "# TF-IDF\n",
    "\n",
    "## Part One: Term Frequency\n",
    "\n",
    "TF-IDF? What? It means **term frequency inverse document frequency!** (of course!) TF-IDF is the most important thing in history, so we should probably learn it.\n",
    "\n",
    "Let's look at our list of phrases:\n",
    "\n",
    "1. Penny bought bright blue fishes.\n",
    "2. Penny bought bright blue and orange fish.\n",
    "3. The cat ate a fish at the store.\n",
    "4. Penny went to the store. Penny ate a bug. Penny saw a fish.\n",
    "5. It meowed once at the fish, it is still meowing at the fish. It meowed at the bug and the fish.\n",
    "6. The cat is fat. The cat is orange. The cat is meowing at the fish.\n",
    "7. Penny is a fish\n",
    "\n",
    "If we're searching for the word **`fish`**, which is the most helpful phrase?"
   ]
  },
  {
   "cell_type": "code",
   "execution_count": 34,
   "metadata": {},
   "outputs": [
    {
     "data": {
      "text/html": [
       "<div>\n",
       "<table border=\"1\" class=\"dataframe\">\n",
       "  <thead>\n",
       "    <tr style=\"text-align: right;\">\n",
       "      <th></th>\n",
       "      <th>blue</th>\n",
       "      <th>bright</th>\n",
       "      <th>bug</th>\n",
       "      <th>buy</th>\n",
       "      <th>cat</th>\n",
       "      <th>eat</th>\n",
       "      <th>fish</th>\n",
       "      <th>meow</th>\n",
       "      <th>orange</th>\n",
       "      <th>penny</th>\n",
       "      <th>store</th>\n",
       "    </tr>\n",
       "  </thead>\n",
       "  <tbody>\n",
       "    <tr>\n",
       "      <th>0</th>\n",
       "      <td>1</td>\n",
       "      <td>1</td>\n",
       "      <td>0</td>\n",
       "      <td>1</td>\n",
       "      <td>0</td>\n",
       "      <td>0</td>\n",
       "      <td>1</td>\n",
       "      <td>0</td>\n",
       "      <td>0</td>\n",
       "      <td>1</td>\n",
       "      <td>0</td>\n",
       "    </tr>\n",
       "    <tr>\n",
       "      <th>1</th>\n",
       "      <td>1</td>\n",
       "      <td>1</td>\n",
       "      <td>0</td>\n",
       "      <td>1</td>\n",
       "      <td>0</td>\n",
       "      <td>0</td>\n",
       "      <td>1</td>\n",
       "      <td>0</td>\n",
       "      <td>1</td>\n",
       "      <td>1</td>\n",
       "      <td>0</td>\n",
       "    </tr>\n",
       "    <tr>\n",
       "      <th>2</th>\n",
       "      <td>0</td>\n",
       "      <td>0</td>\n",
       "      <td>0</td>\n",
       "      <td>0</td>\n",
       "      <td>1</td>\n",
       "      <td>1</td>\n",
       "      <td>1</td>\n",
       "      <td>0</td>\n",
       "      <td>0</td>\n",
       "      <td>0</td>\n",
       "      <td>1</td>\n",
       "    </tr>\n",
       "    <tr>\n",
       "      <th>3</th>\n",
       "      <td>0</td>\n",
       "      <td>0</td>\n",
       "      <td>1</td>\n",
       "      <td>0</td>\n",
       "      <td>0</td>\n",
       "      <td>1</td>\n",
       "      <td>1</td>\n",
       "      <td>0</td>\n",
       "      <td>0</td>\n",
       "      <td>3</td>\n",
       "      <td>1</td>\n",
       "    </tr>\n",
       "    <tr>\n",
       "      <th>4</th>\n",
       "      <td>0</td>\n",
       "      <td>0</td>\n",
       "      <td>1</td>\n",
       "      <td>0</td>\n",
       "      <td>0</td>\n",
       "      <td>0</td>\n",
       "      <td>3</td>\n",
       "      <td>3</td>\n",
       "      <td>0</td>\n",
       "      <td>0</td>\n",
       "      <td>0</td>\n",
       "    </tr>\n",
       "    <tr>\n",
       "      <th>5</th>\n",
       "      <td>0</td>\n",
       "      <td>0</td>\n",
       "      <td>0</td>\n",
       "      <td>0</td>\n",
       "      <td>3</td>\n",
       "      <td>0</td>\n",
       "      <td>2</td>\n",
       "      <td>1</td>\n",
       "      <td>1</td>\n",
       "      <td>0</td>\n",
       "      <td>1</td>\n",
       "    </tr>\n",
       "    <tr>\n",
       "      <th>6</th>\n",
       "      <td>0</td>\n",
       "      <td>0</td>\n",
       "      <td>0</td>\n",
       "      <td>0</td>\n",
       "      <td>0</td>\n",
       "      <td>0</td>\n",
       "      <td>1</td>\n",
       "      <td>0</td>\n",
       "      <td>0</td>\n",
       "      <td>1</td>\n",
       "      <td>0</td>\n",
       "    </tr>\n",
       "  </tbody>\n",
       "</table>\n",
       "</div>"
      ],
      "text/plain": [
       "   blue  bright  bug  buy  cat  eat  fish  meow  orange  penny  store\n",
       "0     1       1    0    1    0    0     1     0       0      1      0\n",
       "1     1       1    0    1    0    0     1     0       1      1      0\n",
       "2     0       0    0    0    1    1     1     0       0      0      1\n",
       "3     0       0    1    0    0    1     1     0       0      3      1\n",
       "4     0       0    1    0    0    0     3     3       0      0      0\n",
       "5     0       0    0    0    3    0     2     1       1      0      1\n",
       "6     0       0    0    0    0    0     1     0       0      1      0"
      ]
     },
     "execution_count": 34,
     "metadata": {},
     "output_type": "execute_result"
    }
   ],
   "source": [
    "pd.DataFrame(matrix.toarray(), columns=vectorizer.get_feature_names())"
   ]
  },
  {
   "cell_type": "markdown",
   "metadata": {},
   "source": [
    "**Probably the one where `fish` appears three times.**\n",
    "\n",
    "    It meowed once at the fish, it is still meowing at the fish. It meowed at the bug and the fish.\n",
    "    \n",
    "So yeah, that clearly wins. But what about other sentences that talk about fish? Which one is more about fish?\n",
    "\n",
    "    Penny is a fish.\n",
    "\n",
    "    Penny went to the store. Penny ate a bug. Penny saw a fish.\n",
    "\n",
    "Hmmm! They both have \"fish\" once, but the first one *only* talks about fish, while the second one talks about a bunch of *other* stuff, too. I would probably say the first one is more about fish!\n",
    "\n",
    "Think about a huge long document where they say your name once, versus a tweet where they say your name once. Which one are you more important in? Probably the tweet, since you take up a larger percentage of the text!\n",
    "\n",
    "Tada: this idea is called **term frequency** - taking into account how often a term shows up vs how big the text is. \n",
    "\n",
    "Instead of just COUNTing the number of times a word shows up in a text, we're now going to divide it by the total number of words. So with \"Penny is a fish,\" \"fish\" only shows up once but it's 25% of the text.\n",
    "\n",
    "To do this we're going to use scikit-learn's `TfidfVectorizer`. Don't fret, it's almost exactly the same as the `CountVectorizer`, it just does that division for you!"
   ]
  },
  {
   "cell_type": "code",
   "execution_count": 35,
   "metadata": {
    "collapsed": true
   },
   "outputs": [],
   "source": [
    "from sklearn.feature_extraction.text import TfidfVectorizer\n",
    "\n",
    "tfidf_vectorizer = TfidfVectorizer(stop_words='english', tokenizer=lemmatize, use_idf=False, norm='l1')"
   ]
  },
  {
   "cell_type": "markdown",
   "metadata": {},
   "source": [
    "In terms of options, we're giving our TfidfVectorizer a handful:\n",
    "\n",
    "* **`stop_words='english'`** to get ignore words like 'and' and 'the'\n",
    "* **`tokenizer=lemmatize`** to have it lemmatize the words using the function we wrote up above\n",
    "* **`use_idf=False`** to keep it only using TF (term frequency), not IDF (inverse document frequency), which we'll talk about later\n",
    "* **`norm='l1'`** so it only does simple division - X appearances divided by Y words\n",
    "\n",
    "Now let's use it!"
   ]
  },
  {
   "cell_type": "code",
   "execution_count": 36,
   "metadata": {},
   "outputs": [
    {
     "data": {
      "text/html": [
       "<div>\n",
       "<table border=\"1\" class=\"dataframe\">\n",
       "  <thead>\n",
       "    <tr style=\"text-align: right;\">\n",
       "      <th></th>\n",
       "      <th>blue</th>\n",
       "      <th>bright</th>\n",
       "      <th>bug</th>\n",
       "      <th>buy</th>\n",
       "      <th>cat</th>\n",
       "      <th>eat</th>\n",
       "      <th>fish</th>\n",
       "      <th>meow</th>\n",
       "      <th>orange</th>\n",
       "      <th>penny</th>\n",
       "      <th>store</th>\n",
       "    </tr>\n",
       "  </thead>\n",
       "  <tbody>\n",
       "    <tr>\n",
       "      <th>0</th>\n",
       "      <td>0.200000</td>\n",
       "      <td>0.200000</td>\n",
       "      <td>0.000000</td>\n",
       "      <td>0.200000</td>\n",
       "      <td>0.000</td>\n",
       "      <td>0.000000</td>\n",
       "      <td>0.200000</td>\n",
       "      <td>0.000000</td>\n",
       "      <td>0.000000</td>\n",
       "      <td>0.200000</td>\n",
       "      <td>0.000000</td>\n",
       "    </tr>\n",
       "    <tr>\n",
       "      <th>1</th>\n",
       "      <td>0.166667</td>\n",
       "      <td>0.166667</td>\n",
       "      <td>0.000000</td>\n",
       "      <td>0.166667</td>\n",
       "      <td>0.000</td>\n",
       "      <td>0.000000</td>\n",
       "      <td>0.166667</td>\n",
       "      <td>0.000000</td>\n",
       "      <td>0.166667</td>\n",
       "      <td>0.166667</td>\n",
       "      <td>0.000000</td>\n",
       "    </tr>\n",
       "    <tr>\n",
       "      <th>2</th>\n",
       "      <td>0.000000</td>\n",
       "      <td>0.000000</td>\n",
       "      <td>0.000000</td>\n",
       "      <td>0.000000</td>\n",
       "      <td>0.250</td>\n",
       "      <td>0.250000</td>\n",
       "      <td>0.250000</td>\n",
       "      <td>0.000000</td>\n",
       "      <td>0.000000</td>\n",
       "      <td>0.000000</td>\n",
       "      <td>0.250000</td>\n",
       "    </tr>\n",
       "    <tr>\n",
       "      <th>3</th>\n",
       "      <td>0.000000</td>\n",
       "      <td>0.000000</td>\n",
       "      <td>0.142857</td>\n",
       "      <td>0.000000</td>\n",
       "      <td>0.000</td>\n",
       "      <td>0.142857</td>\n",
       "      <td>0.142857</td>\n",
       "      <td>0.000000</td>\n",
       "      <td>0.000000</td>\n",
       "      <td>0.428571</td>\n",
       "      <td>0.142857</td>\n",
       "    </tr>\n",
       "    <tr>\n",
       "      <th>4</th>\n",
       "      <td>0.000000</td>\n",
       "      <td>0.000000</td>\n",
       "      <td>0.142857</td>\n",
       "      <td>0.000000</td>\n",
       "      <td>0.000</td>\n",
       "      <td>0.000000</td>\n",
       "      <td>0.428571</td>\n",
       "      <td>0.428571</td>\n",
       "      <td>0.000000</td>\n",
       "      <td>0.000000</td>\n",
       "      <td>0.000000</td>\n",
       "    </tr>\n",
       "    <tr>\n",
       "      <th>5</th>\n",
       "      <td>0.000000</td>\n",
       "      <td>0.000000</td>\n",
       "      <td>0.000000</td>\n",
       "      <td>0.000000</td>\n",
       "      <td>0.375</td>\n",
       "      <td>0.000000</td>\n",
       "      <td>0.250000</td>\n",
       "      <td>0.125000</td>\n",
       "      <td>0.125000</td>\n",
       "      <td>0.000000</td>\n",
       "      <td>0.125000</td>\n",
       "    </tr>\n",
       "    <tr>\n",
       "      <th>6</th>\n",
       "      <td>0.000000</td>\n",
       "      <td>0.000000</td>\n",
       "      <td>0.000000</td>\n",
       "      <td>0.000000</td>\n",
       "      <td>0.000</td>\n",
       "      <td>0.000000</td>\n",
       "      <td>0.500000</td>\n",
       "      <td>0.000000</td>\n",
       "      <td>0.000000</td>\n",
       "      <td>0.500000</td>\n",
       "      <td>0.000000</td>\n",
       "    </tr>\n",
       "  </tbody>\n",
       "</table>\n",
       "</div>"
      ],
      "text/plain": [
       "       blue    bright       bug       buy    cat       eat      fish  \\\n",
       "0  0.200000  0.200000  0.000000  0.200000  0.000  0.000000  0.200000   \n",
       "1  0.166667  0.166667  0.000000  0.166667  0.000  0.000000  0.166667   \n",
       "2  0.000000  0.000000  0.000000  0.000000  0.250  0.250000  0.250000   \n",
       "3  0.000000  0.000000  0.142857  0.000000  0.000  0.142857  0.142857   \n",
       "4  0.000000  0.000000  0.142857  0.000000  0.000  0.000000  0.428571   \n",
       "5  0.000000  0.000000  0.000000  0.000000  0.375  0.000000  0.250000   \n",
       "6  0.000000  0.000000  0.000000  0.000000  0.000  0.000000  0.500000   \n",
       "\n",
       "       meow    orange     penny     store  \n",
       "0  0.000000  0.000000  0.200000  0.000000  \n",
       "1  0.000000  0.166667  0.166667  0.000000  \n",
       "2  0.000000  0.000000  0.000000  0.250000  \n",
       "3  0.000000  0.000000  0.428571  0.142857  \n",
       "4  0.428571  0.000000  0.000000  0.000000  \n",
       "5  0.125000  0.125000  0.000000  0.125000  \n",
       "6  0.000000  0.000000  0.500000  0.000000  "
      ]
     },
     "execution_count": 36,
     "metadata": {},
     "output_type": "execute_result"
    }
   ],
   "source": [
    "matrix = tfidf_vectorizer.fit_transform(texts)\n",
    "pd.DataFrame(matrix.toarray(), columns=tfidf_vectorizer.get_feature_names())"
   ]
  },
  {
   "cell_type": "markdown",
   "metadata": {},
   "source": [
    "Now our numbers have shifted a little bit. Instead of just being a count, it's *the percentage of the words*.\n",
    "\n",
    "    value = (number of times word appears in sentence) / (number of words in sentence)\n",
    "\n",
    "After we remove the stopwords, the term `fish` is 50% of the words in `Penny is a fish` vs. 37.5% in `It meowed once at the fish, it is still meowing at the fish. It meowed at the bug and the fish.`.\n",
    "\n",
    "> **Note:** We made it be the percentage of the words by passing in `norm=\"l1\"` - by default it's normally an L2 (Euclidean) norm, which is actually better, but I thought it would make more sense using the L1 - a.k.a. terms divided by words -norm."
   ]
  },
  {
   "cell_type": "markdown",
   "metadata": {},
   "source": [
    "So now when we search we'll get **more relevant results** because it takes into account whether half of our words are `fish` or 1% of millions upon millions of words is `fish`. But we aren't done yet!"
   ]
  },
  {
   "cell_type": "markdown",
   "metadata": {},
   "source": [
    "## Part Two: Inverse document frequency\n",
    "\n",
    "Let's say we're searching for \"fish meow orange,\" and want to find the most relevant document."
   ]
  },
  {
   "cell_type": "code",
   "execution_count": 37,
   "metadata": {},
   "outputs": [
    {
     "data": {
      "text/html": [
       "<div>\n",
       "<table border=\"1\" class=\"dataframe\">\n",
       "  <thead>\n",
       "    <tr style=\"text-align: right;\">\n",
       "      <th></th>\n",
       "      <th>blue</th>\n",
       "      <th>bright</th>\n",
       "      <th>bug</th>\n",
       "      <th>buy</th>\n",
       "      <th>cat</th>\n",
       "      <th>eat</th>\n",
       "      <th>fish</th>\n",
       "      <th>meow</th>\n",
       "      <th>orange</th>\n",
       "      <th>penny</th>\n",
       "      <th>store</th>\n",
       "    </tr>\n",
       "  </thead>\n",
       "  <tbody>\n",
       "    <tr>\n",
       "      <th>0</th>\n",
       "      <td>0.200000</td>\n",
       "      <td>0.200000</td>\n",
       "      <td>0.000000</td>\n",
       "      <td>0.200000</td>\n",
       "      <td>0.000</td>\n",
       "      <td>0.000000</td>\n",
       "      <td>0.200000</td>\n",
       "      <td>0.000000</td>\n",
       "      <td>0.000000</td>\n",
       "      <td>0.200000</td>\n",
       "      <td>0.000000</td>\n",
       "    </tr>\n",
       "    <tr>\n",
       "      <th>1</th>\n",
       "      <td>0.166667</td>\n",
       "      <td>0.166667</td>\n",
       "      <td>0.000000</td>\n",
       "      <td>0.166667</td>\n",
       "      <td>0.000</td>\n",
       "      <td>0.000000</td>\n",
       "      <td>0.166667</td>\n",
       "      <td>0.000000</td>\n",
       "      <td>0.166667</td>\n",
       "      <td>0.166667</td>\n",
       "      <td>0.000000</td>\n",
       "    </tr>\n",
       "    <tr>\n",
       "      <th>2</th>\n",
       "      <td>0.000000</td>\n",
       "      <td>0.000000</td>\n",
       "      <td>0.000000</td>\n",
       "      <td>0.000000</td>\n",
       "      <td>0.250</td>\n",
       "      <td>0.250000</td>\n",
       "      <td>0.250000</td>\n",
       "      <td>0.000000</td>\n",
       "      <td>0.000000</td>\n",
       "      <td>0.000000</td>\n",
       "      <td>0.250000</td>\n",
       "    </tr>\n",
       "    <tr>\n",
       "      <th>3</th>\n",
       "      <td>0.000000</td>\n",
       "      <td>0.000000</td>\n",
       "      <td>0.142857</td>\n",
       "      <td>0.000000</td>\n",
       "      <td>0.000</td>\n",
       "      <td>0.142857</td>\n",
       "      <td>0.142857</td>\n",
       "      <td>0.000000</td>\n",
       "      <td>0.000000</td>\n",
       "      <td>0.428571</td>\n",
       "      <td>0.142857</td>\n",
       "    </tr>\n",
       "    <tr>\n",
       "      <th>4</th>\n",
       "      <td>0.000000</td>\n",
       "      <td>0.000000</td>\n",
       "      <td>0.142857</td>\n",
       "      <td>0.000000</td>\n",
       "      <td>0.000</td>\n",
       "      <td>0.000000</td>\n",
       "      <td>0.428571</td>\n",
       "      <td>0.428571</td>\n",
       "      <td>0.000000</td>\n",
       "      <td>0.000000</td>\n",
       "      <td>0.000000</td>\n",
       "    </tr>\n",
       "    <tr>\n",
       "      <th>5</th>\n",
       "      <td>0.000000</td>\n",
       "      <td>0.000000</td>\n",
       "      <td>0.000000</td>\n",
       "      <td>0.000000</td>\n",
       "      <td>0.375</td>\n",
       "      <td>0.000000</td>\n",
       "      <td>0.250000</td>\n",
       "      <td>0.125000</td>\n",
       "      <td>0.125000</td>\n",
       "      <td>0.000000</td>\n",
       "      <td>0.125000</td>\n",
       "    </tr>\n",
       "    <tr>\n",
       "      <th>6</th>\n",
       "      <td>0.000000</td>\n",
       "      <td>0.000000</td>\n",
       "      <td>0.000000</td>\n",
       "      <td>0.000000</td>\n",
       "      <td>0.000</td>\n",
       "      <td>0.000000</td>\n",
       "      <td>0.500000</td>\n",
       "      <td>0.000000</td>\n",
       "      <td>0.000000</td>\n",
       "      <td>0.500000</td>\n",
       "      <td>0.000000</td>\n",
       "    </tr>\n",
       "  </tbody>\n",
       "</table>\n",
       "</div>"
      ],
      "text/plain": [
       "       blue    bright       bug       buy    cat       eat      fish  \\\n",
       "0  0.200000  0.200000  0.000000  0.200000  0.000  0.000000  0.200000   \n",
       "1  0.166667  0.166667  0.000000  0.166667  0.000  0.000000  0.166667   \n",
       "2  0.000000  0.000000  0.000000  0.000000  0.250  0.250000  0.250000   \n",
       "3  0.000000  0.000000  0.142857  0.000000  0.000  0.142857  0.142857   \n",
       "4  0.000000  0.000000  0.142857  0.000000  0.000  0.000000  0.428571   \n",
       "5  0.000000  0.000000  0.000000  0.000000  0.375  0.000000  0.250000   \n",
       "6  0.000000  0.000000  0.000000  0.000000  0.000  0.000000  0.500000   \n",
       "\n",
       "       meow    orange     penny     store  \n",
       "0  0.000000  0.000000  0.200000  0.000000  \n",
       "1  0.000000  0.166667  0.166667  0.000000  \n",
       "2  0.000000  0.000000  0.000000  0.250000  \n",
       "3  0.000000  0.000000  0.428571  0.142857  \n",
       "4  0.428571  0.000000  0.000000  0.000000  \n",
       "5  0.125000  0.125000  0.000000  0.125000  \n",
       "6  0.000000  0.000000  0.500000  0.000000  "
      ]
     },
     "execution_count": 37,
     "metadata": {},
     "output_type": "execute_result"
    }
   ],
   "source": [
    "tfidf_vectorizer = TfidfVectorizer(stop_words='english', tokenizer=lemmatize, use_idf=False, norm='l1')\n",
    "matrix = tfidf_vectorizer.fit_transform(texts)\n",
    "df = pd.DataFrame(matrix.toarray(), columns=tfidf_vectorizer.get_feature_names())\n",
    "df"
   ]
  },
  {
   "cell_type": "markdown",
   "metadata": {},
   "source": [
    "How do we know which is the best for \"fish meow?\" Should we just add up who has the highest combined \"fish\" and \"meow?\""
   ]
  },
  {
   "cell_type": "code",
   "execution_count": 38,
   "metadata": {},
   "outputs": [
    {
     "data": {
      "text/html": [
       "<div>\n",
       "<table border=\"1\" class=\"dataframe\">\n",
       "  <thead>\n",
       "    <tr style=\"text-align: right;\">\n",
       "      <th></th>\n",
       "      <th>fish</th>\n",
       "      <th>meow</th>\n",
       "      <th>orange</th>\n",
       "      <th>fish + meow + orange</th>\n",
       "      <th>text</th>\n",
       "    </tr>\n",
       "  </thead>\n",
       "  <tbody>\n",
       "    <tr>\n",
       "      <th>0</th>\n",
       "      <td>0.200000</td>\n",
       "      <td>0.000000</td>\n",
       "      <td>0.000000</td>\n",
       "      <td>0.200000</td>\n",
       "      <td>Penny bought bright blue fishes.</td>\n",
       "    </tr>\n",
       "    <tr>\n",
       "      <th>1</th>\n",
       "      <td>0.166667</td>\n",
       "      <td>0.000000</td>\n",
       "      <td>0.166667</td>\n",
       "      <td>0.333333</td>\n",
       "      <td>Penny bought bright blue and orange fish.</td>\n",
       "    </tr>\n",
       "    <tr>\n",
       "      <th>2</th>\n",
       "      <td>0.250000</td>\n",
       "      <td>0.000000</td>\n",
       "      <td>0.000000</td>\n",
       "      <td>0.250000</td>\n",
       "      <td>The cat ate a fish at the store.</td>\n",
       "    </tr>\n",
       "    <tr>\n",
       "      <th>3</th>\n",
       "      <td>0.142857</td>\n",
       "      <td>0.000000</td>\n",
       "      <td>0.000000</td>\n",
       "      <td>0.142857</td>\n",
       "      <td>Penny went to the store. Penny ate a bug. Penn...</td>\n",
       "    </tr>\n",
       "    <tr>\n",
       "      <th>4</th>\n",
       "      <td>0.428571</td>\n",
       "      <td>0.428571</td>\n",
       "      <td>0.000000</td>\n",
       "      <td>0.857143</td>\n",
       "      <td>It meowed once at the fish, it is still meowin...</td>\n",
       "    </tr>\n",
       "    <tr>\n",
       "      <th>5</th>\n",
       "      <td>0.250000</td>\n",
       "      <td>0.125000</td>\n",
       "      <td>0.125000</td>\n",
       "      <td>0.500000</td>\n",
       "      <td>The cat is at the fish store. The cat is orang...</td>\n",
       "    </tr>\n",
       "    <tr>\n",
       "      <th>6</th>\n",
       "      <td>0.500000</td>\n",
       "      <td>0.000000</td>\n",
       "      <td>0.000000</td>\n",
       "      <td>0.500000</td>\n",
       "      <td>Penny is a fish</td>\n",
       "    </tr>\n",
       "  </tbody>\n",
       "</table>\n",
       "</div>"
      ],
      "text/plain": [
       "       fish      meow    orange  fish + meow + orange  \\\n",
       "0  0.200000  0.000000  0.000000              0.200000   \n",
       "1  0.166667  0.000000  0.166667              0.333333   \n",
       "2  0.250000  0.000000  0.000000              0.250000   \n",
       "3  0.142857  0.000000  0.000000              0.142857   \n",
       "4  0.428571  0.428571  0.000000              0.857143   \n",
       "5  0.250000  0.125000  0.125000              0.500000   \n",
       "6  0.500000  0.000000  0.000000              0.500000   \n",
       "\n",
       "                                                text  \n",
       "0                   Penny bought bright blue fishes.  \n",
       "1          Penny bought bright blue and orange fish.  \n",
       "2                   The cat ate a fish at the store.  \n",
       "3  Penny went to the store. Penny ate a bug. Penn...  \n",
       "4  It meowed once at the fish, it is still meowin...  \n",
       "5  The cat is at the fish store. The cat is orang...  \n",
       "6                                    Penny is a fish  "
      ]
     },
     "execution_count": 38,
     "metadata": {},
     "output_type": "execute_result"
    }
   ],
   "source": [
    "# Just add the columns together\n",
    "added = pd.DataFrame([df['fish'], df['meow'], df['orange'], df['fish'] + df['meow'] + df['orange']], index=[\"fish\", \"meow\", \"orange\", \"fish + meow + orange\"]).T\n",
    "added['text'] = texts\n",
    "added"
   ]
  },
  {
   "cell_type": "markdown",
   "metadata": {},
   "source": [
    "Number 4 wins by far, but 5 and 6 even, both at **0.5**. The sentence are these:\n",
    "\n",
    "    The cat is at the fish store. The cat is orange. The cat is meowing at the fish.\n",
    "    Penny is a fish.\n",
    "\n",
    "Seems like BS to me! The second sentence *doesn't even have the words meow or orange*.\n",
    "\n",
    "It seems like since `fish` shows up again and again it should be weighted a little less - not like it's a *stopword*, but just... it's kind of cliche to have it show up in the text, so we want to make it less important. And since \"orange\" is super rare, the computer should be really excited about finding it somewhere.\n",
    "\n",
    "This idea is called **inverse document frequency** - the more often a term shows up across *all* documents, the less important it is in our matrix. So TFIDF is:\n",
    "\n",
    "* **Term frequency:** Does it show up a lot in our document? It's important!\n",
    "* **Inverse document frequency:** Does it show up a lot in all our documents? It's boring!"
   ]
  },
  {
   "cell_type": "code",
   "execution_count": 39,
   "metadata": {},
   "outputs": [
    {
     "data": {
      "text/html": [
       "<div>\n",
       "<table border=\"1\" class=\"dataframe\">\n",
       "  <thead>\n",
       "    <tr style=\"text-align: right;\">\n",
       "      <th></th>\n",
       "      <th>blue</th>\n",
       "      <th>bright</th>\n",
       "      <th>bug</th>\n",
       "      <th>buy</th>\n",
       "      <th>cat</th>\n",
       "      <th>eat</th>\n",
       "      <th>fish</th>\n",
       "      <th>meow</th>\n",
       "      <th>orange</th>\n",
       "      <th>penny</th>\n",
       "      <th>store</th>\n",
       "    </tr>\n",
       "  </thead>\n",
       "  <tbody>\n",
       "    <tr>\n",
       "      <th>0</th>\n",
       "      <td>0.235463</td>\n",
       "      <td>0.235463</td>\n",
       "      <td>0.000000</td>\n",
       "      <td>0.235463</td>\n",
       "      <td>0.000000</td>\n",
       "      <td>0.000000</td>\n",
       "      <td>0.118871</td>\n",
       "      <td>0.000000</td>\n",
       "      <td>0.000000</td>\n",
       "      <td>0.174741</td>\n",
       "      <td>0.000000</td>\n",
       "    </tr>\n",
       "    <tr>\n",
       "      <th>1</th>\n",
       "      <td>0.190587</td>\n",
       "      <td>0.190587</td>\n",
       "      <td>0.000000</td>\n",
       "      <td>0.190587</td>\n",
       "      <td>0.000000</td>\n",
       "      <td>0.000000</td>\n",
       "      <td>0.096216</td>\n",
       "      <td>0.000000</td>\n",
       "      <td>0.190587</td>\n",
       "      <td>0.141437</td>\n",
       "      <td>0.000000</td>\n",
       "    </tr>\n",
       "    <tr>\n",
       "      <th>2</th>\n",
       "      <td>0.000000</td>\n",
       "      <td>0.000000</td>\n",
       "      <td>0.000000</td>\n",
       "      <td>0.000000</td>\n",
       "      <td>0.297654</td>\n",
       "      <td>0.297654</td>\n",
       "      <td>0.150267</td>\n",
       "      <td>0.000000</td>\n",
       "      <td>0.000000</td>\n",
       "      <td>0.000000</td>\n",
       "      <td>0.254425</td>\n",
       "    </tr>\n",
       "    <tr>\n",
       "      <th>3</th>\n",
       "      <td>0.000000</td>\n",
       "      <td>0.000000</td>\n",
       "      <td>0.179021</td>\n",
       "      <td>0.000000</td>\n",
       "      <td>0.000000</td>\n",
       "      <td>0.179021</td>\n",
       "      <td>0.090377</td>\n",
       "      <td>0.000000</td>\n",
       "      <td>0.000000</td>\n",
       "      <td>0.398562</td>\n",
       "      <td>0.153021</td>\n",
       "    </tr>\n",
       "    <tr>\n",
       "      <th>4</th>\n",
       "      <td>0.000000</td>\n",
       "      <td>0.000000</td>\n",
       "      <td>0.181340</td>\n",
       "      <td>0.000000</td>\n",
       "      <td>0.000000</td>\n",
       "      <td>0.000000</td>\n",
       "      <td>0.274642</td>\n",
       "      <td>0.544019</td>\n",
       "      <td>0.000000</td>\n",
       "      <td>0.000000</td>\n",
       "      <td>0.000000</td>\n",
       "    </tr>\n",
       "    <tr>\n",
       "      <th>5</th>\n",
       "      <td>0.000000</td>\n",
       "      <td>0.000000</td>\n",
       "      <td>0.000000</td>\n",
       "      <td>0.000000</td>\n",
       "      <td>0.437035</td>\n",
       "      <td>0.000000</td>\n",
       "      <td>0.147088</td>\n",
       "      <td>0.145678</td>\n",
       "      <td>0.145678</td>\n",
       "      <td>0.000000</td>\n",
       "      <td>0.124521</td>\n",
       "    </tr>\n",
       "    <tr>\n",
       "      <th>6</th>\n",
       "      <td>0.000000</td>\n",
       "      <td>0.000000</td>\n",
       "      <td>0.000000</td>\n",
       "      <td>0.000000</td>\n",
       "      <td>0.000000</td>\n",
       "      <td>0.000000</td>\n",
       "      <td>0.404858</td>\n",
       "      <td>0.000000</td>\n",
       "      <td>0.000000</td>\n",
       "      <td>0.595142</td>\n",
       "      <td>0.000000</td>\n",
       "    </tr>\n",
       "  </tbody>\n",
       "</table>\n",
       "</div>"
      ],
      "text/plain": [
       "       blue    bright       bug       buy       cat       eat      fish  \\\n",
       "0  0.235463  0.235463  0.000000  0.235463  0.000000  0.000000  0.118871   \n",
       "1  0.190587  0.190587  0.000000  0.190587  0.000000  0.000000  0.096216   \n",
       "2  0.000000  0.000000  0.000000  0.000000  0.297654  0.297654  0.150267   \n",
       "3  0.000000  0.000000  0.179021  0.000000  0.000000  0.179021  0.090377   \n",
       "4  0.000000  0.000000  0.181340  0.000000  0.000000  0.000000  0.274642   \n",
       "5  0.000000  0.000000  0.000000  0.000000  0.437035  0.000000  0.147088   \n",
       "6  0.000000  0.000000  0.000000  0.000000  0.000000  0.000000  0.404858   \n",
       "\n",
       "       meow    orange     penny     store  \n",
       "0  0.000000  0.000000  0.174741  0.000000  \n",
       "1  0.000000  0.190587  0.141437  0.000000  \n",
       "2  0.000000  0.000000  0.000000  0.254425  \n",
       "3  0.000000  0.000000  0.398562  0.153021  \n",
       "4  0.544019  0.000000  0.000000  0.000000  \n",
       "5  0.145678  0.145678  0.000000  0.124521  \n",
       "6  0.000000  0.000000  0.595142  0.000000  "
      ]
     },
     "execution_count": 39,
     "metadata": {},
     "output_type": "execute_result"
    }
   ],
   "source": [
    "# use_idf=True is default, but I'll leave it in\n",
    "tfidf_vectorizer = TfidfVectorizer(stop_words='english', tokenizer=lemmatize, use_idf=True, norm='l1')\n",
    "matrix = tfidf_vectorizer.fit_transform(texts)\n",
    "tfidf_df = pd.DataFrame(matrix.toarray(), columns=tfidf_vectorizer.get_feature_names())\n",
    "tfidf_df"
   ]
  },
  {
   "cell_type": "markdown",
   "metadata": {},
   "source": [
    "Let's compare our OLD values with our NEW values"
   ]
  },
  {
   "cell_type": "code",
   "execution_count": 40,
   "metadata": {},
   "outputs": [
    {
     "data": {
      "text/html": [
       "<div>\n",
       "<table border=\"1\" class=\"dataframe\">\n",
       "  <thead>\n",
       "    <tr style=\"text-align: right;\">\n",
       "      <th></th>\n",
       "      <th>fish</th>\n",
       "      <th>meow</th>\n",
       "      <th>orange</th>\n",
       "      <th>fish + meow + orange</th>\n",
       "      <th>text</th>\n",
       "    </tr>\n",
       "  </thead>\n",
       "  <tbody>\n",
       "    <tr>\n",
       "      <th>0</th>\n",
       "      <td>0.200000</td>\n",
       "      <td>0.000000</td>\n",
       "      <td>0.000000</td>\n",
       "      <td>0.200000</td>\n",
       "      <td>Penny bought bright blue fishes.</td>\n",
       "    </tr>\n",
       "    <tr>\n",
       "      <th>1</th>\n",
       "      <td>0.166667</td>\n",
       "      <td>0.000000</td>\n",
       "      <td>0.166667</td>\n",
       "      <td>0.333333</td>\n",
       "      <td>Penny bought bright blue and orange fish.</td>\n",
       "    </tr>\n",
       "    <tr>\n",
       "      <th>2</th>\n",
       "      <td>0.250000</td>\n",
       "      <td>0.000000</td>\n",
       "      <td>0.000000</td>\n",
       "      <td>0.250000</td>\n",
       "      <td>The cat ate a fish at the store.</td>\n",
       "    </tr>\n",
       "    <tr>\n",
       "      <th>3</th>\n",
       "      <td>0.142857</td>\n",
       "      <td>0.000000</td>\n",
       "      <td>0.000000</td>\n",
       "      <td>0.142857</td>\n",
       "      <td>Penny went to the store. Penny ate a bug. Penn...</td>\n",
       "    </tr>\n",
       "    <tr>\n",
       "      <th>4</th>\n",
       "      <td>0.428571</td>\n",
       "      <td>0.428571</td>\n",
       "      <td>0.000000</td>\n",
       "      <td>0.857143</td>\n",
       "      <td>It meowed once at the fish, it is still meowin...</td>\n",
       "    </tr>\n",
       "    <tr>\n",
       "      <th>5</th>\n",
       "      <td>0.250000</td>\n",
       "      <td>0.125000</td>\n",
       "      <td>0.125000</td>\n",
       "      <td>0.500000</td>\n",
       "      <td>The cat is at the fish store. The cat is orang...</td>\n",
       "    </tr>\n",
       "    <tr>\n",
       "      <th>6</th>\n",
       "      <td>0.500000</td>\n",
       "      <td>0.000000</td>\n",
       "      <td>0.000000</td>\n",
       "      <td>0.500000</td>\n",
       "      <td>Penny is a fish</td>\n",
       "    </tr>\n",
       "  </tbody>\n",
       "</table>\n",
       "</div>"
      ],
      "text/plain": [
       "       fish      meow    orange  fish + meow + orange  \\\n",
       "0  0.200000  0.000000  0.000000              0.200000   \n",
       "1  0.166667  0.000000  0.166667              0.333333   \n",
       "2  0.250000  0.000000  0.000000              0.250000   \n",
       "3  0.142857  0.000000  0.000000              0.142857   \n",
       "4  0.428571  0.428571  0.000000              0.857143   \n",
       "5  0.250000  0.125000  0.125000              0.500000   \n",
       "6  0.500000  0.000000  0.000000              0.500000   \n",
       "\n",
       "                                                text  \n",
       "0                   Penny bought bright blue fishes.  \n",
       "1          Penny bought bright blue and orange fish.  \n",
       "2                   The cat ate a fish at the store.  \n",
       "3  Penny went to the store. Penny ate a bug. Penn...  \n",
       "4  It meowed once at the fish, it is still meowin...  \n",
       "5  The cat is at the fish store. The cat is orang...  \n",
       "6                                    Penny is a fish  "
      ]
     },
     "execution_count": 40,
     "metadata": {},
     "output_type": "execute_result"
    }
   ],
   "source": [
    "# OLD: Just TF\n",
    "added = pd.DataFrame([df['fish'], df['meow'], df['orange'], df['fish'] + df['meow'] + df['orange']], index=[\"fish\", \"meow\", \"orange\", \"fish + meow + orange\"]).T\n",
    "added['text'] = texts\n",
    "added"
   ]
  },
  {
   "cell_type": "code",
   "execution_count": 41,
   "metadata": {},
   "outputs": [
    {
     "data": {
      "text/html": [
       "<div>\n",
       "<table border=\"1\" class=\"dataframe\">\n",
       "  <thead>\n",
       "    <tr style=\"text-align: right;\">\n",
       "      <th></th>\n",
       "      <th>fish</th>\n",
       "      <th>meow</th>\n",
       "      <th>orange</th>\n",
       "      <th>fish + meow + orange</th>\n",
       "      <th>text</th>\n",
       "    </tr>\n",
       "  </thead>\n",
       "  <tbody>\n",
       "    <tr>\n",
       "      <th>0</th>\n",
       "      <td>0.118871</td>\n",
       "      <td>0.000000</td>\n",
       "      <td>0.000000</td>\n",
       "      <td>0.118871</td>\n",
       "      <td>Penny bought bright blue fishes.</td>\n",
       "    </tr>\n",
       "    <tr>\n",
       "      <th>1</th>\n",
       "      <td>0.096216</td>\n",
       "      <td>0.000000</td>\n",
       "      <td>0.190587</td>\n",
       "      <td>0.286802</td>\n",
       "      <td>Penny bought bright blue and orange fish.</td>\n",
       "    </tr>\n",
       "    <tr>\n",
       "      <th>2</th>\n",
       "      <td>0.150267</td>\n",
       "      <td>0.000000</td>\n",
       "      <td>0.000000</td>\n",
       "      <td>0.150267</td>\n",
       "      <td>The cat ate a fish at the store.</td>\n",
       "    </tr>\n",
       "    <tr>\n",
       "      <th>3</th>\n",
       "      <td>0.090377</td>\n",
       "      <td>0.000000</td>\n",
       "      <td>0.000000</td>\n",
       "      <td>0.090377</td>\n",
       "      <td>Penny went to the store. Penny ate a bug. Penn...</td>\n",
       "    </tr>\n",
       "    <tr>\n",
       "      <th>4</th>\n",
       "      <td>0.274642</td>\n",
       "      <td>0.544019</td>\n",
       "      <td>0.000000</td>\n",
       "      <td>0.818660</td>\n",
       "      <td>It meowed once at the fish, it is still meowin...</td>\n",
       "    </tr>\n",
       "    <tr>\n",
       "      <th>5</th>\n",
       "      <td>0.147088</td>\n",
       "      <td>0.145678</td>\n",
       "      <td>0.145678</td>\n",
       "      <td>0.438444</td>\n",
       "      <td>The cat is at the fish store. The cat is orang...</td>\n",
       "    </tr>\n",
       "    <tr>\n",
       "      <th>6</th>\n",
       "      <td>0.404858</td>\n",
       "      <td>0.000000</td>\n",
       "      <td>0.000000</td>\n",
       "      <td>0.404858</td>\n",
       "      <td>Penny is a fish</td>\n",
       "    </tr>\n",
       "  </tbody>\n",
       "</table>\n",
       "</div>"
      ],
      "text/plain": [
       "       fish      meow    orange  fish + meow + orange  \\\n",
       "0  0.118871  0.000000  0.000000              0.118871   \n",
       "1  0.096216  0.000000  0.190587              0.286802   \n",
       "2  0.150267  0.000000  0.000000              0.150267   \n",
       "3  0.090377  0.000000  0.000000              0.090377   \n",
       "4  0.274642  0.544019  0.000000              0.818660   \n",
       "5  0.147088  0.145678  0.145678              0.438444   \n",
       "6  0.404858  0.000000  0.000000              0.404858   \n",
       "\n",
       "                                                text  \n",
       "0                   Penny bought bright blue fishes.  \n",
       "1          Penny bought bright blue and orange fish.  \n",
       "2                   The cat ate a fish at the store.  \n",
       "3  Penny went to the store. Penny ate a bug. Penn...  \n",
       "4  It meowed once at the fish, it is still meowin...  \n",
       "5  The cat is at the fish store. The cat is orang...  \n",
       "6                                    Penny is a fish  "
      ]
     },
     "execution_count": 41,
     "metadata": {},
     "output_type": "execute_result"
    }
   ],
   "source": [
    "# NEW: TF-IDF\n",
    "added = pd.DataFrame([tfidf_df['fish'], tfidf_df['meow'], tfidf_df['orange'], tfidf_df['fish'] + tfidf_df['meow'] + tfidf_df['orange']], index=[\"fish\", \"meow\", \"orange\", \"fish + meow + orange\"]).T\n",
    "added['text'] = texts\n",
    "added"
   ]
  },
  {
   "cell_type": "markdown",
   "metadata": {},
   "source": [
    "If we lok at sentence #4 specifically, \"It meowed once at the fish, it is still meowing at the fish. It meowed at the bug and the fish.\"\n",
    "\n",
    "|word|before|after|\n",
    "|---|---|---|\n",
    "|fish|0.428571|0.274642|\n",
    "|meow|0.428571|0.544019|\n",
    "\n",
    "Notice how 'meow'increased in value because it's an infrequent term across all of the documents, and `fish` dropped in value because it's used *all over the place*.\n",
    "\n",
    "If we want a more wild difference, let's try changing from simple percentage normalization to the default, `l2` norms with `norm='l2'` (or just removing `norm` completely)."
   ]
  },
  {
   "cell_type": "code",
   "execution_count": 42,
   "metadata": {},
   "outputs": [
    {
     "data": {
      "text/html": [
       "<div>\n",
       "<table border=\"1\" class=\"dataframe\">\n",
       "  <thead>\n",
       "    <tr style=\"text-align: right;\">\n",
       "      <th></th>\n",
       "      <th>blue</th>\n",
       "      <th>bright</th>\n",
       "      <th>bug</th>\n",
       "      <th>buy</th>\n",
       "      <th>cat</th>\n",
       "      <th>eat</th>\n",
       "      <th>fish</th>\n",
       "      <th>meow</th>\n",
       "      <th>orange</th>\n",
       "      <th>penny</th>\n",
       "      <th>store</th>\n",
       "    </tr>\n",
       "  </thead>\n",
       "  <tbody>\n",
       "    <tr>\n",
       "      <th>0</th>\n",
       "      <td>0.512612</td>\n",
       "      <td>0.512612</td>\n",
       "      <td>0.000000</td>\n",
       "      <td>0.512612</td>\n",
       "      <td>0.000000</td>\n",
       "      <td>0.000000</td>\n",
       "      <td>0.258786</td>\n",
       "      <td>0.000000</td>\n",
       "      <td>0.000000</td>\n",
       "      <td>0.380417</td>\n",
       "      <td>0.000000</td>\n",
       "    </tr>\n",
       "    <tr>\n",
       "      <th>1</th>\n",
       "      <td>0.456170</td>\n",
       "      <td>0.456170</td>\n",
       "      <td>0.000000</td>\n",
       "      <td>0.456170</td>\n",
       "      <td>0.000000</td>\n",
       "      <td>0.000000</td>\n",
       "      <td>0.230292</td>\n",
       "      <td>0.000000</td>\n",
       "      <td>0.456170</td>\n",
       "      <td>0.338530</td>\n",
       "      <td>0.000000</td>\n",
       "    </tr>\n",
       "    <tr>\n",
       "      <th>2</th>\n",
       "      <td>0.000000</td>\n",
       "      <td>0.000000</td>\n",
       "      <td>0.000000</td>\n",
       "      <td>0.000000</td>\n",
       "      <td>0.578752</td>\n",
       "      <td>0.578752</td>\n",
       "      <td>0.292176</td>\n",
       "      <td>0.000000</td>\n",
       "      <td>0.000000</td>\n",
       "      <td>0.000000</td>\n",
       "      <td>0.494698</td>\n",
       "    </tr>\n",
       "    <tr>\n",
       "      <th>3</th>\n",
       "      <td>0.000000</td>\n",
       "      <td>0.000000</td>\n",
       "      <td>0.354840</td>\n",
       "      <td>0.000000</td>\n",
       "      <td>0.000000</td>\n",
       "      <td>0.354840</td>\n",
       "      <td>0.179137</td>\n",
       "      <td>0.000000</td>\n",
       "      <td>0.000000</td>\n",
       "      <td>0.789996</td>\n",
       "      <td>0.303305</td>\n",
       "    </tr>\n",
       "    <tr>\n",
       "      <th>4</th>\n",
       "      <td>0.000000</td>\n",
       "      <td>0.000000</td>\n",
       "      <td>0.285205</td>\n",
       "      <td>0.000000</td>\n",
       "      <td>0.000000</td>\n",
       "      <td>0.000000</td>\n",
       "      <td>0.431948</td>\n",
       "      <td>0.855616</td>\n",
       "      <td>0.000000</td>\n",
       "      <td>0.000000</td>\n",
       "      <td>0.000000</td>\n",
       "    </tr>\n",
       "    <tr>\n",
       "      <th>5</th>\n",
       "      <td>0.000000</td>\n",
       "      <td>0.000000</td>\n",
       "      <td>0.000000</td>\n",
       "      <td>0.000000</td>\n",
       "      <td>0.840166</td>\n",
       "      <td>0.000000</td>\n",
       "      <td>0.282766</td>\n",
       "      <td>0.280055</td>\n",
       "      <td>0.280055</td>\n",
       "      <td>0.000000</td>\n",
       "      <td>0.239382</td>\n",
       "    </tr>\n",
       "    <tr>\n",
       "      <th>6</th>\n",
       "      <td>0.000000</td>\n",
       "      <td>0.000000</td>\n",
       "      <td>0.000000</td>\n",
       "      <td>0.000000</td>\n",
       "      <td>0.000000</td>\n",
       "      <td>0.000000</td>\n",
       "      <td>0.562463</td>\n",
       "      <td>0.000000</td>\n",
       "      <td>0.000000</td>\n",
       "      <td>0.826823</td>\n",
       "      <td>0.000000</td>\n",
       "    </tr>\n",
       "  </tbody>\n",
       "</table>\n",
       "</div>"
      ],
      "text/plain": [
       "       blue    bright       bug       buy       cat       eat      fish  \\\n",
       "0  0.512612  0.512612  0.000000  0.512612  0.000000  0.000000  0.258786   \n",
       "1  0.456170  0.456170  0.000000  0.456170  0.000000  0.000000  0.230292   \n",
       "2  0.000000  0.000000  0.000000  0.000000  0.578752  0.578752  0.292176   \n",
       "3  0.000000  0.000000  0.354840  0.000000  0.000000  0.354840  0.179137   \n",
       "4  0.000000  0.000000  0.285205  0.000000  0.000000  0.000000  0.431948   \n",
       "5  0.000000  0.000000  0.000000  0.000000  0.840166  0.000000  0.282766   \n",
       "6  0.000000  0.000000  0.000000  0.000000  0.000000  0.000000  0.562463   \n",
       "\n",
       "       meow    orange     penny     store  \n",
       "0  0.000000  0.000000  0.380417  0.000000  \n",
       "1  0.000000  0.456170  0.338530  0.000000  \n",
       "2  0.000000  0.000000  0.000000  0.494698  \n",
       "3  0.000000  0.000000  0.789996  0.303305  \n",
       "4  0.855616  0.000000  0.000000  0.000000  \n",
       "5  0.280055  0.280055  0.000000  0.239382  \n",
       "6  0.000000  0.000000  0.826823  0.000000  "
      ]
     },
     "execution_count": 42,
     "metadata": {},
     "output_type": "execute_result"
    }
   ],
   "source": [
    "# use_idf=True is default, but I'll leave it in\n",
    "l2_vectorizer = TfidfVectorizer(stop_words='english', tokenizer=lemmatize, use_idf=True)\n",
    "matrix = l2_vectorizer.fit_transform(texts)\n",
    "l2_df = pd.DataFrame(matrix.toarray(), columns=l2_vectorizer.get_feature_names())\n",
    "l2_df"
   ]
  },
  {
   "cell_type": "code",
   "execution_count": 43,
   "metadata": {},
   "outputs": [
    {
     "data": {
      "text/html": [
       "<div>\n",
       "<table border=\"1\" class=\"dataframe\">\n",
       "  <thead>\n",
       "    <tr style=\"text-align: right;\">\n",
       "      <th></th>\n",
       "      <th>fish</th>\n",
       "      <th>meow</th>\n",
       "      <th>orange</th>\n",
       "      <th>fish + meow + orange</th>\n",
       "      <th>text</th>\n",
       "    </tr>\n",
       "  </thead>\n",
       "  <tbody>\n",
       "    <tr>\n",
       "      <th>0</th>\n",
       "      <td>0.118871</td>\n",
       "      <td>0.000000</td>\n",
       "      <td>0.000000</td>\n",
       "      <td>0.118871</td>\n",
       "      <td>Penny bought bright blue fishes.</td>\n",
       "    </tr>\n",
       "    <tr>\n",
       "      <th>1</th>\n",
       "      <td>0.096216</td>\n",
       "      <td>0.000000</td>\n",
       "      <td>0.190587</td>\n",
       "      <td>0.286802</td>\n",
       "      <td>Penny bought bright blue and orange fish.</td>\n",
       "    </tr>\n",
       "    <tr>\n",
       "      <th>2</th>\n",
       "      <td>0.150267</td>\n",
       "      <td>0.000000</td>\n",
       "      <td>0.000000</td>\n",
       "      <td>0.150267</td>\n",
       "      <td>The cat ate a fish at the store.</td>\n",
       "    </tr>\n",
       "    <tr>\n",
       "      <th>3</th>\n",
       "      <td>0.090377</td>\n",
       "      <td>0.000000</td>\n",
       "      <td>0.000000</td>\n",
       "      <td>0.090377</td>\n",
       "      <td>Penny went to the store. Penny ate a bug. Penn...</td>\n",
       "    </tr>\n",
       "    <tr>\n",
       "      <th>4</th>\n",
       "      <td>0.274642</td>\n",
       "      <td>0.544019</td>\n",
       "      <td>0.000000</td>\n",
       "      <td>0.818660</td>\n",
       "      <td>It meowed once at the fish, it is still meowin...</td>\n",
       "    </tr>\n",
       "    <tr>\n",
       "      <th>5</th>\n",
       "      <td>0.147088</td>\n",
       "      <td>0.145678</td>\n",
       "      <td>0.145678</td>\n",
       "      <td>0.438444</td>\n",
       "      <td>The cat is at the fish store. The cat is orang...</td>\n",
       "    </tr>\n",
       "    <tr>\n",
       "      <th>6</th>\n",
       "      <td>0.404858</td>\n",
       "      <td>0.000000</td>\n",
       "      <td>0.000000</td>\n",
       "      <td>0.404858</td>\n",
       "      <td>Penny is a fish</td>\n",
       "    </tr>\n",
       "  </tbody>\n",
       "</table>\n",
       "</div>"
      ],
      "text/plain": [
       "       fish      meow    orange  fish + meow + orange  \\\n",
       "0  0.118871  0.000000  0.000000              0.118871   \n",
       "1  0.096216  0.000000  0.190587              0.286802   \n",
       "2  0.150267  0.000000  0.000000              0.150267   \n",
       "3  0.090377  0.000000  0.000000              0.090377   \n",
       "4  0.274642  0.544019  0.000000              0.818660   \n",
       "5  0.147088  0.145678  0.145678              0.438444   \n",
       "6  0.404858  0.000000  0.000000              0.404858   \n",
       "\n",
       "                                                text  \n",
       "0                   Penny bought bright blue fishes.  \n",
       "1          Penny bought bright blue and orange fish.  \n",
       "2                   The cat ate a fish at the store.  \n",
       "3  Penny went to the store. Penny ate a bug. Penn...  \n",
       "4  It meowed once at the fish, it is still meowin...  \n",
       "5  The cat is at the fish store. The cat is orang...  \n",
       "6                                    Penny is a fish  "
      ]
     },
     "execution_count": 43,
     "metadata": {},
     "output_type": "execute_result"
    }
   ],
   "source": [
    "# NEW: TF-IDF\n",
    "added = pd.DataFrame([tfidf_df['fish'], tfidf_df['meow'], tfidf_df['orange'], tfidf_df['fish'] + tfidf_df['meow'] + tfidf_df['orange']], index=[\"fish\", \"meow\", \"orange\", \"fish + meow + orange\"]).T\n",
    "added['text'] = texts\n",
    "added"
   ]
  },
  {
   "cell_type": "code",
   "execution_count": 44,
   "metadata": {},
   "outputs": [
    {
     "data": {
      "text/html": [
       "<div>\n",
       "<table border=\"1\" class=\"dataframe\">\n",
       "  <thead>\n",
       "    <tr style=\"text-align: right;\">\n",
       "      <th></th>\n",
       "      <th>fish</th>\n",
       "      <th>meow</th>\n",
       "      <th>orange</th>\n",
       "      <th>fish + meow + orange</th>\n",
       "      <th>text</th>\n",
       "    </tr>\n",
       "  </thead>\n",
       "  <tbody>\n",
       "    <tr>\n",
       "      <th>0</th>\n",
       "      <td>0.258786</td>\n",
       "      <td>0.000000</td>\n",
       "      <td>0.000000</td>\n",
       "      <td>0.258786</td>\n",
       "      <td>Penny bought bright blue fishes.</td>\n",
       "    </tr>\n",
       "    <tr>\n",
       "      <th>1</th>\n",
       "      <td>0.230292</td>\n",
       "      <td>0.000000</td>\n",
       "      <td>0.456170</td>\n",
       "      <td>0.686462</td>\n",
       "      <td>Penny bought bright blue and orange fish.</td>\n",
       "    </tr>\n",
       "    <tr>\n",
       "      <th>2</th>\n",
       "      <td>0.292176</td>\n",
       "      <td>0.000000</td>\n",
       "      <td>0.000000</td>\n",
       "      <td>0.292176</td>\n",
       "      <td>The cat ate a fish at the store.</td>\n",
       "    </tr>\n",
       "    <tr>\n",
       "      <th>3</th>\n",
       "      <td>0.179137</td>\n",
       "      <td>0.000000</td>\n",
       "      <td>0.000000</td>\n",
       "      <td>0.179137</td>\n",
       "      <td>Penny went to the store. Penny ate a bug. Penn...</td>\n",
       "    </tr>\n",
       "    <tr>\n",
       "      <th>4</th>\n",
       "      <td>0.431948</td>\n",
       "      <td>0.855616</td>\n",
       "      <td>0.000000</td>\n",
       "      <td>1.287564</td>\n",
       "      <td>It meowed once at the fish, it is still meowin...</td>\n",
       "    </tr>\n",
       "    <tr>\n",
       "      <th>5</th>\n",
       "      <td>0.282766</td>\n",
       "      <td>0.280055</td>\n",
       "      <td>0.280055</td>\n",
       "      <td>0.842876</td>\n",
       "      <td>The cat is at the fish store. The cat is orang...</td>\n",
       "    </tr>\n",
       "    <tr>\n",
       "      <th>6</th>\n",
       "      <td>0.562463</td>\n",
       "      <td>0.000000</td>\n",
       "      <td>0.000000</td>\n",
       "      <td>0.562463</td>\n",
       "      <td>Penny is a fish</td>\n",
       "    </tr>\n",
       "  </tbody>\n",
       "</table>\n",
       "</div>"
      ],
      "text/plain": [
       "       fish      meow    orange  fish + meow + orange  \\\n",
       "0  0.258786  0.000000  0.000000              0.258786   \n",
       "1  0.230292  0.000000  0.456170              0.686462   \n",
       "2  0.292176  0.000000  0.000000              0.292176   \n",
       "3  0.179137  0.000000  0.000000              0.179137   \n",
       "4  0.431948  0.855616  0.000000              1.287564   \n",
       "5  0.282766  0.280055  0.280055              0.842876   \n",
       "6  0.562463  0.000000  0.000000              0.562463   \n",
       "\n",
       "                                                text  \n",
       "0                   Penny bought bright blue fishes.  \n",
       "1          Penny bought bright blue and orange fish.  \n",
       "2                   The cat ate a fish at the store.  \n",
       "3  Penny went to the store. Penny ate a bug. Penn...  \n",
       "4  It meowed once at the fish, it is still meowin...  \n",
       "5  The cat is at the fish store. The cat is orang...  \n",
       "6                                    Penny is a fish  "
      ]
     },
     "execution_count": 44,
     "metadata": {},
     "output_type": "execute_result"
    }
   ],
   "source": [
    "# NEW: TF-IDF\n",
    "added = pd.DataFrame([l2_df['fish'], l2_df['meow'], l2_df['orange'], l2_df['fish'] + l2_df['meow'] + l2_df['orange']], index=[\"fish\", \"meow\", \"orange\", \"fish + meow + orange\"]).T\n",
    "added['text'] = texts\n",
    "added"
   ]
  },
  {
   "cell_type": "markdown",
   "metadata": {},
   "source": [
    "**LOOK AT HOW IMPORTANT MEOW IS**. Meowing is out of this world important, because *no one ever meows*."
   ]
  },
  {
   "cell_type": "markdown",
   "metadata": {},
   "source": [
    "# Who cares? Why do we need to know this?\n",
    "\n",
    "When someone dumps 100,000 documents on your desk in response to FOIA, you'll start to care! One of the reasons understanding **TF-IDF** is important is because of **document similarity**. By knowing what documents are similar you're able to find related documents and automatically group documents into clusters.\n",
    "\n",
    "## K-Means clustering\n",
    "\n",
    "For example! Let's cluster these sentences using K-Means clustering (check out [this gif](http://practicalcryptography.com/media/miscellaneous/files/k_mean_send.gif)). It's a magic way to say \"these documents are similar to each other\" that I'm not really going to explain very much of."
   ]
  },
  {
   "cell_type": "code",
   "execution_count": 45,
   "metadata": {},
   "outputs": [
    {
     "data": {
      "text/plain": [
       "['Penny bought bright blue fishes.',\n",
       " 'Penny bought bright blue and orange fish.',\n",
       " 'The cat ate a fish at the store.',\n",
       " 'Penny went to the store. Penny ate a bug. Penny saw a fish.',\n",
       " 'It meowed once at the fish, it is still meowing at the fish. It meowed at the bug and the fish.',\n",
       " 'The cat is at the fish store. The cat is orange. The cat is meowing at the fish.',\n",
       " 'Penny is a fish']"
      ]
     },
     "execution_count": 45,
     "metadata": {},
     "output_type": "execute_result"
    }
   ],
   "source": [
    "texts"
   ]
  },
  {
   "cell_type": "code",
   "execution_count": 46,
   "metadata": {},
   "outputs": [
    {
     "data": {
      "text/plain": [
       "<7x11 sparse matrix of type '<class 'numpy.float64'>'\n",
       "\twith 30 stored elements in Compressed Sparse Row format>"
      ]
     },
     "execution_count": 46,
     "metadata": {},
     "output_type": "execute_result"
    }
   ],
   "source": [
    "# Initialize a vectorizer\n",
    "# Not including use_idf=True because it's true by default\n",
    "vectorizer = TfidfVectorizer(tokenizer=lemmatize, stop_words='english')\n",
    "matrix = vectorizer.fit_transform(texts)\n",
    "matrix"
   ]
  },
  {
   "cell_type": "code",
   "execution_count": 47,
   "metadata": {},
   "outputs": [
    {
     "data": {
      "text/html": [
       "<div>\n",
       "<table border=\"1\" class=\"dataframe\">\n",
       "  <thead>\n",
       "    <tr style=\"text-align: right;\">\n",
       "      <th></th>\n",
       "      <th>0</th>\n",
       "      <th>1</th>\n",
       "      <th>2</th>\n",
       "      <th>3</th>\n",
       "      <th>4</th>\n",
       "      <th>5</th>\n",
       "      <th>6</th>\n",
       "      <th>7</th>\n",
       "      <th>8</th>\n",
       "      <th>9</th>\n",
       "      <th>10</th>\n",
       "    </tr>\n",
       "  </thead>\n",
       "  <tbody>\n",
       "    <tr>\n",
       "      <th>0</th>\n",
       "      <td>0.512612</td>\n",
       "      <td>0.512612</td>\n",
       "      <td>0.000000</td>\n",
       "      <td>0.512612</td>\n",
       "      <td>0.000000</td>\n",
       "      <td>0.000000</td>\n",
       "      <td>0.258786</td>\n",
       "      <td>0.000000</td>\n",
       "      <td>0.000000</td>\n",
       "      <td>0.380417</td>\n",
       "      <td>0.000000</td>\n",
       "    </tr>\n",
       "    <tr>\n",
       "      <th>1</th>\n",
       "      <td>0.456170</td>\n",
       "      <td>0.456170</td>\n",
       "      <td>0.000000</td>\n",
       "      <td>0.456170</td>\n",
       "      <td>0.000000</td>\n",
       "      <td>0.000000</td>\n",
       "      <td>0.230292</td>\n",
       "      <td>0.000000</td>\n",
       "      <td>0.456170</td>\n",
       "      <td>0.338530</td>\n",
       "      <td>0.000000</td>\n",
       "    </tr>\n",
       "    <tr>\n",
       "      <th>2</th>\n",
       "      <td>0.000000</td>\n",
       "      <td>0.000000</td>\n",
       "      <td>0.000000</td>\n",
       "      <td>0.000000</td>\n",
       "      <td>0.578752</td>\n",
       "      <td>0.578752</td>\n",
       "      <td>0.292176</td>\n",
       "      <td>0.000000</td>\n",
       "      <td>0.000000</td>\n",
       "      <td>0.000000</td>\n",
       "      <td>0.494698</td>\n",
       "    </tr>\n",
       "    <tr>\n",
       "      <th>3</th>\n",
       "      <td>0.000000</td>\n",
       "      <td>0.000000</td>\n",
       "      <td>0.354840</td>\n",
       "      <td>0.000000</td>\n",
       "      <td>0.000000</td>\n",
       "      <td>0.354840</td>\n",
       "      <td>0.179137</td>\n",
       "      <td>0.000000</td>\n",
       "      <td>0.000000</td>\n",
       "      <td>0.789996</td>\n",
       "      <td>0.303305</td>\n",
       "    </tr>\n",
       "    <tr>\n",
       "      <th>4</th>\n",
       "      <td>0.000000</td>\n",
       "      <td>0.000000</td>\n",
       "      <td>0.285205</td>\n",
       "      <td>0.000000</td>\n",
       "      <td>0.000000</td>\n",
       "      <td>0.000000</td>\n",
       "      <td>0.431948</td>\n",
       "      <td>0.855616</td>\n",
       "      <td>0.000000</td>\n",
       "      <td>0.000000</td>\n",
       "      <td>0.000000</td>\n",
       "    </tr>\n",
       "    <tr>\n",
       "      <th>5</th>\n",
       "      <td>0.000000</td>\n",
       "      <td>0.000000</td>\n",
       "      <td>0.000000</td>\n",
       "      <td>0.000000</td>\n",
       "      <td>0.840166</td>\n",
       "      <td>0.000000</td>\n",
       "      <td>0.282766</td>\n",
       "      <td>0.280055</td>\n",
       "      <td>0.280055</td>\n",
       "      <td>0.000000</td>\n",
       "      <td>0.239382</td>\n",
       "    </tr>\n",
       "    <tr>\n",
       "      <th>6</th>\n",
       "      <td>0.000000</td>\n",
       "      <td>0.000000</td>\n",
       "      <td>0.000000</td>\n",
       "      <td>0.000000</td>\n",
       "      <td>0.000000</td>\n",
       "      <td>0.000000</td>\n",
       "      <td>0.562463</td>\n",
       "      <td>0.000000</td>\n",
       "      <td>0.000000</td>\n",
       "      <td>0.826823</td>\n",
       "      <td>0.000000</td>\n",
       "    </tr>\n",
       "  </tbody>\n",
       "</table>\n",
       "</div>"
      ],
      "text/plain": [
       "         0         1         2         3         4         5         6   \\\n",
       "0  0.512612  0.512612  0.000000  0.512612  0.000000  0.000000  0.258786   \n",
       "1  0.456170  0.456170  0.000000  0.456170  0.000000  0.000000  0.230292   \n",
       "2  0.000000  0.000000  0.000000  0.000000  0.578752  0.578752  0.292176   \n",
       "3  0.000000  0.000000  0.354840  0.000000  0.000000  0.354840  0.179137   \n",
       "4  0.000000  0.000000  0.285205  0.000000  0.000000  0.000000  0.431948   \n",
       "5  0.000000  0.000000  0.000000  0.000000  0.840166  0.000000  0.282766   \n",
       "6  0.000000  0.000000  0.000000  0.000000  0.000000  0.000000  0.562463   \n",
       "\n",
       "         7         8         9         10  \n",
       "0  0.000000  0.000000  0.380417  0.000000  \n",
       "1  0.000000  0.456170  0.338530  0.000000  \n",
       "2  0.000000  0.000000  0.000000  0.494698  \n",
       "3  0.000000  0.000000  0.789996  0.303305  \n",
       "4  0.855616  0.000000  0.000000  0.000000  \n",
       "5  0.280055  0.280055  0.000000  0.239382  \n",
       "6  0.000000  0.000000  0.826823  0.000000  "
      ]
     },
     "execution_count": 47,
     "metadata": {},
     "output_type": "execute_result"
    }
   ],
   "source": [
    "pd.DataFrame(matrix.toarray())"
   ]
  },
  {
   "cell_type": "markdown",
   "metadata": {},
   "source": [
    "**STEP ONE:** \"Hey, k-means, cluster my documents into two categories\""
   ]
  },
  {
   "cell_type": "code",
   "execution_count": 48,
   "metadata": {},
   "outputs": [
    {
     "data": {
      "text/plain": [
       "KMeans(algorithm='auto', copy_x=True, init='k-means++', max_iter=300,\n",
       "    n_clusters=2, n_init=10, n_jobs=1, precompute_distances='auto',\n",
       "    random_state=None, tol=0.0001, verbose=0)"
      ]
     },
     "execution_count": 48,
     "metadata": {},
     "output_type": "execute_result"
    }
   ],
   "source": [
    "# KMeans clustering is a method of clustering.\n",
    "from sklearn.cluster import KMeans\n",
    "\n",
    "number_of_clusters = 2\n",
    "# Create the classifier\n",
    "km = KMeans(n_clusters=number_of_clusters)\n",
    "# Put them into categories\n",
    "km.fit(matrix)"
   ]
  },
  {
   "cell_type": "markdown",
   "metadata": {},
   "source": [
    "**STEP TWO:** \"Hey, k-means, tell me about the categories\""
   ]
  },
  {
   "cell_type": "code",
   "execution_count": 49,
   "metadata": {},
   "outputs": [
    {
     "name": "stdout",
     "output_type": "stream",
     "text": [
      "Top terms per cluster:\n",
      "Cluster 0: cat meow fish store eat\n",
      "Cluster 1: penny fish buy bright blue\n"
     ]
    }
   ],
   "source": [
    "print(\"Top terms per cluster:\")\n",
    "order_centroids = km.cluster_centers_.argsort()[:, ::-1]\n",
    "terms = vectorizer.get_feature_names()\n",
    "for i in range(number_of_clusters):\n",
    "    top_ten_words = [terms[ind] for ind in order_centroids[i, :5]]\n",
    "    print(\"Cluster {}: {}\".format(i, ' '.join(top_ten_words)))"
   ]
  },
  {
   "cell_type": "markdown",
   "metadata": {},
   "source": [
    "So we have a **cluster about fish and cats** and a **cluster about penny and fish**. You can see the categories by looking at `km.labels_` - it goes in the same order as your original text documents."
   ]
  },
  {
   "cell_type": "code",
   "execution_count": 50,
   "metadata": {},
   "outputs": [
    {
     "data": {
      "text/plain": [
       "array([1, 1, 0, 1, 0, 0, 1], dtype=int32)"
      ]
     },
     "execution_count": 50,
     "metadata": {},
     "output_type": "execute_result"
    }
   ],
   "source": [
    "km.labels_"
   ]
  },
  {
   "cell_type": "code",
   "execution_count": 51,
   "metadata": {},
   "outputs": [
    {
     "data": {
      "text/plain": [
       "['Penny bought bright blue fishes.',\n",
       " 'Penny bought bright blue and orange fish.',\n",
       " 'The cat ate a fish at the store.',\n",
       " 'Penny went to the store. Penny ate a bug. Penny saw a fish.',\n",
       " 'It meowed once at the fish, it is still meowing at the fish. It meowed at the bug and the fish.',\n",
       " 'The cat is at the fish store. The cat is orange. The cat is meowing at the fish.',\n",
       " 'Penny is a fish']"
      ]
     },
     "execution_count": 51,
     "metadata": {},
     "output_type": "execute_result"
    }
   ],
   "source": [
    "texts"
   ]
  },
  {
   "cell_type": "markdown",
   "metadata": {},
   "source": [
    "But obviously we're going to make a dataframe out of it because we love pandas and readability."
   ]
  },
  {
   "cell_type": "code",
   "execution_count": 52,
   "metadata": {},
   "outputs": [
    {
     "data": {
      "text/html": [
       "<div>\n",
       "<table border=\"1\" class=\"dataframe\">\n",
       "  <thead>\n",
       "    <tr style=\"text-align: right;\">\n",
       "      <th></th>\n",
       "      <th>text</th>\n",
       "      <th>category</th>\n",
       "    </tr>\n",
       "  </thead>\n",
       "  <tbody>\n",
       "    <tr>\n",
       "      <th>0</th>\n",
       "      <td>Penny bought bright blue fishes.</td>\n",
       "      <td>1</td>\n",
       "    </tr>\n",
       "    <tr>\n",
       "      <th>1</th>\n",
       "      <td>Penny bought bright blue and orange fish.</td>\n",
       "      <td>1</td>\n",
       "    </tr>\n",
       "    <tr>\n",
       "      <th>2</th>\n",
       "      <td>The cat ate a fish at the store.</td>\n",
       "      <td>0</td>\n",
       "    </tr>\n",
       "    <tr>\n",
       "      <th>3</th>\n",
       "      <td>Penny went to the store. Penny ate a bug. Penn...</td>\n",
       "      <td>1</td>\n",
       "    </tr>\n",
       "    <tr>\n",
       "      <th>4</th>\n",
       "      <td>It meowed once at the fish, it is still meowin...</td>\n",
       "      <td>0</td>\n",
       "    </tr>\n",
       "    <tr>\n",
       "      <th>5</th>\n",
       "      <td>The cat is at the fish store. The cat is orang...</td>\n",
       "      <td>0</td>\n",
       "    </tr>\n",
       "    <tr>\n",
       "      <th>6</th>\n",
       "      <td>Penny is a fish</td>\n",
       "      <td>1</td>\n",
       "    </tr>\n",
       "  </tbody>\n",
       "</table>\n",
       "</div>"
      ],
      "text/plain": [
       "                                                text  category\n",
       "0                   Penny bought bright blue fishes.         1\n",
       "1          Penny bought bright blue and orange fish.         1\n",
       "2                   The cat ate a fish at the store.         0\n",
       "3  Penny went to the store. Penny ate a bug. Penn...         1\n",
       "4  It meowed once at the fish, it is still meowin...         0\n",
       "5  The cat is at the fish store. The cat is orang...         0\n",
       "6                                    Penny is a fish         1"
      ]
     },
     "execution_count": 52,
     "metadata": {},
     "output_type": "execute_result"
    }
   ],
   "source": [
    "results = pd.DataFrame()\n",
    "results['text'] = texts\n",
    "results['category'] = km.labels_\n",
    "results"
   ]
  },
  {
   "cell_type": "markdown",
   "metadata": {},
   "source": [
    "Seems like it makes sense! The fun thing about k-means is you can demand however many categories you want, and it has no choice but to comply."
   ]
  },
  {
   "cell_type": "markdown",
   "metadata": {},
   "source": [
    "### 4 categories of documents"
   ]
  },
  {
   "cell_type": "code",
   "execution_count": 53,
   "metadata": {},
   "outputs": [
    {
     "data": {
      "text/plain": [
       "KMeans(algorithm='auto', copy_x=True, init='k-means++', max_iter=300,\n",
       "    n_clusters=3, n_init=10, n_jobs=1, precompute_distances='auto',\n",
       "    random_state=None, tol=0.0001, verbose=0)"
      ]
     },
     "execution_count": 53,
     "metadata": {},
     "output_type": "execute_result"
    }
   ],
   "source": [
    "from sklearn.cluster import KMeans\n",
    "\n",
    "number_of_clusters = 3\n",
    "km = KMeans(n_clusters=number_of_clusters)\n",
    "km.fit(matrix)"
   ]
  },
  {
   "cell_type": "code",
   "execution_count": 54,
   "metadata": {},
   "outputs": [
    {
     "name": "stdout",
     "output_type": "stream",
     "text": [
      "Top terms per cluster:\n",
      "Cluster 0: cat meow fish store eat\n",
      "Cluster 1: buy bright blue penny fish\n",
      "Cluster 2: penny fish eat bug store\n"
     ]
    }
   ],
   "source": [
    "print(\"Top terms per cluster:\")\n",
    "order_centroids = km.cluster_centers_.argsort()[:, ::-1]\n",
    "terms = vectorizer.get_feature_names()\n",
    "for i in range(number_of_clusters):\n",
    "    top_ten_words = [terms[ind] for ind in order_centroids[i, :5]]\n",
    "    print(\"Cluster {}: {}\".format(i, ' '.join(top_ten_words)))"
   ]
  },
  {
   "cell_type": "code",
   "execution_count": 55,
   "metadata": {},
   "outputs": [
    {
     "data": {
      "text/html": [
       "<div>\n",
       "<table border=\"1\" class=\"dataframe\">\n",
       "  <thead>\n",
       "    <tr style=\"text-align: right;\">\n",
       "      <th></th>\n",
       "      <th>text</th>\n",
       "      <th>category</th>\n",
       "    </tr>\n",
       "  </thead>\n",
       "  <tbody>\n",
       "    <tr>\n",
       "      <th>0</th>\n",
       "      <td>Penny bought bright blue fishes.</td>\n",
       "      <td>1</td>\n",
       "    </tr>\n",
       "    <tr>\n",
       "      <th>1</th>\n",
       "      <td>Penny bought bright blue and orange fish.</td>\n",
       "      <td>1</td>\n",
       "    </tr>\n",
       "    <tr>\n",
       "      <th>2</th>\n",
       "      <td>The cat ate a fish at the store.</td>\n",
       "      <td>0</td>\n",
       "    </tr>\n",
       "    <tr>\n",
       "      <th>3</th>\n",
       "      <td>Penny went to the store. Penny ate a bug. Penn...</td>\n",
       "      <td>2</td>\n",
       "    </tr>\n",
       "    <tr>\n",
       "      <th>4</th>\n",
       "      <td>It meowed once at the fish, it is still meowin...</td>\n",
       "      <td>0</td>\n",
       "    </tr>\n",
       "    <tr>\n",
       "      <th>5</th>\n",
       "      <td>The cat is at the fish store. The cat is orang...</td>\n",
       "      <td>0</td>\n",
       "    </tr>\n",
       "    <tr>\n",
       "      <th>6</th>\n",
       "      <td>Penny is a fish</td>\n",
       "      <td>2</td>\n",
       "    </tr>\n",
       "  </tbody>\n",
       "</table>\n",
       "</div>"
      ],
      "text/plain": [
       "                                                text  category\n",
       "0                   Penny bought bright blue fishes.         1\n",
       "1          Penny bought bright blue and orange fish.         1\n",
       "2                   The cat ate a fish at the store.         0\n",
       "3  Penny went to the store. Penny ate a bug. Penn...         2\n",
       "4  It meowed once at the fish, it is still meowin...         0\n",
       "5  The cat is at the fish store. The cat is orang...         0\n",
       "6                                    Penny is a fish         2"
      ]
     },
     "execution_count": 55,
     "metadata": {},
     "output_type": "execute_result"
    }
   ],
   "source": [
    "results = pd.DataFrame()\n",
    "results['text'] = texts\n",
    "results['category'] = km.labels_\n",
    "results"
   ]
  },
  {
   "cell_type": "markdown",
   "metadata": {
    "collapsed": true
   },
   "source": [
    "## Let's try to graph the similarity"
   ]
  },
  {
   "cell_type": "code",
   "execution_count": 56,
   "metadata": {
    "collapsed": true
   },
   "outputs": [],
   "source": [
    "texts = ['Penny bought bright blue fishes.',\n",
    " 'Penny bought bright blue and orange bowl.',\n",
    " 'The cat ate a fish at the store.',\n",
    " 'Penny went to the store. Penny ate a bug. Penny saw a fish.',\n",
    " 'It meowed once at the bug, it is still meowing at the bug and the fish',\n",
    " 'The cat is at the fish store. The cat is orange. The cat is meowing at the fish.',\n",
    " 'Penny is a fish.',\n",
    " 'Penny Penny she loves fishes Penny Penny is no cat.',\n",
    " 'The store is closed now.',\n",
    " 'How old is that tree?',\n",
    " 'I do not eat fish I do not eat cats I only eat bugs']\n",
    "\n",
    "\n",
    "# Initialize a vectorizer\n",
    "# \"max_features\" means \"only figure out 2 words to use\"\n",
    "vectorizer = TfidfVectorizer(max_features=2, tokenizer=lemmatize, stop_words='english')\n",
    "matrix = vectorizer.fit_transform(texts)"
   ]
  },
  {
   "cell_type": "markdown",
   "metadata": {},
   "source": [
    "What are our two features it decided were important?"
   ]
  },
  {
   "cell_type": "code",
   "execution_count": 57,
   "metadata": {},
   "outputs": [
    {
     "data": {
      "text/plain": [
       "['fish', 'penny']"
      ]
     },
     "execution_count": 57,
     "metadata": {},
     "output_type": "execute_result"
    }
   ],
   "source": [
    "vectorizer.get_feature_names()"
   ]
  },
  {
   "cell_type": "markdown",
   "metadata": {},
   "source": [
    "So every single row has a rating for how much about fish it is, and a rating for how much about Penny it is. We can look at it in a dataframe!"
   ]
  },
  {
   "cell_type": "code",
   "execution_count": 58,
   "metadata": {},
   "outputs": [
    {
     "data": {
      "text/html": [
       "<div>\n",
       "<table border=\"1\" class=\"dataframe\">\n",
       "  <thead>\n",
       "    <tr style=\"text-align: right;\">\n",
       "      <th></th>\n",
       "      <th>fish</th>\n",
       "      <th>penny</th>\n",
       "    </tr>\n",
       "  </thead>\n",
       "  <tbody>\n",
       "    <tr>\n",
       "      <th>0</th>\n",
       "      <td>0.605349</td>\n",
       "      <td>0.795961</td>\n",
       "    </tr>\n",
       "    <tr>\n",
       "      <th>1</th>\n",
       "      <td>0.000000</td>\n",
       "      <td>1.000000</td>\n",
       "    </tr>\n",
       "    <tr>\n",
       "      <th>2</th>\n",
       "      <td>1.000000</td>\n",
       "      <td>0.000000</td>\n",
       "    </tr>\n",
       "    <tr>\n",
       "      <th>3</th>\n",
       "      <td>0.245735</td>\n",
       "      <td>0.969337</td>\n",
       "    </tr>\n",
       "    <tr>\n",
       "      <th>4</th>\n",
       "      <td>1.000000</td>\n",
       "      <td>0.000000</td>\n",
       "    </tr>\n",
       "    <tr>\n",
       "      <th>5</th>\n",
       "      <td>1.000000</td>\n",
       "      <td>0.000000</td>\n",
       "    </tr>\n",
       "    <tr>\n",
       "      <th>6</th>\n",
       "      <td>0.605349</td>\n",
       "      <td>0.795961</td>\n",
       "    </tr>\n",
       "    <tr>\n",
       "      <th>7</th>\n",
       "      <td>0.186785</td>\n",
       "      <td>0.982401</td>\n",
       "    </tr>\n",
       "    <tr>\n",
       "      <th>8</th>\n",
       "      <td>0.000000</td>\n",
       "      <td>0.000000</td>\n",
       "    </tr>\n",
       "    <tr>\n",
       "      <th>9</th>\n",
       "      <td>0.000000</td>\n",
       "      <td>0.000000</td>\n",
       "    </tr>\n",
       "    <tr>\n",
       "      <th>10</th>\n",
       "      <td>1.000000</td>\n",
       "      <td>0.000000</td>\n",
       "    </tr>\n",
       "  </tbody>\n",
       "</table>\n",
       "</div>"
      ],
      "text/plain": [
       "        fish     penny\n",
       "0   0.605349  0.795961\n",
       "1   0.000000  1.000000\n",
       "2   1.000000  0.000000\n",
       "3   0.245735  0.969337\n",
       "4   1.000000  0.000000\n",
       "5   1.000000  0.000000\n",
       "6   0.605349  0.795961\n",
       "7   0.186785  0.982401\n",
       "8   0.000000  0.000000\n",
       "9   0.000000  0.000000\n",
       "10  1.000000  0.000000"
      ]
     },
     "execution_count": 58,
     "metadata": {},
     "output_type": "execute_result"
    }
   ],
   "source": [
    "df = pd.DataFrame(matrix.toarray(), columns=vectorizer.get_feature_names())\n",
    "df"
   ]
  },
  {
   "cell_type": "markdown",
   "metadata": {},
   "source": [
    "And hey, if we have numbers, we can make a graph!"
   ]
  },
  {
   "cell_type": "code",
   "execution_count": 59,
   "metadata": {},
   "outputs": [
    {
     "data": {
      "text/plain": [
       "<matplotlib.text.Text at 0x18b7119e8>"
      ]
     },
     "execution_count": 59,
     "metadata": {},
     "output_type": "execute_result"
    },
    {
     "data": {
      "image/png": "[encoded data removed]",
      "text/plain": [
       "<matplotlib.figure.Figure at 0x18b6caac8>"
      ]
     },
     "metadata": {},
     "output_type": "display_data"
    }
   ],
   "source": [
    "ax = df.plot(kind='scatter', x='fish', y='penny', alpha=0.1, s=300)\n",
    "ax.set_xlabel(\"Fish\")\n",
    "ax.set_ylabel(\"Penny\")"
   ]
  },
  {
   "cell_type": "markdown",
   "metadata": {},
   "source": [
    "Sentences in the bottom right are not about Penny and are a lot about fish, ones on the top left are about Penny and not fish, and ones in the bottom left aren't about *either*.\n",
    "\n",
    "What does k-means have to say about this? It'll hopefully group sentences that are similar to each other."
   ]
  },
  {
   "cell_type": "code",
   "execution_count": 60,
   "metadata": {
    "collapsed": true
   },
   "outputs": [],
   "source": [
    "from sklearn.cluster import KMeans\n",
    "\n",
    "number_of_clusters = 3\n",
    "km = KMeans(n_clusters=number_of_clusters)\n",
    "km.fit(matrix)\n",
    "df['category'] = km.labels_"
   ]
  },
  {
   "cell_type": "code",
   "execution_count": 61,
   "metadata": {},
   "outputs": [
    {
     "data": {
      "text/html": [
       "<div>\n",
       "<table border=\"1\" class=\"dataframe\">\n",
       "  <thead>\n",
       "    <tr style=\"text-align: right;\">\n",
       "      <th></th>\n",
       "      <th>fish</th>\n",
       "      <th>penny</th>\n",
       "      <th>category</th>\n",
       "    </tr>\n",
       "  </thead>\n",
       "  <tbody>\n",
       "    <tr>\n",
       "      <th>0</th>\n",
       "      <td>0.605349</td>\n",
       "      <td>0.795961</td>\n",
       "      <td>0</td>\n",
       "    </tr>\n",
       "    <tr>\n",
       "      <th>1</th>\n",
       "      <td>0.000000</td>\n",
       "      <td>1.000000</td>\n",
       "      <td>0</td>\n",
       "    </tr>\n",
       "    <tr>\n",
       "      <th>2</th>\n",
       "      <td>1.000000</td>\n",
       "      <td>0.000000</td>\n",
       "      <td>1</td>\n",
       "    </tr>\n",
       "    <tr>\n",
       "      <th>3</th>\n",
       "      <td>0.245735</td>\n",
       "      <td>0.969337</td>\n",
       "      <td>0</td>\n",
       "    </tr>\n",
       "    <tr>\n",
       "      <th>4</th>\n",
       "      <td>1.000000</td>\n",
       "      <td>0.000000</td>\n",
       "      <td>1</td>\n",
       "    </tr>\n",
       "    <tr>\n",
       "      <th>5</th>\n",
       "      <td>1.000000</td>\n",
       "      <td>0.000000</td>\n",
       "      <td>1</td>\n",
       "    </tr>\n",
       "    <tr>\n",
       "      <th>6</th>\n",
       "      <td>0.605349</td>\n",
       "      <td>0.795961</td>\n",
       "      <td>0</td>\n",
       "    </tr>\n",
       "    <tr>\n",
       "      <th>7</th>\n",
       "      <td>0.186785</td>\n",
       "      <td>0.982401</td>\n",
       "      <td>0</td>\n",
       "    </tr>\n",
       "    <tr>\n",
       "      <th>8</th>\n",
       "      <td>0.000000</td>\n",
       "      <td>0.000000</td>\n",
       "      <td>2</td>\n",
       "    </tr>\n",
       "    <tr>\n",
       "      <th>9</th>\n",
       "      <td>0.000000</td>\n",
       "      <td>0.000000</td>\n",
       "      <td>2</td>\n",
       "    </tr>\n",
       "    <tr>\n",
       "      <th>10</th>\n",
       "      <td>1.000000</td>\n",
       "      <td>0.000000</td>\n",
       "      <td>1</td>\n",
       "    </tr>\n",
       "  </tbody>\n",
       "</table>\n",
       "</div>"
      ],
      "text/plain": [
       "        fish     penny  category\n",
       "0   0.605349  0.795961         0\n",
       "1   0.000000  1.000000         0\n",
       "2   1.000000  0.000000         1\n",
       "3   0.245735  0.969337         0\n",
       "4   1.000000  0.000000         1\n",
       "5   1.000000  0.000000         1\n",
       "6   0.605349  0.795961         0\n",
       "7   0.186785  0.982401         0\n",
       "8   0.000000  0.000000         2\n",
       "9   0.000000  0.000000         2\n",
       "10  1.000000  0.000000         1"
      ]
     },
     "execution_count": 61,
     "metadata": {},
     "output_type": "execute_result"
    }
   ],
   "source": [
    "df"
   ]
  },
  {
   "cell_type": "code",
   "execution_count": 62,
   "metadata": {},
   "outputs": [
    {
     "data": {
      "text/plain": [
       "<matplotlib.text.Text at 0x15341e160>"
      ]
     },
     "execution_count": 62,
     "metadata": {},
     "output_type": "execute_result"
    },
    {
     "data": {
      "image/png": "[encoded data removed]",
      "text/plain": [
       "<matplotlib.figure.Figure at 0x10d851e10>"
      ]
     },
     "metadata": {},
     "output_type": "display_data"
    }
   ],
   "source": [
    "color_list = ['r', 'b', 'g', 'y']\n",
    "colors = [color_list[i] for i in df['category']]\n",
    "\n",
    "ax = df.plot(kind='scatter', x='fish', y='penny', alpha=0.1, s=300, c=colors)\n",
    "ax.set_xlabel(\"Fish\")\n",
    "ax.set_ylabel(\"Penny\")"
   ]
  },
  {
   "cell_type": "markdown",
   "metadata": {
    "collapsed": true
   },
   "source": [
    "**AW YEAH IT WORKED!**\n",
    "\n",
    "Let's go further!!! Who cares about two dimensions, what about THREE? We'll pick the top three predictive words, graph them in a 3d-ish chart, and color them according to what k-means thinks it a category."
   ]
  },
  {
   "cell_type": "code",
   "execution_count": 63,
   "metadata": {},
   "outputs": [
    {
     "data": {
      "text/plain": [
       "['cat', 'fish', 'penny']"
      ]
     },
     "execution_count": 63,
     "metadata": {},
     "output_type": "execute_result"
    }
   ],
   "source": [
    "# Initialize a vectorizer\n",
    "# use_idf=True by default\n",
    "vectorizer = TfidfVectorizer(max_features=3, tokenizer=lemmatize, stop_words='english')\n",
    "matrix = vectorizer.fit_transform(texts)\n",
    "vectorizer.get_feature_names()"
   ]
  },
  {
   "cell_type": "code",
   "execution_count": 64,
   "metadata": {},
   "outputs": [
    {
     "data": {
      "text/html": [
       "<div>\n",
       "<table border=\"1\" class=\"dataframe\">\n",
       "  <thead>\n",
       "    <tr style=\"text-align: right;\">\n",
       "      <th></th>\n",
       "      <th>cat</th>\n",
       "      <th>fish</th>\n",
       "      <th>penny</th>\n",
       "    </tr>\n",
       "  </thead>\n",
       "  <tbody>\n",
       "    <tr>\n",
       "      <th>0</th>\n",
       "      <td>0.000000</td>\n",
       "      <td>0.605349</td>\n",
       "      <td>0.795961</td>\n",
       "    </tr>\n",
       "    <tr>\n",
       "      <th>1</th>\n",
       "      <td>0.000000</td>\n",
       "      <td>0.000000</td>\n",
       "      <td>1.000000</td>\n",
       "    </tr>\n",
       "    <tr>\n",
       "      <th>2</th>\n",
       "      <td>0.824391</td>\n",
       "      <td>0.566020</td>\n",
       "      <td>0.000000</td>\n",
       "    </tr>\n",
       "    <tr>\n",
       "      <th>3</th>\n",
       "      <td>0.000000</td>\n",
       "      <td>0.245735</td>\n",
       "      <td>0.969337</td>\n",
       "    </tr>\n",
       "    <tr>\n",
       "      <th>4</th>\n",
       "      <td>0.000000</td>\n",
       "      <td>1.000000</td>\n",
       "      <td>0.000000</td>\n",
       "    </tr>\n",
       "    <tr>\n",
       "      <th>5</th>\n",
       "      <td>0.909273</td>\n",
       "      <td>0.416200</td>\n",
       "      <td>0.000000</td>\n",
       "    </tr>\n",
       "    <tr>\n",
       "      <th>6</th>\n",
       "      <td>0.000000</td>\n",
       "      <td>0.605349</td>\n",
       "      <td>0.795961</td>\n",
       "    </tr>\n",
       "    <tr>\n",
       "      <th>7</th>\n",
       "      <td>0.262506</td>\n",
       "      <td>0.180235</td>\n",
       "      <td>0.947948</td>\n",
       "    </tr>\n",
       "    <tr>\n",
       "      <th>8</th>\n",
       "      <td>0.000000</td>\n",
       "      <td>0.000000</td>\n",
       "      <td>0.000000</td>\n",
       "    </tr>\n",
       "    <tr>\n",
       "      <th>9</th>\n",
       "      <td>0.000000</td>\n",
       "      <td>0.000000</td>\n",
       "      <td>0.000000</td>\n",
       "    </tr>\n",
       "    <tr>\n",
       "      <th>10</th>\n",
       "      <td>0.824391</td>\n",
       "      <td>0.566020</td>\n",
       "      <td>0.000000</td>\n",
       "    </tr>\n",
       "  </tbody>\n",
       "</table>\n",
       "</div>"
      ],
      "text/plain": [
       "         cat      fish     penny\n",
       "0   0.000000  0.605349  0.795961\n",
       "1   0.000000  0.000000  1.000000\n",
       "2   0.824391  0.566020  0.000000\n",
       "3   0.000000  0.245735  0.969337\n",
       "4   0.000000  1.000000  0.000000\n",
       "5   0.909273  0.416200  0.000000\n",
       "6   0.000000  0.605349  0.795961\n",
       "7   0.262506  0.180235  0.947948\n",
       "8   0.000000  0.000000  0.000000\n",
       "9   0.000000  0.000000  0.000000\n",
       "10  0.824391  0.566020  0.000000"
      ]
     },
     "execution_count": 64,
     "metadata": {},
     "output_type": "execute_result"
    }
   ],
   "source": [
    "df = pd.DataFrame(matrix.toarray(), columns=vectorizer.get_feature_names())\n",
    "df"
   ]
  },
  {
   "cell_type": "code",
   "execution_count": 65,
   "metadata": {},
   "outputs": [
    {
     "data": {
      "text/html": [
       "<div>\n",
       "<table border=\"1\" class=\"dataframe\">\n",
       "  <thead>\n",
       "    <tr style=\"text-align: right;\">\n",
       "      <th></th>\n",
       "      <th>cat</th>\n",
       "      <th>fish</th>\n",
       "      <th>penny</th>\n",
       "      <th>category</th>\n",
       "      <th>text</th>\n",
       "    </tr>\n",
       "  </thead>\n",
       "  <tbody>\n",
       "    <tr>\n",
       "      <th>0</th>\n",
       "      <td>0.000000</td>\n",
       "      <td>0.605349</td>\n",
       "      <td>0.795961</td>\n",
       "      <td>1</td>\n",
       "      <td>Penny bought bright blue fishes.</td>\n",
       "    </tr>\n",
       "    <tr>\n",
       "      <th>1</th>\n",
       "      <td>0.000000</td>\n",
       "      <td>0.000000</td>\n",
       "      <td>1.000000</td>\n",
       "      <td>1</td>\n",
       "      <td>Penny bought bright blue and orange bowl.</td>\n",
       "    </tr>\n",
       "    <tr>\n",
       "      <th>2</th>\n",
       "      <td>0.824391</td>\n",
       "      <td>0.566020</td>\n",
       "      <td>0.000000</td>\n",
       "      <td>2</td>\n",
       "      <td>The cat ate a fish at the store.</td>\n",
       "    </tr>\n",
       "    <tr>\n",
       "      <th>3</th>\n",
       "      <td>0.000000</td>\n",
       "      <td>0.245735</td>\n",
       "      <td>0.969337</td>\n",
       "      <td>1</td>\n",
       "      <td>Penny went to the store. Penny ate a bug. Penn...</td>\n",
       "    </tr>\n",
       "    <tr>\n",
       "      <th>4</th>\n",
       "      <td>0.000000</td>\n",
       "      <td>1.000000</td>\n",
       "      <td>0.000000</td>\n",
       "      <td>0</td>\n",
       "      <td>It meowed once at the bug, it is still meowing...</td>\n",
       "    </tr>\n",
       "    <tr>\n",
       "      <th>5</th>\n",
       "      <td>0.909273</td>\n",
       "      <td>0.416200</td>\n",
       "      <td>0.000000</td>\n",
       "      <td>2</td>\n",
       "      <td>The cat is at the fish store. The cat is orang...</td>\n",
       "    </tr>\n",
       "    <tr>\n",
       "      <th>6</th>\n",
       "      <td>0.000000</td>\n",
       "      <td>0.605349</td>\n",
       "      <td>0.795961</td>\n",
       "      <td>1</td>\n",
       "      <td>Penny is a fish.</td>\n",
       "    </tr>\n",
       "    <tr>\n",
       "      <th>7</th>\n",
       "      <td>0.262506</td>\n",
       "      <td>0.180235</td>\n",
       "      <td>0.947948</td>\n",
       "      <td>1</td>\n",
       "      <td>Penny Penny she loves fishes Penny Penny is no...</td>\n",
       "    </tr>\n",
       "    <tr>\n",
       "      <th>8</th>\n",
       "      <td>0.000000</td>\n",
       "      <td>0.000000</td>\n",
       "      <td>0.000000</td>\n",
       "      <td>3</td>\n",
       "      <td>The store is closed now.</td>\n",
       "    </tr>\n",
       "    <tr>\n",
       "      <th>9</th>\n",
       "      <td>0.000000</td>\n",
       "      <td>0.000000</td>\n",
       "      <td>0.000000</td>\n",
       "      <td>3</td>\n",
       "      <td>How old is that tree?</td>\n",
       "    </tr>\n",
       "    <tr>\n",
       "      <th>10</th>\n",
       "      <td>0.824391</td>\n",
       "      <td>0.566020</td>\n",
       "      <td>0.000000</td>\n",
       "      <td>2</td>\n",
       "      <td>I do not eat fish I do not eat cats I only eat...</td>\n",
       "    </tr>\n",
       "  </tbody>\n",
       "</table>\n",
       "</div>"
      ],
      "text/plain": [
       "         cat      fish     penny  category  \\\n",
       "0   0.000000  0.605349  0.795961         1   \n",
       "1   0.000000  0.000000  1.000000         1   \n",
       "2   0.824391  0.566020  0.000000         2   \n",
       "3   0.000000  0.245735  0.969337         1   \n",
       "4   0.000000  1.000000  0.000000         0   \n",
       "5   0.909273  0.416200  0.000000         2   \n",
       "6   0.000000  0.605349  0.795961         1   \n",
       "7   0.262506  0.180235  0.947948         1   \n",
       "8   0.000000  0.000000  0.000000         3   \n",
       "9   0.000000  0.000000  0.000000         3   \n",
       "10  0.824391  0.566020  0.000000         2   \n",
       "\n",
       "                                                 text  \n",
       "0                    Penny bought bright blue fishes.  \n",
       "1           Penny bought bright blue and orange bowl.  \n",
       "2                    The cat ate a fish at the store.  \n",
       "3   Penny went to the store. Penny ate a bug. Penn...  \n",
       "4   It meowed once at the bug, it is still meowing...  \n",
       "5   The cat is at the fish store. The cat is orang...  \n",
       "6                                    Penny is a fish.  \n",
       "7   Penny Penny she loves fishes Penny Penny is no...  \n",
       "8                            The store is closed now.  \n",
       "9                               How old is that tree?  \n",
       "10  I do not eat fish I do not eat cats I only eat...  "
      ]
     },
     "execution_count": 65,
     "metadata": {},
     "output_type": "execute_result"
    }
   ],
   "source": [
    "from sklearn.cluster import KMeans\n",
    "\n",
    "number_of_clusters = 4\n",
    "km = KMeans(n_clusters=number_of_clusters)\n",
    "km.fit(matrix)\n",
    "# Set the category using the k-means labels\n",
    "df['category'] = km.labels_\n",
    "# Set the text column from the sentences\n",
    "df['text'] = texts\n",
    "df"
   ]
  },
  {
   "cell_type": "code",
   "execution_count": 66,
   "metadata": {},
   "outputs": [
    {
     "data": {
      "image/png": "[encoded data removed]",
      "text/plain": [
       "<matplotlib.figure.Figure at 0x15341c0b8>"
      ]
     },
     "metadata": {},
     "output_type": "display_data"
    }
   ],
   "source": [
    "import matplotlib.pyplot as plt\n",
    "from mpl_toolkits.mplot3d import Axes3D\n",
    "\n",
    "def draw(ax, df):\n",
    "    color_list = ['r', 'b', 'g', 'y']\n",
    "    colors = [color_list[i] for i in df['category']]\n",
    "\n",
    "    marker_list = ['o', 'x', 'v', 'X']\n",
    "    markers = [marker_list[i] for i in df['category']]\n",
    "\n",
    "    ax.scatter(df['fish'], df['penny'], df['cat'], c=colors, s=100, alpha=0.5)\n",
    "    ax.set_xlabel('Fish')\n",
    "    ax.set_ylabel('Penni')\n",
    "    ax.set_zlabel('Cat')\n",
    "\n",
    "chart_count_vert = 5\n",
    "chart_count_horiz = 5\n",
    "number_of_graphs = chart_count_vert * chart_count_horiz\n",
    "\n",
    "fig = plt.figure(figsize=(3 * chart_count_horiz, 3 * chart_count_vert))\n",
    "\n",
    "for i in range(number_of_graphs):\n",
    "    ax = fig.add_subplot(chart_count_horiz, chart_count_vert, i + 1, projection='3d', azim=(-360 / number_of_graphs) * i)\n",
    "    draw(ax, df)"
   ]
  },
  {
   "cell_type": "markdown",
   "metadata": {
    "collapsed": true
   },
   "source": [
    "Weeeeee"
   ]
  }
 ],
 "metadata": {
  "kernelspec": {
   "display_name": "Python 3",
   "language": "python",
   "name": "python3"
  },
  "language_info": {
   "codemirror_mode": {
    "name": "ipython",
    "version": 3
   },
   "file_extension": ".py",
   "mimetype": "text/x-python",
   "name": "python",
   "nbconvert_exporter": "python",
   "pygments_lexer": "ipython3",
   "version": "3.6.1"
  }
 },
 "nbformat": 4,
 "nbformat_minor": 1
}
